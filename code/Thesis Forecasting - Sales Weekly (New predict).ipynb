{
 "cells": [
  {
   "cell_type": "code",
   "execution_count": 1,
   "metadata": {},
   "outputs": [
    {
     "name": "stderr",
     "output_type": "stream",
     "text": [
      "/Users/Geri/.local/share/virtualenvs/thesis-ez8c3QqQ/lib/python3.7/site-packages/statsmodels/tools/_testing.py:19: FutureWarning: pandas.util.testing is deprecated. Use the functions in the public API at pandas.testing instead.\n",
      "  import pandas.util.testing as tm\n"
     ]
    }
   ],
   "source": [
    "# Imports from the helpers folder, containing the lstm code and auxilliary functions\n",
    "import sys  \n",
    "sys.path.insert(0, \"helpers/\")\n",
    "from lstm import Model, Optimization\n",
    "from aux_functions import (dateindex_from_weeknum, dateindex_from_timestamp, ts_train_test_split, \n",
    "                           cols_with_most_corr, lagged_corr, lagged_corr_matrix, \n",
    "                           cols_with_most_lagged_corr, calculate_pvalues, cols_with_sig_pval, corr_feature_selection)\n",
    "\n",
    "import pandas as pd\n",
    "import numpy as np\n",
    "import matplotlib.pyplot as plt\n",
    "import seaborn as sns\n",
    "import plotly.graph_objects as go\n",
    "import plotly.io as pltio\n",
    "import statsmodels.api as sm\n",
    "from datetime import datetime, timedelta\n",
    "from sklearn.preprocessing import MinMaxScaler\n",
    "from scipy.stats import chi2_contingency, kruskal\n",
    "# Packages of forecasting models\n",
    "from stldecompose import decompose, forecast\n",
    "#from statsmodels.tsa.statespace.sarimax import SARIMAX\n",
    "from stldecompose.forecast_funcs import (naive, drift, mean, seasonal_naive)\n",
    "import pmdarima as pm\n",
    "import torch\n",
    "import torch.nn as nn\n",
    "import torch.nn.functional as F\n",
    "import torch.optim as optim"
   ]
  },
  {
   "cell_type": "markdown",
   "metadata": {},
   "source": [
    "# Auxilliary functions"
   ]
  },
  {
   "cell_type": "code",
   "execution_count": 2,
   "metadata": {},
   "outputs": [],
   "source": [
    "def augment_store_data (store_df, loc_weather_df):\n",
    "    ## PREPROCESS THE ORIGINAL STORE DATA\n",
    "    \n",
    "    # Drop unnamed column and listino column, we won't be using those\n",
    "    store_df = store_df.drop([\"Unnamed: 0\", \"listino\"], axis=1)\n",
    "\n",
    "    # Build datetime index\n",
    "    store_df[\"time\"] = [dateindex_from_weeknum(week_year[0], week_year[1]) for week_year in store_df[[\"settimana\", \"anno\"]].values]\n",
    "    store_df = store_df.set_index([\"time\"])\n",
    "    store_df.index = pd.to_datetime(store_df.index) # make ts\n",
    "\n",
    "    # Sort the data based on the new time index\n",
    "    store_df.sort_index(inplace=True)\n",
    "\n",
    "    # Aggregate the data to get the total sales of each week\n",
    "    store_weekly_totals = store_df.groupby(pd.Grouper(freq = \"W-MON\")).agg({\n",
    "        \"vendita\": np.sum,\n",
    "        \"settimana\": np.min, \n",
    "        \"anno\": np.min,\n",
    "    })\n",
    "\n",
    "    # Check for NAN values and replace them if they are present\n",
    "    nan_indices = store_weekly_totals[store_weekly_totals.isnull().any(axis=1)].index\n",
    "    for nan_idx in nan_indices:\n",
    "        store_weekly_totals.loc[nan_idx, \"vendita\"] = np.mean(store_weekly_totals.loc[:nan_idx,\"vendita\"].values)\n",
    "        store_weekly_totals.loc[nan_idx, \"settimana\"] = nan_idx.week\n",
    "        store_weekly_totals.loc[nan_idx, \"anno\"] = nan_idx.year\n",
    "        \n",
    "    # Drop 2020 data (we won't be using them)\n",
    "    store_weekly_totals.drop(store_weekly_totals.loc[\"2020\"].index, inplace=True)\n",
    "    # Drop the year data (we won't be using it)\n",
    "    store_weekly_totals.drop(\"anno\", axis=1, inplace=True)\n",
    "    # Transform the week into sin(week#/53 * 2pi) * cos(week#/53 * 2pi)\n",
    "    week_nr_values = store_weekly_totals.settimana.values\n",
    "    store_weekly_totals[\"sin_week\"] =  np.sin((week_nr_values/53) * 2*np.pi)\n",
    "    store_weekly_totals[\"cos_week\"] = np.cos((week_nr_values/53) * 2*np.pi)\n",
    "    store_weekly_totals[\"sincos_week\"] = np.sin((week_nr_values/53) * 2*np.pi) * np.cos((week_nr_values/53) * 2*np.pi)\n",
    "    store_weekly_totals.drop(\"settimana\", axis=1, inplace=True) # drop the actual week number values now\n",
    "\n",
    "\n",
    "    ## PREPROCESS AND ADD WEATHER DATA\n",
    "    \n",
    "    # Converting the index as datetime index\n",
    "    loc_weather_df = loc_weather_df.set_index([\"DATA\"])\n",
    "    loc_weather_df.index = pd.to_datetime(loc_weather_df.index) # make ts\n",
    "   \n",
    "    # We can't really group the different weather fenomenons happening each day that column can't be used\n",
    "    # Also the rain and average pressure cols are useless, they only have values of 0 or nan.\n",
    "    # We won't be using those either \n",
    "    # We won't be using the following cols (nan vals or categorical)\n",
    "    loc_weather_df = loc_weather_df.drop([\"LOCALITA\", \"FENOMENI\", \"PIOGGIA mm\", \"PRESSIONEMEDIA mb\"], axis=1)\n",
    "    loc_weather_df = loc_weather_df.loc[store_weekly_totals.index[0]:,:]\n",
    "    # Group data by week (starting with the date 01-01 of the the first year) and aggregate by mean\n",
    "    loc_weather_df = loc_weather_df.groupby([pd.Grouper(freq = \"W-MON\")]).agg(np.mean)\n",
    "    loc_weather_df[\"PRESSIONESLM mb\"] = loc_weather_df[\"PRESSIONESLM mb\"].fillna(np.mean(loc_weather_df[\"PRESSIONESLM mb\"]))\n",
    "    \n",
    "    weather_nan_indices = loc_weather_df[loc_weather_df.isnull().any(axis=1)].index\n",
    "    print(weather_nan_indices)\n",
    "    for nan_idx in weather_nan_indices:\n",
    "        for col in loc_weather_df.columns[:-1]:\n",
    "            n_days_before = nan_idx - timedelta(weeks=1)\n",
    "            loc_weather_df.loc[nan_idx, col] = np.mean(loc_weather_df.loc[n_days_before:nan_idx, col])\n",
    "\n",
    "    # Here we add exogenous data we run the train the network with and without these new data. \n",
    "    # If the prediction improves then we are looking at leading indicator and better forecast accuracy.\n",
    "    store_weekly_weather_augmented = store_weekly_totals.copy(deep=True)\n",
    "    for w_col in loc_weather_df.columns:\n",
    "        store_weekly_weather_augmented[w_col] = loc_weather_df.loc[:, w_col]\n",
    "    \n",
    "    return store_weekly_totals, store_weekly_weather_augmented"
   ]
  },
  {
   "cell_type": "markdown",
   "metadata": {},
   "source": [
    "# Load and clean data"
   ]
  },
  {
   "cell_type": "code",
   "execution_count": 3,
   "metadata": {},
   "outputs": [
    {
     "name": "stdout",
     "output_type": "stream",
     "text": [
      "Milan sales data\n",
      "   Unnamed: 0 codice esterno  vendita  settimana  anno taglia negozio listino\n",
      "0        8313  16SF181BNE-16        1         16  2016     XS   ARESE     LSI\n",
      "1        8511  VA515233NE-16        1         16  2016     XS   ARESE     LSI\n",
      "2        8569  16SF181BBL-16        1         16  2016      S   ARESE     LSI\n",
      "3        8807   ZR121FABI-16        2         16  2016     UN   ARESE     LSI\n",
      "4        8833  16SF181BNE-16        1         16  2016      S   ARESE     LSI\n",
      "\n",
      "\n",
      "Turin sales data\n",
      "   Unnamed: 0 codice esterno  vendita  settimana  anno taglia negozio listino\n",
      "0         150      BB37NE-16        1         12  2016      M   TORIN     LSI\n",
      "1         163      CC13FA-16        2         12  2016      L   TORIN     LSI\n",
      "2         164      CC13FA-16        1         12  2016     XL   TORIN     LSI\n",
      "3         280      7126NE-16        1         12  2016     XS   TORIN     LSI\n",
      "4         308      BB37NE-16        1         12  2016      L   TORIN     LSI\n",
      "\n",
      "\n",
      "Rome sales data\n",
      "   Unnamed: 0     codice esterno  vendita  settimana  anno taglia negozio  \\\n",
      "0     1031179         FAYFARS-17        1         37  2017      S   RMNAZ   \n",
      "1     1034094         FAYFARS-17        1         38  2017     XS   RMNAZ   \n",
      "2     1035137         TONIAFA-17        2         39  2017      S   RMNAZ   \n",
      "3     1035240  M48419711124NE-17        1         39  2017      M   RMNAZ   \n",
      "4     1035423         FAYFARS-17        1         39  2017      M   RMNAZ   \n",
      "\n",
      "  listino  \n",
      "0     LSI  \n",
      "1     LSI  \n",
      "2     LSI  \n",
      "3     LSI  \n",
      "4     LSI  \n",
      "\n",
      "\n",
      "\n"
     ]
    }
   ],
   "source": [
    "## Store sales data\n",
    "\n",
    "# Milan data\n",
    "milan_data_df = pd.read_csv(\"../datasets/dati_nunalie/MILANO/ARESE.csv\")\n",
    "\n",
    "# Turin data\n",
    "turin_data_df = pd.read_csv(\"../datasets/dati_nunalie/TORINO/TORIN.csv\")\n",
    "\n",
    "# Rome data\n",
    "rome_data_df = pd.read_csv(\"../datasets/dati_nunalie/ROMA/RMNAZ.csv\")\n",
    "rome_data_df = rome_data_df.append(pd.read_csv(\"../datasets/dati_nunalie/ROMA/TIBUR.csv\"))\n",
    "rome_data_df = rome_data_df.append(pd.read_csv(\"../datasets/dati_nunalie/ROMA/TUSC1.csv\"))\n",
    "rome_data_df = rome_data_df.append(pd.read_csv(\"../datasets/dati_nunalie/ROMA/TUSC2.csv\"))\n",
    "\n",
    "\n",
    "print(\"Milan sales data\")\n",
    "print(milan_data_df.head())\n",
    "print(\"\\n\")\n",
    "print(\"Turin sales data\")\n",
    "print(turin_data_df.head())\n",
    "print(\"\\n\")\n",
    "print(\"Rome sales data\")\n",
    "print(rome_data_df.head())\n",
    "print(\"\\n\\n\")\n",
    "\n",
    "## Exogenous weather data\n",
    "\n",
    "# weather\n",
    "milan_weather_df = pd.read_csv(\"../datasets/Eso_data/weather/milano_weather_data.csv\")\n",
    "turin_weather_df = pd.read_csv(\"../datasets/Eso_data/weather/torino_weather_data.csv\")\n",
    "rome_weather_df = pd.read_csv(\"../datasets/Eso_data/weather/roma_weather_data.csv\")"
   ]
  },
  {
   "cell_type": "code",
   "execution_count": 4,
   "metadata": {},
   "outputs": [
    {
     "name": "stdout",
     "output_type": "stream",
     "text": [
      "DatetimeIndex(['2016-01-25', '2016-02-01', '2016-02-08', '2016-02-22',\n",
      "               '2016-02-29', '2016-03-07', '2016-03-21', '2016-03-28',\n",
      "               '2016-04-04', '2016-04-25', '2016-05-02', '2016-05-09',\n",
      "               '2016-05-23', '2016-05-30', '2016-06-06', '2016-06-20',\n",
      "               '2016-06-27', '2016-07-04', '2016-07-25', '2016-08-01',\n",
      "               '2016-08-08', '2016-08-22', '2016-08-29', '2016-09-05',\n",
      "               '2016-09-19', '2016-09-26', '2016-10-03', '2016-10-10',\n",
      "               '2016-10-24', '2016-10-31', '2016-11-07'],\n",
      "              dtype='datetime64[ns]', name='DATA', freq=None)\n",
      "Milan data original shape: (195, 4)\n",
      "Milan + exogenous data shape: (195, 14)\n",
      "DatetimeIndex(['2016-01-25', '2016-02-01', '2016-02-22', '2016-02-29'], dtype='datetime64[ns]', name='DATA', freq=None)\n",
      "Turin data original shape: (199, 4)\n",
      "Turin + exogenous data shape: (199, 14)\n",
      "DatetimeIndex(['2016-01-25', '2016-02-01', '2016-02-22', '2016-02-29',\n",
      "               '2016-03-21', '2016-03-28', '2016-04-04', '2016-04-25',\n",
      "               '2016-05-02', '2016-05-23', '2016-05-30', '2016-06-06',\n",
      "               '2016-06-20', '2016-06-27', '2016-07-04'],\n",
      "              dtype='datetime64[ns]', name='DATA', freq=None)\n",
      "Rome data original shape: (200, 4)\n",
      "Rome + exogenous data shape: (200, 14)\n"
     ]
    }
   ],
   "source": [
    "# Augment single location sales data and then put everything together\n",
    "milan_weekly_default, milan_weekly_augmented = augment_store_data(milan_data_df, milan_weather_df)\n",
    "print(\"Milan data original shape:\", milan_weekly_default.shape)\n",
    "print(\"Milan + exogenous data shape:\", milan_weekly_augmented.shape)\n",
    "turin_weekly_default, turin_weekly_augmented = augment_store_data(turin_data_df, turin_weather_df)\n",
    "print(\"Turin data original shape:\", turin_weekly_default.shape)\n",
    "print(\"Turin + exogenous data shape:\", turin_weekly_augmented.shape)\n",
    "rome_weekly_default, rome_weekly_augmented = augment_store_data(rome_data_df, rome_weather_df)\n",
    "print(\"Rome data original shape:\", rome_weekly_default.shape)\n",
    "print(\"Rome + exogenous data shape:\", rome_weekly_augmented.shape)"
   ]
  },
  {
   "cell_type": "code",
   "execution_count": 5,
   "metadata": {},
   "outputs": [],
   "source": [
    "## Create dicts for different store data\n",
    "datasets = {\n",
    "    \"Milan\": milan_weekly_augmented,\n",
    "    #\"Turin\": turin_weekly_augmented, \n",
    "    #\"Rome\": rome_weekly_augmented\n",
    "}"
   ]
  },
  {
   "cell_type": "markdown",
   "metadata": {},
   "source": [
    "# Data Visualization and Exploration "
   ]
  },
  {
   "cell_type": "code",
   "execution_count": 6,
   "metadata": {},
   "outputs": [
    {
     "name": "stdout",
     "output_type": "stream",
     "text": [
      "Milan data \n",
      "\n"
     ]
    },
    {
     "data": {
      "image/png": "[encoded data removed]",
      "text/plain": [
       "<Figure size 720x576 with 4 Axes>"
      ]
     },
     "metadata": {
      "needs_background": "light"
     },
     "output_type": "display_data"
    }
   ],
   "source": [
    "# Plot the data to explore and see what we are working with\n",
    "for dataset in datasets:\n",
    "    print(dataset, \"data \\n\")\n",
    "    # Plot the data with the most correlation to the sales we are trying to predict\n",
    "    # These are the features we will train the network on later\n",
    "    values = datasets[dataset].values\n",
    "    cols_to_plot = cols_with_most_corr(datasets[dataset], 0)\n",
    "    #cols_to_plot = [0,1,2,3]\n",
    "    i=1\n",
    "    plt.figure(figsize=(10,8))\n",
    "    for col in cols_to_plot:\n",
    "        plt.subplot(len(cols_to_plot), 1, i)\n",
    "        plt.plot(values[:, col], label=datasets[dataset].columns[col])\n",
    "        plt.legend()\n",
    "        i += 1\n",
    "    plt.show()"
   ]
  },
  {
   "cell_type": "code",
   "execution_count": 7,
   "metadata": {},
   "outputs": [
    {
     "data": {
      "image/png": "[encoded data removed]",
      "text/plain": [
       "<Figure size 864x576 with 2 Axes>"
      ]
     },
     "metadata": {
      "needs_background": "light"
     },
     "output_type": "display_data"
    }
   ],
   "source": [
    "## Correlation matrix: Spearman Correlation\n",
    "for dataset in datasets:\n",
    "    # Default data\n",
    "    default_s_corr = datasets[dataset].corr(method=\"spearman\")\n",
    "    plt.figure(figsize=(12,8))\n",
    "    sns.heatmap(data=default_s_corr, cmap=\"YlOrRd\", annot=True, linewidths=.5)\n",
    "    plt.title(\"Correlation for \"+ dataset+\" data\")\n",
    "    plt.show()"
   ]
  },
  {
   "cell_type": "markdown",
   "metadata": {},
   "source": [
    "# LSTM helper functions"
   ]
  },
  {
   "cell_type": "code",
   "execution_count": 8,
   "metadata": {},
   "outputs": [],
   "source": [
    "def build_in_out_seq(tr_df, te_df, desired_input_features, in_len=54, out_len=39):\n",
    "    # Building the NN input and outputs. LSTM will expect a supervised learning problem, hence we need to build\n",
    "    # input sequences that will have output sequences which the model will then learn.\n",
    "    \n",
    "    # Training\n",
    "    inp_tr = np.stack([tr_df.shift(i).values for i in range(out_len, out_len+in_len)], axis=1)[out_len+in_len-1:, -1::-1, desired_input_features].copy()\n",
    "    out_tr = np.stack([tr_df.shift(i).values for i in range(out_len)], axis=1)[out_len+in_len-1:, -1::-1, desired_input_features].copy()\n",
    "    # Testing\n",
    "    inp_te = np.stack([te_df.shift(i).values for i in range(out_len, out_len+in_len)], axis=1)[out_len+in_len-1:, -1::-1, desired_input_features].copy()\n",
    "    out_te = np.stack([te_df.shift(i).values for i in range(out_len)], axis=1)[out_len+in_len-1:, -1::-1, desired_input_features].copy()\n",
    "    print(\"Inputs for training\")\n",
    "    print(inp_tr.shape)\n",
    "    print(\"Outputs for training\")\n",
    "    print(out_tr.shape)\n",
    "    print(\"Inputs for testing\")\n",
    "    print(inp_te.shape)\n",
    "    print(\"Outputs for testing\")\n",
    "    print(out_te.shape)\n",
    "    print(\"\\n\")\n",
    "\n",
    "    return inp_tr, out_tr, inp_te, out_te"
   ]
  },
  {
   "cell_type": "code",
   "execution_count": 9,
   "metadata": {},
   "outputs": [],
   "source": [
    "def prepare_for_network(train, test, input_features, in_len, out_len):\n",
    "    # Build the full training and testing dataframes\n",
    "    # In order to pass the data to the LSTM we need to transform it so it is in the range [0,1]\n",
    "    # We scale all our data in order to build the final training and test dataframes\n",
    "    tr_df = train.copy(deep=True)\n",
    "    te_df = test.copy(deep=True)\n",
    "    \n",
    "    for col in tr_df.columns:\n",
    "        # Z standartization\n",
    "        mean = np.mean(train.loc[:,col].values)\n",
    "        std = np.std(train.loc[:,col].values)\n",
    "        \n",
    "        tr_df.loc[:, col] = (train.loc[:,col].values-mean)/std\n",
    "        te_df.loc[:, col] = (test.loc[:,col].values-mean)/std\n",
    "\n",
    "    # Prepare data for the LSTM Network: We need to create sequences of inputs and outputs\n",
    "    # so that our time series problem esentially becomes a \"supervised regression problem\".\n",
    "    inp_tr, out_tr, inp_te, out_te = build_in_out_seq(tr_df, pd.concat([tr_df.iloc[-in_len:, :], te_df]), input_features, in_len, out_len)\n",
    "    return inp_tr, out_tr, inp_te, out_te"
   ]
  },
  {
   "cell_type": "code",
   "execution_count": 10,
   "metadata": {},
   "outputs": [],
   "source": [
    "def define_LSTM_Model(input_features):\n",
    "    loss_fn = nn.MSELoss()\n",
    "    LSTM_Model = Model(input_size=len(input_features), hidden_size=len(input_features)*4, output_size=len(input_features))\n",
    "    optimizer = optim.Adam(LSTM_Model.parameters(), lr=1e-3)\n",
    "    scheduler = optim.lr_scheduler.StepLR(optimizer=optimizer, step_size=25, gamma=0.1)\n",
    "    opt_obj = Optimization(LSTM_Model, loss_fn, optimizer, scheduler)\n",
    "    return LSTM_Model, opt_obj"
   ]
  },
  {
   "cell_type": "code",
   "execution_count": 11,
   "metadata": {},
   "outputs": [],
   "source": [
    "def check_lstm_forecast_results(pred, inp_te, out_te, poll_mean, poll_std, in_len=54, out_len=39):\n",
    "    # *Data back needs to rescaled back to normal*\n",
    "    pred_vec = (pred[0,-out_len:,0].detach().cpu().numpy() * poll_std) + poll_mean\n",
    "    real_vec = (out_te[0,:,0] * poll_std) + poll_mean\n",
    "    rmse = sm.tools.eval_measures.rmse(pred_vec, real_vec)\n",
    "    mae = sm.tools.eval_measures.meanabs(pred_vec, real_vec)\n",
    "    \n",
    "    return rmse, mae"
   ]
  },
  {
   "cell_type": "markdown",
   "metadata": {},
   "source": [
    "# Forecasting evaluation"
   ]
  },
  {
   "cell_type": "code",
   "execution_count": 25,
   "metadata": {},
   "outputs": [
    {
     "name": "stdout",
     "output_type": "stream",
     "text": [
      "Running forecasting for sales in Milan\n",
      "Run # 1\n",
      "MONO-LSTM input features: [0]\n",
      "EXO1 (+ sincos day) input features : [0, 1, 2, 3]\n",
      "EXO2 (+ weather exog) input features : [0, 4, 5, 6, 7, 8, 9, 10, 11, 12, 13]\n",
      "EXO3 (+ all exog) input features : [0, 1, 2, 3, 4, 5, 6, 7, 8, 9, 10, 11, 12, 13]\n",
      "\n",
      "Running Drift and Seasonal Drift models based on STL Decomposition...\n",
      "Done\n",
      "\n",
      "Inputs for training\n",
      "(64, 54, 1)\n",
      "Outputs for training\n",
      "(64, 39, 1)\n",
      "Inputs for testing\n",
      "(1, 54, 1)\n",
      "Outputs for testing\n",
      "(1, 39, 1)\n",
      "\n",
      "\n",
      "Inputs for training\n",
      "(64, 54, 4)\n",
      "Outputs for training\n",
      "(64, 39, 4)\n",
      "Inputs for testing\n",
      "(1, 54, 4)\n",
      "Outputs for testing\n",
      "(1, 39, 4)\n",
      "\n",
      "\n",
      "Inputs for training\n",
      "(64, 54, 11)\n",
      "Outputs for training\n",
      "(64, 39, 11)\n",
      "Inputs for testing\n",
      "(1, 54, 11)\n",
      "Outputs for testing\n",
      "(1, 39, 11)\n",
      "\n",
      "\n",
      "Inputs for training\n",
      "(64, 54, 14)\n",
      "Outputs for training\n",
      "(64, 39, 14)\n",
      "Inputs for testing\n",
      "(1, 54, 14)\n",
      "Outputs for testing\n",
      "(1, 39, 14)\n",
      "\n",
      "\n",
      "Training the MONO-LSTM model...\n",
      "Epoch 1 Train loss: 1.10. Validation loss: 1.08. Avg future: 31.86. Elapsed time: 0.49s.\n",
      "Epoch 2 Train loss: 1.08. Validation loss: 1.07. Avg future: 17.57. Elapsed time: 0.53s.\n",
      "Epoch 3 Train loss: 1.06. Validation loss: 1.05. Avg future: 26.14. Elapsed time: 0.48s.\n",
      "Epoch 4 Train loss: 1.05. Validation loss: 1.03. Avg future: 19.43. Elapsed time: 0.49s.\n",
      "Epoch 5 Train loss: 1.03. Validation loss: 1.02. Avg future: 23.00. Elapsed time: 0.47s.\n",
      "Epoch 6 Train loss: 1.02. Validation loss: 1.01. Avg future: 29.14. Elapsed time: 0.46s.\n",
      "Epoch 7 Train loss: 1.01. Validation loss: 1.00. Avg future: 10.43. Elapsed time: 0.45s.\n",
      "Epoch 8 Train loss: 1.00. Validation loss: 0.98. Avg future: 27.14. Elapsed time: 0.46s.\n",
      "Epoch 9 Train loss: 0.98. Validation loss: 0.97. Avg future: 10.43. Elapsed time: 0.45s.\n",
      "Epoch 10 Train loss: 0.97. Validation loss: 0.96. Avg future: 32.57. Elapsed time: 0.46s.\n",
      "Epoch 11 Train loss: 0.96. Validation loss: 0.95. Avg future: 18.43. Elapsed time: 0.47s.\n",
      "Epoch 12 Train loss: 0.96. Validation loss: 0.94. Avg future: 28.43. Elapsed time: 0.48s.\n",
      "Epoch 13 Train loss: 0.95. Validation loss: 0.93. Avg future: 25.43. Elapsed time: 0.47s.\n",
      "Done\n",
      "\n",
      "Training the EXO1-LSTM model...\n",
      "Done\n",
      "\n",
      "Training the EXO2-LSTM model...\n",
      "Done\n",
      "\n",
      "Training the EXO3-LSTM model...\n",
      "Epoch 1 Train loss: 1.03. Validation loss: 0.98. Avg future: 22.43. Elapsed time: 0.69s.\n",
      "Epoch 2 Train loss: 0.95. Validation loss: 0.89. Avg future: 29.29. Elapsed time: 0.77s.\n",
      "Epoch 3 Train loss: 0.86. Validation loss: 0.80. Avg future: 21.14. Elapsed time: 0.72s.\n",
      "Epoch 4 Train loss: 0.77. Validation loss: 0.72. Avg future: 27.14. Elapsed time: 0.75s.\n",
      "Epoch 5 Train loss: 0.70. Validation loss: 0.66. Avg future: 25.14. Elapsed time: 0.74s.\n",
      "Epoch 6 Train loss: 0.65. Validation loss: 0.61. Avg future: 36.71. Elapsed time: 0.77s.\n",
      "Epoch 7 Train loss: 0.60. Validation loss: 0.57. Avg future: 22.57. Elapsed time: 0.72s.\n",
      "Epoch 8 Train loss: 0.56. Validation loss: 0.54. Avg future: 28.14. Elapsed time: 0.74s.\n",
      "Epoch 9 Train loss: 0.52. Validation loss: 0.51. Avg future: 26.00. Elapsed time: 0.80s.\n",
      "Epoch 10 Train loss: 0.49. Validation loss: 0.48. Avg future: 21.14. Elapsed time: 0.66s.\n",
      "Epoch 11 Train loss: 0.46. Validation loss: 0.46. Avg future: 25.86. Elapsed time: 0.71s.\n",
      "Epoch 12 Train loss: 0.45. Validation loss: 0.44. Avg future: 23.29. Elapsed time: 0.72s.\n",
      "Epoch 13 Train loss: 0.43. Validation loss: 0.43. Avg future: 32.57. Elapsed time: 0.71s.\n",
      "Epoch 14 Train loss: 0.42. Validation loss: 0.42. Avg future: 24.43. Elapsed time: 0.71s.\n",
      "Epoch 15 Train loss: 0.41. Validation loss: 0.41. Avg future: 20.86. Elapsed time: 0.71s.\n",
      "Epoch 16 Train loss: 0.41. Validation loss: 0.41. Avg future: 16.71. Elapsed time: 0.72s.\n",
      "Epoch 17 Train loss: 0.40. Validation loss: 0.40. Avg future: 19.00. Elapsed time: 0.70s.\n",
      "Epoch 18 Train loss: 0.39. Validation loss: 0.40. Avg future: 22.57. Elapsed time: 0.73s.\n",
      "Epoch 19 Train loss: 0.39. Validation loss: 0.39. Avg future: 24.86. Elapsed time: 0.71s.\n",
      "Epoch 20 Train loss: 0.39. Validation loss: 0.39. Avg future: 20.29. Elapsed time: 0.80s.\n",
      "Epoch 21 Train loss: 0.38. Validation loss: 0.38. Avg future: 15.86. Elapsed time: 1.14s.\n",
      "Epoch 22 Train loss: 0.38. Validation loss: 0.38. Avg future: 21.14. Elapsed time: 0.66s.\n",
      "Epoch 23 Train loss: 0.37. Validation loss: 0.37. Avg future: 33.43. Elapsed time: 0.73s.\n",
      "Epoch 24 Train loss: 0.37. Validation loss: 0.37. Avg future: 19.29. Elapsed time: 0.68s.\n",
      "Epoch 25 Train loss: 0.37. Validation loss: 0.37. Avg future: 28.43. Elapsed time: 0.71s.\n",
      "Epoch 26 Train loss: 0.36. Validation loss: 0.36. Avg future: 17.57. Elapsed time: 0.74s.\n",
      "Epoch 27 Train loss: 0.36. Validation loss: 0.36. Avg future: 19.00. Elapsed time: 0.71s.\n",
      "Epoch 28 Train loss: 0.36. Validation loss: 0.36. Avg future: 22.14. Elapsed time: 0.71s.\n",
      "Epoch 29 Train loss: 0.36. Validation loss: 0.36. Avg future: 23.86. Elapsed time: 0.72s.\n",
      "Epoch 30 Train loss: 0.36. Validation loss: 0.36. Avg future: 21.71. Elapsed time: 0.70s.\n",
      "Epoch 31 Train loss: 0.36. Validation loss: 0.36. Avg future: 24.43. Elapsed time: 0.81s.\n",
      "Epoch 32 Train loss: 0.36. Validation loss: 0.36. Avg future: 26.57. Elapsed time: 0.71s.\n",
      "Epoch 33 Train loss: 0.36. Validation loss: 0.36. Avg future: 23.14. Elapsed time: 0.70s.\n",
      "Epoch 34 Train loss: 0.36. Validation loss: 0.36. Avg future: 25.00. Elapsed time: 0.72s.\n",
      "Epoch 35 Train loss: 0.36. Validation loss: 0.36. Avg future: 23.00. Elapsed time: 0.68s.\n",
      "Epoch 36 Train loss: 0.36. Validation loss: 0.36. Avg future: 33.29. Elapsed time: 0.78s.\n",
      "Epoch 37 Train loss: 0.36. Validation loss: 0.36. Avg future: 23.71. Elapsed time: 1.12s.\n",
      "Epoch 38 Train loss: 0.35. Validation loss: 0.36. Avg future: 30.57. Elapsed time: 0.91s.\n",
      "Epoch 39 Train loss: 0.35. Validation loss: 0.36. Avg future: 23.14. Elapsed time: 0.68s.\n",
      "Epoch 40 Train loss: 0.35. Validation loss: 0.36. Avg future: 28.00. Elapsed time: 0.84s.\n",
      "Epoch 41 Train loss: 0.35. Validation loss: 0.36. Avg future: 18.71. Elapsed time: 0.75s.\n",
      "Epoch 42 Train loss: 0.35. Validation loss: 0.35. Avg future: 12.57. Elapsed time: 0.79s.\n",
      "Epoch 43 Train loss: 0.35. Validation loss: 0.35. Avg future: 17.57. Elapsed time: 0.70s.\n",
      "Epoch 44 Train loss: 0.35. Validation loss: 0.35. Avg future: 19.86. Elapsed time: 0.74s.\n",
      "Epoch 45 Train loss: 0.35. Validation loss: 0.35. Avg future: 22.86. Elapsed time: 0.70s.\n",
      "Epoch 46 Train loss: 0.35. Validation loss: 0.35. Avg future: 22.43. Elapsed time: 0.80s.\n",
      "Epoch 47 Train loss: 0.35. Validation loss: 0.35. Avg future: 22.00. Elapsed time: 0.71s.\n",
      "Epoch 48 Train loss: 0.35. Validation loss: 0.35. Avg future: 30.14. Elapsed time: 0.75s.\n",
      "Epoch 49 Train loss: 0.35. Validation loss: 0.35. Avg future: 21.43. Elapsed time: 0.70s.\n",
      "Epoch 50 Train loss: 0.35. Validation loss: 0.35. Avg future: 31.43. Elapsed time: 0.76s.\n",
      "Epoch 51 Train loss: 0.35. Validation loss: 0.35. Avg future: 20.71. Elapsed time: 0.81s.\n",
      "Epoch 52 Train loss: 0.35. Validation loss: 0.35. Avg future: 23.00. Elapsed time: 0.72s.\n",
      "Done\n",
      "\n",
      "torch.Size([1, 1, 14]) torch.Size([1, 39, 14])\n",
      "torch.Size([1, 1, 14]) torch.Size([1, 39, 14])\n",
      "torch.Size([1, 1, 14]) torch.Size([1, 39, 14])\n",
      "torch.Size([1, 1, 14]) torch.Size([1, 39, 14])\n",
      "torch.Size([1, 1, 14]) torch.Size([1, 39, 14])\n",
      "torch.Size([1, 1, 14]) torch.Size([1, 39, 14])\n",
      "torch.Size([1, 1, 14]) torch.Size([1, 39, 14])\n",
      "torch.Size([1, 1, 14]) torch.Size([1, 39, 14])\n",
      "torch.Size([1, 1, 14]) torch.Size([1, 39, 14])\n",
      "torch.Size([1, 1, 14]) torch.Size([1, 39, 14])\n",
      "torch.Size([1, 1, 14]) torch.Size([1, 39, 14])\n",
      "torch.Size([1, 1, 14]) torch.Size([1, 39, 14])\n",
      "torch.Size([1, 1, 14]) torch.Size([1, 39, 14])\n",
      "torch.Size([1, 1, 14]) torch.Size([1, 39, 14])\n",
      "torch.Size([1, 1, 14]) torch.Size([1, 39, 14])\n",
      "torch.Size([1, 1, 14]) torch.Size([1, 39, 14])\n",
      "torch.Size([1, 1, 14]) torch.Size([1, 39, 14])\n",
      "torch.Size([1, 1, 14]) torch.Size([1, 39, 14])\n",
      "torch.Size([1, 1, 14]) torch.Size([1, 39, 14])\n",
      "torch.Size([1, 1, 14]) torch.Size([1, 39, 14])\n",
      "torch.Size([1, 1, 14]) torch.Size([1, 39, 14])\n",
      "torch.Size([1, 1, 14]) torch.Size([1, 39, 14])\n",
      "torch.Size([1, 1, 14]) torch.Size([1, 39, 14])\n",
      "torch.Size([1, 1, 14]) torch.Size([1, 39, 14])\n",
      "torch.Size([1, 1, 14]) torch.Size([1, 39, 14])\n",
      "torch.Size([1, 1, 14]) torch.Size([1, 39, 14])\n",
      "torch.Size([1, 1, 14]) torch.Size([1, 39, 14])\n",
      "torch.Size([1, 1, 14]) torch.Size([1, 39, 14])\n",
      "torch.Size([1, 1, 14]) torch.Size([1, 39, 14])\n",
      "torch.Size([1, 1, 14]) torch.Size([1, 39, 14])\n",
      "torch.Size([1, 1, 14]) torch.Size([1, 39, 14])\n",
      "torch.Size([1, 1, 14]) torch.Size([1, 39, 14])\n",
      "torch.Size([1, 1, 14]) torch.Size([1, 39, 14])\n",
      "torch.Size([1, 1, 14]) torch.Size([1, 39, 14])\n",
      "torch.Size([1, 1, 14]) torch.Size([1, 39, 14])\n",
      "torch.Size([1, 1, 14]) torch.Size([1, 39, 14])\n",
      "torch.Size([1, 1, 14]) torch.Size([1, 39, 14])\n",
      "torch.Size([1, 1, 14]) torch.Size([1, 39, 14])\n",
      "torch.Size([1, 1, 14]) torch.Size([1, 39, 14])\n"
     ]
    },
    {
     "data": {
      "application/vnd.plotly.v1+json": {
       "config": {
        "plotlyServerURL": "https://plot.ly"
       },
       "data": [
        {
         "mode": "lines",
         "name": "GT",
         "type": "scatter",
         "x": [
          0,
          1,
          2,
          3,
          4,
          5,
          6,
          7,
          8,
          9,
          10,
          11,
          12,
          13,
          14,
          15,
          16,
          17,
          18,
          19,
          20,
          21,
          22,
          23,
          24,
          25,
          26,
          27,
          28,
          29,
          30,
          31,
          32,
          33,
          34,
          35,
          36,
          37,
          38
         ],
         "y": [
          2,
          13,
          10,
          4,
          5,
          33,
          19,
          94,
          85,
          76,
          33,
          657,
          1700,
          2376,
          1455,
          1336,
          1094,
          677,
          371,
          222,
          58,
          17,
          10,
          10,
          15,
          7,
          8,
          12,
          7,
          2,
          4,
          1,
          3,
          1226,
          773,
          118,
          67,
          46,
          12
         ]
        },
        {
         "mode": "lines",
         "name": "SDRIFT",
         "type": "scatter",
         "x": [
          0,
          1,
          2,
          3,
          4,
          5,
          6,
          7,
          8,
          9,
          10,
          11,
          12,
          13,
          14,
          15,
          16,
          17,
          18,
          19,
          20,
          21,
          22,
          23,
          24,
          25,
          26,
          27,
          28,
          29,
          30,
          31,
          32,
          33,
          34,
          35,
          36,
          37,
          38
         ],
         "y": [
          -137.39117500972992,
          -111.37628672325047,
          -121.15358692504952,
          -121.73392028868454,
          -109.44456794123374,
          -78.60765678334747,
          -61.93204853471701,
          -37.931919913122215,
          -42.57179565860724,
          86.16583839138423,
          665.9557631122773,
          1430.4680683715362,
          1866.0368356658942,
          1312.9934796519337,
          1018.0008464757275,
          1049.386742555146,
          705.8115115330431,
          417.9346841867898,
          289.0807942079555,
          104.57669904067086,
          -30.91490406396224,
          -91.3996333213235,
          -116.88482958980035,
          -123.045195114291,
          -134.22350764633921,
          143.1869092551691,
          16.755979582648763,
          21.11442582432511,
          -116.36533637306604,
          25.04169148841146,
          61.5317918525399,
          502.6316228495965,
          79.50629134103028,
          -53.46054432513699,
          -89.43577883498449,
          -97.4037451884779,
          -17.349239141904945,
          53.40804604065164,
          1803.4980821686593
         ]
        },
        {
         "mode": "lines",
         "name": "MONO-LSTM",
         "type": "scatter",
         "x": [
          0,
          1,
          2,
          3,
          4,
          5,
          6,
          7,
          8,
          9,
          10,
          11,
          12,
          13,
          14,
          15,
          16,
          17,
          18,
          19,
          20,
          21,
          22,
          23,
          24,
          25,
          26,
          27,
          28,
          29,
          30,
          31,
          32,
          33,
          34,
          35,
          36,
          37,
          38
         ],
         "y": [
          344.817138671875,
          364.4256591796875,
          375.4639892578125,
          381.7769470214844,
          385.41387939453125,
          387.52508544921875,
          388.758544921875,
          389.48309326171875,
          389.9105224609375,
          390.1634521484375,
          390.3134460449219,
          390.40240478515625,
          390.45513916015625,
          390.486328125,
          390.50469970703125,
          390.5155029296875,
          390.5217590332031,
          390.5253601074219,
          390.5274353027344,
          390.528564453125,
          390.5292053222656,
          390.529541015625,
          390.5296936035156,
          390.52978515625,
          390.52978515625,
          390.52978515625,
          390.52978515625,
          390.52978515625,
          390.52978515625,
          390.5297546386719,
          390.5297546386719,
          390.5297546386719,
          390.5297546386719,
          390.5297546386719,
          390.5297546386719,
          390.5297546386719,
          390.5297546386719,
          390.5297546386719,
          390.5297546386719
         ]
        },
        {
         "mode": "lines",
         "name": "EXO3-LSTM",
         "type": "scatter",
         "x": [
          0,
          1,
          2,
          3,
          4,
          5,
          6,
          7,
          8,
          9,
          10,
          11,
          12,
          13,
          14,
          15,
          16,
          17,
          18,
          19,
          20,
          21,
          22,
          23,
          24,
          25,
          26,
          27,
          28,
          29,
          30,
          31,
          32,
          33,
          34,
          35,
          36,
          37,
          38
         ],
         "y": [
          15.42376708984375,
          -21.6011962890625,
          -49.02618408203125,
          -63.11175537109375,
          -50.09539794921875,
          -12.553985595703125,
          43.784423828125,
          122.26553344726562,
          234.2521209716797,
          400.8848876953125,
          652.254150390625,
          987.5410766601562,
          1297.973876953125,
          1473.2694091796875,
          1509.128173828125,
          1430.1171875,
          1267.073486328125,
          1061.9384765625,
          836.454833984375,
          604.3668212890625,
          412.4764099121094,
          272.057861328125,
          167.09991455078125,
          92.64187622070312,
          52.123779296875,
          39.7196044921875,
          39.015655517578125,
          35.514678955078125,
          24.94049072265625,
          12.469390869140625,
          7.63677978515625,
          16.609893798828125,
          34.131988525390625,
          49.5108642578125,
          59.895751953125,
          69.472412109375,
          85.40338134765625,
          116.97946166992188,
          176.00469970703125
         ]
        },
        {
         "mode": "lines",
         "name": "EXO3-LSTM-TWO",
         "type": "scatter",
         "x": [
          0,
          1,
          2,
          3,
          4,
          5,
          6,
          7,
          8,
          9,
          10,
          11,
          12,
          13,
          14,
          15,
          16,
          17,
          18,
          19,
          20,
          21,
          22,
          23,
          24,
          25,
          26,
          27,
          28,
          29,
          30,
          31,
          32,
          33,
          34,
          35,
          36,
          37,
          38
         ],
         "y": [
          26.23004150390625,
          -23.57916259765625,
          -69.850830078125,
          -28.448760986328125,
          -50.147979736328125,
          -11.25311279296875,
          70.50360107421875,
          184.67971801757812,
          247.36627197265625,
          499.22015380859375,
          763.1580810546875,
          1107.17626953125,
          1334.95556640625,
          1441.605712890625,
          1357.459228515625,
          1131.67626953125,
          972.4874877929688,
          673.6738891601562,
          463.49383544921875,
          333.331787109375,
          256.8636474609375,
          149.66366577148438,
          92.95034790039062,
          64.60482788085938,
          58.2333984375,
          44.5538330078125,
          -15.33892822265625,
          -7.127410888671875,
          41.176788330078125,
          89.24844360351562,
          69.096435546875,
          145.58602905273438,
          75.92245483398438,
          96.45755004882812,
          155.894775390625,
          284.40814208984375,
          363.9149475097656,
          515.3084106445312,
          974.413330078125
         ]
        }
       ],
       "layout": {
        "font": {
         "color": "#7f7f7f",
         "family": "Courier New, monospace",
         "size": 16
        },
        "template": {
         "data": {
          "bar": [
           {
            "error_x": {
             "color": "#2a3f5f"
            },
            "error_y": {
             "color": "#2a3f5f"
            },
            "marker": {
             "line": {
              "color": "#E5ECF6",
              "width": 0.5
             }
            },
            "type": "bar"
           }
          ],
          "barpolar": [
           {
            "marker": {
             "line": {
              "color": "#E5ECF6",
              "width": 0.5
             }
            },
            "type": "barpolar"
           }
          ],
          "carpet": [
           {
            "aaxis": {
             "endlinecolor": "#2a3f5f",
             "gridcolor": "white",
             "linecolor": "white",
             "minorgridcolor": "white",
             "startlinecolor": "#2a3f5f"
            },
            "baxis": {
             "endlinecolor": "#2a3f5f",
             "gridcolor": "white",
             "linecolor": "white",
             "minorgridcolor": "white",
             "startlinecolor": "#2a3f5f"
            },
            "type": "carpet"
           }
          ],
          "choropleth": [
           {
            "colorbar": {
             "outlinewidth": 0,
             "ticks": ""
            },
            "type": "choropleth"
           }
          ],
          "contour": [
           {
            "colorbar": {
             "outlinewidth": 0,
             "ticks": ""
            },
            "colorscale": [
             [
              0,
              "#0d0887"
             ],
             [
              0.1111111111111111,
              "#46039f"
             ],
             [
              0.2222222222222222,
              "#7201a8"
             ],
             [
              0.3333333333333333,
              "#9c179e"
             ],
             [
              0.4444444444444444,
              "#bd3786"
             ],
             [
              0.5555555555555556,
              "#d8576b"
             ],
             [
              0.6666666666666666,
              "#ed7953"
             ],
             [
              0.7777777777777778,
              "#fb9f3a"
             ],
             [
              0.8888888888888888,
              "#fdca26"
             ],
             [
              1,
              "#f0f921"
             ]
            ],
            "type": "contour"
           }
          ],
          "contourcarpet": [
           {
            "colorbar": {
             "outlinewidth": 0,
             "ticks": ""
            },
            "type": "contourcarpet"
           }
          ],
          "heatmap": [
           {
            "colorbar": {
             "outlinewidth": 0,
             "ticks": ""
            },
            "colorscale": [
             [
              0,
              "#0d0887"
             ],
             [
              0.1111111111111111,
              "#46039f"
             ],
             [
              0.2222222222222222,
              "#7201a8"
             ],
             [
              0.3333333333333333,
              "#9c179e"
             ],
             [
              0.4444444444444444,
              "#bd3786"
             ],
             [
              0.5555555555555556,
              "#d8576b"
             ],
             [
              0.6666666666666666,
              "#ed7953"
             ],
             [
              0.7777777777777778,
              "#fb9f3a"
             ],
             [
              0.8888888888888888,
              "#fdca26"
             ],
             [
              1,
              "#f0f921"
             ]
            ],
            "type": "heatmap"
           }
          ],
          "heatmapgl": [
           {
            "colorbar": {
             "outlinewidth": 0,
             "ticks": ""
            },
            "colorscale": [
             [
              0,
              "#0d0887"
             ],
             [
              0.1111111111111111,
              "#46039f"
             ],
             [
              0.2222222222222222,
              "#7201a8"
             ],
             [
              0.3333333333333333,
              "#9c179e"
             ],
             [
              0.4444444444444444,
              "#bd3786"
             ],
             [
              0.5555555555555556,
              "#d8576b"
             ],
             [
              0.6666666666666666,
              "#ed7953"
             ],
             [
              0.7777777777777778,
              "#fb9f3a"
             ],
             [
              0.8888888888888888,
              "#fdca26"
             ],
             [
              1,
              "#f0f921"
             ]
            ],
            "type": "heatmapgl"
           }
          ],
          "histogram": [
           {
            "marker": {
             "colorbar": {
              "outlinewidth": 0,
              "ticks": ""
             }
            },
            "type": "histogram"
           }
          ],
          "histogram2d": [
           {
            "colorbar": {
             "outlinewidth": 0,
             "ticks": ""
            },
            "colorscale": [
             [
              0,
              "#0d0887"
             ],
             [
              0.1111111111111111,
              "#46039f"
             ],
             [
              0.2222222222222222,
              "#7201a8"
             ],
             [
              0.3333333333333333,
              "#9c179e"
             ],
             [
              0.4444444444444444,
              "#bd3786"
             ],
             [
              0.5555555555555556,
              "#d8576b"
             ],
             [
              0.6666666666666666,
              "#ed7953"
             ],
             [
              0.7777777777777778,
              "#fb9f3a"
             ],
             [
              0.8888888888888888,
              "#fdca26"
             ],
             [
              1,
              "#f0f921"
             ]
            ],
            "type": "histogram2d"
           }
          ],
          "histogram2dcontour": [
           {
            "colorbar": {
             "outlinewidth": 0,
             "ticks": ""
            },
            "colorscale": [
             [
              0,
              "#0d0887"
             ],
             [
              0.1111111111111111,
              "#46039f"
             ],
             [
              0.2222222222222222,
              "#7201a8"
             ],
             [
              0.3333333333333333,
              "#9c179e"
             ],
             [
              0.4444444444444444,
              "#bd3786"
             ],
             [
              0.5555555555555556,
              "#d8576b"
             ],
             [
              0.6666666666666666,
              "#ed7953"
             ],
             [
              0.7777777777777778,
              "#fb9f3a"
             ],
             [
              0.8888888888888888,
              "#fdca26"
             ],
             [
              1,
              "#f0f921"
             ]
            ],
            "type": "histogram2dcontour"
           }
          ],
          "mesh3d": [
           {
            "colorbar": {
             "outlinewidth": 0,
             "ticks": ""
            },
            "type": "mesh3d"
           }
          ],
          "parcoords": [
           {
            "line": {
             "colorbar": {
              "outlinewidth": 0,
              "ticks": ""
             }
            },
            "type": "parcoords"
           }
          ],
          "pie": [
           {
            "automargin": true,
            "type": "pie"
           }
          ],
          "scatter": [
           {
            "marker": {
             "colorbar": {
              "outlinewidth": 0,
              "ticks": ""
             }
            },
            "type": "scatter"
           }
          ],
          "scatter3d": [
           {
            "line": {
             "colorbar": {
              "outlinewidth": 0,
              "ticks": ""
             }
            },
            "marker": {
             "colorbar": {
              "outlinewidth": 0,
              "ticks": ""
             }
            },
            "type": "scatter3d"
           }
          ],
          "scattercarpet": [
           {
            "marker": {
             "colorbar": {
              "outlinewidth": 0,
              "ticks": ""
             }
            },
            "type": "scattercarpet"
           }
          ],
          "scattergeo": [
           {
            "marker": {
             "colorbar": {
              "outlinewidth": 0,
              "ticks": ""
             }
            },
            "type": "scattergeo"
           }
          ],
          "scattergl": [
           {
            "marker": {
             "colorbar": {
              "outlinewidth": 0,
              "ticks": ""
             }
            },
            "type": "scattergl"
           }
          ],
          "scattermapbox": [
           {
            "marker": {
             "colorbar": {
              "outlinewidth": 0,
              "ticks": ""
             }
            },
            "type": "scattermapbox"
           }
          ],
          "scatterpolar": [
           {
            "marker": {
             "colorbar": {
              "outlinewidth": 0,
              "ticks": ""
             }
            },
            "type": "scatterpolar"
           }
          ],
          "scatterpolargl": [
           {
            "marker": {
             "colorbar": {
              "outlinewidth": 0,
              "ticks": ""
             }
            },
            "type": "scatterpolargl"
           }
          ],
          "scatterternary": [
           {
            "marker": {
             "colorbar": {
              "outlinewidth": 0,
              "ticks": ""
             }
            },
            "type": "scatterternary"
           }
          ],
          "surface": [
           {
            "colorbar": {
             "outlinewidth": 0,
             "ticks": ""
            },
            "colorscale": [
             [
              0,
              "#0d0887"
             ],
             [
              0.1111111111111111,
              "#46039f"
             ],
             [
              0.2222222222222222,
              "#7201a8"
             ],
             [
              0.3333333333333333,
              "#9c179e"
             ],
             [
              0.4444444444444444,
              "#bd3786"
             ],
             [
              0.5555555555555556,
              "#d8576b"
             ],
             [
              0.6666666666666666,
              "#ed7953"
             ],
             [
              0.7777777777777778,
              "#fb9f3a"
             ],
             [
              0.8888888888888888,
              "#fdca26"
             ],
             [
              1,
              "#f0f921"
             ]
            ],
            "type": "surface"
           }
          ],
          "table": [
           {
            "cells": {
             "fill": {
              "color": "#EBF0F8"
             },
             "line": {
              "color": "white"
             }
            },
            "header": {
             "fill": {
              "color": "#C8D4E3"
             },
             "line": {
              "color": "white"
             }
            },
            "type": "table"
           }
          ]
         },
         "layout": {
          "annotationdefaults": {
           "arrowcolor": "#2a3f5f",
           "arrowhead": 0,
           "arrowwidth": 1
          },
          "coloraxis": {
           "colorbar": {
            "outlinewidth": 0,
            "ticks": ""
           }
          },
          "colorscale": {
           "diverging": [
            [
             0,
             "#8e0152"
            ],
            [
             0.1,
             "#c51b7d"
            ],
            [
             0.2,
             "#de77ae"
            ],
            [
             0.3,
             "#f1b6da"
            ],
            [
             0.4,
             "#fde0ef"
            ],
            [
             0.5,
             "#f7f7f7"
            ],
            [
             0.6,
             "#e6f5d0"
            ],
            [
             0.7,
             "#b8e186"
            ],
            [
             0.8,
             "#7fbc41"
            ],
            [
             0.9,
             "#4d9221"
            ],
            [
             1,
             "#276419"
            ]
           ],
           "sequential": [
            [
             0,
             "#0d0887"
            ],
            [
             0.1111111111111111,
             "#46039f"
            ],
            [
             0.2222222222222222,
             "#7201a8"
            ],
            [
             0.3333333333333333,
             "#9c179e"
            ],
            [
             0.4444444444444444,
             "#bd3786"
            ],
            [
             0.5555555555555556,
             "#d8576b"
            ],
            [
             0.6666666666666666,
             "#ed7953"
            ],
            [
             0.7777777777777778,
             "#fb9f3a"
            ],
            [
             0.8888888888888888,
             "#fdca26"
            ],
            [
             1,
             "#f0f921"
            ]
           ],
           "sequentialminus": [
            [
             0,
             "#0d0887"
            ],
            [
             0.1111111111111111,
             "#46039f"
            ],
            [
             0.2222222222222222,
             "#7201a8"
            ],
            [
             0.3333333333333333,
             "#9c179e"
            ],
            [
             0.4444444444444444,
             "#bd3786"
            ],
            [
             0.5555555555555556,
             "#d8576b"
            ],
            [
             0.6666666666666666,
             "#ed7953"
            ],
            [
             0.7777777777777778,
             "#fb9f3a"
            ],
            [
             0.8888888888888888,
             "#fdca26"
            ],
            [
             1,
             "#f0f921"
            ]
           ]
          },
          "colorway": [
           "#636efa",
           "#EF553B",
           "#00cc96",
           "#ab63fa",
           "#FFA15A",
           "#19d3f3",
           "#FF6692",
           "#B6E880",
           "#FF97FF",
           "#FECB52"
          ],
          "font": {
           "color": "#2a3f5f"
          },
          "geo": {
           "bgcolor": "white",
           "lakecolor": "white",
           "landcolor": "#E5ECF6",
           "showlakes": true,
           "showland": true,
           "subunitcolor": "white"
          },
          "hoverlabel": {
           "align": "left"
          },
          "hovermode": "closest",
          "mapbox": {
           "style": "light"
          },
          "paper_bgcolor": "white",
          "plot_bgcolor": "#E5ECF6",
          "polar": {
           "angularaxis": {
            "gridcolor": "white",
            "linecolor": "white",
            "ticks": ""
           },
           "bgcolor": "#E5ECF6",
           "radialaxis": {
            "gridcolor": "white",
            "linecolor": "white",
            "ticks": ""
           }
          },
          "scene": {
           "xaxis": {
            "backgroundcolor": "#E5ECF6",
            "gridcolor": "white",
            "gridwidth": 2,
            "linecolor": "white",
            "showbackground": true,
            "ticks": "",
            "zerolinecolor": "white"
           },
           "yaxis": {
            "backgroundcolor": "#E5ECF6",
            "gridcolor": "white",
            "gridwidth": 2,
            "linecolor": "white",
            "showbackground": true,
            "ticks": "",
            "zerolinecolor": "white"
           },
           "zaxis": {
            "backgroundcolor": "#E5ECF6",
            "gridcolor": "white",
            "gridwidth": 2,
            "linecolor": "white",
            "showbackground": true,
            "ticks": "",
            "zerolinecolor": "white"
           }
          },
          "shapedefaults": {
           "line": {
            "color": "#2a3f5f"
           }
          },
          "ternary": {
           "aaxis": {
            "gridcolor": "white",
            "linecolor": "white",
            "ticks": ""
           },
           "baxis": {
            "gridcolor": "white",
            "linecolor": "white",
            "ticks": ""
           },
           "bgcolor": "#E5ECF6",
           "caxis": {
            "gridcolor": "white",
            "linecolor": "white",
            "ticks": ""
           }
          },
          "title": {
           "x": 0.05
          },
          "xaxis": {
           "automargin": true,
           "gridcolor": "white",
           "linecolor": "white",
           "ticks": "",
           "title": {
            "standoff": 15
           },
           "zerolinecolor": "white",
           "zerolinewidth": 2
          },
          "yaxis": {
           "automargin": true,
           "gridcolor": "white",
           "linecolor": "white",
           "ticks": "",
           "title": {
            "standoff": 15
           },
           "zerolinecolor": "white",
           "zerolinewidth": 2
          }
         }
        },
        "title": {
         "text": "Forecast of test set"
        },
        "xaxis": {
         "title": {
          "text": "Time steps"
         }
        },
        "yaxis": {
         "title": {
          "text": "Prediction"
         }
        }
       }
      },
      "text/html": [
       "<div>\n",
       "        \n",
       "        \n",
       "            <div id=\"d4f43a1f-2098-4217-8a47-3adb1636a2db\" class=\"plotly-graph-div\" style=\"height:525px; width:100%;\"></div>\n",
       "            <script type=\"text/javascript\">\n",
       "                require([\"plotly\"], function(Plotly) {\n",
       "                    window.PLOTLYENV=window.PLOTLYENV || {};\n",
       "                    \n",
       "                if (document.getElementById(\"d4f43a1f-2098-4217-8a47-3adb1636a2db\")) {\n",
       "                    Plotly.newPlot(\n",
       "                        'd4f43a1f-2098-4217-8a47-3adb1636a2db',\n",
       "                        [{\"mode\": \"lines\", \"name\": \"GT\", \"type\": \"scatter\", \"x\": [0, 1, 2, 3, 4, 5, 6, 7, 8, 9, 10, 11, 12, 13, 14, 15, 16, 17, 18, 19, 20, 21, 22, 23, 24, 25, 26, 27, 28, 29, 30, 31, 32, 33, 34, 35, 36, 37, 38], \"y\": [2.0, 13.0, 10.0, 4.0, 5.0, 33.0, 19.0, 94.0, 85.0, 76.0, 33.0, 657.0, 1700.0, 2376.0, 1455.0, 1336.0, 1094.0, 677.0, 371.0, 222.0, 58.0, 17.0, 10.0, 10.0, 15.0, 7.0, 8.0, 12.0, 7.0, 2.0, 4.0, 1.0, 3.0, 1226.0, 773.0, 118.0, 67.0, 46.0, 12.0]}, {\"mode\": \"lines\", \"name\": \"SDRIFT\", \"type\": \"scatter\", \"x\": [0, 1, 2, 3, 4, 5, 6, 7, 8, 9, 10, 11, 12, 13, 14, 15, 16, 17, 18, 19, 20, 21, 22, 23, 24, 25, 26, 27, 28, 29, 30, 31, 32, 33, 34, 35, 36, 37, 38], \"y\": [-137.39117500972992, -111.37628672325047, -121.15358692504952, -121.73392028868454, -109.44456794123374, -78.60765678334747, -61.93204853471701, -37.931919913122215, -42.57179565860724, 86.16583839138423, 665.9557631122773, 1430.4680683715362, 1866.0368356658942, 1312.9934796519337, 1018.0008464757275, 1049.386742555146, 705.8115115330431, 417.9346841867898, 289.0807942079555, 104.57669904067086, -30.91490406396224, -91.3996333213235, -116.88482958980035, -123.045195114291, -134.22350764633921, 143.1869092551691, 16.755979582648763, 21.11442582432511, -116.36533637306604, 25.04169148841146, 61.5317918525399, 502.6316228495965, 79.50629134103028, -53.46054432513699, -89.43577883498449, -97.4037451884779, -17.349239141904945, 53.40804604065164, 1803.4980821686593]}, {\"mode\": \"lines\", \"name\": \"MONO-LSTM\", \"type\": \"scatter\", \"x\": [0, 1, 2, 3, 4, 5, 6, 7, 8, 9, 10, 11, 12, 13, 14, 15, 16, 17, 18, 19, 20, 21, 22, 23, 24, 25, 26, 27, 28, 29, 30, 31, 32, 33, 34, 35, 36, 37, 38], \"y\": [344.817138671875, 364.4256591796875, 375.4639892578125, 381.7769470214844, 385.41387939453125, 387.52508544921875, 388.758544921875, 389.48309326171875, 389.9105224609375, 390.1634521484375, 390.3134460449219, 390.40240478515625, 390.45513916015625, 390.486328125, 390.50469970703125, 390.5155029296875, 390.5217590332031, 390.5253601074219, 390.5274353027344, 390.528564453125, 390.5292053222656, 390.529541015625, 390.5296936035156, 390.52978515625, 390.52978515625, 390.52978515625, 390.52978515625, 390.52978515625, 390.52978515625, 390.5297546386719, 390.5297546386719, 390.5297546386719, 390.5297546386719, 390.5297546386719, 390.5297546386719, 390.5297546386719, 390.5297546386719, 390.5297546386719, 390.5297546386719]}, {\"mode\": \"lines\", \"name\": \"EXO3-LSTM\", \"type\": \"scatter\", \"x\": [0, 1, 2, 3, 4, 5, 6, 7, 8, 9, 10, 11, 12, 13, 14, 15, 16, 17, 18, 19, 20, 21, 22, 23, 24, 25, 26, 27, 28, 29, 30, 31, 32, 33, 34, 35, 36, 37, 38], \"y\": [15.42376708984375, -21.6011962890625, -49.02618408203125, -63.11175537109375, -50.09539794921875, -12.553985595703125, 43.784423828125, 122.26553344726562, 234.2521209716797, 400.8848876953125, 652.254150390625, 987.5410766601562, 1297.973876953125, 1473.2694091796875, 1509.128173828125, 1430.1171875, 1267.073486328125, 1061.9384765625, 836.454833984375, 604.3668212890625, 412.4764099121094, 272.057861328125, 167.09991455078125, 92.64187622070312, 52.123779296875, 39.7196044921875, 39.015655517578125, 35.514678955078125, 24.94049072265625, 12.469390869140625, 7.63677978515625, 16.609893798828125, 34.131988525390625, 49.5108642578125, 59.895751953125, 69.472412109375, 85.40338134765625, 116.97946166992188, 176.00469970703125]}, {\"mode\": \"lines\", \"name\": \"EXO3-LSTM-TWO\", \"type\": \"scatter\", \"x\": [0, 1, 2, 3, 4, 5, 6, 7, 8, 9, 10, 11, 12, 13, 14, 15, 16, 17, 18, 19, 20, 21, 22, 23, 24, 25, 26, 27, 28, 29, 30, 31, 32, 33, 34, 35, 36, 37, 38], \"y\": [26.23004150390625, -23.57916259765625, -69.850830078125, -28.448760986328125, -50.147979736328125, -11.25311279296875, 70.50360107421875, 184.67971801757812, 247.36627197265625, 499.22015380859375, 763.1580810546875, 1107.17626953125, 1334.95556640625, 1441.605712890625, 1357.459228515625, 1131.67626953125, 972.4874877929688, 673.6738891601562, 463.49383544921875, 333.331787109375, 256.8636474609375, 149.66366577148438, 92.95034790039062, 64.60482788085938, 58.2333984375, 44.5538330078125, -15.33892822265625, -7.127410888671875, 41.176788330078125, 89.24844360351562, 69.096435546875, 145.58602905273438, 75.92245483398438, 96.45755004882812, 155.894775390625, 284.40814208984375, 363.9149475097656, 515.3084106445312, 974.413330078125]}],\n",
       "                        {\"font\": {\"color\": \"#7f7f7f\", \"family\": \"Courier New, monospace\", \"size\": 16}, \"template\": {\"data\": {\"bar\": [{\"error_x\": {\"color\": \"#2a3f5f\"}, \"error_y\": {\"color\": \"#2a3f5f\"}, \"marker\": {\"line\": {\"color\": \"#E5ECF6\", \"width\": 0.5}}, \"type\": \"bar\"}], \"barpolar\": [{\"marker\": {\"line\": {\"color\": \"#E5ECF6\", \"width\": 0.5}}, \"type\": \"barpolar\"}], \"carpet\": [{\"aaxis\": {\"endlinecolor\": \"#2a3f5f\", \"gridcolor\": \"white\", \"linecolor\": \"white\", \"minorgridcolor\": \"white\", \"startlinecolor\": \"#2a3f5f\"}, \"baxis\": {\"endlinecolor\": \"#2a3f5f\", \"gridcolor\": \"white\", \"linecolor\": \"white\", \"minorgridcolor\": \"white\", \"startlinecolor\": \"#2a3f5f\"}, \"type\": \"carpet\"}], \"choropleth\": [{\"colorbar\": {\"outlinewidth\": 0, \"ticks\": \"\"}, \"type\": \"choropleth\"}], \"contour\": [{\"colorbar\": {\"outlinewidth\": 0, \"ticks\": \"\"}, \"colorscale\": [[0.0, \"#0d0887\"], [0.1111111111111111, \"#46039f\"], [0.2222222222222222, \"#7201a8\"], [0.3333333333333333, \"#9c179e\"], [0.4444444444444444, \"#bd3786\"], [0.5555555555555556, \"#d8576b\"], [0.6666666666666666, \"#ed7953\"], [0.7777777777777778, \"#fb9f3a\"], [0.8888888888888888, \"#fdca26\"], [1.0, \"#f0f921\"]], \"type\": \"contour\"}], \"contourcarpet\": [{\"colorbar\": {\"outlinewidth\": 0, \"ticks\": \"\"}, \"type\": \"contourcarpet\"}], \"heatmap\": [{\"colorbar\": {\"outlinewidth\": 0, \"ticks\": \"\"}, \"colorscale\": [[0.0, \"#0d0887\"], [0.1111111111111111, \"#46039f\"], [0.2222222222222222, \"#7201a8\"], [0.3333333333333333, \"#9c179e\"], [0.4444444444444444, \"#bd3786\"], [0.5555555555555556, \"#d8576b\"], [0.6666666666666666, \"#ed7953\"], [0.7777777777777778, \"#fb9f3a\"], [0.8888888888888888, \"#fdca26\"], [1.0, \"#f0f921\"]], \"type\": \"heatmap\"}], \"heatmapgl\": [{\"colorbar\": {\"outlinewidth\": 0, \"ticks\": \"\"}, \"colorscale\": [[0.0, \"#0d0887\"], [0.1111111111111111, \"#46039f\"], [0.2222222222222222, \"#7201a8\"], [0.3333333333333333, \"#9c179e\"], [0.4444444444444444, \"#bd3786\"], [0.5555555555555556, \"#d8576b\"], [0.6666666666666666, \"#ed7953\"], [0.7777777777777778, \"#fb9f3a\"], [0.8888888888888888, \"#fdca26\"], [1.0, \"#f0f921\"]], \"type\": \"heatmapgl\"}], \"histogram\": [{\"marker\": {\"colorbar\": {\"outlinewidth\": 0, \"ticks\": \"\"}}, \"type\": \"histogram\"}], \"histogram2d\": [{\"colorbar\": {\"outlinewidth\": 0, \"ticks\": \"\"}, \"colorscale\": [[0.0, \"#0d0887\"], [0.1111111111111111, \"#46039f\"], [0.2222222222222222, \"#7201a8\"], [0.3333333333333333, \"#9c179e\"], [0.4444444444444444, \"#bd3786\"], [0.5555555555555556, \"#d8576b\"], [0.6666666666666666, \"#ed7953\"], [0.7777777777777778, \"#fb9f3a\"], [0.8888888888888888, \"#fdca26\"], [1.0, \"#f0f921\"]], \"type\": \"histogram2d\"}], \"histogram2dcontour\": [{\"colorbar\": {\"outlinewidth\": 0, \"ticks\": \"\"}, \"colorscale\": [[0.0, \"#0d0887\"], [0.1111111111111111, \"#46039f\"], [0.2222222222222222, \"#7201a8\"], [0.3333333333333333, \"#9c179e\"], [0.4444444444444444, \"#bd3786\"], [0.5555555555555556, \"#d8576b\"], [0.6666666666666666, \"#ed7953\"], [0.7777777777777778, \"#fb9f3a\"], [0.8888888888888888, \"#fdca26\"], [1.0, \"#f0f921\"]], \"type\": \"histogram2dcontour\"}], \"mesh3d\": [{\"colorbar\": {\"outlinewidth\": 0, \"ticks\": \"\"}, \"type\": \"mesh3d\"}], \"parcoords\": [{\"line\": {\"colorbar\": {\"outlinewidth\": 0, \"ticks\": \"\"}}, \"type\": \"parcoords\"}], \"pie\": [{\"automargin\": true, \"type\": \"pie\"}], \"scatter\": [{\"marker\": {\"colorbar\": {\"outlinewidth\": 0, \"ticks\": \"\"}}, \"type\": \"scatter\"}], \"scatter3d\": [{\"line\": {\"colorbar\": {\"outlinewidth\": 0, \"ticks\": \"\"}}, \"marker\": {\"colorbar\": {\"outlinewidth\": 0, \"ticks\": \"\"}}, \"type\": \"scatter3d\"}], \"scattercarpet\": [{\"marker\": {\"colorbar\": {\"outlinewidth\": 0, \"ticks\": \"\"}}, \"type\": \"scattercarpet\"}], \"scattergeo\": [{\"marker\": {\"colorbar\": {\"outlinewidth\": 0, \"ticks\": \"\"}}, \"type\": \"scattergeo\"}], \"scattergl\": [{\"marker\": {\"colorbar\": {\"outlinewidth\": 0, \"ticks\": \"\"}}, \"type\": \"scattergl\"}], \"scattermapbox\": [{\"marker\": {\"colorbar\": {\"outlinewidth\": 0, \"ticks\": \"\"}}, \"type\": \"scattermapbox\"}], \"scatterpolar\": [{\"marker\": {\"colorbar\": {\"outlinewidth\": 0, \"ticks\": \"\"}}, \"type\": \"scatterpolar\"}], \"scatterpolargl\": [{\"marker\": {\"colorbar\": {\"outlinewidth\": 0, \"ticks\": \"\"}}, \"type\": \"scatterpolargl\"}], \"scatterternary\": [{\"marker\": {\"colorbar\": {\"outlinewidth\": 0, \"ticks\": \"\"}}, \"type\": \"scatterternary\"}], \"surface\": [{\"colorbar\": {\"outlinewidth\": 0, \"ticks\": \"\"}, \"colorscale\": [[0.0, \"#0d0887\"], [0.1111111111111111, \"#46039f\"], [0.2222222222222222, \"#7201a8\"], [0.3333333333333333, \"#9c179e\"], [0.4444444444444444, \"#bd3786\"], [0.5555555555555556, \"#d8576b\"], [0.6666666666666666, \"#ed7953\"], [0.7777777777777778, \"#fb9f3a\"], [0.8888888888888888, \"#fdca26\"], [1.0, \"#f0f921\"]], \"type\": \"surface\"}], \"table\": [{\"cells\": {\"fill\": {\"color\": \"#EBF0F8\"}, \"line\": {\"color\": \"white\"}}, \"header\": {\"fill\": {\"color\": \"#C8D4E3\"}, \"line\": {\"color\": \"white\"}}, \"type\": \"table\"}]}, \"layout\": {\"annotationdefaults\": {\"arrowcolor\": \"#2a3f5f\", \"arrowhead\": 0, \"arrowwidth\": 1}, \"coloraxis\": {\"colorbar\": {\"outlinewidth\": 0, \"ticks\": \"\"}}, \"colorscale\": {\"diverging\": [[0, \"#8e0152\"], [0.1, \"#c51b7d\"], [0.2, \"#de77ae\"], [0.3, \"#f1b6da\"], [0.4, \"#fde0ef\"], [0.5, \"#f7f7f7\"], [0.6, \"#e6f5d0\"], [0.7, \"#b8e186\"], [0.8, \"#7fbc41\"], [0.9, \"#4d9221\"], [1, \"#276419\"]], \"sequential\": [[0.0, \"#0d0887\"], [0.1111111111111111, \"#46039f\"], [0.2222222222222222, \"#7201a8\"], [0.3333333333333333, \"#9c179e\"], [0.4444444444444444, \"#bd3786\"], [0.5555555555555556, \"#d8576b\"], [0.6666666666666666, \"#ed7953\"], [0.7777777777777778, \"#fb9f3a\"], [0.8888888888888888, \"#fdca26\"], [1.0, \"#f0f921\"]], \"sequentialminus\": [[0.0, \"#0d0887\"], [0.1111111111111111, \"#46039f\"], [0.2222222222222222, \"#7201a8\"], [0.3333333333333333, \"#9c179e\"], [0.4444444444444444, \"#bd3786\"], [0.5555555555555556, \"#d8576b\"], [0.6666666666666666, \"#ed7953\"], [0.7777777777777778, \"#fb9f3a\"], [0.8888888888888888, \"#fdca26\"], [1.0, \"#f0f921\"]]}, \"colorway\": [\"#636efa\", \"#EF553B\", \"#00cc96\", \"#ab63fa\", \"#FFA15A\", \"#19d3f3\", \"#FF6692\", \"#B6E880\", \"#FF97FF\", \"#FECB52\"], \"font\": {\"color\": \"#2a3f5f\"}, \"geo\": {\"bgcolor\": \"white\", \"lakecolor\": \"white\", \"landcolor\": \"#E5ECF6\", \"showlakes\": true, \"showland\": true, \"subunitcolor\": \"white\"}, \"hoverlabel\": {\"align\": \"left\"}, \"hovermode\": \"closest\", \"mapbox\": {\"style\": \"light\"}, \"paper_bgcolor\": \"white\", \"plot_bgcolor\": \"#E5ECF6\", \"polar\": {\"angularaxis\": {\"gridcolor\": \"white\", \"linecolor\": \"white\", \"ticks\": \"\"}, \"bgcolor\": \"#E5ECF6\", \"radialaxis\": {\"gridcolor\": \"white\", \"linecolor\": \"white\", \"ticks\": \"\"}}, \"scene\": {\"xaxis\": {\"backgroundcolor\": \"#E5ECF6\", \"gridcolor\": \"white\", \"gridwidth\": 2, \"linecolor\": \"white\", \"showbackground\": true, \"ticks\": \"\", \"zerolinecolor\": \"white\"}, \"yaxis\": {\"backgroundcolor\": \"#E5ECF6\", \"gridcolor\": \"white\", \"gridwidth\": 2, \"linecolor\": \"white\", \"showbackground\": true, \"ticks\": \"\", \"zerolinecolor\": \"white\"}, \"zaxis\": {\"backgroundcolor\": \"#E5ECF6\", \"gridcolor\": \"white\", \"gridwidth\": 2, \"linecolor\": \"white\", \"showbackground\": true, \"ticks\": \"\", \"zerolinecolor\": \"white\"}}, \"shapedefaults\": {\"line\": {\"color\": \"#2a3f5f\"}}, \"ternary\": {\"aaxis\": {\"gridcolor\": \"white\", \"linecolor\": \"white\", \"ticks\": \"\"}, \"baxis\": {\"gridcolor\": \"white\", \"linecolor\": \"white\", \"ticks\": \"\"}, \"bgcolor\": \"#E5ECF6\", \"caxis\": {\"gridcolor\": \"white\", \"linecolor\": \"white\", \"ticks\": \"\"}}, \"title\": {\"x\": 0.05}, \"xaxis\": {\"automargin\": true, \"gridcolor\": \"white\", \"linecolor\": \"white\", \"ticks\": \"\", \"title\": {\"standoff\": 15}, \"zerolinecolor\": \"white\", \"zerolinewidth\": 2}, \"yaxis\": {\"automargin\": true, \"gridcolor\": \"white\", \"linecolor\": \"white\", \"ticks\": \"\", \"title\": {\"standoff\": 15}, \"zerolinecolor\": \"white\", \"zerolinewidth\": 2}}}, \"title\": {\"text\": \"Forecast of test set\"}, \"xaxis\": {\"title\": {\"text\": \"Time steps\"}}, \"yaxis\": {\"title\": {\"text\": \"Prediction\"}}},\n",
       "                        {\"responsive\": true}\n",
       "                    ).then(function(){\n",
       "                            \n",
       "var gd = document.getElementById('d4f43a1f-2098-4217-8a47-3adb1636a2db');\n",
       "var x = new MutationObserver(function (mutations, observer) {{\n",
       "        var display = window.getComputedStyle(gd).display;\n",
       "        if (!display || display === 'none') {{\n",
       "            console.log([gd, 'removed!']);\n",
       "            Plotly.purge(gd);\n",
       "            observer.disconnect();\n",
       "        }}\n",
       "}});\n",
       "\n",
       "// Listen for the removal of the full notebook cells\n",
       "var notebookContainer = gd.closest('#notebook-container');\n",
       "if (notebookContainer) {{\n",
       "    x.observe(notebookContainer, {childList: true});\n",
       "}}\n",
       "\n",
       "// Listen for the clearing of the current output cell\n",
       "var outputEl = gd.closest('.output');\n",
       "if (outputEl) {{\n",
       "    x.observe(outputEl, {childList: true});\n",
       "}}\n",
       "\n",
       "                        })\n",
       "                };\n",
       "                });\n",
       "            </script>\n",
       "        </div>"
      ]
     },
     "metadata": {},
     "output_type": "display_data"
    },
    {
     "name": "stdout",
     "output_type": "stream",
     "text": [
      "\n",
      "Run # 2\n",
      "MONO-LSTM input features: [0]\n",
      "EXO1 (+ sincos day) input features : [0, 1, 2, 3]\n",
      "EXO2 (+ weather exog) input features : [0, 4, 5, 6, 7, 8, 9, 10, 11, 12, 13]\n",
      "EXO3 (+ all exog) input features : [0, 1, 2, 3, 4, 5, 6, 7, 8, 9, 10, 11, 12, 13]\n",
      "\n",
      "Running Drift and Seasonal Drift models based on STL Decomposition...\n",
      "Done\n",
      "\n",
      "Inputs for training\n",
      "(64, 54, 1)\n",
      "Outputs for training\n",
      "(64, 39, 1)\n",
      "Inputs for testing\n",
      "(1, 54, 1)\n",
      "Outputs for testing\n",
      "(1, 39, 1)\n",
      "\n",
      "\n",
      "Inputs for training\n",
      "(64, 54, 4)\n",
      "Outputs for training\n",
      "(64, 39, 4)\n",
      "Inputs for testing\n",
      "(1, 54, 4)\n",
      "Outputs for testing\n",
      "(1, 39, 4)\n",
      "\n",
      "\n",
      "Inputs for training\n",
      "(64, 54, 11)\n",
      "Outputs for training\n",
      "(64, 39, 11)\n",
      "Inputs for testing\n",
      "(1, 54, 11)\n",
      "Outputs for testing\n",
      "(1, 39, 11)\n",
      "\n",
      "\n",
      "Inputs for training\n",
      "(64, 54, 14)\n",
      "Outputs for training\n",
      "(64, 39, 14)\n",
      "Inputs for testing\n",
      "(1, 54, 14)\n",
      "Outputs for testing\n",
      "(1, 39, 14)\n",
      "\n",
      "\n",
      "Training the MONO-LSTM model...\n",
      "Epoch 1 Train loss: 1.14. Validation loss: 1.14. Avg future: 19.57. Elapsed time: 0.42s.\n",
      "Epoch 2 Train loss: 1.13. Validation loss: 1.13. Avg future: 24.29. Elapsed time: 0.40s.\n",
      "Epoch 3 Train loss: 1.13. Validation loss: 1.12. Avg future: 15.43. Elapsed time: 0.42s.\n",
      "Epoch 4 Train loss: 1.12. Validation loss: 1.11. Avg future: 18.43. Elapsed time: 0.39s.\n",
      "Epoch 5 Train loss: 1.11. Validation loss: 1.10. Avg future: 24.29. Elapsed time: 0.40s.\n",
      "Epoch 6 Train loss: 1.10. Validation loss: 1.10. Avg future: 15.57. Elapsed time: 0.39s.\n",
      "Epoch 7 Train loss: 1.09. Validation loss: 1.09. Avg future: 18.29. Elapsed time: 0.44s.\n",
      "Epoch 8 Train loss: 1.08. Validation loss: 1.08. Avg future: 18.29. Elapsed time: 0.41s.\n",
      "Epoch 9 Train loss: 1.07. Validation loss: 1.07. Avg future: 26.71. Elapsed time: 0.40s.\n",
      "Epoch 10 Train loss: 1.07. Validation loss: 1.06. Avg future: 24.14. Elapsed time: 0.40s.\n",
      "Epoch 11 Train loss: 1.06. Validation loss: 1.05. Avg future: 24.86. Elapsed time: 0.41s.\n",
      "Epoch 12 Train loss: 1.04. Validation loss: 1.03. Avg future: 19.86. Elapsed time: 0.42s.\n",
      "Epoch 13 Train loss: 1.03. Validation loss: 1.02. Avg future: 22.57. Elapsed time: 0.39s.\n",
      "Done\n",
      "\n",
      "Training the EXO1-LSTM model...\n",
      "Done\n",
      "\n",
      "Training the EXO2-LSTM model...\n",
      "Done\n",
      "\n",
      "Training the EXO3-LSTM model...\n",
      "Epoch 1 Train loss: 1.08. Validation loss: 1.03. Avg future: 19.14. Elapsed time: 0.59s.\n",
      "Epoch 2 Train loss: 1.00. Validation loss: 0.93. Avg future: 25.14. Elapsed time: 0.65s.\n",
      "Epoch 3 Train loss: 0.90. Validation loss: 0.82. Avg future: 40.14. Elapsed time: 0.67s.\n",
      "Epoch 4 Train loss: 0.79. Validation loss: 0.73. Avg future: 26.57. Elapsed time: 0.67s.\n",
      "Epoch 5 Train loss: 0.71. Validation loss: 0.67. Avg future: 22.86. Elapsed time: 0.67s.\n",
      "Epoch 6 Train loss: 0.65. Validation loss: 0.62. Avg future: 32.71. Elapsed time: 0.77s.\n",
      "Epoch 7 Train loss: 0.61. Validation loss: 0.59. Avg future: 29.29. Elapsed time: 0.66s.\n",
      "Epoch 8 Train loss: 0.57. Validation loss: 0.56. Avg future: 16.14. Elapsed time: 0.67s.\n",
      "Epoch 9 Train loss: 0.54. Validation loss: 0.52. Avg future: 26.29. Elapsed time: 0.71s.\n",
      "Epoch 10 Train loss: 0.51. Validation loss: 0.50. Avg future: 30.57. Elapsed time: 0.67s.\n",
      "Epoch 11 Train loss: 0.48. Validation loss: 0.47. Avg future: 21.29. Elapsed time: 0.67s.\n",
      "Epoch 12 Train loss: 0.46. Validation loss: 0.45. Avg future: 17.86. Elapsed time: 0.66s.\n",
      "Epoch 13 Train loss: 0.44. Validation loss: 0.44. Avg future: 18.29. Elapsed time: 0.65s.\n",
      "Epoch 14 Train loss: 0.43. Validation loss: 0.43. Avg future: 25.43. Elapsed time: 0.70s.\n",
      "Epoch 15 Train loss: 0.42. Validation loss: 0.42. Avg future: 24.71. Elapsed time: 0.82s.\n",
      "Epoch 16 Train loss: 0.42. Validation loss: 0.41. Avg future: 28.14. Elapsed time: 0.64s.\n",
      "Epoch 17 Train loss: 0.41. Validation loss: 0.41. Avg future: 31.43. Elapsed time: 1.22s.\n",
      "Epoch 18 Train loss: 0.40. Validation loss: 0.40. Avg future: 20.14. Elapsed time: 0.89s.\n",
      "Epoch 19 Train loss: 0.40. Validation loss: 0.39. Avg future: 17.43. Elapsed time: 0.83s.\n",
      "Epoch 20 Train loss: 0.39. Validation loss: 0.39. Avg future: 28.71. Elapsed time: 0.71s.\n",
      "Epoch 21 Train loss: 0.38. Validation loss: 0.38. Avg future: 22.29. Elapsed time: 0.73s.\n",
      "Epoch 22 Train loss: 0.38. Validation loss: 0.38. Avg future: 30.71. Elapsed time: 0.86s.\n",
      "Epoch 23 Train loss: 0.37. Validation loss: 0.37. Avg future: 19.00. Elapsed time: 0.91s.\n",
      "Epoch 24 Train loss: 0.37. Validation loss: 0.37. Avg future: 30.14. Elapsed time: 0.83s.\n",
      "Epoch 25 Train loss: 0.37. Validation loss: 0.37. Avg future: 27.00. Elapsed time: 0.94s.\n",
      "Epoch 26 Train loss: 0.36. Validation loss: 0.36. Avg future: 31.29. Elapsed time: 0.73s.\n",
      "Epoch 27 Train loss: 0.36. Validation loss: 0.36. Avg future: 23.57. Elapsed time: 0.92s.\n",
      "Epoch 28 Train loss: 0.36. Validation loss: 0.36. Avg future: 29.57. Elapsed time: 0.76s.\n",
      "Epoch 29 Train loss: 0.36. Validation loss: 0.36. Avg future: 20.57. Elapsed time: 0.63s.\n",
      "Epoch 30 Train loss: 0.36. Validation loss: 0.36. Avg future: 24.43. Elapsed time: 0.67s.\n",
      "Epoch 31 Train loss: 0.36. Validation loss: 0.36. Avg future: 32.43. Elapsed time: 0.69s.\n",
      "Epoch 32 Train loss: 0.36. Validation loss: 0.36. Avg future: 29.29. Elapsed time: 0.68s.\n",
      "Epoch 33 Train loss: 0.36. Validation loss: 0.36. Avg future: 16.14. Elapsed time: 0.73s.\n",
      "Epoch 34 Train loss: 0.36. Validation loss: 0.36. Avg future: 23.00. Elapsed time: 0.68s.\n",
      "Epoch 35 Train loss: 0.36. Validation loss: 0.36. Avg future: 12.71. Elapsed time: 0.72s.\n",
      "Epoch 36 Train loss: 0.36. Validation loss: 0.36. Avg future: 19.14. Elapsed time: 0.71s.\n",
      "Epoch 37 Train loss: 0.36. Validation loss: 0.36. Avg future: 25.86. Elapsed time: 0.69s.\n",
      "Epoch 38 Train loss: 0.36. Validation loss: 0.36. Avg future: 16.86. Elapsed time: 0.70s.\n",
      "Epoch 39 Train loss: 0.35. Validation loss: 0.36. Avg future: 25.43. Elapsed time: 0.70s.\n",
      "Epoch 40 Train loss: 0.35. Validation loss: 0.36. Avg future: 25.00. Elapsed time: 0.87s.\n",
      "Epoch 41 Train loss: 0.35. Validation loss: 0.36. Avg future: 23.14. Elapsed time: 0.63s.\n",
      "Epoch 42 Train loss: 0.35. Validation loss: 0.36. Avg future: 23.71. Elapsed time: 0.67s.\n",
      "Epoch 43 Train loss: 0.35. Validation loss: 0.35. Avg future: 24.43. Elapsed time: 0.70s.\n",
      "Epoch 44 Train loss: 0.35. Validation loss: 0.35. Avg future: 15.86. Elapsed time: 0.68s.\n",
      "Epoch 45 Train loss: 0.35. Validation loss: 0.35. Avg future: 25.71. Elapsed time: 0.69s.\n",
      "Epoch 46 Train loss: 0.35. Validation loss: 0.35. Avg future: 17.71. Elapsed time: 0.69s.\n",
      "Epoch 47 Train loss: 0.35. Validation loss: 0.35. Avg future: 8.86. Elapsed time: 0.68s.\n",
      "Epoch 48 Train loss: 0.35. Validation loss: 0.35. Avg future: 28.57. Elapsed time: 0.70s.\n",
      "Epoch 49 Train loss: 0.35. Validation loss: 0.35. Avg future: 25.57. Elapsed time: 0.68s.\n",
      "Epoch 50 Train loss: 0.35. Validation loss: 0.35. Avg future: 11.57. Elapsed time: 0.71s.\n",
      "Epoch 51 Train loss: 0.35. Validation loss: 0.35. Avg future: 33.86. Elapsed time: 0.75s.\n",
      "Epoch 52 Train loss: 0.35. Validation loss: 0.35. Avg future: 26.57. Elapsed time: 0.72s.\n",
      "Done\n",
      "\n",
      "torch.Size([1, 1, 14]) torch.Size([1, 39, 14])\n",
      "torch.Size([1, 1, 14]) torch.Size([1, 39, 14])\n",
      "torch.Size([1, 1, 14]) torch.Size([1, 39, 14])\n",
      "torch.Size([1, 1, 14]) torch.Size([1, 39, 14])\n",
      "torch.Size([1, 1, 14]) torch.Size([1, 39, 14])\n",
      "torch.Size([1, 1, 14]) torch.Size([1, 39, 14])\n",
      "torch.Size([1, 1, 14]) torch.Size([1, 39, 14])\n",
      "torch.Size([1, 1, 14]) torch.Size([1, 39, 14])\n",
      "torch.Size([1, 1, 14]) torch.Size([1, 39, 14])\n",
      "torch.Size([1, 1, 14]) torch.Size([1, 39, 14])\n",
      "torch.Size([1, 1, 14]) torch.Size([1, 39, 14])\n",
      "torch.Size([1, 1, 14]) torch.Size([1, 39, 14])\n",
      "torch.Size([1, 1, 14]) torch.Size([1, 39, 14])\n",
      "torch.Size([1, 1, 14]) torch.Size([1, 39, 14])\n",
      "torch.Size([1, 1, 14]) torch.Size([1, 39, 14])\n",
      "torch.Size([1, 1, 14]) torch.Size([1, 39, 14])\n",
      "torch.Size([1, 1, 14]) torch.Size([1, 39, 14])\n",
      "torch.Size([1, 1, 14]) torch.Size([1, 39, 14])\n",
      "torch.Size([1, 1, 14]) torch.Size([1, 39, 14])\n",
      "torch.Size([1, 1, 14]) torch.Size([1, 39, 14])\n",
      "torch.Size([1, 1, 14]) torch.Size([1, 39, 14])\n",
      "torch.Size([1, 1, 14]) torch.Size([1, 39, 14])\n",
      "torch.Size([1, 1, 14]) torch.Size([1, 39, 14])\n",
      "torch.Size([1, 1, 14]) torch.Size([1, 39, 14])\n",
      "torch.Size([1, 1, 14]) torch.Size([1, 39, 14])\n",
      "torch.Size([1, 1, 14]) torch.Size([1, 39, 14])\n",
      "torch.Size([1, 1, 14]) torch.Size([1, 39, 14])\n",
      "torch.Size([1, 1, 14]) torch.Size([1, 39, 14])\n",
      "torch.Size([1, 1, 14]) torch.Size([1, 39, 14])\n",
      "torch.Size([1, 1, 14]) torch.Size([1, 39, 14])\n",
      "torch.Size([1, 1, 14]) torch.Size([1, 39, 14])\n",
      "torch.Size([1, 1, 14]) torch.Size([1, 39, 14])\n",
      "torch.Size([1, 1, 14]) torch.Size([1, 39, 14])\n",
      "torch.Size([1, 1, 14]) torch.Size([1, 39, 14])\n",
      "torch.Size([1, 1, 14]) torch.Size([1, 39, 14])\n",
      "torch.Size([1, 1, 14]) torch.Size([1, 39, 14])\n",
      "torch.Size([1, 1, 14]) torch.Size([1, 39, 14])\n",
      "torch.Size([1, 1, 14]) torch.Size([1, 39, 14])\n",
      "torch.Size([1, 1, 14]) torch.Size([1, 39, 14])\n"
     ]
    },
    {
     "data": {
      "application/vnd.plotly.v1+json": {
       "config": {
        "plotlyServerURL": "https://plot.ly"
       },
       "data": [
        {
         "mode": "lines",
         "name": "GT",
         "type": "scatter",
         "x": [
          0,
          1,
          2,
          3,
          4,
          5,
          6,
          7,
          8,
          9,
          10,
          11,
          12,
          13,
          14,
          15,
          16,
          17,
          18,
          19,
          20,
          21,
          22,
          23,
          24,
          25,
          26,
          27,
          28,
          29,
          30,
          31,
          32,
          33,
          34,
          35,
          36,
          37,
          38
         ],
         "y": [
          2,
          13,
          10,
          4,
          5,
          33,
          19,
          94,
          85,
          76,
          33,
          657,
          1700,
          2376,
          1455,
          1336,
          1094,
          677,
          371,
          222,
          58,
          17,
          10,
          10,
          15,
          7,
          8,
          12,
          7,
          2,
          4,
          1,
          3,
          1226,
          773,
          118,
          67,
          46,
          12
         ]
        },
        {
         "mode": "lines",
         "name": "SDRIFT",
         "type": "scatter",
         "x": [
          0,
          1,
          2,
          3,
          4,
          5,
          6,
          7,
          8,
          9,
          10,
          11,
          12,
          13,
          14,
          15,
          16,
          17,
          18,
          19,
          20,
          21,
          22,
          23,
          24,
          25,
          26,
          27,
          28,
          29,
          30,
          31,
          32,
          33,
          34,
          35,
          36,
          37,
          38
         ],
         "y": [
          -137.39117500972992,
          -111.37628672325047,
          -121.15358692504952,
          -121.73392028868454,
          -109.44456794123374,
          -78.60765678334747,
          -61.93204853471701,
          -37.931919913122215,
          -42.57179565860724,
          86.16583839138423,
          665.9557631122773,
          1430.4680683715362,
          1866.0368356658942,
          1312.9934796519337,
          1018.0008464757275,
          1049.386742555146,
          705.8115115330431,
          417.9346841867898,
          289.0807942079555,
          104.57669904067086,
          -30.91490406396224,
          -91.3996333213235,
          -116.88482958980035,
          -123.045195114291,
          -134.22350764633921,
          143.1869092551691,
          16.755979582648763,
          21.11442582432511,
          -116.36533637306604,
          25.04169148841146,
          61.5317918525399,
          502.6316228495965,
          79.50629134103028,
          -53.46054432513699,
          -89.43577883498449,
          -97.4037451884779,
          -17.349239141904945,
          53.40804604065164,
          1803.4980821686593
         ]
        },
        {
         "mode": "lines",
         "name": "MONO-LSTM",
         "type": "scatter",
         "x": [
          0,
          1,
          2,
          3,
          4,
          5,
          6,
          7,
          8,
          9,
          10,
          11,
          12,
          13,
          14,
          15,
          16,
          17,
          18,
          19,
          20,
          21,
          22,
          23,
          24,
          25,
          26,
          27,
          28,
          29,
          30,
          31,
          32,
          33,
          34,
          35,
          36,
          37,
          38
         ],
         "y": [
          395.8336486816406,
          407.0962219238281,
          414.96038818359375,
          420.281005859375,
          423.8373107910156,
          426.200927734375,
          427.7666015625,
          428.801513671875,
          429.4845275878906,
          429.9348449707031,
          430.23150634765625,
          430.4268493652344,
          430.555419921875,
          430.6400146484375,
          430.6956787109375,
          430.7322998046875,
          430.7563781738281,
          430.772216796875,
          430.7826232910156,
          430.78948974609375,
          430.7939758300781,
          430.79693603515625,
          430.79888916015625,
          430.8001708984375,
          430.801025390625,
          430.80157470703125,
          430.8019104003906,
          430.8021545410156,
          430.80230712890625,
          430.80242919921875,
          430.802490234375,
          430.8025207519531,
          430.80255126953125,
          430.8025817871094,
          430.8026123046875,
          430.8026123046875,
          430.8026123046875,
          430.8026123046875,
          430.8026123046875
         ]
        },
        {
         "mode": "lines",
         "name": "EXO3-LSTM",
         "type": "scatter",
         "x": [
          0,
          1,
          2,
          3,
          4,
          5,
          6,
          7,
          8,
          9,
          10,
          11,
          12,
          13,
          14,
          15,
          16,
          17,
          18,
          19,
          20,
          21,
          22,
          23,
          24,
          25,
          26,
          27,
          28,
          29,
          30,
          31,
          32,
          33,
          34,
          35,
          36,
          37,
          38
         ],
         "y": [
          -30.03515625,
          -67.975830078125,
          -82.290283203125,
          -74.0042724609375,
          -43.240264892578125,
          11.97344970703125,
          96.31948852539062,
          218.27304077148438,
          394.0215759277344,
          651.6589965820312,
          1007.0872802734375,
          1364.09521484375,
          1567.4647216796875,
          1609.468505859375,
          1536.1759033203125,
          1380.43603515625,
          1173.939697265625,
          932.18310546875,
          682.3956298828125,
          463.0765380859375,
          296.8684387207031,
          176.08148193359375,
          80.63009643554688,
          2.80267333984375,
          -55.30487060546875,
          -89.76580810546875,
          -96.75537109375,
          -78.57122802734375,
          -44.100372314453125,
          -4.155029296875,
          27.28704833984375,
          43.435333251953125,
          50.95831298828125,
          61.604461669921875,
          82.74200439453125,
          119.3480224609375,
          176.29339599609375,
          259.16192626953125,
          380.2032470703125
         ]
        },
        {
         "mode": "lines",
         "name": "EXO3-LSTM-TWO",
         "type": "scatter",
         "x": [
          0,
          1,
          2,
          3,
          4,
          5,
          6,
          7,
          8,
          9,
          10,
          11,
          12,
          13,
          14,
          15,
          16,
          17,
          18,
          19,
          20,
          21,
          22,
          23,
          24,
          25,
          26,
          27,
          28,
          29,
          30,
          31,
          32,
          33,
          34,
          35,
          36,
          37,
          38
         ],
         "y": [
          -12.436492919921875,
          -56.322021484375,
          -71.816650390625,
          -66.71807861328125,
          -81.33587646484375,
          7.24420166015625,
          82.54150390625,
          261.8546142578125,
          405.57196044921875,
          747.811279296875,
          1023.5985717773438,
          1348.97802734375,
          1531.639404296875,
          1567.7506103515625,
          1457.988525390625,
          1285.05810546875,
          1110.8338623046875,
          810.6810302734375,
          583.646484375,
          412.94757080078125,
          309.1392822265625,
          234.62271118164062,
          200.93356323242188,
          95.062255859375,
          99.8292236328125,
          111.87103271484375,
          124.3607177734375,
          118.40908813476562,
          171.6842041015625,
          161.91900634765625,
          147.73052978515625,
          172.72415161132812,
          143.59912109375,
          158.85751342773438,
          253.59921264648438,
          245.32357788085938,
          431.2225341796875,
          570.611328125,
          936.3284912109375
         ]
        }
       ],
       "layout": {
        "font": {
         "color": "#7f7f7f",
         "family": "Courier New, monospace",
         "size": 16
        },
        "template": {
         "data": {
          "bar": [
           {
            "error_x": {
             "color": "#2a3f5f"
            },
            "error_y": {
             "color": "#2a3f5f"
            },
            "marker": {
             "line": {
              "color": "#E5ECF6",
              "width": 0.5
             }
            },
            "type": "bar"
           }
          ],
          "barpolar": [
           {
            "marker": {
             "line": {
              "color": "#E5ECF6",
              "width": 0.5
             }
            },
            "type": "barpolar"
           }
          ],
          "carpet": [
           {
            "aaxis": {
             "endlinecolor": "#2a3f5f",
             "gridcolor": "white",
             "linecolor": "white",
             "minorgridcolor": "white",
             "startlinecolor": "#2a3f5f"
            },
            "baxis": {
             "endlinecolor": "#2a3f5f",
             "gridcolor": "white",
             "linecolor": "white",
             "minorgridcolor": "white",
             "startlinecolor": "#2a3f5f"
            },
            "type": "carpet"
           }
          ],
          "choropleth": [
           {
            "colorbar": {
             "outlinewidth": 0,
             "ticks": ""
            },
            "type": "choropleth"
           }
          ],
          "contour": [
           {
            "colorbar": {
             "outlinewidth": 0,
             "ticks": ""
            },
            "colorscale": [
             [
              0,
              "#0d0887"
             ],
             [
              0.1111111111111111,
              "#46039f"
             ],
             [
              0.2222222222222222,
              "#7201a8"
             ],
             [
              0.3333333333333333,
              "#9c179e"
             ],
             [
              0.4444444444444444,
              "#bd3786"
             ],
             [
              0.5555555555555556,
              "#d8576b"
             ],
             [
              0.6666666666666666,
              "#ed7953"
             ],
             [
              0.7777777777777778,
              "#fb9f3a"
             ],
             [
              0.8888888888888888,
              "#fdca26"
             ],
             [
              1,
              "#f0f921"
             ]
            ],
            "type": "contour"
           }
          ],
          "contourcarpet": [
           {
            "colorbar": {
             "outlinewidth": 0,
             "ticks": ""
            },
            "type": "contourcarpet"
           }
          ],
          "heatmap": [
           {
            "colorbar": {
             "outlinewidth": 0,
             "ticks": ""
            },
            "colorscale": [
             [
              0,
              "#0d0887"
             ],
             [
              0.1111111111111111,
              "#46039f"
             ],
             [
              0.2222222222222222,
              "#7201a8"
             ],
             [
              0.3333333333333333,
              "#9c179e"
             ],
             [
              0.4444444444444444,
              "#bd3786"
             ],
             [
              0.5555555555555556,
              "#d8576b"
             ],
             [
              0.6666666666666666,
              "#ed7953"
             ],
             [
              0.7777777777777778,
              "#fb9f3a"
             ],
             [
              0.8888888888888888,
              "#fdca26"
             ],
             [
              1,
              "#f0f921"
             ]
            ],
            "type": "heatmap"
           }
          ],
          "heatmapgl": [
           {
            "colorbar": {
             "outlinewidth": 0,
             "ticks": ""
            },
            "colorscale": [
             [
              0,
              "#0d0887"
             ],
             [
              0.1111111111111111,
              "#46039f"
             ],
             [
              0.2222222222222222,
              "#7201a8"
             ],
             [
              0.3333333333333333,
              "#9c179e"
             ],
             [
              0.4444444444444444,
              "#bd3786"
             ],
             [
              0.5555555555555556,
              "#d8576b"
             ],
             [
              0.6666666666666666,
              "#ed7953"
             ],
             [
              0.7777777777777778,
              "#fb9f3a"
             ],
             [
              0.8888888888888888,
              "#fdca26"
             ],
             [
              1,
              "#f0f921"
             ]
            ],
            "type": "heatmapgl"
           }
          ],
          "histogram": [
           {
            "marker": {
             "colorbar": {
              "outlinewidth": 0,
              "ticks": ""
             }
            },
            "type": "histogram"
           }
          ],
          "histogram2d": [
           {
            "colorbar": {
             "outlinewidth": 0,
             "ticks": ""
            },
            "colorscale": [
             [
              0,
              "#0d0887"
             ],
             [
              0.1111111111111111,
              "#46039f"
             ],
             [
              0.2222222222222222,
              "#7201a8"
             ],
             [
              0.3333333333333333,
              "#9c179e"
             ],
             [
              0.4444444444444444,
              "#bd3786"
             ],
             [
              0.5555555555555556,
              "#d8576b"
             ],
             [
              0.6666666666666666,
              "#ed7953"
             ],
             [
              0.7777777777777778,
              "#fb9f3a"
             ],
             [
              0.8888888888888888,
              "#fdca26"
             ],
             [
              1,
              "#f0f921"
             ]
            ],
            "type": "histogram2d"
           }
          ],
          "histogram2dcontour": [
           {
            "colorbar": {
             "outlinewidth": 0,
             "ticks": ""
            },
            "colorscale": [
             [
              0,
              "#0d0887"
             ],
             [
              0.1111111111111111,
              "#46039f"
             ],
             [
              0.2222222222222222,
              "#7201a8"
             ],
             [
              0.3333333333333333,
              "#9c179e"
             ],
             [
              0.4444444444444444,
              "#bd3786"
             ],
             [
              0.5555555555555556,
              "#d8576b"
             ],
             [
              0.6666666666666666,
              "#ed7953"
             ],
             [
              0.7777777777777778,
              "#fb9f3a"
             ],
             [
              0.8888888888888888,
              "#fdca26"
             ],
             [
              1,
              "#f0f921"
             ]
            ],
            "type": "histogram2dcontour"
           }
          ],
          "mesh3d": [
           {
            "colorbar": {
             "outlinewidth": 0,
             "ticks": ""
            },
            "type": "mesh3d"
           }
          ],
          "parcoords": [
           {
            "line": {
             "colorbar": {
              "outlinewidth": 0,
              "ticks": ""
             }
            },
            "type": "parcoords"
           }
          ],
          "pie": [
           {
            "automargin": true,
            "type": "pie"
           }
          ],
          "scatter": [
           {
            "marker": {
             "colorbar": {
              "outlinewidth": 0,
              "ticks": ""
             }
            },
            "type": "scatter"
           }
          ],
          "scatter3d": [
           {
            "line": {
             "colorbar": {
              "outlinewidth": 0,
              "ticks": ""
             }
            },
            "marker": {
             "colorbar": {
              "outlinewidth": 0,
              "ticks": ""
             }
            },
            "type": "scatter3d"
           }
          ],
          "scattercarpet": [
           {
            "marker": {
             "colorbar": {
              "outlinewidth": 0,
              "ticks": ""
             }
            },
            "type": "scattercarpet"
           }
          ],
          "scattergeo": [
           {
            "marker": {
             "colorbar": {
              "outlinewidth": 0,
              "ticks": ""
             }
            },
            "type": "scattergeo"
           }
          ],
          "scattergl": [
           {
            "marker": {
             "colorbar": {
              "outlinewidth": 0,
              "ticks": ""
             }
            },
            "type": "scattergl"
           }
          ],
          "scattermapbox": [
           {
            "marker": {
             "colorbar": {
              "outlinewidth": 0,
              "ticks": ""
             }
            },
            "type": "scattermapbox"
           }
          ],
          "scatterpolar": [
           {
            "marker": {
             "colorbar": {
              "outlinewidth": 0,
              "ticks": ""
             }
            },
            "type": "scatterpolar"
           }
          ],
          "scatterpolargl": [
           {
            "marker": {
             "colorbar": {
              "outlinewidth": 0,
              "ticks": ""
             }
            },
            "type": "scatterpolargl"
           }
          ],
          "scatterternary": [
           {
            "marker": {
             "colorbar": {
              "outlinewidth": 0,
              "ticks": ""
             }
            },
            "type": "scatterternary"
           }
          ],
          "surface": [
           {
            "colorbar": {
             "outlinewidth": 0,
             "ticks": ""
            },
            "colorscale": [
             [
              0,
              "#0d0887"
             ],
             [
              0.1111111111111111,
              "#46039f"
             ],
             [
              0.2222222222222222,
              "#7201a8"
             ],
             [
              0.3333333333333333,
              "#9c179e"
             ],
             [
              0.4444444444444444,
              "#bd3786"
             ],
             [
              0.5555555555555556,
              "#d8576b"
             ],
             [
              0.6666666666666666,
              "#ed7953"
             ],
             [
              0.7777777777777778,
              "#fb9f3a"
             ],
             [
              0.8888888888888888,
              "#fdca26"
             ],
             [
              1,
              "#f0f921"
             ]
            ],
            "type": "surface"
           }
          ],
          "table": [
           {
            "cells": {
             "fill": {
              "color": "#EBF0F8"
             },
             "line": {
              "color": "white"
             }
            },
            "header": {
             "fill": {
              "color": "#C8D4E3"
             },
             "line": {
              "color": "white"
             }
            },
            "type": "table"
           }
          ]
         },
         "layout": {
          "annotationdefaults": {
           "arrowcolor": "#2a3f5f",
           "arrowhead": 0,
           "arrowwidth": 1
          },
          "coloraxis": {
           "colorbar": {
            "outlinewidth": 0,
            "ticks": ""
           }
          },
          "colorscale": {
           "diverging": [
            [
             0,
             "#8e0152"
            ],
            [
             0.1,
             "#c51b7d"
            ],
            [
             0.2,
             "#de77ae"
            ],
            [
             0.3,
             "#f1b6da"
            ],
            [
             0.4,
             "#fde0ef"
            ],
            [
             0.5,
             "#f7f7f7"
            ],
            [
             0.6,
             "#e6f5d0"
            ],
            [
             0.7,
             "#b8e186"
            ],
            [
             0.8,
             "#7fbc41"
            ],
            [
             0.9,
             "#4d9221"
            ],
            [
             1,
             "#276419"
            ]
           ],
           "sequential": [
            [
             0,
             "#0d0887"
            ],
            [
             0.1111111111111111,
             "#46039f"
            ],
            [
             0.2222222222222222,
             "#7201a8"
            ],
            [
             0.3333333333333333,
             "#9c179e"
            ],
            [
             0.4444444444444444,
             "#bd3786"
            ],
            [
             0.5555555555555556,
             "#d8576b"
            ],
            [
             0.6666666666666666,
             "#ed7953"
            ],
            [
             0.7777777777777778,
             "#fb9f3a"
            ],
            [
             0.8888888888888888,
             "#fdca26"
            ],
            [
             1,
             "#f0f921"
            ]
           ],
           "sequentialminus": [
            [
             0,
             "#0d0887"
            ],
            [
             0.1111111111111111,
             "#46039f"
            ],
            [
             0.2222222222222222,
             "#7201a8"
            ],
            [
             0.3333333333333333,
             "#9c179e"
            ],
            [
             0.4444444444444444,
             "#bd3786"
            ],
            [
             0.5555555555555556,
             "#d8576b"
            ],
            [
             0.6666666666666666,
             "#ed7953"
            ],
            [
             0.7777777777777778,
             "#fb9f3a"
            ],
            [
             0.8888888888888888,
             "#fdca26"
            ],
            [
             1,
             "#f0f921"
            ]
           ]
          },
          "colorway": [
           "#636efa",
           "#EF553B",
           "#00cc96",
           "#ab63fa",
           "#FFA15A",
           "#19d3f3",
           "#FF6692",
           "#B6E880",
           "#FF97FF",
           "#FECB52"
          ],
          "font": {
           "color": "#2a3f5f"
          },
          "geo": {
           "bgcolor": "white",
           "lakecolor": "white",
           "landcolor": "#E5ECF6",
           "showlakes": true,
           "showland": true,
           "subunitcolor": "white"
          },
          "hoverlabel": {
           "align": "left"
          },
          "hovermode": "closest",
          "mapbox": {
           "style": "light"
          },
          "paper_bgcolor": "white",
          "plot_bgcolor": "#E5ECF6",
          "polar": {
           "angularaxis": {
            "gridcolor": "white",
            "linecolor": "white",
            "ticks": ""
           },
           "bgcolor": "#E5ECF6",
           "radialaxis": {
            "gridcolor": "white",
            "linecolor": "white",
            "ticks": ""
           }
          },
          "scene": {
           "xaxis": {
            "backgroundcolor": "#E5ECF6",
            "gridcolor": "white",
            "gridwidth": 2,
            "linecolor": "white",
            "showbackground": true,
            "ticks": "",
            "zerolinecolor": "white"
           },
           "yaxis": {
            "backgroundcolor": "#E5ECF6",
            "gridcolor": "white",
            "gridwidth": 2,
            "linecolor": "white",
            "showbackground": true,
            "ticks": "",
            "zerolinecolor": "white"
           },
           "zaxis": {
            "backgroundcolor": "#E5ECF6",
            "gridcolor": "white",
            "gridwidth": 2,
            "linecolor": "white",
            "showbackground": true,
            "ticks": "",
            "zerolinecolor": "white"
           }
          },
          "shapedefaults": {
           "line": {
            "color": "#2a3f5f"
           }
          },
          "ternary": {
           "aaxis": {
            "gridcolor": "white",
            "linecolor": "white",
            "ticks": ""
           },
           "baxis": {
            "gridcolor": "white",
            "linecolor": "white",
            "ticks": ""
           },
           "bgcolor": "#E5ECF6",
           "caxis": {
            "gridcolor": "white",
            "linecolor": "white",
            "ticks": ""
           }
          },
          "title": {
           "x": 0.05
          },
          "xaxis": {
           "automargin": true,
           "gridcolor": "white",
           "linecolor": "white",
           "ticks": "",
           "title": {
            "standoff": 15
           },
           "zerolinecolor": "white",
           "zerolinewidth": 2
          },
          "yaxis": {
           "automargin": true,
           "gridcolor": "white",
           "linecolor": "white",
           "ticks": "",
           "title": {
            "standoff": 15
           },
           "zerolinecolor": "white",
           "zerolinewidth": 2
          }
         }
        },
        "title": {
         "text": "Forecast of test set"
        },
        "xaxis": {
         "title": {
          "text": "Time steps"
         }
        },
        "yaxis": {
         "title": {
          "text": "Prediction"
         }
        }
       }
      },
      "text/html": [
       "<div>\n",
       "        \n",
       "        \n",
       "            <div id=\"4648cb3f-d7ca-47a1-b0da-e014cdb10e73\" class=\"plotly-graph-div\" style=\"height:525px; width:100%;\"></div>\n",
       "            <script type=\"text/javascript\">\n",
       "                require([\"plotly\"], function(Plotly) {\n",
       "                    window.PLOTLYENV=window.PLOTLYENV || {};\n",
       "                    \n",
       "                if (document.getElementById(\"4648cb3f-d7ca-47a1-b0da-e014cdb10e73\")) {\n",
       "                    Plotly.newPlot(\n",
       "                        '4648cb3f-d7ca-47a1-b0da-e014cdb10e73',\n",
       "                        [{\"mode\": \"lines\", \"name\": \"GT\", \"type\": \"scatter\", \"x\": [0, 1, 2, 3, 4, 5, 6, 7, 8, 9, 10, 11, 12, 13, 14, 15, 16, 17, 18, 19, 20, 21, 22, 23, 24, 25, 26, 27, 28, 29, 30, 31, 32, 33, 34, 35, 36, 37, 38], \"y\": [2.0, 13.0, 10.0, 4.0, 5.0, 33.0, 19.0, 94.0, 85.0, 76.0, 33.0, 657.0, 1700.0, 2376.0, 1455.0, 1336.0, 1094.0, 677.0, 371.0, 222.0, 58.0, 17.0, 10.0, 10.0, 15.0, 7.0, 8.0, 12.0, 7.0, 2.0, 4.0, 1.0, 3.0, 1226.0, 773.0, 118.0, 67.0, 46.0, 12.0]}, {\"mode\": \"lines\", \"name\": \"SDRIFT\", \"type\": \"scatter\", \"x\": [0, 1, 2, 3, 4, 5, 6, 7, 8, 9, 10, 11, 12, 13, 14, 15, 16, 17, 18, 19, 20, 21, 22, 23, 24, 25, 26, 27, 28, 29, 30, 31, 32, 33, 34, 35, 36, 37, 38], \"y\": [-137.39117500972992, -111.37628672325047, -121.15358692504952, -121.73392028868454, -109.44456794123374, -78.60765678334747, -61.93204853471701, -37.931919913122215, -42.57179565860724, 86.16583839138423, 665.9557631122773, 1430.4680683715362, 1866.0368356658942, 1312.9934796519337, 1018.0008464757275, 1049.386742555146, 705.8115115330431, 417.9346841867898, 289.0807942079555, 104.57669904067086, -30.91490406396224, -91.3996333213235, -116.88482958980035, -123.045195114291, -134.22350764633921, 143.1869092551691, 16.755979582648763, 21.11442582432511, -116.36533637306604, 25.04169148841146, 61.5317918525399, 502.6316228495965, 79.50629134103028, -53.46054432513699, -89.43577883498449, -97.4037451884779, -17.349239141904945, 53.40804604065164, 1803.4980821686593]}, {\"mode\": \"lines\", \"name\": \"MONO-LSTM\", \"type\": \"scatter\", \"x\": [0, 1, 2, 3, 4, 5, 6, 7, 8, 9, 10, 11, 12, 13, 14, 15, 16, 17, 18, 19, 20, 21, 22, 23, 24, 25, 26, 27, 28, 29, 30, 31, 32, 33, 34, 35, 36, 37, 38], \"y\": [395.8336486816406, 407.0962219238281, 414.96038818359375, 420.281005859375, 423.8373107910156, 426.200927734375, 427.7666015625, 428.801513671875, 429.4845275878906, 429.9348449707031, 430.23150634765625, 430.4268493652344, 430.555419921875, 430.6400146484375, 430.6956787109375, 430.7322998046875, 430.7563781738281, 430.772216796875, 430.7826232910156, 430.78948974609375, 430.7939758300781, 430.79693603515625, 430.79888916015625, 430.8001708984375, 430.801025390625, 430.80157470703125, 430.8019104003906, 430.8021545410156, 430.80230712890625, 430.80242919921875, 430.802490234375, 430.8025207519531, 430.80255126953125, 430.8025817871094, 430.8026123046875, 430.8026123046875, 430.8026123046875, 430.8026123046875, 430.8026123046875]}, {\"mode\": \"lines\", \"name\": \"EXO3-LSTM\", \"type\": \"scatter\", \"x\": [0, 1, 2, 3, 4, 5, 6, 7, 8, 9, 10, 11, 12, 13, 14, 15, 16, 17, 18, 19, 20, 21, 22, 23, 24, 25, 26, 27, 28, 29, 30, 31, 32, 33, 34, 35, 36, 37, 38], \"y\": [-30.03515625, -67.975830078125, -82.290283203125, -74.0042724609375, -43.240264892578125, 11.97344970703125, 96.31948852539062, 218.27304077148438, 394.0215759277344, 651.6589965820312, 1007.0872802734375, 1364.09521484375, 1567.4647216796875, 1609.468505859375, 1536.1759033203125, 1380.43603515625, 1173.939697265625, 932.18310546875, 682.3956298828125, 463.0765380859375, 296.8684387207031, 176.08148193359375, 80.63009643554688, 2.80267333984375, -55.30487060546875, -89.76580810546875, -96.75537109375, -78.57122802734375, -44.100372314453125, -4.155029296875, 27.28704833984375, 43.435333251953125, 50.95831298828125, 61.604461669921875, 82.74200439453125, 119.3480224609375, 176.29339599609375, 259.16192626953125, 380.2032470703125]}, {\"mode\": \"lines\", \"name\": \"EXO3-LSTM-TWO\", \"type\": \"scatter\", \"x\": [0, 1, 2, 3, 4, 5, 6, 7, 8, 9, 10, 11, 12, 13, 14, 15, 16, 17, 18, 19, 20, 21, 22, 23, 24, 25, 26, 27, 28, 29, 30, 31, 32, 33, 34, 35, 36, 37, 38], \"y\": [-12.436492919921875, -56.322021484375, -71.816650390625, -66.71807861328125, -81.33587646484375, 7.24420166015625, 82.54150390625, 261.8546142578125, 405.57196044921875, 747.811279296875, 1023.5985717773438, 1348.97802734375, 1531.639404296875, 1567.7506103515625, 1457.988525390625, 1285.05810546875, 1110.8338623046875, 810.6810302734375, 583.646484375, 412.94757080078125, 309.1392822265625, 234.62271118164062, 200.93356323242188, 95.062255859375, 99.8292236328125, 111.87103271484375, 124.3607177734375, 118.40908813476562, 171.6842041015625, 161.91900634765625, 147.73052978515625, 172.72415161132812, 143.59912109375, 158.85751342773438, 253.59921264648438, 245.32357788085938, 431.2225341796875, 570.611328125, 936.3284912109375]}],\n",
       "                        {\"font\": {\"color\": \"#7f7f7f\", \"family\": \"Courier New, monospace\", \"size\": 16}, \"template\": {\"data\": {\"bar\": [{\"error_x\": {\"color\": \"#2a3f5f\"}, \"error_y\": {\"color\": \"#2a3f5f\"}, \"marker\": {\"line\": {\"color\": \"#E5ECF6\", \"width\": 0.5}}, \"type\": \"bar\"}], \"barpolar\": [{\"marker\": {\"line\": {\"color\": \"#E5ECF6\", \"width\": 0.5}}, \"type\": \"barpolar\"}], \"carpet\": [{\"aaxis\": {\"endlinecolor\": \"#2a3f5f\", \"gridcolor\": \"white\", \"linecolor\": \"white\", \"minorgridcolor\": \"white\", \"startlinecolor\": \"#2a3f5f\"}, \"baxis\": {\"endlinecolor\": \"#2a3f5f\", \"gridcolor\": \"white\", \"linecolor\": \"white\", \"minorgridcolor\": \"white\", \"startlinecolor\": \"#2a3f5f\"}, \"type\": \"carpet\"}], \"choropleth\": [{\"colorbar\": {\"outlinewidth\": 0, \"ticks\": \"\"}, \"type\": \"choropleth\"}], \"contour\": [{\"colorbar\": {\"outlinewidth\": 0, \"ticks\": \"\"}, \"colorscale\": [[0.0, \"#0d0887\"], [0.1111111111111111, \"#46039f\"], [0.2222222222222222, \"#7201a8\"], [0.3333333333333333, \"#9c179e\"], [0.4444444444444444, \"#bd3786\"], [0.5555555555555556, \"#d8576b\"], [0.6666666666666666, \"#ed7953\"], [0.7777777777777778, \"#fb9f3a\"], [0.8888888888888888, \"#fdca26\"], [1.0, \"#f0f921\"]], \"type\": \"contour\"}], \"contourcarpet\": [{\"colorbar\": {\"outlinewidth\": 0, \"ticks\": \"\"}, \"type\": \"contourcarpet\"}], \"heatmap\": [{\"colorbar\": {\"outlinewidth\": 0, \"ticks\": \"\"}, \"colorscale\": [[0.0, \"#0d0887\"], [0.1111111111111111, \"#46039f\"], [0.2222222222222222, \"#7201a8\"], [0.3333333333333333, \"#9c179e\"], [0.4444444444444444, \"#bd3786\"], [0.5555555555555556, \"#d8576b\"], [0.6666666666666666, \"#ed7953\"], [0.7777777777777778, \"#fb9f3a\"], [0.8888888888888888, \"#fdca26\"], [1.0, \"#f0f921\"]], \"type\": \"heatmap\"}], \"heatmapgl\": [{\"colorbar\": {\"outlinewidth\": 0, \"ticks\": \"\"}, \"colorscale\": [[0.0, \"#0d0887\"], [0.1111111111111111, \"#46039f\"], [0.2222222222222222, \"#7201a8\"], [0.3333333333333333, \"#9c179e\"], [0.4444444444444444, \"#bd3786\"], [0.5555555555555556, \"#d8576b\"], [0.6666666666666666, \"#ed7953\"], [0.7777777777777778, \"#fb9f3a\"], [0.8888888888888888, \"#fdca26\"], [1.0, \"#f0f921\"]], \"type\": \"heatmapgl\"}], \"histogram\": [{\"marker\": {\"colorbar\": {\"outlinewidth\": 0, \"ticks\": \"\"}}, \"type\": \"histogram\"}], \"histogram2d\": [{\"colorbar\": {\"outlinewidth\": 0, \"ticks\": \"\"}, \"colorscale\": [[0.0, \"#0d0887\"], [0.1111111111111111, \"#46039f\"], [0.2222222222222222, \"#7201a8\"], [0.3333333333333333, \"#9c179e\"], [0.4444444444444444, \"#bd3786\"], [0.5555555555555556, \"#d8576b\"], [0.6666666666666666, \"#ed7953\"], [0.7777777777777778, \"#fb9f3a\"], [0.8888888888888888, \"#fdca26\"], [1.0, \"#f0f921\"]], \"type\": \"histogram2d\"}], \"histogram2dcontour\": [{\"colorbar\": {\"outlinewidth\": 0, \"ticks\": \"\"}, \"colorscale\": [[0.0, \"#0d0887\"], [0.1111111111111111, \"#46039f\"], [0.2222222222222222, \"#7201a8\"], [0.3333333333333333, \"#9c179e\"], [0.4444444444444444, \"#bd3786\"], [0.5555555555555556, \"#d8576b\"], [0.6666666666666666, \"#ed7953\"], [0.7777777777777778, \"#fb9f3a\"], [0.8888888888888888, \"#fdca26\"], [1.0, \"#f0f921\"]], \"type\": \"histogram2dcontour\"}], \"mesh3d\": [{\"colorbar\": {\"outlinewidth\": 0, \"ticks\": \"\"}, \"type\": \"mesh3d\"}], \"parcoords\": [{\"line\": {\"colorbar\": {\"outlinewidth\": 0, \"ticks\": \"\"}}, \"type\": \"parcoords\"}], \"pie\": [{\"automargin\": true, \"type\": \"pie\"}], \"scatter\": [{\"marker\": {\"colorbar\": {\"outlinewidth\": 0, \"ticks\": \"\"}}, \"type\": \"scatter\"}], \"scatter3d\": [{\"line\": {\"colorbar\": {\"outlinewidth\": 0, \"ticks\": \"\"}}, \"marker\": {\"colorbar\": {\"outlinewidth\": 0, \"ticks\": \"\"}}, \"type\": \"scatter3d\"}], \"scattercarpet\": [{\"marker\": {\"colorbar\": {\"outlinewidth\": 0, \"ticks\": \"\"}}, \"type\": \"scattercarpet\"}], \"scattergeo\": [{\"marker\": {\"colorbar\": {\"outlinewidth\": 0, \"ticks\": \"\"}}, \"type\": \"scattergeo\"}], \"scattergl\": [{\"marker\": {\"colorbar\": {\"outlinewidth\": 0, \"ticks\": \"\"}}, \"type\": \"scattergl\"}], \"scattermapbox\": [{\"marker\": {\"colorbar\": {\"outlinewidth\": 0, \"ticks\": \"\"}}, \"type\": \"scattermapbox\"}], \"scatterpolar\": [{\"marker\": {\"colorbar\": {\"outlinewidth\": 0, \"ticks\": \"\"}}, \"type\": \"scatterpolar\"}], \"scatterpolargl\": [{\"marker\": {\"colorbar\": {\"outlinewidth\": 0, \"ticks\": \"\"}}, \"type\": \"scatterpolargl\"}], \"scatterternary\": [{\"marker\": {\"colorbar\": {\"outlinewidth\": 0, \"ticks\": \"\"}}, \"type\": \"scatterternary\"}], \"surface\": [{\"colorbar\": {\"outlinewidth\": 0, \"ticks\": \"\"}, \"colorscale\": [[0.0, \"#0d0887\"], [0.1111111111111111, \"#46039f\"], [0.2222222222222222, \"#7201a8\"], [0.3333333333333333, \"#9c179e\"], [0.4444444444444444, \"#bd3786\"], [0.5555555555555556, \"#d8576b\"], [0.6666666666666666, \"#ed7953\"], [0.7777777777777778, \"#fb9f3a\"], [0.8888888888888888, \"#fdca26\"], [1.0, \"#f0f921\"]], \"type\": \"surface\"}], \"table\": [{\"cells\": {\"fill\": {\"color\": \"#EBF0F8\"}, \"line\": {\"color\": \"white\"}}, \"header\": {\"fill\": {\"color\": \"#C8D4E3\"}, \"line\": {\"color\": \"white\"}}, \"type\": \"table\"}]}, \"layout\": {\"annotationdefaults\": {\"arrowcolor\": \"#2a3f5f\", \"arrowhead\": 0, \"arrowwidth\": 1}, \"coloraxis\": {\"colorbar\": {\"outlinewidth\": 0, \"ticks\": \"\"}}, \"colorscale\": {\"diverging\": [[0, \"#8e0152\"], [0.1, \"#c51b7d\"], [0.2, \"#de77ae\"], [0.3, \"#f1b6da\"], [0.4, \"#fde0ef\"], [0.5, \"#f7f7f7\"], [0.6, \"#e6f5d0\"], [0.7, \"#b8e186\"], [0.8, \"#7fbc41\"], [0.9, \"#4d9221\"], [1, \"#276419\"]], \"sequential\": [[0.0, \"#0d0887\"], [0.1111111111111111, \"#46039f\"], [0.2222222222222222, \"#7201a8\"], [0.3333333333333333, \"#9c179e\"], [0.4444444444444444, \"#bd3786\"], [0.5555555555555556, \"#d8576b\"], [0.6666666666666666, \"#ed7953\"], [0.7777777777777778, \"#fb9f3a\"], [0.8888888888888888, \"#fdca26\"], [1.0, \"#f0f921\"]], \"sequentialminus\": [[0.0, \"#0d0887\"], [0.1111111111111111, \"#46039f\"], [0.2222222222222222, \"#7201a8\"], [0.3333333333333333, \"#9c179e\"], [0.4444444444444444, \"#bd3786\"], [0.5555555555555556, \"#d8576b\"], [0.6666666666666666, \"#ed7953\"], [0.7777777777777778, \"#fb9f3a\"], [0.8888888888888888, \"#fdca26\"], [1.0, \"#f0f921\"]]}, \"colorway\": [\"#636efa\", \"#EF553B\", \"#00cc96\", \"#ab63fa\", \"#FFA15A\", \"#19d3f3\", \"#FF6692\", \"#B6E880\", \"#FF97FF\", \"#FECB52\"], \"font\": {\"color\": \"#2a3f5f\"}, \"geo\": {\"bgcolor\": \"white\", \"lakecolor\": \"white\", \"landcolor\": \"#E5ECF6\", \"showlakes\": true, \"showland\": true, \"subunitcolor\": \"white\"}, \"hoverlabel\": {\"align\": \"left\"}, \"hovermode\": \"closest\", \"mapbox\": {\"style\": \"light\"}, \"paper_bgcolor\": \"white\", \"plot_bgcolor\": \"#E5ECF6\", \"polar\": {\"angularaxis\": {\"gridcolor\": \"white\", \"linecolor\": \"white\", \"ticks\": \"\"}, \"bgcolor\": \"#E5ECF6\", \"radialaxis\": {\"gridcolor\": \"white\", \"linecolor\": \"white\", \"ticks\": \"\"}}, \"scene\": {\"xaxis\": {\"backgroundcolor\": \"#E5ECF6\", \"gridcolor\": \"white\", \"gridwidth\": 2, \"linecolor\": \"white\", \"showbackground\": true, \"ticks\": \"\", \"zerolinecolor\": \"white\"}, \"yaxis\": {\"backgroundcolor\": \"#E5ECF6\", \"gridcolor\": \"white\", \"gridwidth\": 2, \"linecolor\": \"white\", \"showbackground\": true, \"ticks\": \"\", \"zerolinecolor\": \"white\"}, \"zaxis\": {\"backgroundcolor\": \"#E5ECF6\", \"gridcolor\": \"white\", \"gridwidth\": 2, \"linecolor\": \"white\", \"showbackground\": true, \"ticks\": \"\", \"zerolinecolor\": \"white\"}}, \"shapedefaults\": {\"line\": {\"color\": \"#2a3f5f\"}}, \"ternary\": {\"aaxis\": {\"gridcolor\": \"white\", \"linecolor\": \"white\", \"ticks\": \"\"}, \"baxis\": {\"gridcolor\": \"white\", \"linecolor\": \"white\", \"ticks\": \"\"}, \"bgcolor\": \"#E5ECF6\", \"caxis\": {\"gridcolor\": \"white\", \"linecolor\": \"white\", \"ticks\": \"\"}}, \"title\": {\"x\": 0.05}, \"xaxis\": {\"automargin\": true, \"gridcolor\": \"white\", \"linecolor\": \"white\", \"ticks\": \"\", \"title\": {\"standoff\": 15}, \"zerolinecolor\": \"white\", \"zerolinewidth\": 2}, \"yaxis\": {\"automargin\": true, \"gridcolor\": \"white\", \"linecolor\": \"white\", \"ticks\": \"\", \"title\": {\"standoff\": 15}, \"zerolinecolor\": \"white\", \"zerolinewidth\": 2}}}, \"title\": {\"text\": \"Forecast of test set\"}, \"xaxis\": {\"title\": {\"text\": \"Time steps\"}}, \"yaxis\": {\"title\": {\"text\": \"Prediction\"}}},\n",
       "                        {\"responsive\": true}\n",
       "                    ).then(function(){\n",
       "                            \n",
       "var gd = document.getElementById('4648cb3f-d7ca-47a1-b0da-e014cdb10e73');\n",
       "var x = new MutationObserver(function (mutations, observer) {{\n",
       "        var display = window.getComputedStyle(gd).display;\n",
       "        if (!display || display === 'none') {{\n",
       "            console.log([gd, 'removed!']);\n",
       "            Plotly.purge(gd);\n",
       "            observer.disconnect();\n",
       "        }}\n",
       "}});\n",
       "\n",
       "// Listen for the removal of the full notebook cells\n",
       "var notebookContainer = gd.closest('#notebook-container');\n",
       "if (notebookContainer) {{\n",
       "    x.observe(notebookContainer, {childList: true});\n",
       "}}\n",
       "\n",
       "// Listen for the clearing of the current output cell\n",
       "var outputEl = gd.closest('.output');\n",
       "if (outputEl) {{\n",
       "    x.observe(outputEl, {childList: true});\n",
       "}}\n",
       "\n",
       "                        })\n",
       "                };\n",
       "                });\n",
       "            </script>\n",
       "        </div>"
      ]
     },
     "metadata": {},
     "output_type": "display_data"
    },
    {
     "name": "stdout",
     "output_type": "stream",
     "text": [
      "\n"
     ]
    }
   ],
   "source": [
    "single_run_results = []\n",
    "n_runs = 2\n",
    "\n",
    "for dataset in datasets:\n",
    "    print(\"Running forecasting for sales in\", dataset)\n",
    "    for run in range(n_runs):\n",
    "        print (\"Run #\", run+1)\n",
    "        # Load the default and augmented versions of the data\n",
    "        full_dataset = datasets[dataset]\n",
    "\n",
    "        # Create training and test data\n",
    "        train, test = ts_train_test_split(full_dataset)\n",
    "       \n",
    "        #default_desired_input_features = cols_with_most_corr(train.iloc[:, :4])\n",
    "        #aug_desired_input_features = cols_with_most_corr(train)\n",
    "      \n",
    "        # Extract the columns which display most correlation with the value we are trying to predict.\n",
    "        mono_input_features = [0]\n",
    "        exo1_input_features = [0, 1, 2, 3]\n",
    "        exo2_input_features = [0] + list(range(4,full_dataset.shape[1]))\n",
    "        exo3_input_features = list(range(0,full_dataset.shape[1]))\n",
    "        print(\"MONO-LSTM input features:\", mono_input_features)\n",
    "        print(\"EXO1 (+ sincos day) input features :\", exo1_input_features)\n",
    "        print(\"EXO2 (+ weather exog) input features :\", exo2_input_features)\n",
    "        print(\"EXO3 (+ all exog) input features :\", exo3_input_features)\n",
    "        print()\n",
    "        \n",
    "        ## Run STL Decomposition as baseline\n",
    "        print(\"Running Drift and Seasonal Drift models based on STL Decomposition...\")\n",
    "        f_steps = test.shape[0]\n",
    "        decomp = decompose(train.vendita, period=52)\n",
    "        drift_forecast = forecast(decomp, steps=f_steps, fc_func=drift, seasonal=True)\n",
    "        drift_rmse = sm.tools.eval_measures.rmse(test.vendita.values, drift_forecast[\"drift+seasonal\"].values)\n",
    "        drift_mae = sm.tools.eval_measures.meanabs(test.vendita.values, drift_forecast[\"drift+seasonal\"].values)\n",
    "        print(\"Done\\n\")\n",
    "        \n",
    "        ## Run ARIMA as another baseline\n",
    "        #print(\"Running SARIMA model...\")\n",
    "        ## Fit your model\n",
    "        #sarima_model = pm.auto_arima(def_train.vendita, seasonal=True, m=52, suppress_warnings=True, max_order=None, \\\n",
    "        #                            start_p=3, start_q=0, start_P=0, start_Q=0, \\\n",
    "        #                            max_p=6, max_d=1, max_q=1, max_P=1, max_D=1, max_Q=1)\n",
    "        ## Get model params\n",
    "        #sarima_order = sarima_model.get_params()[\"order\"]\n",
    "        #sarima_s_order = sarima_model.get_params()[\"seasonal_order\"]\n",
    "        ## Predict #test steps into the future\n",
    "        #sarima_forecasts = sarima_model.predict(f_steps)  \n",
    "        #sarima_rmse = sm.tools.eval_measures.rmse(def_test.vendita.values, sarima_forecasts)\n",
    "        #sarima_mae = sm.tools.eval_measures.meanabs(def_test.vendita.values, sarima_forecasts)\n",
    "        #print(\"Done\\n\")\n",
    "        \n",
    "        #print(\"Running SARIMAX model...\")\n",
    "        #sarimax_model = SARIMAX(endog=aug_train.vendita, exog=aug_train.iloc[:, aug_desired_input_features[1:]], \\\n",
    "        #                        order=sarima_order, seasonal_order=sarima_s_order)\n",
    "        #sarimax_fitted = sarimax_model.fit()\n",
    "        #sarimax_forecasts = sarimax_fitted.forecast(f_steps, exog=aug_test.iloc[:, aug_desired_input_features[1:]])  \n",
    "        #sarimax_rmse = sm.tools.eval_measures.rmse(def_test.vendita.values, sarimax_forecasts)\n",
    "        #sarimax_mae = sm.tools.eval_measures.meanabs(def_test.vendita.values, sarimax_forecasts)\n",
    "        #print(\"Done\\n\")\n",
    "        \n",
    "        ## LSTM\n",
    "        # Define the LSTM Models and their Optimizer objects\n",
    "        mono_LSTM_Model, mono_opt_obj = define_LSTM_Model(mono_input_features)\n",
    "        exo1_LSTM_Model, exo1_opt_obj = define_LSTM_Model(exo1_input_features)\n",
    "        exo2_LSTM_Model, exo2_opt_obj = define_LSTM_Model(exo2_input_features)\n",
    "        exo3_LSTM_Model, exo3_opt_obj = define_LSTM_Model(exo3_input_features)\n",
    "\n",
    "        # 1) MONO-LSTM data\n",
    "        mono_inp_tr, mono_out_tr, mono_inp_te, mono_out_te = prepare_for_network(train, test, mono_input_features, in_len=54, out_len=f_steps)\n",
    "        mono_x_train=torch.cat((torch.Tensor(mono_inp_tr),torch.Tensor(mono_out_tr)),1)\n",
    "        mono_x_test=torch.Tensor(mono_inp_te)\n",
    "\n",
    "        # 2) EXO1-LSTM data\n",
    "        exo1_inp_tr, exo1_out_tr, exo1_inp_te, exo1_out_te = prepare_for_network(train, test, exo1_input_features, in_len=54, out_len=f_steps)\n",
    "        exo1_x_train=torch.cat((torch.Tensor(exo1_inp_tr),torch.Tensor(exo1_out_tr)),1)\n",
    "        exo1_x_test=torch.Tensor(exo1_inp_te)\n",
    "\n",
    "        # 3) EXO2-LSTM data\n",
    "        exo2_inp_tr, exo2_out_tr, exo2_inp_te, exo2_out_te = prepare_for_network(train, test, exo2_input_features, in_len=54, out_len=f_steps)\n",
    "        exo2_x_train=torch.cat((torch.Tensor(exo2_inp_tr),torch.Tensor(exo2_out_tr)),1)\n",
    "        exo2_x_test=torch.Tensor(exo2_inp_te)\n",
    "\n",
    "        # 4) EXO3-LSTM data\n",
    "        exo3_inp_tr, exo3_out_tr, exo3_inp_te, exo3_out_te = prepare_for_network(train, test, exo3_input_features, in_len=54, out_len=f_steps)\n",
    "        exo3_x_train=torch.cat((torch.Tensor(exo3_inp_tr),torch.Tensor(exo3_out_tr)),1)\n",
    "        exo3_x_test=torch.Tensor(exo3_inp_te)\n",
    "\n",
    "        # Train all the LSTMs \n",
    "        print(\"Training the MONO-LSTM model...\")\n",
    "        mono_opt_obj.train(mono_x_train[:,:-1],mono_x_train[:,1:],mono_x_train[:,:-1],mono_x_train[:,1:], \\\n",
    "                           do_teacher_forcing=True, n_epochs=10+len(mono_input_features)*3, batch_size=8)\n",
    "        print(\"Done\\n\")\n",
    "        print(\"Training the EXO1-LSTM model...\")\n",
    "        #exo1_opt_obj.train(exo1_x_train[:,:-1],exo1_x_train[:,1:],exo1_x_train[:,:-1],exo1_x_train[:,1:], \\\n",
    "        #                   do_teacher_forcing=True, n_epochs=10+len(exo1_input_features)*3, batch_size=8)\n",
    "        print(\"Done\\n\")\n",
    "        print(\"Training the EXO2-LSTM model...\")\n",
    "        #exo2_opt_obj.train(exo2_x_train[:,:-1],exo2_x_train[:,1:],exo2_x_train[:,:-1],exo2_x_train[:,1:], \\\n",
    "        #                   do_teacher_forcing=True, n_epochs=10+len(exo2_input_features)*3, batch_size=8)\n",
    "        print(\"Done\\n\")\n",
    "        print(\"Training the EXO3-LSTM model...\")\n",
    "        exo3_opt_obj.train(exo3_x_train[:,:-1],exo3_x_train[:,1:],exo3_x_train[:,:-1],exo3_x_train[:,1:], \\\n",
    "                           do_teacher_forcing=True, n_epochs=10+len(exo3_input_features)*3, batch_size=8)\n",
    "        print(\"Done\\n\")\n",
    "\n",
    "        # Make predictions using the trained networks\n",
    "        mono_pred = mono_LSTM_Model(mono_x_test, f_steps)\n",
    "        exo1_pred = exo1_LSTM_Model(exo1_x_test, f_steps)\n",
    "        exo2_pred = exo2_LSTM_Model(exo2_x_test, f_steps)\n",
    "        #exo1_pred_two = exo1_LSTM_Model.predict_mono(exo1_x_test, f_steps, torch.Tensor(exo1_out_te))\n",
    "        exo3_pred = exo3_LSTM_Model(exo3_x_test, f_steps)\n",
    "        exo3_pred_two = exo3_LSTM_Model.predict_mono(exo3_x_test, f_steps, torch.Tensor(exo3_out_te))\n",
    "\n",
    "\n",
    "        ## Check results of LSTM forecasts (calc erros)\n",
    "        mean = np.mean(train.vendita.values)\n",
    "        std = np.std(train.vendita.values)\n",
    "        mono_lstm_rmse, mono_lstm_mae = check_lstm_forecast_results(mono_pred, mono_inp_te, mono_out_te, mean, std, in_len=54, out_len=f_steps)\n",
    "        #exo1_lstm_rmse, exo1_lstm_mae = check_lstm_forecast_results(exo1_pred, exo1_inp_te, exo1_out_te, mean, std, in_len=54, out_len=f_steps)\n",
    "        #exo2_lstm_rmse, exo2_lstm_mae = check_lstm_forecast_results(exo2_pred, exo2_inp_te, exo2_out_te, mean, std, in_len=54, out_len=f_steps)\n",
    "        exo3_lstm_rmse, exo3_lstm_mae = check_lstm_forecast_results(exo3_pred, exo3_inp_te, exo3_out_te, mean, std, in_len=54, out_len=f_steps)\n",
    "        #mono_two_lstm_rmse, mono_two_lstm_mae = check_lstm_forecast_results(mono_pred_two, mono_inp_te, mono_out_te, mean, std, in_len=54, out_len=f_steps)\n",
    "        exo3_two_lstm_rmse, exo3_two_lstm_mae = check_lstm_forecast_results(exo3_pred_two, exo3_inp_te, exo3_out_te, mean, std, in_len=54, out_len=f_steps)\n",
    "        \n",
    "        fig = go.Figure()\n",
    "        x_labels = list(range(0,f_steps))\n",
    "        fig.add_trace(go.Scatter(x=x_labels, y=test.vendita,\n",
    "                    mode='lines', name='GT'))\n",
    "        fig.add_trace(go.Scatter(x=x_labels, y=drift_forecast[\"drift+seasonal\"].values,\n",
    "                    mode='lines', name='SDRIFT'))\n",
    "        #fig.add_trace(go.Scatter(x=x_labels, y=arima_forecasts,\n",
    "        #            mode='lines', name='SARIMA'+str(arima_order)))\n",
    "        #fig.add_trace(go.Scatter(x=x_labels, y=arimax_forecasts,\n",
    "        #            mode='lines', name='SARIMAX'+str(arima_order)))\n",
    "        fig.add_trace(go.Scatter(x=x_labels, y=(mono_pred[0,-f_steps:,0].detach().cpu().numpy()*std)+mean,\n",
    "                     mode='lines', name='MONO-LSTM'))\n",
    "        #fig.add_trace(go.Scatter(x=x_labels, y=(exo1_pred[0,-f_steps:,0].detach().cpu().numpy()*std)+mean,\n",
    "        #             mode='lines', name='EXO1-LSTM'))\n",
    "        #fig.add_trace(go.Scatter(x=x_labels, y=(exo2_pred[0,-f_steps:,0].detach().cpu().numpy()*std)+mean,\n",
    "        #             mode='lines', name='EXO2-LSTM'))\n",
    "        fig.add_trace(go.Scatter(x=x_labels, y=(exo3_pred[0,-f_steps:,0].detach().cpu().numpy()*std)+mean,\n",
    "                     mode='lines', name='EXO3-LSTM'))\n",
    "        fig.add_trace(go.Scatter(x=x_labels, y=(exo3_pred_two[0,-f_steps:,0].detach().cpu().numpy()*std)+mean,\n",
    "                     mode='lines', name='EXO3-LSTM-TWO'))\n",
    "        #Update plot title and axis titles, then save plot as a HTML File\n",
    "        fig.update_layout(\n",
    "            title=\"Forecast of test set\",\n",
    "            xaxis_title=\"Time steps\",\n",
    "            yaxis_title=\"Prediction\",\n",
    "            font=dict(\n",
    "                family=\"Courier New, monospace\",\n",
    "                size=16,\n",
    "                color=\"#7f7f7f\"\n",
    "            )\n",
    "        )\n",
    "        fig.show()\n",
    "        #pltio.write_html(fig, dataset+\"-\"+\"run\"+str(run+1)+\"daily-sales-results.html\")\n",
    "        single_run_results.append([dataset, \"run \"+str(run+1), drift_rmse, mono_lstm_rmse, \\\n",
    "                                   exo1_lstm_rmse, exo2_lstm_rmse, exo3_lstm_rmse, \\\n",
    "                                   drift_mae, mono_lstm_mae, exo1_lstm_mae, \\\n",
    "                                   exo2_lstm_mae, exo3_lstm_mae])\n",
    "    \n",
    "        print()"
   ]
  },
  {
   "cell_type": "code",
   "execution_count": 26,
   "metadata": {},
   "outputs": [
    {
     "data": {
      "text/html": [
       "<div>\n",
       "<style scoped>\n",
       "    .dataframe tbody tr th:only-of-type {\n",
       "        vertical-align: middle;\n",
       "    }\n",
       "\n",
       "    .dataframe tbody tr th {\n",
       "        vertical-align: top;\n",
       "    }\n",
       "\n",
       "    .dataframe thead th {\n",
       "        text-align: right;\n",
       "    }\n",
       "</style>\n",
       "<table border=\"1\" class=\"dataframe\">\n",
       "  <thead>\n",
       "    <tr style=\"text-align: right;\">\n",
       "      <th></th>\n",
       "      <th>Dataset</th>\n",
       "      <th>Run Nr.</th>\n",
       "      <th>DRIFT RMSE</th>\n",
       "      <th>MONO-LSTM RMSE</th>\n",
       "      <th>EXO3-LSTM RMSE</th>\n",
       "      <th>EXO3-LSTM-TWO RMSE</th>\n",
       "      <th>DRIFT MAE</th>\n",
       "      <th>MONO-LSTM MAE</th>\n",
       "      <th>EXO3-LSTM MAE</th>\n",
       "      <th>EXO3-LSTM-TWO MAE</th>\n",
       "    </tr>\n",
       "  </thead>\n",
       "  <tbody>\n",
       "    <tr>\n",
       "      <th>0</th>\n",
       "      <td>Milan</td>\n",
       "      <td>run 1</td>\n",
       "      <td>475.461482</td>\n",
       "      <td>573.879709</td>\n",
       "      <td>332.854087</td>\n",
       "      <td>361.240743</td>\n",
       "      <td>284.260058</td>\n",
       "      <td>462.144673</td>\n",
       "      <td>201.399411</td>\n",
       "      <td>224.324107</td>\n",
       "    </tr>\n",
       "    <tr>\n",
       "      <th>1</th>\n",
       "      <td>Milan</td>\n",
       "      <td>run 2</td>\n",
       "      <td>475.461482</td>\n",
       "      <td>579.783006</td>\n",
       "      <td>355.029457</td>\n",
       "      <td>387.699780</td>\n",
       "      <td>284.260058</td>\n",
       "      <td>483.934255</td>\n",
       "      <td>220.206987</td>\n",
       "      <td>264.212931</td>\n",
       "    </tr>\n",
       "  </tbody>\n",
       "</table>\n",
       "</div>"
      ],
      "text/plain": [
       "  Dataset Run Nr.  DRIFT RMSE  MONO-LSTM RMSE  EXO3-LSTM RMSE  \\\n",
       "0   Milan   run 1  475.461482      573.879709      332.854087   \n",
       "1   Milan   run 2  475.461482      579.783006      355.029457   \n",
       "\n",
       "   EXO3-LSTM-TWO RMSE   DRIFT MAE  MONO-LSTM MAE  EXO3-LSTM MAE  \\\n",
       "0          361.240743  284.260058     462.144673     201.399411   \n",
       "1          387.699780  284.260058     483.934255     220.206987   \n",
       "\n",
       "   EXO3-LSTM-TWO MAE  \n",
       "0         224.324107  \n",
       "1         264.212931  "
      ]
     },
     "execution_count": 26,
     "metadata": {},
     "output_type": "execute_result"
    }
   ],
   "source": [
    "# Results for each run of forecasting\n",
    "single_run_results_df = pd.DataFrame(single_run_results, \n",
    "                                     columns=[\"Dataset\", \"Run Nr.\", \"DRIFT RMSE\", \\\n",
    "                                              \"MONO-LSTM RMSE\", \"EXO1-LSTM RMSE\", \"EXO2-LSTM RMSE\", \"EXO3-LSTM RMSE\",\\\n",
    "                                              \"DRIFT MAE\", \"MONO-LSTM MAE\",\\\n",
    "                                              \"EXO1-LSTM MAE\", \"EXO2-LSTM MAE\", \"EXO3-LSTM MAE\"])\n",
    "single_run_results_df"
   ]
  },
  {
   "cell_type": "code",
   "execution_count": 27,
   "metadata": {},
   "outputs": [
    {
     "data": {
      "text/html": [
       "<div>\n",
       "<style scoped>\n",
       "    .dataframe tbody tr th:only-of-type {\n",
       "        vertical-align: middle;\n",
       "    }\n",
       "\n",
       "    .dataframe tbody tr th {\n",
       "        vertical-align: top;\n",
       "    }\n",
       "\n",
       "    .dataframe thead th {\n",
       "        text-align: right;\n",
       "    }\n",
       "</style>\n",
       "<table border=\"1\" class=\"dataframe\">\n",
       "  <thead>\n",
       "    <tr style=\"text-align: right;\">\n",
       "      <th></th>\n",
       "      <th>DRIFT RMSE</th>\n",
       "      <th>MONO-LSTM RMSE</th>\n",
       "      <th>EXO3-LSTM RMSE</th>\n",
       "      <th>EXO3-LSTM-TWO RMSE</th>\n",
       "      <th>DRIFT MAE</th>\n",
       "      <th>MONO-LSTM MAE</th>\n",
       "      <th>EXO3-LSTM MAE</th>\n",
       "      <th>EXO3-LSTM-TWO MAE</th>\n",
       "    </tr>\n",
       "    <tr>\n",
       "      <th>Dataset</th>\n",
       "      <th></th>\n",
       "      <th></th>\n",
       "      <th></th>\n",
       "      <th></th>\n",
       "      <th></th>\n",
       "      <th></th>\n",
       "      <th></th>\n",
       "      <th></th>\n",
       "    </tr>\n",
       "  </thead>\n",
       "  <tbody>\n",
       "    <tr>\n",
       "      <th>Milan</th>\n",
       "      <td>475.461482</td>\n",
       "      <td>576.831358</td>\n",
       "      <td>343.941772</td>\n",
       "      <td>374.470262</td>\n",
       "      <td>284.260058</td>\n",
       "      <td>473.039464</td>\n",
       "      <td>210.803199</td>\n",
       "      <td>244.268519</td>\n",
       "    </tr>\n",
       "  </tbody>\n",
       "</table>\n",
       "</div>"
      ],
      "text/plain": [
       "         DRIFT RMSE  MONO-LSTM RMSE  EXO3-LSTM RMSE  EXO3-LSTM-TWO RMSE  \\\n",
       "Dataset                                                                   \n",
       "Milan    475.461482      576.831358      343.941772          374.470262   \n",
       "\n",
       "          DRIFT MAE  MONO-LSTM MAE  EXO3-LSTM MAE  EXO3-LSTM-TWO MAE  \n",
       "Dataset                                                               \n",
       "Milan    284.260058     473.039464     210.803199         244.268519  "
      ]
     },
     "execution_count": 27,
     "metadata": {},
     "output_type": "execute_result"
    }
   ],
   "source": [
    "# Aggregate results\n",
    "mean_results = single_run_results_df.copy(deep=True)\n",
    "mean_results = mean_results.groupby([\"Dataset\"]).agg(np.mean)\n",
    "mean_results"
   ]
  },
  {
   "cell_type": "code",
   "execution_count": null,
   "metadata": {},
   "outputs": [],
   "source": [
    "# Graphic comparison of error values: RMSE\n",
    "plt.figure(figsize=(10,8))\n",
    "plt.title(\"Comparison of RMSE Values of the forecasts\")\n",
    "ax = sns.scatterplot(x=mean_results.index, y=\"DRIFT RMSE\", data=mean_results, label=\"Drift\")\n",
    "#ax = sns.scatterplot(x=mean_results.index, y=\"SARIMA RMSE\", data=mean_results, label=\"SARIMA\")\n",
    "#ax = sns.scatterplot(x=mean_results.index, y=\"SARIMAX RMSE\", data=mean_results, label=\"SARIMAX\")\n",
    "ax = sns.scatterplot(x=mean_results.index, y=\"MONO-LSTM RMSE\", data=mean_results, label=\"MONOLSTM\")\n",
    "ax = sns.scatterplot(x=mean_results.index, y=\"EXO1-LSTM RMSE\", data=mean_results, label=\"EXO1-LSTM\")\n",
    "ax = sns.scatterplot(x=mean_results.index, y=\"EXO2-LSTM RMSE\", data=mean_results, label=\"EXO2-LSTM\")\n",
    "ax = sns.scatterplot(x=mean_results.index, y=\"EXO3-LSTM RMSE\", data=mean_results, label=\"EXO3-LSTM\")\n",
    "ax.set(ylabel=\"RMSE\")\n",
    "plt.show()\n",
    "\n",
    "# Graphic comparison of error values: MAE\n",
    "plt.figure(figsize=(10,8))\n",
    "plt.title(\"Comparison of MAE Values of the forecasts\")\n",
    "aax = sns.scatterplot(x=mean_results.index, y=\"DRIFT MAE\", data=mean_results, label=\"Drift\")\n",
    "#aax = sns.scatterplot(x=mean_results.index, y=\"SARIMA MAE\", data=mean_results, label=\"SARIMA\")\n",
    "#aax = sns.scatterplot(x=mean_results.index, y=\"SARIMAX MAE\", data=mean_results, label=\"SARIMAX\")\n",
    "aax = sns.scatterplot(x=mean_results.index, y=\"MONO-LSTM MAE\", data=mean_results, label=\"MONOLSTM\")\n",
    "aax = sns.scatterplot(x=mean_results.index, y=\"EXO1-LSTM MAE\", data=mean_results, label=\"EXO1-LSTM\")\n",
    "aax = sns.scatterplot(x=mean_results.index, y=\"EXO2-LSTM MAE\", data=mean_results, label=\"EXO2-LSTM\")\n",
    "aax = sns.scatterplot(x=mean_results.index, y=\"EXO3-LSTM MAE\", data=mean_results, label=\"EXO3-LSTM\")\n",
    "aax.set(ylabel=\"MAE\")\n",
    "plt.show()"
   ]
  },
  {
   "cell_type": "code",
   "execution_count": null,
   "metadata": {},
   "outputs": [],
   "source": []
  }
 ],
 "metadata": {
  "kernelspec": {
   "display_name": "Python 3",
   "language": "python",
   "name": "python3"
  },
  "language_info": {
   "codemirror_mode": {
    "name": "ipython",
    "version": 3
   },
   "file_extension": ".py",
   "mimetype": "text/x-python",
   "name": "python",
   "nbconvert_exporter": "python",
   "pygments_lexer": "ipython3",
   "version": "3.7.5"
  }
 },
 "nbformat": 4,
 "nbformat_minor": 4
}
