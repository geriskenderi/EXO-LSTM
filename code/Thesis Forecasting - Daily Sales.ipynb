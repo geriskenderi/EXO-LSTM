{
 "cells": [
  {
   "cell_type": "code",
   "execution_count": 39,
   "metadata": {
    "scrolled": true
   },
   "outputs": [],
   "source": [
    "# Imports from the helpers folder, containing the lstm code and auxilliary functions\n",
    "import sys  \n",
    "sys.path.insert(0, \"helpers/\")\n",
    "from lstm import Model, Optimization\n",
    "from aux_functions import (dateindex_from_weeknum, dateindex_from_timestamp, ts_train_test_split, \n",
    "                           cols_with_most_corr, lagged_corr, lagged_corr_matrix, \n",
    "                           cols_with_most_lagged_corr, calculate_pvalues, cols_with_sig_pval, corr_feature_selection)\n",
    "\n",
    "import pandas as pd\n",
    "import numpy as np\n",
    "import matplotlib.pyplot as plt\n",
    "import seaborn as sns\n",
    "import plotly.graph_objects as go\n",
    "import plotly.io as pltio\n",
    "import statsmodels.api as sm\n",
    "from datetime import datetime, timedelta\n",
    "# Packages of forecasting models\n",
    "from stldecompose import decompose, forecast\n",
    "from stldecompose.forecast_funcs import (naive, drift, mean, seasonal_naive)\n",
    "import pmdarima as pm\n",
    "import torch\n",
    "import torch.nn as nn\n",
    "import torch.nn.functional as F\n",
    "import torch.optim as optim"
   ]
  },
  {
   "cell_type": "markdown",
   "metadata": {},
   "source": [
    "# Load data"
   ]
  },
  {
   "cell_type": "code",
   "execution_count": 40,
   "metadata": {
    "scrolled": true
   },
   "outputs": [
    {
     "name": "stdout",
     "output_type": "stream",
     "text": [
      "Milan sales data: (1357, 1)\n",
      "            qty\n",
      "time           \n",
      "2016-04-14  119\n",
      "2016-04-15  119\n",
      "2016-04-16  206\n",
      "2016-04-17  211\n",
      "2016-04-18   85\n",
      "\n",
      "\n",
      "Turin sales data: (1460, 1)\n",
      "            qty\n",
      "time           \n",
      "2016-01-02  127\n",
      "2016-01-03  105\n",
      "2016-01-04   86\n",
      "2016-01-05  213\n",
      "2016-01-06  299\n",
      "\n",
      "\n",
      "Rome sales data: (1460, 1)\n",
      "            qty\n",
      "time           \n",
      "2016-01-02  110\n",
      "2016-01-03  115\n",
      "2016-01-04   86\n",
      "2016-01-05  371\n",
      "2016-01-06  294\n",
      "\n",
      "\n"
     ]
    }
   ],
   "source": [
    "# Daily sales data\n",
    "milan_data_df = pd.read_csv(\"../datasets/milan_daily.csv\", index_col=[0], parse_dates=True)\n",
    "turin_data_df = pd.read_csv(\"../datasets/turin_daily.csv\", index_col=[0], parse_dates=True)\n",
    "rome_data_df = pd.read_csv(\"../datasets/rome_daily.csv\", index_col=[0], parse_dates=True)\n",
    "\n",
    "print(\"Milan sales data:\", milan_data_df.shape)\n",
    "print(milan_data_df.head())\n",
    "print(\"\\n\")\n",
    "print(\"Turin sales data:\", turin_data_df.shape)\n",
    "print(turin_data_df.head())\n",
    "print(\"\\n\")\n",
    "print(\"Rome sales data:\", rome_data_df.shape)\n",
    "print(rome_data_df.head())\n",
    "print(\"\\n\")\n",
    "\n",
    "# Exogenous weather data\n",
    "parser = lambda date: datetime.strptime(date, '%d/%m/%Y')\n",
    "milan_weather_df = pd.read_csv(\"../datasets/Eso_data/weather/milano_weather_data.csv\", index_col=[1], parse_dates=True, date_parser=parser)\n",
    "turin_weather_df = pd.read_csv(\"../datasets/Eso_data/weather/torino_weather_data.csv\", index_col=[1], parse_dates=True, date_parser=parser)\n",
    "rome_weather_df = pd.read_csv(\"../datasets/Eso_data/weather/roma_weather_data.csv\", index_col=[1], parse_dates=True, date_parser=parser)"
   ]
  },
  {
   "cell_type": "code",
   "execution_count": 48,
   "metadata": {
    "scrolled": true
   },
   "outputs": [
    {
     "name": "stdout",
     "output_type": "stream",
     "text": [
      "Milan data original shape: (1357, 1)\n",
      "Milan + exogenous data shape: (1357, 14)\n",
      "Turin data original shape: (1460, 1)\n",
      "Turin + exogenous data shape: (1460, 14)\n",
      "Rome data original shape: (1460, 1)\n",
      "Rome + exogenous data shape: (1460, 14)\n"
     ]
    }
   ],
   "source": [
    "def augment_store_data (store_df, loc_weather_df):\n",
    "    ## STORE DATA\n",
    "    store_daily_totals = store_df.copy(deep=True)\n",
    "    # No pre-processing or cleaning needed, we are sure there are no missing values for each present day\n",
    "  \n",
    "    ## WEATHER DATA\n",
    "    # We won't be using the following cols (nan vals or categorical)\n",
    "    loc_weather_df = loc_weather_df.drop([\"LOCALITA\", \"PRESSIONEMEDIA mb\", \"PIOGGIA mm\", \"FENOMENI\"], axis=1)\n",
    "    loc_weather_df = loc_weather_df.loc[store_daily_totals.index[0]:,:]\n",
    "    \n",
    "    # Here we add exogenous data we run the train the network with and without these new data. \n",
    "    # If the prediction improves then we are looking at leading indicator and better forecast accuracy.\n",
    "    store_daily_weather_augmented = store_daily_totals.copy(deep=True)\n",
    "    day_yearly_nr = np.array(list(map(int, store_daily_totals.index.strftime('%j').tolist())))\n",
    "    nrm_days = day_yearly_nr/365\n",
    "    store_daily_weather_augmented[\"sin_day\"] =  np.sin((day_yearly_nr/365) * 2*np.pi)\n",
    "    store_daily_weather_augmented[\"cos_day\"] = np.cos((day_yearly_nr/365) * 2*np.pi)\n",
    "    store_daily_weather_augmented[\"sincos_day\"] = np.sin((day_yearly_nr/365) * 2*np.pi) * np.cos((day_yearly_nr/365) * 2*np.pi)\n",
    "    for w_col in loc_weather_df.columns:\n",
    "        store_daily_weather_augmented[w_col] = loc_weather_df.loc[:, w_col]\n",
    "   \n",
    "    # Find and replace NAN values in sales and replace them if they are present\n",
    "    nan_indices = store_daily_weather_augmented[loc_weather_df.isnull().any(axis=1)].index\n",
    "    for nan_idx in nan_indices:\n",
    "        n_days_before = nan_idx - timedelta(days=3)\n",
    "        before_nan = nan_idx - timedelta(days=1)\n",
    "        store_daily_weather_augmented.fillna(np.mean(store_daily_weather_augmented.loc[n_days_before:before_nan]), inplace=True)\n",
    "\n",
    "    return store_daily_totals, store_daily_weather_augmented\n",
    "\n",
    "# Augment single location sales data and then put everything together\n",
    "milan_daily_default, milan_daily_augmented = augment_store_data(milan_data_df, milan_weather_df)\n",
    "print(\"Milan data original shape:\", milan_daily_default.shape)\n",
    "print(\"Milan + exogenous data shape:\", milan_daily_augmented.shape)\n",
    "turin_daily_default, turin_daily_augmented = augment_store_data(turin_data_df, turin_weather_df)\n",
    "print(\"Turin data original shape:\", turin_daily_default.shape)\n",
    "print(\"Turin + exogenous data shape:\", turin_daily_augmented.shape)\n",
    "rome_daily_default, rome_daily_augmented = augment_store_data(rome_data_df, rome_weather_df)\n",
    "print(\"Rome data original shape:\", rome_daily_default.shape)\n",
    "print(\"Rome + exogenous data shape:\", rome_daily_augmented.shape)"
   ]
  },
  {
   "cell_type": "code",
   "execution_count": 51,
   "metadata": {
    "scrolled": true
   },
   "outputs": [],
   "source": [
    "## Create dicts for different store data\n",
    "datasets = {\n",
    "    \"Milan\": milan_daily_augmented,\n",
    "    \"Turin\": turin_daily_augmented, \n",
    "    \"Rome\": rome_daily_augmented\n",
    "}"
   ]
  },
  {
   "cell_type": "code",
   "execution_count": 52,
   "metadata": {},
   "outputs": [],
   "source": [
    "for dataset in datasets:\n",
    "    datasets[dataset].to_csv(dataset+\".csv\")"
   ]
  },
  {
   "cell_type": "markdown",
   "metadata": {},
   "source": [
    "# Data Visualization and Exploration "
   ]
  },
  {
   "cell_type": "code",
   "execution_count": 5,
   "metadata": {
    "scrolled": true
   },
   "outputs": [
    {
     "name": "stdout",
     "output_type": "stream",
     "text": [
      "Milan data \n",
      "\n",
      "[0.0, 0.2473, 0.0, 0.174, 0.0, 0.0, 0.0012, 0.0, 0.8919, 0.0026, 0.0003, 0.0137, 0.8859, 0.0]\n"
     ]
    },
    {
     "data": {
      "image/png": "[encoded data removed]",
      "text/plain": [
       "<Figure size 720x576 with 10 Axes>"
      ]
     },
     "metadata": {
      "needs_background": "light"
     },
     "output_type": "display_data"
    }
   ],
   "source": [
    "# Plot the data to explore and see what we are working with\n",
    "for dataset in datasets:\n",
    "    print(dataset, \"data \\n\")\n",
    "    # Plot the data with the most correlation to the sales we are trying to predict\n",
    "    # These are the features we will train the network on later\n",
    "    values = datasets[dataset].values\n",
    "    cols_to_plot = cols_with_sig_pval(datasets[dataset])\n",
    "    \n",
    "    i=1\n",
    "    plt.figure(figsize=(10,8))\n",
    "    for col in cols_to_plot:\n",
    "        plt.subplot(len(cols_to_plot), 1, i)\n",
    "        plt.plot(values[:, col], label=datasets[dataset].columns[col])\n",
    "        plt.legend()\n",
    "        i += 1\n",
    "    plt.show()"
   ]
  },
  {
   "cell_type": "markdown",
   "metadata": {},
   "source": [
    "# LSTM helper functions"
   ]
  },
  {
   "cell_type": "code",
   "execution_count": 6,
   "metadata": {
    "scrolled": true
   },
   "outputs": [],
   "source": [
    "def build_in_out_seq(tr_df, te_df, desired_input_features, in_len, out_len):\n",
    "    # Building the NN input and outputs. LSTM will expect a supervised learning problem, hence we need to build\n",
    "    # input sequences that will have output sequences which the model will then learn.\n",
    "    \n",
    "    # Training\n",
    "    inp_tr = np.stack([tr_df.shift(i).values for i in range(out_len, out_len+in_len)], axis=1)[out_len+in_len-1:, -1::-1, desired_input_features].copy()\n",
    "    out_tr = np.stack([tr_df.shift(i).values for i in range(out_len)], axis=1)[out_len+in_len-1:, -1::-1, desired_input_features].copy()\n",
    "    # Testing\n",
    "    inp_te = np.stack([te_df.shift(i).values for i in range(out_len, out_len+in_len)], axis=1)[out_len+in_len-1:, -1::-1, desired_input_features].copy()\n",
    "    out_te = np.stack([te_df.shift(i).values for i in range(out_len)], axis=1)[out_len+in_len-1:, -1::-1, desired_input_features].copy()\n",
    "    print(\"Inputs for training\")\n",
    "    print(inp_tr.shape)\n",
    "    print(\"Outputs for training\")\n",
    "    print(out_tr.shape)\n",
    "    print(\"Inputs for testing\")\n",
    "    print(inp_te.shape)\n",
    "    print(\"Outputs for testing\")\n",
    "    print(out_te.shape)\n",
    "    print(\"\\n\")\n",
    "    return inp_tr, out_tr, inp_te, out_te\n",
    "\n",
    "def prepare_for_network(train, test, input_features, in_len, out_len):\n",
    "    # Build the full training and testing dataframes\n",
    "    # In order to pass the data to the LSTM we need to transform it so it is in the range [0,1]\n",
    "    # We scale all our data in order to build the final training and test dataframes\n",
    "    \n",
    "    tr_df = train.copy(deep=True)\n",
    "    te_df = test.copy(deep=True)\n",
    "    \n",
    "    for col in tr_df.columns:\n",
    "        # Z standartization\n",
    "        mean = np.mean(train.loc[:,col].values)\n",
    "        std = np.std(train.loc[:,col].values)\n",
    "        \n",
    "        tr_df.loc[:, col] = (train.loc[:,col].values-mean)/std\n",
    "        te_df.loc[:, col] = (test.loc[:,col].values-mean)/std\n",
    "\n",
    "    # Prepare data for the LSTM Network: We need to create sequences of inputs and outputs\n",
    "    # so that our time series problem esentially becomes a \"supervised regression problem\".\n",
    "    inp_tr, out_tr, inp_te, out_te = build_in_out_seq(tr_df, te_df, input_features, in_len, out_len)\n",
    "    return inp_tr, out_tr, inp_te, out_te\n",
    "\n",
    "def define_LSTM_Model(input_features):\n",
    "    loss_fn = nn.MSELoss()\n",
    "    LSTM_Model = Model(input_size=len(input_features), hidden_size=256, output_size=len(input_features))\n",
    "    optimizer = optim.Adam(LSTM_Model.parameters(), lr=1e-3)\n",
    "    scheduler = optim.lr_scheduler.StepLR(optimizer=optimizer, step_size=25, gamma=0.1)\n",
    "    opt_obj = Optimization(LSTM_Model, loss_fn, optimizer, scheduler)\n",
    "    return LSTM_Model, opt_obj\n",
    "\n",
    "def check_lstm_forecast_results(pred, inp_te, out_te, mean, std, in_len, out_len):\n",
    "    # Rescales the data back to nrm vals first\n",
    "    pred_vec = (pred[:,-out_len:,0].detach().cpu().numpy() * std) + mean\n",
    "    real_vec = (out_te[:,:,0] * std) + mean\n",
    "    rmse = sm.tools.eval_measures.rmse(pred_vec, real_vec)\n",
    "    mae = sm.tools.eval_measures.meanabs(pred_vec, real_vec)\n",
    "    return rmse, mae\n",
    "\n",
    "def build_lstm_full_preds(out_sq, pred_seq, out_len, mean, std):\n",
    "    lstm_step_preds = []\n",
    "    for i in range(0, out_sq.shape[0], out_len):\n",
    "        #print((out_sq[i,:,0]*std)+mean)\n",
    "        #print(((pred_seq[i,-lstm_out_len:,0].detach().cpu().numpy()*std)+mean))\n",
    "        lstm_step_preds.extend(((pred_seq[i,-out_len:,0].detach().cpu().numpy()*std)+mean))\n",
    "          \n",
    "    lstm_step_preds.extend(((pred_seq[79,-9:,0].detach().cpu().numpy()*std)+mean))  \n",
    "    return lstm_step_preds\n",
    "\n",
    "def check_local_res(testset, preds, inp_te, out_te, mean, std, in_len, out_len):\n",
    "    \n",
    "    seq_nr = out_te.shape[0]\n",
    "    selected_seq = [0, int(seq_nr/2), seq_nr-1]\n",
    "    idx_for_seq = [testset.index[val:val+in_len+out_len] for val in selected_seq]\n",
    "    idx_for_seq\n",
    "    for i, seq in enumerate(selected_seq):\n",
    "        input_vec = (inp_te[seq,:,0]*std)+mean\n",
    "        real_vec = (out_te[seq,:,0]*std)+mean\n",
    "        full_gt_vec = input_vec.tolist()\n",
    "        full_gt_vec.extend(real_vec.tolist())\n",
    "\n",
    "        plt.figure(figsize=(16,8))\n",
    "        plt.plot(idx_for_seq[i], full_gt_vec, label=\"Train\")\n",
    "        plt.plot(idx_for_seq[i][in_len:], real_vec, label=\"Expected Output\")\n",
    "\n",
    "        for j, pred in enumerate(preds):\n",
    "            curr_pred = preds[j]\n",
    "            pred_vec = (curr_pred[seq,-out_len:,0].detach().cpu().numpy()*std)+mean\n",
    "            plt.plot(idx_for_seq[i][in_len:], pred_vec, label=\"Forecast \" + str(j))\n",
    "            rmse = sm.tools.eval_measures.rmse(real_vec, pred_vec)\n",
    "            mae = sm.tools.eval_measures.meanabs(real_vec, pred_vec)\n",
    "            print(\"Forecast \" + str(j) + \" RMSE and MAE\", rmse, mae)\n",
    "        plt.legend()\n",
    "        plt.show()\n",
    "\n",
    "        \n"
   ]
  },
  {
   "cell_type": "code",
   "execution_count": 30,
   "metadata": {
    "scrolled": true
   },
   "outputs": [],
   "source": [
    "milan_daily_augmented[\"day_of_week\"] = milan_daily_augmented.index.dayofweek\n",
    "## Get one hot encoding of columns B\n",
    "#one_hot_dow = pd.get_dummies(milan_daily_augmented['day_of_week'])\n",
    "#one_hot_dow\n",
    "## Drop column B as it is now encoded\n",
    "#milan_daily_augmented = milan_daily_augmented.drop('day_of_week',axis = 1)\n",
    "## Join the encoded df\n",
    "#milan_daily_augmented = milan_daily_augmented.join(one_hot_dow)\n",
    "#milan_daily_augmented"
   ]
  },
  {
   "cell_type": "code",
   "execution_count": 31,
   "metadata": {
    "scrolled": true
   },
   "outputs": [
    {
     "data": {
      "text/html": [
       "<div>\n",
       "<style scoped>\n",
       "    .dataframe tbody tr th:only-of-type {\n",
       "        vertical-align: middle;\n",
       "    }\n",
       "\n",
       "    .dataframe tbody tr th {\n",
       "        vertical-align: top;\n",
       "    }\n",
       "\n",
       "    .dataframe thead th {\n",
       "        text-align: right;\n",
       "    }\n",
       "</style>\n",
       "<table border=\"1\" class=\"dataframe\">\n",
       "  <thead>\n",
       "    <tr style=\"text-align: right;\">\n",
       "      <th></th>\n",
       "      <th>qty</th>\n",
       "      <th>sin_day</th>\n",
       "      <th>cos_day</th>\n",
       "      <th>sincos_day</th>\n",
       "      <th>TMEDIA °C</th>\n",
       "      <th>TMIN °C</th>\n",
       "      <th>TMAX °C</th>\n",
       "      <th>PUNTORUGIADA °C</th>\n",
       "      <th>UMIDITA %</th>\n",
       "      <th>VISIBILITA km</th>\n",
       "      <th>...</th>\n",
       "      <th>RAFFICA km/h</th>\n",
       "      <th>PRESSIONESLM mb</th>\n",
       "      <th>0</th>\n",
       "      <th>1</th>\n",
       "      <th>2</th>\n",
       "      <th>3</th>\n",
       "      <th>4</th>\n",
       "      <th>5</th>\n",
       "      <th>6</th>\n",
       "      <th>day_of_week</th>\n",
       "    </tr>\n",
       "    <tr>\n",
       "      <th>time</th>\n",
       "      <th></th>\n",
       "      <th></th>\n",
       "      <th></th>\n",
       "      <th></th>\n",
       "      <th></th>\n",
       "      <th></th>\n",
       "      <th></th>\n",
       "      <th></th>\n",
       "      <th></th>\n",
       "      <th></th>\n",
       "      <th></th>\n",
       "      <th></th>\n",
       "      <th></th>\n",
       "      <th></th>\n",
       "      <th></th>\n",
       "      <th></th>\n",
       "      <th></th>\n",
       "      <th></th>\n",
       "      <th></th>\n",
       "      <th></th>\n",
       "      <th></th>\n",
       "    </tr>\n",
       "  </thead>\n",
       "  <tbody>\n",
       "    <tr>\n",
       "      <th>2016-04-14</th>\n",
       "      <td>119</td>\n",
       "      <td>9.721182e-01</td>\n",
       "      <td>-0.234491</td>\n",
       "      <td>-2.279533e-01</td>\n",
       "      <td>17.0</td>\n",
       "      <td>11.0</td>\n",
       "      <td>24.0</td>\n",
       "      <td>8.0</td>\n",
       "      <td>58.0</td>\n",
       "      <td>10.0</td>\n",
       "      <td>...</td>\n",
       "      <td>0.0</td>\n",
       "      <td>1008.0</td>\n",
       "      <td>0</td>\n",
       "      <td>0</td>\n",
       "      <td>0</td>\n",
       "      <td>1</td>\n",
       "      <td>0</td>\n",
       "      <td>0</td>\n",
       "      <td>0</td>\n",
       "      <td>3</td>\n",
       "    </tr>\n",
       "    <tr>\n",
       "      <th>2016-04-15</th>\n",
       "      <td>119</td>\n",
       "      <td>9.679378e-01</td>\n",
       "      <td>-0.251190</td>\n",
       "      <td>-2.431364e-01</td>\n",
       "      <td>16.0</td>\n",
       "      <td>12.0</td>\n",
       "      <td>20.0</td>\n",
       "      <td>8.0</td>\n",
       "      <td>57.0</td>\n",
       "      <td>10.0</td>\n",
       "      <td>...</td>\n",
       "      <td>0.0</td>\n",
       "      <td>1012.0</td>\n",
       "      <td>0</td>\n",
       "      <td>0</td>\n",
       "      <td>0</td>\n",
       "      <td>0</td>\n",
       "      <td>1</td>\n",
       "      <td>0</td>\n",
       "      <td>0</td>\n",
       "      <td>4</td>\n",
       "    </tr>\n",
       "    <tr>\n",
       "      <th>2016-04-16</th>\n",
       "      <td>206</td>\n",
       "      <td>9.634705e-01</td>\n",
       "      <td>-0.267814</td>\n",
       "      <td>-2.580312e-01</td>\n",
       "      <td>17.0</td>\n",
       "      <td>11.0</td>\n",
       "      <td>21.0</td>\n",
       "      <td>7.0</td>\n",
       "      <td>53.0</td>\n",
       "      <td>10.0</td>\n",
       "      <td>...</td>\n",
       "      <td>0.0</td>\n",
       "      <td>1011.0</td>\n",
       "      <td>0</td>\n",
       "      <td>0</td>\n",
       "      <td>0</td>\n",
       "      <td>0</td>\n",
       "      <td>0</td>\n",
       "      <td>1</td>\n",
       "      <td>0</td>\n",
       "      <td>5</td>\n",
       "    </tr>\n",
       "    <tr>\n",
       "      <th>2016-04-17</th>\n",
       "      <td>211</td>\n",
       "      <td>9.587178e-01</td>\n",
       "      <td>-0.284359</td>\n",
       "      <td>-2.726202e-01</td>\n",
       "      <td>17.0</td>\n",
       "      <td>14.0</td>\n",
       "      <td>21.0</td>\n",
       "      <td>11.0</td>\n",
       "      <td>65.0</td>\n",
       "      <td>10.0</td>\n",
       "      <td>...</td>\n",
       "      <td>0.0</td>\n",
       "      <td>1010.0</td>\n",
       "      <td>0</td>\n",
       "      <td>0</td>\n",
       "      <td>0</td>\n",
       "      <td>0</td>\n",
       "      <td>0</td>\n",
       "      <td>0</td>\n",
       "      <td>1</td>\n",
       "      <td>6</td>\n",
       "    </tr>\n",
       "    <tr>\n",
       "      <th>2016-04-18</th>\n",
       "      <td>85</td>\n",
       "      <td>9.536810e-01</td>\n",
       "      <td>-0.300820</td>\n",
       "      <td>-2.868861e-01</td>\n",
       "      <td>17.0</td>\n",
       "      <td>13.0</td>\n",
       "      <td>23.0</td>\n",
       "      <td>8.0</td>\n",
       "      <td>57.0</td>\n",
       "      <td>10.0</td>\n",
       "      <td>...</td>\n",
       "      <td>33.0</td>\n",
       "      <td>1011.0</td>\n",
       "      <td>1</td>\n",
       "      <td>0</td>\n",
       "      <td>0</td>\n",
       "      <td>0</td>\n",
       "      <td>0</td>\n",
       "      <td>0</td>\n",
       "      <td>0</td>\n",
       "      <td>0</td>\n",
       "    </tr>\n",
       "    <tr>\n",
       "      <th>...</th>\n",
       "      <td>...</td>\n",
       "      <td>...</td>\n",
       "      <td>...</td>\n",
       "      <td>...</td>\n",
       "      <td>...</td>\n",
       "      <td>...</td>\n",
       "      <td>...</td>\n",
       "      <td>...</td>\n",
       "      <td>...</td>\n",
       "      <td>...</td>\n",
       "      <td>...</td>\n",
       "      <td>...</td>\n",
       "      <td>...</td>\n",
       "      <td>...</td>\n",
       "      <td>...</td>\n",
       "      <td>...</td>\n",
       "      <td>...</td>\n",
       "      <td>...</td>\n",
       "      <td>...</td>\n",
       "      <td>...</td>\n",
       "      <td>...</td>\n",
       "    </tr>\n",
       "    <tr>\n",
       "      <th>2019-12-27</th>\n",
       "      <td>194</td>\n",
       "      <td>-6.880243e-02</td>\n",
       "      <td>0.997630</td>\n",
       "      <td>-6.863939e-02</td>\n",
       "      <td>3.0</td>\n",
       "      <td>0.0</td>\n",
       "      <td>10.0</td>\n",
       "      <td>2.0</td>\n",
       "      <td>85.0</td>\n",
       "      <td>17.0</td>\n",
       "      <td>...</td>\n",
       "      <td>0.0</td>\n",
       "      <td>1023.0</td>\n",
       "      <td>0</td>\n",
       "      <td>0</td>\n",
       "      <td>0</td>\n",
       "      <td>0</td>\n",
       "      <td>1</td>\n",
       "      <td>0</td>\n",
       "      <td>0</td>\n",
       "      <td>4</td>\n",
       "    </tr>\n",
       "    <tr>\n",
       "      <th>2019-12-28</th>\n",
       "      <td>228</td>\n",
       "      <td>-5.161967e-02</td>\n",
       "      <td>0.998667</td>\n",
       "      <td>-5.155085e-02</td>\n",
       "      <td>3.0</td>\n",
       "      <td>0.0</td>\n",
       "      <td>9.0</td>\n",
       "      <td>2.0</td>\n",
       "      <td>87.0</td>\n",
       "      <td>16.0</td>\n",
       "      <td>...</td>\n",
       "      <td>0.0</td>\n",
       "      <td>1030.0</td>\n",
       "      <td>0</td>\n",
       "      <td>0</td>\n",
       "      <td>0</td>\n",
       "      <td>0</td>\n",
       "      <td>0</td>\n",
       "      <td>1</td>\n",
       "      <td>0</td>\n",
       "      <td>5</td>\n",
       "    </tr>\n",
       "    <tr>\n",
       "      <th>2019-12-29</th>\n",
       "      <td>233</td>\n",
       "      <td>-3.442161e-02</td>\n",
       "      <td>0.999407</td>\n",
       "      <td>-3.440121e-02</td>\n",
       "      <td>2.0</td>\n",
       "      <td>0.0</td>\n",
       "      <td>6.0</td>\n",
       "      <td>3.0</td>\n",
       "      <td>97.0</td>\n",
       "      <td>1.0</td>\n",
       "      <td>...</td>\n",
       "      <td>0.0</td>\n",
       "      <td>1034.0</td>\n",
       "      <td>0</td>\n",
       "      <td>0</td>\n",
       "      <td>0</td>\n",
       "      <td>0</td>\n",
       "      <td>0</td>\n",
       "      <td>0</td>\n",
       "      <td>1</td>\n",
       "      <td>6</td>\n",
       "    </tr>\n",
       "    <tr>\n",
       "      <th>2019-12-30</th>\n",
       "      <td>196</td>\n",
       "      <td>-1.721336e-02</td>\n",
       "      <td>0.999852</td>\n",
       "      <td>-1.721081e-02</td>\n",
       "      <td>4.0</td>\n",
       "      <td>1.0</td>\n",
       "      <td>6.0</td>\n",
       "      <td>2.0</td>\n",
       "      <td>86.0</td>\n",
       "      <td>9.0</td>\n",
       "      <td>...</td>\n",
       "      <td>0.0</td>\n",
       "      <td>1036.0</td>\n",
       "      <td>1</td>\n",
       "      <td>0</td>\n",
       "      <td>0</td>\n",
       "      <td>0</td>\n",
       "      <td>0</td>\n",
       "      <td>0</td>\n",
       "      <td>0</td>\n",
       "      <td>0</td>\n",
       "    </tr>\n",
       "    <tr>\n",
       "      <th>2019-12-31</th>\n",
       "      <td>106</td>\n",
       "      <td>-2.449294e-16</td>\n",
       "      <td>1.000000</td>\n",
       "      <td>-2.449294e-16</td>\n",
       "      <td>3.0</td>\n",
       "      <td>-1.0</td>\n",
       "      <td>8.0</td>\n",
       "      <td>2.0</td>\n",
       "      <td>88.0</td>\n",
       "      <td>10.0</td>\n",
       "      <td>...</td>\n",
       "      <td>0.0</td>\n",
       "      <td>1031.0</td>\n",
       "      <td>0</td>\n",
       "      <td>1</td>\n",
       "      <td>0</td>\n",
       "      <td>0</td>\n",
       "      <td>0</td>\n",
       "      <td>0</td>\n",
       "      <td>0</td>\n",
       "      <td>1</td>\n",
       "    </tr>\n",
       "  </tbody>\n",
       "</table>\n",
       "<p>1357 rows × 22 columns</p>\n",
       "</div>"
      ],
      "text/plain": [
       "            qty       sin_day   cos_day    sincos_day  TMEDIA °C  TMIN °C  \\\n",
       "time                                                                        \n",
       "2016-04-14  119  9.721182e-01 -0.234491 -2.279533e-01       17.0     11.0   \n",
       "2016-04-15  119  9.679378e-01 -0.251190 -2.431364e-01       16.0     12.0   \n",
       "2016-04-16  206  9.634705e-01 -0.267814 -2.580312e-01       17.0     11.0   \n",
       "2016-04-17  211  9.587178e-01 -0.284359 -2.726202e-01       17.0     14.0   \n",
       "2016-04-18   85  9.536810e-01 -0.300820 -2.868861e-01       17.0     13.0   \n",
       "...         ...           ...       ...           ...        ...      ...   \n",
       "2019-12-27  194 -6.880243e-02  0.997630 -6.863939e-02        3.0      0.0   \n",
       "2019-12-28  228 -5.161967e-02  0.998667 -5.155085e-02        3.0      0.0   \n",
       "2019-12-29  233 -3.442161e-02  0.999407 -3.440121e-02        2.0      0.0   \n",
       "2019-12-30  196 -1.721336e-02  0.999852 -1.721081e-02        4.0      1.0   \n",
       "2019-12-31  106 -2.449294e-16  1.000000 -2.449294e-16        3.0     -1.0   \n",
       "\n",
       "            TMAX °C  PUNTORUGIADA °C  UMIDITA %  VISIBILITA km  ...  \\\n",
       "time                                                            ...   \n",
       "2016-04-14     24.0              8.0       58.0           10.0  ...   \n",
       "2016-04-15     20.0              8.0       57.0           10.0  ...   \n",
       "2016-04-16     21.0              7.0       53.0           10.0  ...   \n",
       "2016-04-17     21.0             11.0       65.0           10.0  ...   \n",
       "2016-04-18     23.0              8.0       57.0           10.0  ...   \n",
       "...             ...              ...        ...            ...  ...   \n",
       "2019-12-27     10.0              2.0       85.0           17.0  ...   \n",
       "2019-12-28      9.0              2.0       87.0           16.0  ...   \n",
       "2019-12-29      6.0              3.0       97.0            1.0  ...   \n",
       "2019-12-30      6.0              2.0       86.0            9.0  ...   \n",
       "2019-12-31      8.0              2.0       88.0           10.0  ...   \n",
       "\n",
       "            RAFFICA km/h  PRESSIONESLM mb  0  1  2  3  4  5  6  day_of_week  \n",
       "time                                                                         \n",
       "2016-04-14           0.0           1008.0  0  0  0  1  0  0  0            3  \n",
       "2016-04-15           0.0           1012.0  0  0  0  0  1  0  0            4  \n",
       "2016-04-16           0.0           1011.0  0  0  0  0  0  1  0            5  \n",
       "2016-04-17           0.0           1010.0  0  0  0  0  0  0  1            6  \n",
       "2016-04-18          33.0           1011.0  1  0  0  0  0  0  0            0  \n",
       "...                  ...              ... .. .. .. .. .. .. ..          ...  \n",
       "2019-12-27           0.0           1023.0  0  0  0  0  1  0  0            4  \n",
       "2019-12-28           0.0           1030.0  0  0  0  0  0  1  0            5  \n",
       "2019-12-29           0.0           1034.0  0  0  0  0  0  0  1            6  \n",
       "2019-12-30           0.0           1036.0  1  0  0  0  0  0  0            0  \n",
       "2019-12-31           0.0           1031.0  0  1  0  0  0  0  0            1  \n",
       "\n",
       "[1357 rows x 22 columns]"
      ]
     },
     "execution_count": 31,
     "metadata": {},
     "output_type": "execute_result"
    }
   ],
   "source": [
    "milan_daily_augmented"
   ]
  },
  {
   "cell_type": "markdown",
   "metadata": {},
   "source": [
    "# Forecasting evaluation"
   ]
  },
  {
   "cell_type": "code",
   "execution_count": 38,
   "metadata": {
    "scrolled": false
   },
   "outputs": [
    {
     "name": "stdout",
     "output_type": "stream",
     "text": [
      "Run # 1\n",
      "(1222, 22) (135, 22)\n",
      "MONO-LSTM input features: [0]\n",
      "EXO1 (+ sincos day) input features : [0, 3, 21]\n",
      "\n",
      "Inputs for training\n",
      "(1167, 42, 1)\n",
      "Outputs for training\n",
      "(1167, 14, 1)\n",
      "Inputs for testing\n",
      "(80, 42, 1)\n",
      "Outputs for testing\n",
      "(80, 14, 1)\n",
      "\n",
      "\n",
      "Inputs for training\n",
      "(1167, 42, 3)\n",
      "Outputs for training\n",
      "(1167, 14, 3)\n",
      "Inputs for testing\n",
      "(80, 42, 3)\n",
      "Outputs for testing\n",
      "(80, 14, 3)\n",
      "\n",
      "\n",
      "Inputs for training\n",
      "(1167, 42, 11)\n",
      "Outputs for training\n",
      "(1167, 14, 11)\n",
      "Inputs for testing\n",
      "(80, 42, 11)\n",
      "Outputs for testing\n",
      "(80, 14, 11)\n",
      "\n",
      "\n",
      "Training the MONO-LSTM model...\n",
      "Epoch 1 Train loss: 0.97. Validation loss: 0.86. Avg future: 13.56. Elapsed time: 6.57s.\n",
      "Epoch 2 Train loss: 0.90. Validation loss: 0.86. Avg future: 15.39. Elapsed time: 5.88s.\n",
      "Epoch 3 Train loss: 0.85. Validation loss: 0.82. Avg future: 15.11. Elapsed time: 5.46s.\n",
      "Epoch 4 Train loss: 0.78. Validation loss: 0.78. Avg future: 12.94. Elapsed time: 5.00s.\n",
      "Epoch 5 Train loss: 0.76. Validation loss: 0.76. Avg future: 14.61. Elapsed time: 5.02s.\n",
      "Epoch 6 Train loss: 0.73. Validation loss: 0.74. Avg future: 9.78. Elapsed time: 4.97s.\n",
      "Epoch 7 Train loss: 0.72. Validation loss: 0.70. Avg future: 11.67. Elapsed time: 5.00s.\n",
      "Epoch 8 Train loss: 0.67. Validation loss: 0.66. Avg future: 16.28. Elapsed time: 4.98s.\n",
      "Epoch 9 Train loss: 0.60. Validation loss: 0.56. Avg future: 14.33. Elapsed time: 5.55s.\n",
      "Epoch 10 Train loss: 0.49. Validation loss: 0.48. Avg future: 16.39. Elapsed time: 5.02s.\n",
      "Epoch 11 Train loss: 0.44. Validation loss: 0.42. Avg future: 17.17. Elapsed time: 4.98s.\n",
      "Epoch 12 Train loss: 0.44. Validation loss: 0.40. Avg future: 12.61. Elapsed time: 5.43s.\n",
      "Epoch 13 Train loss: 0.41. Validation loss: 0.40. Avg future: 14.39. Elapsed time: 5.01s.\n",
      "Epoch 14 Train loss: 0.40. Validation loss: 0.39. Avg future: 14.72. Elapsed time: 5.03s.\n",
      "Epoch 15 Train loss: 0.38. Validation loss: 0.37. Avg future: 14.89. Elapsed time: 4.98s.\n",
      "Epoch 16 Train loss: 0.38. Validation loss: 0.37. Avg future: 12.67. Elapsed time: 5.01s.\n",
      "Epoch 17 Train loss: 0.37. Validation loss: 0.36. Avg future: 14.39. Elapsed time: 4.98s.\n",
      "Epoch 18 Train loss: 0.39. Validation loss: 0.37. Avg future: 15.94. Elapsed time: 4.99s.\n",
      "Epoch 19 Train loss: 0.38. Validation loss: 0.35. Avg future: 16.28. Elapsed time: 5.02s.\n",
      "Epoch 20 Train loss: 0.37. Validation loss: 0.37. Avg future: 15.72. Elapsed time: 5.06s.\n",
      "Done\n",
      "\n",
      "Training the EXO2-LSTM model...\n",
      "Epoch 1 Train loss: 0.91. Validation loss: 0.73. Avg future: 17.56. Elapsed time: 5.19s.\n",
      "Epoch 2 Train loss: 0.70. Validation loss: 0.65. Avg future: 12.39. Elapsed time: 5.24s.\n",
      "Epoch 3 Train loss: 0.64. Validation loss: 0.62. Avg future: 14.78. Elapsed time: 5.22s.\n",
      "Epoch 4 Train loss: 0.61. Validation loss: 0.59. Avg future: 15.56. Elapsed time: 5.23s.\n",
      "Epoch 5 Train loss: 0.59. Validation loss: 0.57. Avg future: 14.78. Elapsed time: 5.19s.\n",
      "Epoch 6 Train loss: 0.57. Validation loss: 0.56. Avg future: 12.72. Elapsed time: 5.55s.\n",
      "Epoch 7 Train loss: 0.55. Validation loss: 0.55. Avg future: 14.44. Elapsed time: 5.23s.\n",
      "Epoch 8 Train loss: 0.55. Validation loss: 0.54. Avg future: 14.39. Elapsed time: 5.21s.\n",
      "Epoch 9 Train loss: 0.53. Validation loss: 0.53. Avg future: 10.78. Elapsed time: 5.20s.\n",
      "Epoch 10 Train loss: 0.52. Validation loss: 0.52. Avg future: 13.50. Elapsed time: 5.21s.\n",
      "Epoch 11 Train loss: 0.51. Validation loss: 0.52. Avg future: 11.28. Elapsed time: 5.21s.\n",
      "Epoch 12 Train loss: 0.51. Validation loss: 0.52. Avg future: 14.72. Elapsed time: 5.24s.\n",
      "Epoch 13 Train loss: 0.51. Validation loss: 0.51. Avg future: 10.89. Elapsed time: 5.25s.\n",
      "Epoch 14 Train loss: 0.50. Validation loss: 0.50. Avg future: 15.06. Elapsed time: 5.31s.\n",
      "Epoch 15 Train loss: 0.49. Validation loss: 0.50. Avg future: 14.83. Elapsed time: 5.43s.\n",
      "Epoch 16 Train loss: 0.49. Validation loss: 0.50. Avg future: 13.56. Elapsed time: 5.24s.\n",
      "Epoch 17 Train loss: 0.49. Validation loss: 0.50. Avg future: 16.61. Elapsed time: 5.31s.\n",
      "Epoch 18 Train loss: 0.48. Validation loss: 0.49. Avg future: 13.11. Elapsed time: 5.65s.\n",
      "Epoch 19 Train loss: 0.47. Validation loss: 0.49. Avg future: 18.17. Elapsed time: 5.46s.\n",
      "Epoch 20 Train loss: 0.48. Validation loss: 0.49. Avg future: 12.72. Elapsed time: 5.45s.\n",
      "Done\n",
      "\n"
     ]
    },
    {
     "data": {
      "application/vnd.plotly.v1+json": {
       "config": {
        "plotlyServerURL": "https://plot.ly"
       },
       "data": [
        {
         "mode": "lines",
         "name": "GT",
         "type": "scatter",
         "x": [
          0,
          1,
          2,
          3,
          4,
          5,
          6,
          7,
          8,
          9,
          10,
          11,
          12,
          13,
          14,
          15,
          16,
          17,
          18,
          19,
          20,
          21,
          22,
          23,
          24,
          25,
          26,
          27,
          28,
          29,
          30,
          31,
          32,
          33,
          34,
          35,
          36,
          37,
          38,
          39,
          40,
          41,
          42,
          43,
          44,
          45,
          46,
          47,
          48,
          49,
          50,
          51,
          52,
          53,
          54,
          55,
          56,
          57,
          58,
          59,
          60,
          61,
          62,
          63,
          64,
          65,
          66,
          67,
          68,
          69,
          70,
          71,
          72,
          73,
          74,
          75,
          76,
          77,
          78,
          79,
          80,
          81,
          82,
          83,
          84,
          85,
          86,
          87,
          88,
          89,
          90,
          91,
          92,
          93,
          94,
          95,
          96,
          97,
          98,
          99,
          100,
          101,
          102,
          103,
          104,
          105,
          106,
          107,
          108,
          109,
          110,
          111,
          112,
          113,
          114,
          115,
          116,
          117,
          118,
          119,
          120,
          121,
          122,
          123,
          124,
          125,
          126,
          127,
          128,
          129,
          130,
          131,
          132,
          133,
          134
         ],
         "y": [
          117,
          149,
          150,
          142,
          125,
          161,
          97,
          81,
          101,
          110,
          121,
          120,
          170,
          133,
          92,
          91,
          106,
          77,
          115,
          227,
          200,
          118,
          108,
          94,
          112,
          108,
          235,
          238,
          117,
          86,
          70,
          88,
          132,
          225,
          284,
          100,
          90,
          87,
          113,
          107,
          247,
          198,
          89,
          78,
          100,
          106,
          136,
          254,
          283,
          121,
          143,
          125,
          179,
          135,
          309,
          287,
          122,
          141,
          171,
          171,
          206,
          362,
          367,
          156,
          105,
          118,
          155,
          158,
          298,
          277,
          134,
          108,
          112,
          143,
          383,
          398,
          269,
          157,
          102,
          88,
          117,
          132,
          277,
          284,
          133,
          85,
          123,
          112,
          133,
          248,
          262,
          93,
          102,
          101,
          117,
          151,
          271,
          317,
          101,
          135,
          87,
          289,
          486,
          448,
          480,
          196,
          108,
          94,
          132,
          176,
          287,
          302,
          195,
          171,
          199,
          186,
          228,
          298,
          350,
          254,
          239,
          171,
          212,
          201,
          279,
          285,
          280,
          107,
          0,
          0,
          194,
          228,
          233,
          196,
          106
         ]
        },
        {
         "mode": "lines",
         "name": "MONO-LSTM 74.47",
         "type": "scatter",
         "x": [
          42,
          43,
          44,
          45,
          46,
          47,
          48,
          49,
          50,
          51,
          52,
          53,
          54,
          55,
          56,
          57,
          58,
          59,
          60,
          61,
          62,
          63,
          64,
          65,
          66,
          67,
          68,
          69,
          70,
          71,
          72,
          73,
          74,
          75,
          76,
          77,
          78,
          79,
          80,
          81,
          82,
          83,
          84,
          85,
          86,
          87,
          88,
          89,
          90,
          91,
          92,
          93,
          94,
          95,
          96,
          97,
          98,
          99,
          100,
          101,
          102,
          103,
          104,
          105,
          106,
          107,
          108,
          109,
          110,
          111,
          112,
          113,
          114,
          115,
          116,
          117,
          118,
          119,
          120,
          121,
          122,
          123,
          124,
          125,
          126,
          127,
          128,
          129,
          130,
          131,
          132,
          133,
          134
         ],
         "y": [
          92.10022735595703,
          102.44583129882812,
          106.88206481933594,
          137.31788635253906,
          216.09469604492188,
          241.1101531982422,
          141.26419067382812,
          104.56343078613281,
          109.99078369140625,
          111.14690399169922,
          134.6300811767578,
          215.17933654785156,
          262.48681640625,
          163.53919982910156,
          131.4615020751953,
          135.71693420410156,
          132.71498107910156,
          154.79515075683594,
          247.46095275878906,
          304.523681640625,
          191.05653381347656,
          135.70375061035156,
          137.43832397460938,
          134.82354736328125,
          146.1580810546875,
          222.94537353515625,
          308.66937255859375,
          227.08311462402344,
          133.92855834960938,
          139.627685546875,
          138.27671813964844,
          158.49598693847656,
          244.30284118652344,
          305.1907043457031,
          200.70167541503906,
          139.7169189453125,
          139.4608612060547,
          136.75787353515625,
          145.8616943359375,
          218.88890075683594,
          310.4449462890625,
          237.75262451171875,
          124.69290161132812,
          131.67318725585938,
          130.30044555664062,
          151.64236450195312,
          239.27032470703125,
          296.58428955078125,
          189.48306274414062,
          132.3443145751953,
          133.78567504882812,
          131.76181030273438,
          142.85421752929688,
          217.30712890625,
          302.83441162109375,
          225.44290161132812,
          130.21530151367188,
          132.67938232421875,
          129.20635986328125,
          142.3467559814453,
          224.7533416748047,
          306.16705322265625,
          214.43060302734375,
          136.80899047851562,
          134.70729064941406,
          134.00379943847656,
          137.89268493652344,
          197.4507598876953,
          299.08154296875,
          257.9765625,
          149.55914306640625,
          151.27471923828125,
          149.78477478027344,
          159.09242248535156,
          228.77151489257812,
          319.2078552246094,
          250.65621948242188,
          156.7907257080078,
          147.1767578125,
          145.84092712402344,
          144.30801391601562,
          193.33584594726562,
          305.688232421875,
          292.627197265625,
          191.27313232421875,
          173.18276977539062,
          169.99696350097656,
          161.6488037109375,
          198.9171600341797,
          322.8019104003906,
          342.3956604003906,
          197.69297790527344,
          162.272216796875
         ]
        },
        {
         "mode": "lines",
         "name": "EXO2-LSTM 104.22",
         "type": "scatter",
         "x": [
          42,
          43,
          44,
          45,
          46,
          47,
          48,
          49,
          50,
          51,
          52,
          53,
          54,
          55,
          56,
          57,
          58,
          59,
          60,
          61,
          62,
          63,
          64,
          65,
          66,
          67,
          68,
          69,
          70,
          71,
          72,
          73,
          74,
          75,
          76,
          77,
          78,
          79,
          80,
          81,
          82,
          83,
          84,
          85,
          86,
          87,
          88,
          89,
          90,
          91,
          92,
          93,
          94,
          95,
          96,
          97,
          98,
          99,
          100,
          101,
          102,
          103,
          104,
          105,
          106,
          107,
          108,
          109,
          110,
          111,
          112,
          113,
          114,
          115,
          116,
          117,
          118,
          119,
          120,
          121,
          122,
          123,
          124,
          125,
          126,
          127,
          128,
          129,
          130,
          131,
          132,
          133,
          134
         ],
         "y": [
          98.02672576904297,
          102.97035217285156,
          115.64530944824219,
          162.8767852783203,
          249.83511352539062,
          258.7174377441406,
          117.91378784179688,
          114.9736557006836,
          120.81871032714844,
          135.21786499023438,
          186.48573303222656,
          280.06878662109375,
          291.5600280761719,
          138.11891174316406,
          129.04681396484375,
          134.436767578125,
          150.92355346679688,
          205.19564819335938,
          299.68280029296875,
          307.86944580078125,
          149.57052612304688,
          137.33775329589844,
          142.88099670410156,
          159.68045043945312,
          214.98410034179688,
          312.22625732421875,
          323.68145751953125,
          159.91358947753906,
          121.95491027832031,
          125.59262084960938,
          141.47042846679688,
          192.689697265625,
          278.30572509765625,
          279.2330017089844,
          133.15834045410156,
          122.41231536865234,
          126.47821044921875,
          142.57826232910156,
          194.05580139160156,
          281.07000732421875,
          284.7913818359375,
          136.93516540527344,
          113.81538391113281,
          115.96717834472656,
          131.04080200195312,
          179.76168823242188,
          259.6369934082031,
          257.4154968261719,
          120.44931030273438,
          111.83323669433594,
          115.14432525634766,
          130.88888549804688,
          180.2449951171875,
          261.5267639160156,
          260.9949645996094,
          123.09264373779297,
          117.38744354248047,
          119.48469543457031,
          134.70948791503906,
          184.37066650390625,
          265.54986572265625,
          262.1327209472656,
          122.91456604003906,
          113.86328125,
          117.39317321777344,
          133.28671264648438,
          183.17111206054688,
          265.4288330078125,
          264.91363525390625,
          125.35493469238281,
          127.82730865478516,
          131.91668701171875,
          148.12310791015625,
          200.39633178710938,
          289.0171203613281,
          293.1600341796875,
          141.8709259033203,
          129.53573608398438,
          134.0205535888672,
          150.371337890625,
          203.24130249023438,
          294.22119140625,
          301.6412353515625,
          147.07107543945312,
          169.06387329101562,
          173.180908203125,
          190.44801330566406,
          250.10829162597656,
          356.9294738769531,
          374.910888671875,
          192.63446044921875,
          169.52120971679688,
          174.76504516601562
         ]
        }
       ],
       "layout": {
        "font": {
         "color": "#7f7f7f",
         "family": "Courier New, monospace",
         "size": 16
        },
        "template": {
         "data": {
          "bar": [
           {
            "error_x": {
             "color": "#2a3f5f"
            },
            "error_y": {
             "color": "#2a3f5f"
            },
            "marker": {
             "line": {
              "color": "#E5ECF6",
              "width": 0.5
             }
            },
            "type": "bar"
           }
          ],
          "barpolar": [
           {
            "marker": {
             "line": {
              "color": "#E5ECF6",
              "width": 0.5
             }
            },
            "type": "barpolar"
           }
          ],
          "carpet": [
           {
            "aaxis": {
             "endlinecolor": "#2a3f5f",
             "gridcolor": "white",
             "linecolor": "white",
             "minorgridcolor": "white",
             "startlinecolor": "#2a3f5f"
            },
            "baxis": {
             "endlinecolor": "#2a3f5f",
             "gridcolor": "white",
             "linecolor": "white",
             "minorgridcolor": "white",
             "startlinecolor": "#2a3f5f"
            },
            "type": "carpet"
           }
          ],
          "choropleth": [
           {
            "colorbar": {
             "outlinewidth": 0,
             "ticks": ""
            },
            "type": "choropleth"
           }
          ],
          "contour": [
           {
            "colorbar": {
             "outlinewidth": 0,
             "ticks": ""
            },
            "colorscale": [
             [
              0,
              "#0d0887"
             ],
             [
              0.1111111111111111,
              "#46039f"
             ],
             [
              0.2222222222222222,
              "#7201a8"
             ],
             [
              0.3333333333333333,
              "#9c179e"
             ],
             [
              0.4444444444444444,
              "#bd3786"
             ],
             [
              0.5555555555555556,
              "#d8576b"
             ],
             [
              0.6666666666666666,
              "#ed7953"
             ],
             [
              0.7777777777777778,
              "#fb9f3a"
             ],
             [
              0.8888888888888888,
              "#fdca26"
             ],
             [
              1,
              "#f0f921"
             ]
            ],
            "type": "contour"
           }
          ],
          "contourcarpet": [
           {
            "colorbar": {
             "outlinewidth": 0,
             "ticks": ""
            },
            "type": "contourcarpet"
           }
          ],
          "heatmap": [
           {
            "colorbar": {
             "outlinewidth": 0,
             "ticks": ""
            },
            "colorscale": [
             [
              0,
              "#0d0887"
             ],
             [
              0.1111111111111111,
              "#46039f"
             ],
             [
              0.2222222222222222,
              "#7201a8"
             ],
             [
              0.3333333333333333,
              "#9c179e"
             ],
             [
              0.4444444444444444,
              "#bd3786"
             ],
             [
              0.5555555555555556,
              "#d8576b"
             ],
             [
              0.6666666666666666,
              "#ed7953"
             ],
             [
              0.7777777777777778,
              "#fb9f3a"
             ],
             [
              0.8888888888888888,
              "#fdca26"
             ],
             [
              1,
              "#f0f921"
             ]
            ],
            "type": "heatmap"
           }
          ],
          "heatmapgl": [
           {
            "colorbar": {
             "outlinewidth": 0,
             "ticks": ""
            },
            "colorscale": [
             [
              0,
              "#0d0887"
             ],
             [
              0.1111111111111111,
              "#46039f"
             ],
             [
              0.2222222222222222,
              "#7201a8"
             ],
             [
              0.3333333333333333,
              "#9c179e"
             ],
             [
              0.4444444444444444,
              "#bd3786"
             ],
             [
              0.5555555555555556,
              "#d8576b"
             ],
             [
              0.6666666666666666,
              "#ed7953"
             ],
             [
              0.7777777777777778,
              "#fb9f3a"
             ],
             [
              0.8888888888888888,
              "#fdca26"
             ],
             [
              1,
              "#f0f921"
             ]
            ],
            "type": "heatmapgl"
           }
          ],
          "histogram": [
           {
            "marker": {
             "colorbar": {
              "outlinewidth": 0,
              "ticks": ""
             }
            },
            "type": "histogram"
           }
          ],
          "histogram2d": [
           {
            "colorbar": {
             "outlinewidth": 0,
             "ticks": ""
            },
            "colorscale": [
             [
              0,
              "#0d0887"
             ],
             [
              0.1111111111111111,
              "#46039f"
             ],
             [
              0.2222222222222222,
              "#7201a8"
             ],
             [
              0.3333333333333333,
              "#9c179e"
             ],
             [
              0.4444444444444444,
              "#bd3786"
             ],
             [
              0.5555555555555556,
              "#d8576b"
             ],
             [
              0.6666666666666666,
              "#ed7953"
             ],
             [
              0.7777777777777778,
              "#fb9f3a"
             ],
             [
              0.8888888888888888,
              "#fdca26"
             ],
             [
              1,
              "#f0f921"
             ]
            ],
            "type": "histogram2d"
           }
          ],
          "histogram2dcontour": [
           {
            "colorbar": {
             "outlinewidth": 0,
             "ticks": ""
            },
            "colorscale": [
             [
              0,
              "#0d0887"
             ],
             [
              0.1111111111111111,
              "#46039f"
             ],
             [
              0.2222222222222222,
              "#7201a8"
             ],
             [
              0.3333333333333333,
              "#9c179e"
             ],
             [
              0.4444444444444444,
              "#bd3786"
             ],
             [
              0.5555555555555556,
              "#d8576b"
             ],
             [
              0.6666666666666666,
              "#ed7953"
             ],
             [
              0.7777777777777778,
              "#fb9f3a"
             ],
             [
              0.8888888888888888,
              "#fdca26"
             ],
             [
              1,
              "#f0f921"
             ]
            ],
            "type": "histogram2dcontour"
           }
          ],
          "mesh3d": [
           {
            "colorbar": {
             "outlinewidth": 0,
             "ticks": ""
            },
            "type": "mesh3d"
           }
          ],
          "parcoords": [
           {
            "line": {
             "colorbar": {
              "outlinewidth": 0,
              "ticks": ""
             }
            },
            "type": "parcoords"
           }
          ],
          "pie": [
           {
            "automargin": true,
            "type": "pie"
           }
          ],
          "scatter": [
           {
            "marker": {
             "colorbar": {
              "outlinewidth": 0,
              "ticks": ""
             }
            },
            "type": "scatter"
           }
          ],
          "scatter3d": [
           {
            "line": {
             "colorbar": {
              "outlinewidth": 0,
              "ticks": ""
             }
            },
            "marker": {
             "colorbar": {
              "outlinewidth": 0,
              "ticks": ""
             }
            },
            "type": "scatter3d"
           }
          ],
          "scattercarpet": [
           {
            "marker": {
             "colorbar": {
              "outlinewidth": 0,
              "ticks": ""
             }
            },
            "type": "scattercarpet"
           }
          ],
          "scattergeo": [
           {
            "marker": {
             "colorbar": {
              "outlinewidth": 0,
              "ticks": ""
             }
            },
            "type": "scattergeo"
           }
          ],
          "scattergl": [
           {
            "marker": {
             "colorbar": {
              "outlinewidth": 0,
              "ticks": ""
             }
            },
            "type": "scattergl"
           }
          ],
          "scattermapbox": [
           {
            "marker": {
             "colorbar": {
              "outlinewidth": 0,
              "ticks": ""
             }
            },
            "type": "scattermapbox"
           }
          ],
          "scatterpolar": [
           {
            "marker": {
             "colorbar": {
              "outlinewidth": 0,
              "ticks": ""
             }
            },
            "type": "scatterpolar"
           }
          ],
          "scatterpolargl": [
           {
            "marker": {
             "colorbar": {
              "outlinewidth": 0,
              "ticks": ""
             }
            },
            "type": "scatterpolargl"
           }
          ],
          "scatterternary": [
           {
            "marker": {
             "colorbar": {
              "outlinewidth": 0,
              "ticks": ""
             }
            },
            "type": "scatterternary"
           }
          ],
          "surface": [
           {
            "colorbar": {
             "outlinewidth": 0,
             "ticks": ""
            },
            "colorscale": [
             [
              0,
              "#0d0887"
             ],
             [
              0.1111111111111111,
              "#46039f"
             ],
             [
              0.2222222222222222,
              "#7201a8"
             ],
             [
              0.3333333333333333,
              "#9c179e"
             ],
             [
              0.4444444444444444,
              "#bd3786"
             ],
             [
              0.5555555555555556,
              "#d8576b"
             ],
             [
              0.6666666666666666,
              "#ed7953"
             ],
             [
              0.7777777777777778,
              "#fb9f3a"
             ],
             [
              0.8888888888888888,
              "#fdca26"
             ],
             [
              1,
              "#f0f921"
             ]
            ],
            "type": "surface"
           }
          ],
          "table": [
           {
            "cells": {
             "fill": {
              "color": "#EBF0F8"
             },
             "line": {
              "color": "white"
             }
            },
            "header": {
             "fill": {
              "color": "#C8D4E3"
             },
             "line": {
              "color": "white"
             }
            },
            "type": "table"
           }
          ]
         },
         "layout": {
          "annotationdefaults": {
           "arrowcolor": "#2a3f5f",
           "arrowhead": 0,
           "arrowwidth": 1
          },
          "coloraxis": {
           "colorbar": {
            "outlinewidth": 0,
            "ticks": ""
           }
          },
          "colorscale": {
           "diverging": [
            [
             0,
             "#8e0152"
            ],
            [
             0.1,
             "#c51b7d"
            ],
            [
             0.2,
             "#de77ae"
            ],
            [
             0.3,
             "#f1b6da"
            ],
            [
             0.4,
             "#fde0ef"
            ],
            [
             0.5,
             "#f7f7f7"
            ],
            [
             0.6,
             "#e6f5d0"
            ],
            [
             0.7,
             "#b8e186"
            ],
            [
             0.8,
             "#7fbc41"
            ],
            [
             0.9,
             "#4d9221"
            ],
            [
             1,
             "#276419"
            ]
           ],
           "sequential": [
            [
             0,
             "#0d0887"
            ],
            [
             0.1111111111111111,
             "#46039f"
            ],
            [
             0.2222222222222222,
             "#7201a8"
            ],
            [
             0.3333333333333333,
             "#9c179e"
            ],
            [
             0.4444444444444444,
             "#bd3786"
            ],
            [
             0.5555555555555556,
             "#d8576b"
            ],
            [
             0.6666666666666666,
             "#ed7953"
            ],
            [
             0.7777777777777778,
             "#fb9f3a"
            ],
            [
             0.8888888888888888,
             "#fdca26"
            ],
            [
             1,
             "#f0f921"
            ]
           ],
           "sequentialminus": [
            [
             0,
             "#0d0887"
            ],
            [
             0.1111111111111111,
             "#46039f"
            ],
            [
             0.2222222222222222,
             "#7201a8"
            ],
            [
             0.3333333333333333,
             "#9c179e"
            ],
            [
             0.4444444444444444,
             "#bd3786"
            ],
            [
             0.5555555555555556,
             "#d8576b"
            ],
            [
             0.6666666666666666,
             "#ed7953"
            ],
            [
             0.7777777777777778,
             "#fb9f3a"
            ],
            [
             0.8888888888888888,
             "#fdca26"
            ],
            [
             1,
             "#f0f921"
            ]
           ]
          },
          "colorway": [
           "#636efa",
           "#EF553B",
           "#00cc96",
           "#ab63fa",
           "#FFA15A",
           "#19d3f3",
           "#FF6692",
           "#B6E880",
           "#FF97FF",
           "#FECB52"
          ],
          "font": {
           "color": "#2a3f5f"
          },
          "geo": {
           "bgcolor": "white",
           "lakecolor": "white",
           "landcolor": "#E5ECF6",
           "showlakes": true,
           "showland": true,
           "subunitcolor": "white"
          },
          "hoverlabel": {
           "align": "left"
          },
          "hovermode": "closest",
          "mapbox": {
           "style": "light"
          },
          "paper_bgcolor": "white",
          "plot_bgcolor": "#E5ECF6",
          "polar": {
           "angularaxis": {
            "gridcolor": "white",
            "linecolor": "white",
            "ticks": ""
           },
           "bgcolor": "#E5ECF6",
           "radialaxis": {
            "gridcolor": "white",
            "linecolor": "white",
            "ticks": ""
           }
          },
          "scene": {
           "xaxis": {
            "backgroundcolor": "#E5ECF6",
            "gridcolor": "white",
            "gridwidth": 2,
            "linecolor": "white",
            "showbackground": true,
            "ticks": "",
            "zerolinecolor": "white"
           },
           "yaxis": {
            "backgroundcolor": "#E5ECF6",
            "gridcolor": "white",
            "gridwidth": 2,
            "linecolor": "white",
            "showbackground": true,
            "ticks": "",
            "zerolinecolor": "white"
           },
           "zaxis": {
            "backgroundcolor": "#E5ECF6",
            "gridcolor": "white",
            "gridwidth": 2,
            "linecolor": "white",
            "showbackground": true,
            "ticks": "",
            "zerolinecolor": "white"
           }
          },
          "shapedefaults": {
           "line": {
            "color": "#2a3f5f"
           }
          },
          "ternary": {
           "aaxis": {
            "gridcolor": "white",
            "linecolor": "white",
            "ticks": ""
           },
           "baxis": {
            "gridcolor": "white",
            "linecolor": "white",
            "ticks": ""
           },
           "bgcolor": "#E5ECF6",
           "caxis": {
            "gridcolor": "white",
            "linecolor": "white",
            "ticks": ""
           }
          },
          "title": {
           "x": 0.05
          },
          "xaxis": {
           "automargin": true,
           "gridcolor": "white",
           "linecolor": "white",
           "ticks": "",
           "title": {
            "standoff": 15
           },
           "zerolinecolor": "white",
           "zerolinewidth": 2
          },
          "yaxis": {
           "automargin": true,
           "gridcolor": "white",
           "linecolor": "white",
           "ticks": "",
           "title": {
            "standoff": 15
           },
           "zerolinecolor": "white",
           "zerolinewidth": 2
          }
         }
        },
        "title": {
         "text": "Forecast of test set"
        },
        "xaxis": {
         "title": {
          "text": "Time steps"
         }
        },
        "yaxis": {
         "title": {
          "text": "Prediction"
         }
        }
       }
      },
      "text/html": [
       "<div>\n",
       "        \n",
       "        \n",
       "            <div id=\"15549e66-233b-4818-b42c-356fd86fc772\" class=\"plotly-graph-div\" style=\"height:525px; width:100%;\"></div>\n",
       "            <script type=\"text/javascript\">\n",
       "                require([\"plotly\"], function(Plotly) {\n",
       "                    window.PLOTLYENV=window.PLOTLYENV || {};\n",
       "                    \n",
       "                if (document.getElementById(\"15549e66-233b-4818-b42c-356fd86fc772\")) {\n",
       "                    Plotly.newPlot(\n",
       "                        '15549e66-233b-4818-b42c-356fd86fc772',\n",
       "                        [{\"mode\": \"lines\", \"name\": \"GT\", \"type\": \"scatter\", \"x\": [0, 1, 2, 3, 4, 5, 6, 7, 8, 9, 10, 11, 12, 13, 14, 15, 16, 17, 18, 19, 20, 21, 22, 23, 24, 25, 26, 27, 28, 29, 30, 31, 32, 33, 34, 35, 36, 37, 38, 39, 40, 41, 42, 43, 44, 45, 46, 47, 48, 49, 50, 51, 52, 53, 54, 55, 56, 57, 58, 59, 60, 61, 62, 63, 64, 65, 66, 67, 68, 69, 70, 71, 72, 73, 74, 75, 76, 77, 78, 79, 80, 81, 82, 83, 84, 85, 86, 87, 88, 89, 90, 91, 92, 93, 94, 95, 96, 97, 98, 99, 100, 101, 102, 103, 104, 105, 106, 107, 108, 109, 110, 111, 112, 113, 114, 115, 116, 117, 118, 119, 120, 121, 122, 123, 124, 125, 126, 127, 128, 129, 130, 131, 132, 133, 134], \"y\": [117, 149, 150, 142, 125, 161, 97, 81, 101, 110, 121, 120, 170, 133, 92, 91, 106, 77, 115, 227, 200, 118, 108, 94, 112, 108, 235, 238, 117, 86, 70, 88, 132, 225, 284, 100, 90, 87, 113, 107, 247, 198, 89, 78, 100, 106, 136, 254, 283, 121, 143, 125, 179, 135, 309, 287, 122, 141, 171, 171, 206, 362, 367, 156, 105, 118, 155, 158, 298, 277, 134, 108, 112, 143, 383, 398, 269, 157, 102, 88, 117, 132, 277, 284, 133, 85, 123, 112, 133, 248, 262, 93, 102, 101, 117, 151, 271, 317, 101, 135, 87, 289, 486, 448, 480, 196, 108, 94, 132, 176, 287, 302, 195, 171, 199, 186, 228, 298, 350, 254, 239, 171, 212, 201, 279, 285, 280, 107, 0, 0, 194, 228, 233, 196, 106]}, {\"mode\": \"lines\", \"name\": \"MONO-LSTM 74.47\", \"type\": \"scatter\", \"x\": [42, 43, 44, 45, 46, 47, 48, 49, 50, 51, 52, 53, 54, 55, 56, 57, 58, 59, 60, 61, 62, 63, 64, 65, 66, 67, 68, 69, 70, 71, 72, 73, 74, 75, 76, 77, 78, 79, 80, 81, 82, 83, 84, 85, 86, 87, 88, 89, 90, 91, 92, 93, 94, 95, 96, 97, 98, 99, 100, 101, 102, 103, 104, 105, 106, 107, 108, 109, 110, 111, 112, 113, 114, 115, 116, 117, 118, 119, 120, 121, 122, 123, 124, 125, 126, 127, 128, 129, 130, 131, 132, 133, 134], \"y\": [92.10022735595703, 102.44583129882812, 106.88206481933594, 137.31788635253906, 216.09469604492188, 241.1101531982422, 141.26419067382812, 104.56343078613281, 109.99078369140625, 111.14690399169922, 134.6300811767578, 215.17933654785156, 262.48681640625, 163.53919982910156, 131.4615020751953, 135.71693420410156, 132.71498107910156, 154.79515075683594, 247.46095275878906, 304.523681640625, 191.05653381347656, 135.70375061035156, 137.43832397460938, 134.82354736328125, 146.1580810546875, 222.94537353515625, 308.66937255859375, 227.08311462402344, 133.92855834960938, 139.627685546875, 138.27671813964844, 158.49598693847656, 244.30284118652344, 305.1907043457031, 200.70167541503906, 139.7169189453125, 139.4608612060547, 136.75787353515625, 145.8616943359375, 218.88890075683594, 310.4449462890625, 237.75262451171875, 124.69290161132812, 131.67318725585938, 130.30044555664062, 151.64236450195312, 239.27032470703125, 296.58428955078125, 189.48306274414062, 132.3443145751953, 133.78567504882812, 131.76181030273438, 142.85421752929688, 217.30712890625, 302.83441162109375, 225.44290161132812, 130.21530151367188, 132.67938232421875, 129.20635986328125, 142.3467559814453, 224.7533416748047, 306.16705322265625, 214.43060302734375, 136.80899047851562, 134.70729064941406, 134.00379943847656, 137.89268493652344, 197.4507598876953, 299.08154296875, 257.9765625, 149.55914306640625, 151.27471923828125, 149.78477478027344, 159.09242248535156, 228.77151489257812, 319.2078552246094, 250.65621948242188, 156.7907257080078, 147.1767578125, 145.84092712402344, 144.30801391601562, 193.33584594726562, 305.688232421875, 292.627197265625, 191.27313232421875, 173.18276977539062, 169.99696350097656, 161.6488037109375, 198.9171600341797, 322.8019104003906, 342.3956604003906, 197.69297790527344, 162.272216796875]}, {\"mode\": \"lines\", \"name\": \"EXO2-LSTM 104.22\", \"type\": \"scatter\", \"x\": [42, 43, 44, 45, 46, 47, 48, 49, 50, 51, 52, 53, 54, 55, 56, 57, 58, 59, 60, 61, 62, 63, 64, 65, 66, 67, 68, 69, 70, 71, 72, 73, 74, 75, 76, 77, 78, 79, 80, 81, 82, 83, 84, 85, 86, 87, 88, 89, 90, 91, 92, 93, 94, 95, 96, 97, 98, 99, 100, 101, 102, 103, 104, 105, 106, 107, 108, 109, 110, 111, 112, 113, 114, 115, 116, 117, 118, 119, 120, 121, 122, 123, 124, 125, 126, 127, 128, 129, 130, 131, 132, 133, 134], \"y\": [98.02672576904297, 102.97035217285156, 115.64530944824219, 162.8767852783203, 249.83511352539062, 258.7174377441406, 117.91378784179688, 114.9736557006836, 120.81871032714844, 135.21786499023438, 186.48573303222656, 280.06878662109375, 291.5600280761719, 138.11891174316406, 129.04681396484375, 134.436767578125, 150.92355346679688, 205.19564819335938, 299.68280029296875, 307.86944580078125, 149.57052612304688, 137.33775329589844, 142.88099670410156, 159.68045043945312, 214.98410034179688, 312.22625732421875, 323.68145751953125, 159.91358947753906, 121.95491027832031, 125.59262084960938, 141.47042846679688, 192.689697265625, 278.30572509765625, 279.2330017089844, 133.15834045410156, 122.41231536865234, 126.47821044921875, 142.57826232910156, 194.05580139160156, 281.07000732421875, 284.7913818359375, 136.93516540527344, 113.81538391113281, 115.96717834472656, 131.04080200195312, 179.76168823242188, 259.6369934082031, 257.4154968261719, 120.44931030273438, 111.83323669433594, 115.14432525634766, 130.88888549804688, 180.2449951171875, 261.5267639160156, 260.9949645996094, 123.09264373779297, 117.38744354248047, 119.48469543457031, 134.70948791503906, 184.37066650390625, 265.54986572265625, 262.1327209472656, 122.91456604003906, 113.86328125, 117.39317321777344, 133.28671264648438, 183.17111206054688, 265.4288330078125, 264.91363525390625, 125.35493469238281, 127.82730865478516, 131.91668701171875, 148.12310791015625, 200.39633178710938, 289.0171203613281, 293.1600341796875, 141.8709259033203, 129.53573608398438, 134.0205535888672, 150.371337890625, 203.24130249023438, 294.22119140625, 301.6412353515625, 147.07107543945312, 169.06387329101562, 173.180908203125, 190.44801330566406, 250.10829162597656, 356.9294738769531, 374.910888671875, 192.63446044921875, 169.52120971679688, 174.76504516601562]}],\n",
       "                        {\"font\": {\"color\": \"#7f7f7f\", \"family\": \"Courier New, monospace\", \"size\": 16}, \"template\": {\"data\": {\"bar\": [{\"error_x\": {\"color\": \"#2a3f5f\"}, \"error_y\": {\"color\": \"#2a3f5f\"}, \"marker\": {\"line\": {\"color\": \"#E5ECF6\", \"width\": 0.5}}, \"type\": \"bar\"}], \"barpolar\": [{\"marker\": {\"line\": {\"color\": \"#E5ECF6\", \"width\": 0.5}}, \"type\": \"barpolar\"}], \"carpet\": [{\"aaxis\": {\"endlinecolor\": \"#2a3f5f\", \"gridcolor\": \"white\", \"linecolor\": \"white\", \"minorgridcolor\": \"white\", \"startlinecolor\": \"#2a3f5f\"}, \"baxis\": {\"endlinecolor\": \"#2a3f5f\", \"gridcolor\": \"white\", \"linecolor\": \"white\", \"minorgridcolor\": \"white\", \"startlinecolor\": \"#2a3f5f\"}, \"type\": \"carpet\"}], \"choropleth\": [{\"colorbar\": {\"outlinewidth\": 0, \"ticks\": \"\"}, \"type\": \"choropleth\"}], \"contour\": [{\"colorbar\": {\"outlinewidth\": 0, \"ticks\": \"\"}, \"colorscale\": [[0.0, \"#0d0887\"], [0.1111111111111111, \"#46039f\"], [0.2222222222222222, \"#7201a8\"], [0.3333333333333333, \"#9c179e\"], [0.4444444444444444, \"#bd3786\"], [0.5555555555555556, \"#d8576b\"], [0.6666666666666666, \"#ed7953\"], [0.7777777777777778, \"#fb9f3a\"], [0.8888888888888888, \"#fdca26\"], [1.0, \"#f0f921\"]], \"type\": \"contour\"}], \"contourcarpet\": [{\"colorbar\": {\"outlinewidth\": 0, \"ticks\": \"\"}, \"type\": \"contourcarpet\"}], \"heatmap\": [{\"colorbar\": {\"outlinewidth\": 0, \"ticks\": \"\"}, \"colorscale\": [[0.0, \"#0d0887\"], [0.1111111111111111, \"#46039f\"], [0.2222222222222222, \"#7201a8\"], [0.3333333333333333, \"#9c179e\"], [0.4444444444444444, \"#bd3786\"], [0.5555555555555556, \"#d8576b\"], [0.6666666666666666, \"#ed7953\"], [0.7777777777777778, \"#fb9f3a\"], [0.8888888888888888, \"#fdca26\"], [1.0, \"#f0f921\"]], \"type\": \"heatmap\"}], \"heatmapgl\": [{\"colorbar\": {\"outlinewidth\": 0, \"ticks\": \"\"}, \"colorscale\": [[0.0, \"#0d0887\"], [0.1111111111111111, \"#46039f\"], [0.2222222222222222, \"#7201a8\"], [0.3333333333333333, \"#9c179e\"], [0.4444444444444444, \"#bd3786\"], [0.5555555555555556, \"#d8576b\"], [0.6666666666666666, \"#ed7953\"], [0.7777777777777778, \"#fb9f3a\"], [0.8888888888888888, \"#fdca26\"], [1.0, \"#f0f921\"]], \"type\": \"heatmapgl\"}], \"histogram\": [{\"marker\": {\"colorbar\": {\"outlinewidth\": 0, \"ticks\": \"\"}}, \"type\": \"histogram\"}], \"histogram2d\": [{\"colorbar\": {\"outlinewidth\": 0, \"ticks\": \"\"}, \"colorscale\": [[0.0, \"#0d0887\"], [0.1111111111111111, \"#46039f\"], [0.2222222222222222, \"#7201a8\"], [0.3333333333333333, \"#9c179e\"], [0.4444444444444444, \"#bd3786\"], [0.5555555555555556, \"#d8576b\"], [0.6666666666666666, \"#ed7953\"], [0.7777777777777778, \"#fb9f3a\"], [0.8888888888888888, \"#fdca26\"], [1.0, \"#f0f921\"]], \"type\": \"histogram2d\"}], \"histogram2dcontour\": [{\"colorbar\": {\"outlinewidth\": 0, \"ticks\": \"\"}, \"colorscale\": [[0.0, \"#0d0887\"], [0.1111111111111111, \"#46039f\"], [0.2222222222222222, \"#7201a8\"], [0.3333333333333333, \"#9c179e\"], [0.4444444444444444, \"#bd3786\"], [0.5555555555555556, \"#d8576b\"], [0.6666666666666666, \"#ed7953\"], [0.7777777777777778, \"#fb9f3a\"], [0.8888888888888888, \"#fdca26\"], [1.0, \"#f0f921\"]], \"type\": \"histogram2dcontour\"}], \"mesh3d\": [{\"colorbar\": {\"outlinewidth\": 0, \"ticks\": \"\"}, \"type\": \"mesh3d\"}], \"parcoords\": [{\"line\": {\"colorbar\": {\"outlinewidth\": 0, \"ticks\": \"\"}}, \"type\": \"parcoords\"}], \"pie\": [{\"automargin\": true, \"type\": \"pie\"}], \"scatter\": [{\"marker\": {\"colorbar\": {\"outlinewidth\": 0, \"ticks\": \"\"}}, \"type\": \"scatter\"}], \"scatter3d\": [{\"line\": {\"colorbar\": {\"outlinewidth\": 0, \"ticks\": \"\"}}, \"marker\": {\"colorbar\": {\"outlinewidth\": 0, \"ticks\": \"\"}}, \"type\": \"scatter3d\"}], \"scattercarpet\": [{\"marker\": {\"colorbar\": {\"outlinewidth\": 0, \"ticks\": \"\"}}, \"type\": \"scattercarpet\"}], \"scattergeo\": [{\"marker\": {\"colorbar\": {\"outlinewidth\": 0, \"ticks\": \"\"}}, \"type\": \"scattergeo\"}], \"scattergl\": [{\"marker\": {\"colorbar\": {\"outlinewidth\": 0, \"ticks\": \"\"}}, \"type\": \"scattergl\"}], \"scattermapbox\": [{\"marker\": {\"colorbar\": {\"outlinewidth\": 0, \"ticks\": \"\"}}, \"type\": \"scattermapbox\"}], \"scatterpolar\": [{\"marker\": {\"colorbar\": {\"outlinewidth\": 0, \"ticks\": \"\"}}, \"type\": \"scatterpolar\"}], \"scatterpolargl\": [{\"marker\": {\"colorbar\": {\"outlinewidth\": 0, \"ticks\": \"\"}}, \"type\": \"scatterpolargl\"}], \"scatterternary\": [{\"marker\": {\"colorbar\": {\"outlinewidth\": 0, \"ticks\": \"\"}}, \"type\": \"scatterternary\"}], \"surface\": [{\"colorbar\": {\"outlinewidth\": 0, \"ticks\": \"\"}, \"colorscale\": [[0.0, \"#0d0887\"], [0.1111111111111111, \"#46039f\"], [0.2222222222222222, \"#7201a8\"], [0.3333333333333333, \"#9c179e\"], [0.4444444444444444, \"#bd3786\"], [0.5555555555555556, \"#d8576b\"], [0.6666666666666666, \"#ed7953\"], [0.7777777777777778, \"#fb9f3a\"], [0.8888888888888888, \"#fdca26\"], [1.0, \"#f0f921\"]], \"type\": \"surface\"}], \"table\": [{\"cells\": {\"fill\": {\"color\": \"#EBF0F8\"}, \"line\": {\"color\": \"white\"}}, \"header\": {\"fill\": {\"color\": \"#C8D4E3\"}, \"line\": {\"color\": \"white\"}}, \"type\": \"table\"}]}, \"layout\": {\"annotationdefaults\": {\"arrowcolor\": \"#2a3f5f\", \"arrowhead\": 0, \"arrowwidth\": 1}, \"coloraxis\": {\"colorbar\": {\"outlinewidth\": 0, \"ticks\": \"\"}}, \"colorscale\": {\"diverging\": [[0, \"#8e0152\"], [0.1, \"#c51b7d\"], [0.2, \"#de77ae\"], [0.3, \"#f1b6da\"], [0.4, \"#fde0ef\"], [0.5, \"#f7f7f7\"], [0.6, \"#e6f5d0\"], [0.7, \"#b8e186\"], [0.8, \"#7fbc41\"], [0.9, \"#4d9221\"], [1, \"#276419\"]], \"sequential\": [[0.0, \"#0d0887\"], [0.1111111111111111, \"#46039f\"], [0.2222222222222222, \"#7201a8\"], [0.3333333333333333, \"#9c179e\"], [0.4444444444444444, \"#bd3786\"], [0.5555555555555556, \"#d8576b\"], [0.6666666666666666, \"#ed7953\"], [0.7777777777777778, \"#fb9f3a\"], [0.8888888888888888, \"#fdca26\"], [1.0, \"#f0f921\"]], \"sequentialminus\": [[0.0, \"#0d0887\"], [0.1111111111111111, \"#46039f\"], [0.2222222222222222, \"#7201a8\"], [0.3333333333333333, \"#9c179e\"], [0.4444444444444444, \"#bd3786\"], [0.5555555555555556, \"#d8576b\"], [0.6666666666666666, \"#ed7953\"], [0.7777777777777778, \"#fb9f3a\"], [0.8888888888888888, \"#fdca26\"], [1.0, \"#f0f921\"]]}, \"colorway\": [\"#636efa\", \"#EF553B\", \"#00cc96\", \"#ab63fa\", \"#FFA15A\", \"#19d3f3\", \"#FF6692\", \"#B6E880\", \"#FF97FF\", \"#FECB52\"], \"font\": {\"color\": \"#2a3f5f\"}, \"geo\": {\"bgcolor\": \"white\", \"lakecolor\": \"white\", \"landcolor\": \"#E5ECF6\", \"showlakes\": true, \"showland\": true, \"subunitcolor\": \"white\"}, \"hoverlabel\": {\"align\": \"left\"}, \"hovermode\": \"closest\", \"mapbox\": {\"style\": \"light\"}, \"paper_bgcolor\": \"white\", \"plot_bgcolor\": \"#E5ECF6\", \"polar\": {\"angularaxis\": {\"gridcolor\": \"white\", \"linecolor\": \"white\", \"ticks\": \"\"}, \"bgcolor\": \"#E5ECF6\", \"radialaxis\": {\"gridcolor\": \"white\", \"linecolor\": \"white\", \"ticks\": \"\"}}, \"scene\": {\"xaxis\": {\"backgroundcolor\": \"#E5ECF6\", \"gridcolor\": \"white\", \"gridwidth\": 2, \"linecolor\": \"white\", \"showbackground\": true, \"ticks\": \"\", \"zerolinecolor\": \"white\"}, \"yaxis\": {\"backgroundcolor\": \"#E5ECF6\", \"gridcolor\": \"white\", \"gridwidth\": 2, \"linecolor\": \"white\", \"showbackground\": true, \"ticks\": \"\", \"zerolinecolor\": \"white\"}, \"zaxis\": {\"backgroundcolor\": \"#E5ECF6\", \"gridcolor\": \"white\", \"gridwidth\": 2, \"linecolor\": \"white\", \"showbackground\": true, \"ticks\": \"\", \"zerolinecolor\": \"white\"}}, \"shapedefaults\": {\"line\": {\"color\": \"#2a3f5f\"}}, \"ternary\": {\"aaxis\": {\"gridcolor\": \"white\", \"linecolor\": \"white\", \"ticks\": \"\"}, \"baxis\": {\"gridcolor\": \"white\", \"linecolor\": \"white\", \"ticks\": \"\"}, \"bgcolor\": \"#E5ECF6\", \"caxis\": {\"gridcolor\": \"white\", \"linecolor\": \"white\", \"ticks\": \"\"}}, \"title\": {\"x\": 0.05}, \"xaxis\": {\"automargin\": true, \"gridcolor\": \"white\", \"linecolor\": \"white\", \"ticks\": \"\", \"title\": {\"standoff\": 15}, \"zerolinecolor\": \"white\", \"zerolinewidth\": 2}, \"yaxis\": {\"automargin\": true, \"gridcolor\": \"white\", \"linecolor\": \"white\", \"ticks\": \"\", \"title\": {\"standoff\": 15}, \"zerolinecolor\": \"white\", \"zerolinewidth\": 2}}}, \"title\": {\"text\": \"Forecast of test set\"}, \"xaxis\": {\"title\": {\"text\": \"Time steps\"}}, \"yaxis\": {\"title\": {\"text\": \"Prediction\"}}},\n",
       "                        {\"responsive\": true}\n",
       "                    ).then(function(){\n",
       "                            \n",
       "var gd = document.getElementById('15549e66-233b-4818-b42c-356fd86fc772');\n",
       "var x = new MutationObserver(function (mutations, observer) {{\n",
       "        var display = window.getComputedStyle(gd).display;\n",
       "        if (!display || display === 'none') {{\n",
       "            console.log([gd, 'removed!']);\n",
       "            Plotly.purge(gd);\n",
       "            observer.disconnect();\n",
       "        }}\n",
       "}});\n",
       "\n",
       "// Listen for the removal of the full notebook cells\n",
       "var notebookContainer = gd.closest('#notebook-container');\n",
       "if (notebookContainer) {{\n",
       "    x.observe(notebookContainer, {childList: true});\n",
       "}}\n",
       "\n",
       "// Listen for the clearing of the current output cell\n",
       "var outputEl = gd.closest('.output');\n",
       "if (outputEl) {{\n",
       "    x.observe(outputEl, {childList: true});\n",
       "}}\n",
       "\n",
       "                        })\n",
       "                };\n",
       "                });\n",
       "            </script>\n",
       "        </div>"
      ]
     },
     "metadata": {},
     "output_type": "display_data"
    },
    {
     "name": "stdout",
     "output_type": "stream",
     "text": [
      "Forecast 0 RMSE and MAE 63.05375801653457 47.0206059047154\n",
      "Forecast 1 RMSE and MAE 82.07754747783467 58.64092254638672\n"
     ]
    },
    {
     "data": {
      "image/png": "[encoded data removed]",
      "text/plain": [
       "<Figure size 1152x576 with 1 Axes>"
      ]
     },
     "metadata": {
      "needs_background": "light"
     },
     "output_type": "display_data"
    },
    {
     "name": "stdout",
     "output_type": "stream",
     "text": [
      "Forecast 0 RMSE and MAE 54.15862106726462 45.10317775181362\n",
      "Forecast 1 RMSE and MAE 68.25692380017404 61.04532841273716\n"
     ]
    },
    {
     "data": {
      "image/png": "[encoded data removed]",
      "text/plain": [
       "<Figure size 1152x576 with 1 Axes>"
      ]
     },
     "metadata": {
      "needs_background": "light"
     },
     "output_type": "display_data"
    },
    {
     "name": "stdout",
     "output_type": "stream",
     "text": [
      "Forecast 0 RMSE and MAE 85.75501625165855 68.32021004813058\n",
      "Forecast 1 RMSE and MAE 90.68940753218074 71.53853389195034\n"
     ]
    },
    {
     "data": {
      "image/png": "[encoded data removed]",
      "text/plain": [
       "<Figure size 1152x576 with 1 Axes>"
      ]
     },
     "metadata": {
      "needs_background": "light"
     },
     "output_type": "display_data"
    },
    {
     "name": "stdout",
     "output_type": "stream",
     "text": [
      "\n"
     ]
    }
   ],
   "source": [
    "single_run_results = []\n",
    "n_runs = 1\n",
    "#for dataset in datasets:\n",
    "#    print(\"Running forecasting for sales in\", dataset, \"\\n\")\n",
    "for run in range(n_runs):\n",
    "    print (\"Run #\", run+1)\n",
    "\n",
    "    # Add day of week as one hot encoded signal before running the lstm model\n",
    "    full_dataset = milan_daily_augmented\n",
    "\n",
    "    # Create training and test data\n",
    "    train, test = ts_train_test_split(full_dataset, test_length=0.1)\n",
    "    print(train.shape, test.shape)\n",
    "\n",
    "    # Extract the columns which display most correlation with the value we are trying to predict.\n",
    "    #mono_input_features = [0, 4, full_dataset.shape[1]-1]\n",
    "    mono_input_features = [0]\n",
    "    #exo1_input_features = [0,3,full_dataset.shape[1]-1]\n",
    "    exo2_input_features = [0] + list(range(4,full_dataset.shape[1]-8))\n",
    "    #exo3_input_features = list(range(0,full_dataset.shape[1]))\n",
    "    print(\"MONO-LSTM input features:\", mono_input_features)\n",
    "    print(\"EXO1 (+ sincos day) input features :\", exo1_input_features)\n",
    "    #print(\"EXO2 (+ weather exog) input features :\", exo2_input_features)\n",
    "    #print(\"EXO3 (+ all exog) input features :\", exo3_input_features)\n",
    "    print()\n",
    "\n",
    "    # Define steps ahead to forecast\n",
    "    lstm_in_len = 42\n",
    "    lstm_out_len = 14\n",
    "    #f_steps = test.shape[0]\n",
    "\n",
    "    ## BASELINE METHODS\n",
    "    ## Run STL Decomposition as baseline\n",
    "    #print(\"Running Drift model based on STL Decomposition...\")\n",
    "    #decomp = decompose(train.qty, period=365)\n",
    "    #drift_forecast = forecast(decomp, steps=f_steps, fc_func=drift(n=lstm_in_steps), seasonal=True)\n",
    "    #drift_rmse = sm.tools.eval_measures.rmse(test.qty.values[lstm_in_steps:], drift_forecast[\"drift+seasonal\"].values)\n",
    "    #drift_mae = sm.tools.eval_measures.meanabs(test.qty.values[lstm_in_steps:], drift_forecast[\"drift+seasonal\"].values)\n",
    "    #print(\"Done\\n\")\n",
    "\n",
    "    ## Run ARIMA as another baseline\n",
    "    #print(\"Running ARIMA model...\")\n",
    "    ## Fit your model\n",
    "    #arima_model = pm.auto_arima(train.qty, suppress_warnings=True, max_order=None, \\\n",
    "    #                            seasonal=True, start_p=3, start_q=0, start_P=0, start_Q=0, \\\n",
    "    #                            max_p=6, max_d=1, max_q=1, max_P=1, max_D=1, max_Q=1)\n",
    "    #\n",
    "    ## max-min arima p,q for auto-arima\n",
    "    #arima_order = arima_model.get_params()[\"order\"]\n",
    "    #arima_fitted = arima_model.fit(train.qty)\n",
    "    #arima_forecasts = arima_fitted.predict(f_steps)  \n",
    "    #arima_rmse = sm.tools.eval_measures.rmse(test.qty[lstm_in_steps:], arima_forecasts)\n",
    "    #arima_mae = sm.tools.eval_measures.meanabs(test.qty[lstm_in_steps:], arima_forecasts)\n",
    "    #print(\"Done\\n\")\n",
    "\n",
    "    ## Run ARIMAX as another baseline\n",
    "    #print(\"Running ARIMAX model...\")\n",
    "    #arimax_fitted = arima_model.fit(y=train.qty, exogenous=train.iloc[:, 1:])\n",
    "    #arimax_forecasts = arimax_fitted.predict(f_steps, exogenous=test.iloc[lstm_in_steps:, 1:])  \n",
    "    #arimax_rmse = sm.tools.eval_measures.rmse(test.qty[lstm_in_steps:], arimax_forecasts)\n",
    "    #arimax_mae = sm.tools.eval_measures.meanabs(test.qty[lstm_in_steps:], arimax_forecasts)\n",
    "    #print(\"Done\\n\")\n",
    "\n",
    "\n",
    "\n",
    "    ## LSTM\n",
    "    # Define the LSTM Models and their Optimizer objects\n",
    "    mono_LSTM_Model, mono_opt_obj = define_LSTM_Model(mono_input_features)\n",
    "    exo1_LSTM_Model, exo1_opt_obj = define_LSTM_Model(exo1_input_features)\n",
    "    exo2_LSTM_Model, exo2_opt_obj = define_LSTM_Model(exo2_input_features)\n",
    "    #exo3_LSTM_Model, exo3_opt_obj = define_LSTM_Model(exo3_input_features)\n",
    "\n",
    "\n",
    "    # 1) MONO-LSTM data\n",
    "    mono_inp_tr, mono_out_tr, mono_inp_te, mono_out_te = prepare_for_network(train, test, mono_input_features, in_len=lstm_in_len, out_len=lstm_out_len)\n",
    "    mono_x_train=torch.cat((torch.Tensor(mono_inp_tr),torch.Tensor(mono_out_tr)),1)\n",
    "    mono_x_test=torch.Tensor(mono_inp_te)\n",
    "\n",
    "    # 2) EXO1-LSTM data\n",
    "    #exo1_inp_tr, exo1_out_tr, exo1_inp_te, exo1_out_te = prepare_for_network(train, test, exo1_input_features, in_len=lstm_in_len, out_len=lstm_out_len)\n",
    "    #exo1_x_train=torch.cat((torch.Tensor(exo1_inp_tr),torch.Tensor(exo1_out_tr)),1)\n",
    "    #exo1_x_test=torch.Tensor(exo1_inp_te)\n",
    "\n",
    "    ## 3) EXO2-LSTM data\n",
    "    exo2_inp_tr, exo2_out_tr, exo2_inp_te, exo2_out_te = prepare_for_network(train, test, exo2_input_features, in_len=lstm_in_len, out_len=lstm_out_len)\n",
    "    exo2_x_train=torch.cat((torch.Tensor(exo2_inp_tr),torch.Tensor(exo2_out_tr)),1)\n",
    "    exo2_x_test=torch.Tensor(exo2_inp_te)\n",
    "\n",
    "    ## 4) EXO3-LSTM data\n",
    "    #exo3_inp_tr, exo3_out_tr, exo3_inp_te, exo3_out_te = prepare_for_network(train, test, exo3_input_features, in_len=390, out_len=f_steps)\n",
    "    #exo3_x_train=torch.cat((torch.Tensor(exo3_inp_tr),torch.Tensor(exo3_out_tr)),1)\n",
    "    #exo3_x_test=torch.Tensor(exo3_inp_te)\n",
    "\n",
    "    # Train all the LSTMs \n",
    "    print(\"Training the MONO-LSTM model...\")\n",
    "    mono_opt_obj.train(mono_x_train[:,:-1],mono_x_train[:,1:],mono_x_train[:,:-1],mono_x_train[:,1:], \\\n",
    "                       do_teacher_forcing=True, n_epochs=20, batch_size=64)\n",
    "    print(\"Done\\n\")\n",
    "    #print(\"Training the EXO1-LSTM model...\")\n",
    "    #exo1_opt_obj.train(exo1_x_train[:,:-1],exo1_x_train[:,1:],exo1_x_train[:,:-1],exo1_x_train[:,1:], \\\n",
    "    #                   do_teacher_forcing=True, n_epochs=20, batch_size=64)\n",
    "    #print(\"Done\\n\")\n",
    "    print(\"Training the EXO2-LSTM model...\")\n",
    "    exo2_opt_obj.train(exo2_x_train[:,:-1],exo2_x_train[:,1:],exo2_x_train[:,:-1],exo2_x_train[:,1:], \\\n",
    "                       do_teacher_forcing=True, n_epochs=20, batch_size=64)\n",
    "    print(\"Done\\n\")\n",
    "    #print(\"Training the EXO3-LSTM model...\")\n",
    "    #exo3_opt_obj.train(exo3_x_train[:,:-1],exo3_x_train[:,1:],exo3_x_train[:,:-1],exo3_x_train[:,1:], \\\n",
    "    #                   do_teacher_forcing=True, n_epochs=10+len(exo3_input_features)*3, batch_size=128)\n",
    "    #print(\"Done\\n\")        \n",
    "\n",
    "\n",
    "    # Make predictions using the trained networks\n",
    "    mono_pred = mono_LSTM_Model(mono_x_test, lstm_out_len)\n",
    "    #exo1_pred = exo1_LSTM_Model(exo1_x_test, lstm_out_len)\n",
    "    #exo1_pred_exog = exo1_LSTM_Model.predict_mono(exo1_x_test, lstm_out_len, y=torch.Tensor(exo1_inp_te[:,-14:,:]))\n",
    "    exo2_pred = exo2_LSTM_Model(exo2_x_test, lstm_out_len)\n",
    "    #exo3_pred = exo3_LSTM_Model(exo3_x_test, f_steps)\n",
    "    #exo3_pred_mono = exo3_LSTM_Model.predict_mono(exo3_x_test, f_steps, torch.Tensor(exo3_out_te))\n",
    "\n",
    "\n",
    "\n",
    "    ## Check results of LSTM forecasts (calc erros)\n",
    "    mean = np.mean(train.qty.values)\n",
    "    std = np.std(train.qty.values)\n",
    "    full_mono_pred = build_lstm_full_preds(mono_out_te, mono_pred, lstm_out_len, mean, std)\n",
    "    mono_lstm_rmse = sm.tools.eval_measures.rmse(test.qty[lstm_in_len:].values, full_mono_pred)\n",
    "    mono_lstm_mae = sm.tools.eval_measures.meanabs(test.qty[lstm_in_len:].values, full_mono_pred)\n",
    "    #full_exo1_pred = build_lstm_full_preds(exo1_out_te, exo1_pred, lstm_out_len, mean, std)\n",
    "    #exo1_lstm_rmse = sm.tools.eval_measures.rmse(test.qty[lstm_in_len:].values, full_exo1_pred)\n",
    "    #exo1_lstm_mae = sm.tools.eval_measures.meanabs(test.qty[lstm_in_len:].values, full_exo1_pred)\n",
    "    full_exo2_pred = build_lstm_full_preds(exo2_out_te, exo2_pred, lstm_out_len, mean, std)\n",
    "    exo2_lstm_rmse = sm.tools.eval_measures.rmse(test.qty[lstm_in_len:].values, full_exo2_pred)\n",
    "    exo2_lstm_mae = sm.tools.eval_measures.meanabs(test.qty[lstm_in_len:].values, full_exo2_pred)\n",
    "\n",
    "    #mono_lstm_rmse, mono_lstm_mae = check_lstm_forecast_results(mono_pred_seq, mono_inp_te, mono_out_te, mean, std, in_len=lstm_in_len, out_len=lstm_out_len)\n",
    "    #exo1_lstm_rmse, exo1_lstm_mae = check_lstm_forecast_results(exo1_pred, exo1_inp_te, exo1_out_te, mean, std, in_len=390, out_len=f_steps)\n",
    "    #exo2_lstm_rmse, exo2_lstm_mae = check_lstm_forecast_results(exo2_pred, exo2_inp_te, exo2_out_te, mean, std, in_len=390, out_len=f_steps)\n",
    "    #exo3_lstm_rmse, exo3_lstm_mae = check_lstm_forecast_results(exo3_pred, exo3_inp_te, exo3_out_te, mean, std, in_len=390, out_len=f_steps)\n",
    "    #exo3_lstm_rmse_var, exo3_lstm_mae_var = check_lstm_forecast_results(exo3_pred_mono, exo3_inp_te, exo3_out_te, mean, std, in_len=390, out_len=f_steps)\n",
    "\n",
    "\n",
    "\n",
    "    #plt.figure(figsize=(10,8))\n",
    "    #plt.plot(range(0,42), train.qty[-42:], label=\"train\")\n",
    "    #plt.plot(range(42,f_steps+42), test.qty, label=\"test\")\n",
    "    #plt.plot(range(42,f_steps+42), (mono_pred[0,-f_steps:,0].detach().cpu().numpy()*std)+mean, label=\"forecast\")\n",
    "    #plt.legend()\n",
    "    #plt.show()\n",
    "\n",
    "    fig = go.Figure()\n",
    "    full_labels = list(range(0,test.shape[0]))\n",
    "    pred_labels = list(range(lstm_in_len,test.shape[0]))\n",
    "    fig.add_trace(go.Scatter(x=full_labels, y=test.qty,\n",
    "                mode='lines', name='GT'))\n",
    "    #fig.add_trace(go.Scatter(x=x_labels, y=drift_forecast[\"drift+seasonal\"].values,\n",
    "    #            mode='lines', name=\"DRIFT %.2f\" % drift_rmse ))\n",
    "    #fig.add_trace(go.Scatter(x=x_labels, y=arima_forecasts,\n",
    "    #            mode='lines', name='ARIMA'+str(arima_order)+\"%.2f\" % arima_rmse))\n",
    "    #fig.add_trace(go.Scatter(x=x_labels, y=arimax_forecasts,\n",
    "    #            mode='lines', name='ARIMAX'+str(arima_order)+\"%.2f\" % arimax_rmse))\n",
    "    fig.add_trace(go.Scatter(x=pred_labels, y=full_mono_pred,\n",
    "                 mode='lines', name=\"MONO-LSTM %.2f\" % mono_lstm_rmse ))\n",
    "    #fig.add_trace(go.Scatter(x=pred_labels, y=full_exo1_pred,\n",
    "    #             mode='lines', name='EXO1-LSTM %.2f' % exo1_lstm_rmse))\n",
    "    fig.add_trace(go.Scatter(x=pred_labels, y=full_exo2_pred,\n",
    "                 mode='lines', name='EXO2-LSTM %.2f' % exo2_lstm_rmse))\n",
    "    #fig.add_trace(go.Scatter(x=x_labels, y=(exo3_pred[0,-f_steps:,0].detach().cpu().numpy()*std)+mean,\n",
    "    #             mode='lines', name='EXO3-LSTM'))\n",
    "    #fig.add_trace(go.Scatter(x=x_labels, y=(exo3_pred_mono[0,-f_steps:,0].detach().cpu().numpy()*std)+mean,\n",
    "    #             mode='lines', name='EXO3-LSTM-NEW'))\n",
    "    #Update plot title and axis titles, then save plot as a HTML File\n",
    "    fig.update_layout(\n",
    "        title=\"Forecast of test set\",\n",
    "        xaxis_title=\"Time steps\",\n",
    "        yaxis_title=\"Prediction\",\n",
    "        font=dict(\n",
    "            family=\"Courier New, monospace\",\n",
    "            size=16,\n",
    "            color=\"#7f7f7f\"\n",
    "        )\n",
    "    )\n",
    "    fig.show()\n",
    "    check_local_res(test, [mono_pred, exo2_pred], mono_inp_te, mono_out_te, mean, std, lstm_in_len, lstm_out_len)\n",
    "    #check_local_res(test, [exo1_pred], exo1_inp_te, exo1_out_te, mean, std, lstm_in_len, lstm_out_len)\n",
    "\n",
    "\n",
    "    #pltio.write_html(fig, dataset+\"-\"+\"run\"+str(run+1)+\"daily-sales-results.html\")\n",
    "    #single_run_results.append([dataset, \"run \"+str(run+1), drift_rmse, \\\n",
    "    #                           mono_lstm_rmse, exo1_lstm_rmse, exo2_lstm_rmse, exo3_lstm_rmse, \\\n",
    "    #                           drift_mae, mono_lstm_mae, exo1_lstm_mae, \\\n",
    "    #                           exo2_lstm_mae, exo3_lstm_mae, exo3_lstm_rmse_var, exo3_lstm_mae_var])\n",
    "    #\n",
    "    #single_run_results.append([dataset, \"run \"+str(run+1), mono_lstm_rmse, exo1_lstm_rmse, mono_lstm_mae, exo1_lstm_mae])\n",
    "    #\n",
    "\n",
    "    print() "
   ]
  },
  {
   "cell_type": "code",
   "execution_count": 28,
   "metadata": {
    "scrolled": true
   },
   "outputs": [
    {
     "data": {
      "text/html": [
       "<div>\n",
       "<style scoped>\n",
       "    .dataframe tbody tr th:only-of-type {\n",
       "        vertical-align: middle;\n",
       "    }\n",
       "\n",
       "    .dataframe tbody tr th {\n",
       "        vertical-align: top;\n",
       "    }\n",
       "\n",
       "    .dataframe thead th {\n",
       "        text-align: right;\n",
       "    }\n",
       "</style>\n",
       "<table border=\"1\" class=\"dataframe\">\n",
       "  <thead>\n",
       "    <tr style=\"text-align: right;\">\n",
       "      <th></th>\n",
       "      <th>qty</th>\n",
       "      <th>sin_day</th>\n",
       "      <th>cos_day</th>\n",
       "      <th>sincos_day</th>\n",
       "    </tr>\n",
       "    <tr>\n",
       "      <th>time</th>\n",
       "      <th></th>\n",
       "      <th></th>\n",
       "      <th></th>\n",
       "      <th></th>\n",
       "    </tr>\n",
       "  </thead>\n",
       "  <tbody>\n",
       "    <tr>\n",
       "      <th>2016-04-14</th>\n",
       "      <td>119</td>\n",
       "      <td>0.972118</td>\n",
       "      <td>-0.234491</td>\n",
       "      <td>-0.227953</td>\n",
       "    </tr>\n",
       "    <tr>\n",
       "      <th>2016-04-15</th>\n",
       "      <td>119</td>\n",
       "      <td>0.967938</td>\n",
       "      <td>-0.251190</td>\n",
       "      <td>-0.243136</td>\n",
       "    </tr>\n",
       "    <tr>\n",
       "      <th>2016-04-16</th>\n",
       "      <td>206</td>\n",
       "      <td>0.963471</td>\n",
       "      <td>-0.267814</td>\n",
       "      <td>-0.258031</td>\n",
       "    </tr>\n",
       "    <tr>\n",
       "      <th>2016-04-17</th>\n",
       "      <td>211</td>\n",
       "      <td>0.958718</td>\n",
       "      <td>-0.284359</td>\n",
       "      <td>-0.272620</td>\n",
       "    </tr>\n",
       "    <tr>\n",
       "      <th>2016-04-18</th>\n",
       "      <td>85</td>\n",
       "      <td>0.953681</td>\n",
       "      <td>-0.300820</td>\n",
       "      <td>-0.286886</td>\n",
       "    </tr>\n",
       "    <tr>\n",
       "      <th>...</th>\n",
       "      <td>...</td>\n",
       "      <td>...</td>\n",
       "      <td>...</td>\n",
       "      <td>...</td>\n",
       "    </tr>\n",
       "    <tr>\n",
       "      <th>2019-08-14</th>\n",
       "      <td>120</td>\n",
       "      <td>-0.680773</td>\n",
       "      <td>-0.732494</td>\n",
       "      <td>0.498662</td>\n",
       "    </tr>\n",
       "    <tr>\n",
       "      <th>2019-08-15</th>\n",
       "      <td>100</td>\n",
       "      <td>-0.693281</td>\n",
       "      <td>-0.720667</td>\n",
       "      <td>0.499625</td>\n",
       "    </tr>\n",
       "    <tr>\n",
       "      <th>2019-08-16</th>\n",
       "      <td>169</td>\n",
       "      <td>-0.705584</td>\n",
       "      <td>-0.708627</td>\n",
       "      <td>0.499995</td>\n",
       "    </tr>\n",
       "    <tr>\n",
       "      <th>2019-08-17</th>\n",
       "      <td>115</td>\n",
       "      <td>-0.717677</td>\n",
       "      <td>-0.696376</td>\n",
       "      <td>0.499773</td>\n",
       "    </tr>\n",
       "    <tr>\n",
       "      <th>2019-08-18</th>\n",
       "      <td>141</td>\n",
       "      <td>-0.729558</td>\n",
       "      <td>-0.683919</td>\n",
       "      <td>0.498959</td>\n",
       "    </tr>\n",
       "  </tbody>\n",
       "</table>\n",
       "<p>1222 rows × 4 columns</p>\n",
       "</div>"
      ],
      "text/plain": [
       "            qty   sin_day   cos_day  sincos_day\n",
       "time                                           \n",
       "2016-04-14  119  0.972118 -0.234491   -0.227953\n",
       "2016-04-15  119  0.967938 -0.251190   -0.243136\n",
       "2016-04-16  206  0.963471 -0.267814   -0.258031\n",
       "2016-04-17  211  0.958718 -0.284359   -0.272620\n",
       "2016-04-18   85  0.953681 -0.300820   -0.286886\n",
       "...         ...       ...       ...         ...\n",
       "2019-08-14  120 -0.680773 -0.732494    0.498662\n",
       "2019-08-15  100 -0.693281 -0.720667    0.499625\n",
       "2019-08-16  169 -0.705584 -0.708627    0.499995\n",
       "2019-08-17  115 -0.717677 -0.696376    0.499773\n",
       "2019-08-18  141 -0.729558 -0.683919    0.498959\n",
       "\n",
       "[1222 rows x 4 columns]"
      ]
     },
     "execution_count": 28,
     "metadata": {},
     "output_type": "execute_result"
    }
   ],
   "source": [
    "train.iloc[:, exo1_input_features]"
   ]
  },
  {
   "cell_type": "code",
   "execution_count": 37,
   "metadata": {
    "scrolled": true
   },
   "outputs": [
    {
     "data": {
      "text/html": [
       "<div>\n",
       "<style scoped>\n",
       "    .dataframe tbody tr th:only-of-type {\n",
       "        vertical-align: middle;\n",
       "    }\n",
       "\n",
       "    .dataframe tbody tr th {\n",
       "        vertical-align: top;\n",
       "    }\n",
       "\n",
       "    .dataframe thead th {\n",
       "        text-align: right;\n",
       "    }\n",
       "</style>\n",
       "<table border=\"1\" class=\"dataframe\">\n",
       "  <thead>\n",
       "    <tr style=\"text-align: right;\">\n",
       "      <th></th>\n",
       "      <th>sincos_day</th>\n",
       "      <th>TMEDIA °C</th>\n",
       "      <th>TMIN °C</th>\n",
       "      <th>TMAX °C</th>\n",
       "      <th>PUNTORUGIADA °C</th>\n",
       "      <th>UMIDITA %</th>\n",
       "      <th>VISIBILITA km</th>\n",
       "      <th>VENTOMEDIA km/h</th>\n",
       "      <th>VENTOMAX km/h</th>\n",
       "      <th>RAFFICA km/h</th>\n",
       "      <th>PRESSIONESLM mb</th>\n",
       "    </tr>\n",
       "    <tr>\n",
       "      <th>time</th>\n",
       "      <th></th>\n",
       "      <th></th>\n",
       "      <th></th>\n",
       "      <th></th>\n",
       "      <th></th>\n",
       "      <th></th>\n",
       "      <th></th>\n",
       "      <th></th>\n",
       "      <th></th>\n",
       "      <th></th>\n",
       "      <th></th>\n",
       "    </tr>\n",
       "  </thead>\n",
       "  <tbody>\n",
       "    <tr>\n",
       "      <th>2016-04-14</th>\n",
       "      <td>-0.227953</td>\n",
       "      <td>17.0</td>\n",
       "      <td>11.0</td>\n",
       "      <td>24.0</td>\n",
       "      <td>8.0</td>\n",
       "      <td>58.0</td>\n",
       "      <td>10.0</td>\n",
       "      <td>10.0</td>\n",
       "      <td>19.0</td>\n",
       "      <td>0.0</td>\n",
       "      <td>1008.0</td>\n",
       "    </tr>\n",
       "    <tr>\n",
       "      <th>2016-04-15</th>\n",
       "      <td>-0.243136</td>\n",
       "      <td>16.0</td>\n",
       "      <td>12.0</td>\n",
       "      <td>20.0</td>\n",
       "      <td>8.0</td>\n",
       "      <td>57.0</td>\n",
       "      <td>10.0</td>\n",
       "      <td>9.0</td>\n",
       "      <td>17.0</td>\n",
       "      <td>0.0</td>\n",
       "      <td>1012.0</td>\n",
       "    </tr>\n",
       "    <tr>\n",
       "      <th>2016-04-16</th>\n",
       "      <td>-0.258031</td>\n",
       "      <td>17.0</td>\n",
       "      <td>11.0</td>\n",
       "      <td>21.0</td>\n",
       "      <td>7.0</td>\n",
       "      <td>53.0</td>\n",
       "      <td>10.0</td>\n",
       "      <td>7.0</td>\n",
       "      <td>17.0</td>\n",
       "      <td>0.0</td>\n",
       "      <td>1011.0</td>\n",
       "    </tr>\n",
       "    <tr>\n",
       "      <th>2016-04-17</th>\n",
       "      <td>-0.272620</td>\n",
       "      <td>17.0</td>\n",
       "      <td>14.0</td>\n",
       "      <td>21.0</td>\n",
       "      <td>11.0</td>\n",
       "      <td>65.0</td>\n",
       "      <td>10.0</td>\n",
       "      <td>9.0</td>\n",
       "      <td>19.0</td>\n",
       "      <td>0.0</td>\n",
       "      <td>1010.0</td>\n",
       "    </tr>\n",
       "    <tr>\n",
       "      <th>2016-04-18</th>\n",
       "      <td>-0.286886</td>\n",
       "      <td>17.0</td>\n",
       "      <td>13.0</td>\n",
       "      <td>23.0</td>\n",
       "      <td>8.0</td>\n",
       "      <td>57.0</td>\n",
       "      <td>10.0</td>\n",
       "      <td>9.0</td>\n",
       "      <td>24.0</td>\n",
       "      <td>33.0</td>\n",
       "      <td>1011.0</td>\n",
       "    </tr>\n",
       "    <tr>\n",
       "      <th>...</th>\n",
       "      <td>...</td>\n",
       "      <td>...</td>\n",
       "      <td>...</td>\n",
       "      <td>...</td>\n",
       "      <td>...</td>\n",
       "      <td>...</td>\n",
       "      <td>...</td>\n",
       "      <td>...</td>\n",
       "      <td>...</td>\n",
       "      <td>...</td>\n",
       "      <td>...</td>\n",
       "    </tr>\n",
       "    <tr>\n",
       "      <th>2019-08-14</th>\n",
       "      <td>0.498662</td>\n",
       "      <td>22.0</td>\n",
       "      <td>18.0</td>\n",
       "      <td>27.0</td>\n",
       "      <td>14.0</td>\n",
       "      <td>61.0</td>\n",
       "      <td>19.0</td>\n",
       "      <td>8.0</td>\n",
       "      <td>15.0</td>\n",
       "      <td>0.0</td>\n",
       "      <td>1014.0</td>\n",
       "    </tr>\n",
       "    <tr>\n",
       "      <th>2019-08-15</th>\n",
       "      <td>0.499625</td>\n",
       "      <td>22.0</td>\n",
       "      <td>17.0</td>\n",
       "      <td>27.0</td>\n",
       "      <td>14.0</td>\n",
       "      <td>61.0</td>\n",
       "      <td>20.0</td>\n",
       "      <td>8.0</td>\n",
       "      <td>13.0</td>\n",
       "      <td>0.0</td>\n",
       "      <td>1016.0</td>\n",
       "    </tr>\n",
       "    <tr>\n",
       "      <th>2019-08-16</th>\n",
       "      <td>0.499995</td>\n",
       "      <td>22.0</td>\n",
       "      <td>18.0</td>\n",
       "      <td>27.0</td>\n",
       "      <td>14.0</td>\n",
       "      <td>64.0</td>\n",
       "      <td>20.0</td>\n",
       "      <td>7.0</td>\n",
       "      <td>11.0</td>\n",
       "      <td>0.0</td>\n",
       "      <td>1016.0</td>\n",
       "    </tr>\n",
       "    <tr>\n",
       "      <th>2019-08-17</th>\n",
       "      <td>0.499773</td>\n",
       "      <td>22.0</td>\n",
       "      <td>17.0</td>\n",
       "      <td>27.0</td>\n",
       "      <td>15.0</td>\n",
       "      <td>63.0</td>\n",
       "      <td>21.0</td>\n",
       "      <td>8.0</td>\n",
       "      <td>15.0</td>\n",
       "      <td>0.0</td>\n",
       "      <td>1017.0</td>\n",
       "    </tr>\n",
       "    <tr>\n",
       "      <th>2019-08-18</th>\n",
       "      <td>0.498959</td>\n",
       "      <td>24.0</td>\n",
       "      <td>18.0</td>\n",
       "      <td>29.0</td>\n",
       "      <td>17.0</td>\n",
       "      <td>64.0</td>\n",
       "      <td>20.0</td>\n",
       "      <td>7.0</td>\n",
       "      <td>11.0</td>\n",
       "      <td>0.0</td>\n",
       "      <td>1016.0</td>\n",
       "    </tr>\n",
       "  </tbody>\n",
       "</table>\n",
       "<p>1222 rows × 11 columns</p>\n",
       "</div>"
      ],
      "text/plain": [
       "            sincos_day  TMEDIA °C  TMIN °C  TMAX °C  PUNTORUGIADA °C  \\\n",
       "time                                                                   \n",
       "2016-04-14   -0.227953       17.0     11.0     24.0              8.0   \n",
       "2016-04-15   -0.243136       16.0     12.0     20.0              8.0   \n",
       "2016-04-16   -0.258031       17.0     11.0     21.0              7.0   \n",
       "2016-04-17   -0.272620       17.0     14.0     21.0             11.0   \n",
       "2016-04-18   -0.286886       17.0     13.0     23.0              8.0   \n",
       "...                ...        ...      ...      ...              ...   \n",
       "2019-08-14    0.498662       22.0     18.0     27.0             14.0   \n",
       "2019-08-15    0.499625       22.0     17.0     27.0             14.0   \n",
       "2019-08-16    0.499995       22.0     18.0     27.0             14.0   \n",
       "2019-08-17    0.499773       22.0     17.0     27.0             15.0   \n",
       "2019-08-18    0.498959       24.0     18.0     29.0             17.0   \n",
       "\n",
       "            UMIDITA %  VISIBILITA km  VENTOMEDIA km/h  VENTOMAX km/h  \\\n",
       "time                                                                   \n",
       "2016-04-14       58.0           10.0             10.0           19.0   \n",
       "2016-04-15       57.0           10.0              9.0           17.0   \n",
       "2016-04-16       53.0           10.0              7.0           17.0   \n",
       "2016-04-17       65.0           10.0              9.0           19.0   \n",
       "2016-04-18       57.0           10.0              9.0           24.0   \n",
       "...               ...            ...              ...            ...   \n",
       "2019-08-14       61.0           19.0              8.0           15.0   \n",
       "2019-08-15       61.0           20.0              8.0           13.0   \n",
       "2019-08-16       64.0           20.0              7.0           11.0   \n",
       "2019-08-17       63.0           21.0              8.0           15.0   \n",
       "2019-08-18       64.0           20.0              7.0           11.0   \n",
       "\n",
       "            RAFFICA km/h  PRESSIONESLM mb  \n",
       "time                                       \n",
       "2016-04-14           0.0           1008.0  \n",
       "2016-04-15           0.0           1012.0  \n",
       "2016-04-16           0.0           1011.0  \n",
       "2016-04-17           0.0           1010.0  \n",
       "2016-04-18          33.0           1011.0  \n",
       "...                  ...              ...  \n",
       "2019-08-14           0.0           1014.0  \n",
       "2019-08-15           0.0           1016.0  \n",
       "2019-08-16           0.0           1016.0  \n",
       "2019-08-17           0.0           1017.0  \n",
       "2019-08-18           0.0           1016.0  \n",
       "\n",
       "[1222 rows x 11 columns]"
      ]
     },
     "execution_count": 37,
     "metadata": {},
     "output_type": "execute_result"
    }
   ],
   "source": [
    "train.iloc[:,list(range(4,full_dataset.shape[1]-8))]"
   ]
  },
  {
   "cell_type": "code",
   "execution_count": null,
   "metadata": {},
   "outputs": [],
   "source": []
  }
 ],
 "metadata": {
  "kernelspec": {
   "display_name": "Python 3",
   "language": "python",
   "name": "python3"
  },
  "language_info": {
   "codemirror_mode": {
    "name": "ipython",
    "version": 3
   },
   "file_extension": ".py",
   "mimetype": "text/x-python",
   "name": "python",
   "nbconvert_exporter": "python",
   "pygments_lexer": "ipython3",
   "version": "3.7.5"
  }
 },
 "nbformat": 4,
 "nbformat_minor": 4
}
