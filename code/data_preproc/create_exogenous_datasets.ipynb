{
 "cells": [
  {
   "cell_type": "code",
   "execution_count": 13,
   "metadata": {},
   "outputs": [],
   "source": [
    "import pandas as pd\n",
    "import numpy as np\n",
    "import os\n",
    "from datetime import datetime, timedelta"
   ]
  },
  {
   "cell_type": "code",
   "execution_count": 14,
   "metadata": {},
   "outputs": [],
   "source": [
    "# Exogenous weather data\n",
    "parser = lambda date: datetime.strptime(date, '%d/%m/%Y')\n",
    "milan_weather_df = pd.read_csv(\"../datasets/Eso_data/weather/milano_weather_data.csv\", index_col=[1], parse_dates=True, date_parser=parser)\n",
    "turin_weather_df = pd.read_csv(\"../datasets/Eso_data/weather/torino_weather_data.csv\", index_col=[1], parse_dates=True, date_parser=parser)\n",
    "rome_weather_df = pd.read_csv(\"../datasets/Eso_data/weather/roma_weather_data.csv\", index_col=[1], parse_dates=True, date_parser=parser)"
   ]
  },
  {
   "cell_type": "code",
   "execution_count": 15,
   "metadata": {},
   "outputs": [],
   "source": [
    "def augment_daily_store_data (store_df, loc_weather_df):\n",
    "    store_daily_totals = store_df\n",
    "        \n",
    "    ## TIME DATA\n",
    "    # First add the exougenous variables we can extract directly from the time element\n",
    "    day_yearly_nr = np.array(list(map(int, store_daily_totals.index.strftime('%j').tolist())))\n",
    "    nrm_days = day_yearly_nr/365\n",
    "    store_daily_totals[\"sin_day\"] =  np.sin((day_yearly_nr/365) * 2*np.pi)\n",
    "    store_daily_totals[\"cos_day\"] = np.cos((day_yearly_nr/365) * 2*np.pi)\n",
    "    store_daily_totals[\"sincos_day\"] = np.sin((day_yearly_nr/365) * 2*np.pi) * np.cos((day_yearly_nr/365) * 2*np.pi)\n",
    "    store_daily_totals[\"day_of_week\"] = store_daily_totals.index.dayofweek\n",
    "\n",
    "    ## WEATHER DATA\n",
    "    # We won't be using the following cols (too many nan vals)\n",
    "    loc_weather_df = loc_weather_df.drop([\"LOCALITA\", \"PRESSIONEMEDIA mb\", \"PIOGGIA mm\"], axis=1)\n",
    "    loc_weather_df = loc_weather_df.loc[store_daily_totals.index[0]:,:]\n",
    "    \n",
    "    # Binary encode the weather phenomena: rainy or not:\n",
    "    loc_weather_df.FENOMENI.fillna(\"good\", inplace=True)\n",
    "    loc_weather_df[\"conditions\"] = [-1 if(\"pioggia\" in phenom or \"neve\" in phenom) else 1 for phenom in loc_weather_df.FENOMENI.values]\n",
    "    loc_weather_df = loc_weather_df.drop(\"FENOMENI\", axis=1)\n",
    "\n",
    "    # Here we add exogenous data we run the train the network with and without these new data. \n",
    "    # If the prediction improves then we are looking at leading indicator and better forecast accuracy.\n",
    "    store_daily_weather_augmented = store_daily_totals.copy(deep=True)\n",
    "    for w_col in loc_weather_df.columns:\n",
    "        store_daily_weather_augmented[w_col] = loc_weather_df.loc[:, w_col]\n",
    "    \n",
    "    # Find and replace NAN values in sales and replace them if they are present\n",
    "    nan_indices = store_daily_weather_augmented[loc_weather_df.isnull().any(axis=1)].index\n",
    "    for nan_idx in nan_indices:\n",
    "        n_days_before = nan_idx - timedelta(days=3)\n",
    "        before_nan = nan_idx - timedelta(days=1)\n",
    "        store_daily_weather_augmented.fillna(np.mean(store_daily_weather_augmented.loc[n_days_before:before_nan]), inplace=True)\n",
    "\n",
    "    \n",
    "    return store_daily_weather_augmented"
   ]
  },
  {
   "cell_type": "code",
   "execution_count": 25,
   "metadata": {},
   "outputs": [],
   "source": [
    "def augment_weekly_store_data (store_df, loc_weather_df):\n",
    "    store_weekly_totals = store_df\n",
    "\n",
    "    ## TIME DATA\n",
    "    week_nr_values = store_weekly_totals.index.week\n",
    "    store_weekly_totals[\"sin_week\"] =  np.sin((week_nr_values/53) * 2*np.pi)\n",
    "    store_weekly_totals[\"cos_week\"] = np.cos((week_nr_values/53) * 2*np.pi)\n",
    "    store_weekly_totals[\"sincos_week\"] = np.sin((week_nr_values/53) * 2*np.pi) * np.cos((week_nr_values/53) * 2*np.pi)\n",
    "    \n",
    "    ## WEATHER DATA\n",
    "    # We won't be using the following cols (too many nan vals)\n",
    "    loc_weather_df = loc_weather_df.drop([\"LOCALITA\", \"PRESSIONEMEDIA mb\", \"PIOGGIA mm\"], axis=1)\n",
    "    # Binary encode the weather phenomena: rainy or not:\n",
    "    loc_weather_df.FENOMENI.fillna(\"good\", inplace=True)\n",
    "    loc_weather_df[\"conditions\"] = [-1 if(\"pioggia\" in phenom or \"neve\" in phenom) else 1 for phenom in loc_weather_df.FENOMENI.values]\n",
    "    loc_weather_df = loc_weather_df.drop(\"FENOMENI\", axis=1)\n",
    "    \n",
    "    # Group data by week (starting with the date 01-01 of the the first year) and aggregate by mean\n",
    "    loc_weather_df = loc_weather_df.groupby([pd.Grouper(freq = \"W-MON\")]).agg(np.mean)\n",
    "    loc_weather_df[\"PRESSIONESLM mb\"] = loc_weather_df[\"PRESSIONESLM mb\"].fillna(np.mean(loc_weather_df[\"PRESSIONESLM mb\"]))\n",
    "    loc_weather_df[\"conditions\"] = [-1 if val<0 else 1 for val in loc_weather_df.conditions.values]\n",
    "    loc_weather_df = loc_weather_df.loc[store_weekly_totals.index[0]:,:]\n",
    "\n",
    "    # Here we add exogenous data we run the train the network with and without these new data. \n",
    "    # If the prediction improves then we are looking at leading indicator and better forecast accuracy.\n",
    "    store_weekly_weather_augmented = store_weekly_totals.copy(deep=True)\n",
    "    for w_col in loc_weather_df.columns:\n",
    "        store_weekly_weather_augmented[w_col] = loc_weather_df.loc[:, w_col]\n",
    "    \n",
    "    nan_indices = store_weekly_weather_augmented[store_weekly_weather_augmented.isnull().any(axis=1)].index\n",
    "    for nan_idx in nan_indices:\n",
    "        n_weeks_before = nan_idx - timedelta(weeks=3)\n",
    "        before_nan = nan_idx - timedelta(weeks=1)\n",
    "        store_weekly_weather_augmented.fillna(np.mean(store_weekly_weather_augmented.loc[n_weeks_before:before_nan]), inplace=True)\n",
    "        \n",
    "    return store_weekly_weather_augmented"
   ]
  },
  {
   "cell_type": "code",
   "execution_count": 17,
   "metadata": {},
   "outputs": [
    {
     "name": "stdout",
     "output_type": "stream",
     "text": [
      "rome_neg_tibur_data.csv rome weather\n",
      "turin_cc_juve_data.csv turin weather\n",
      "turin_cc_todor_data.csv turin weather\n",
      "rome_neg_tusc1_data.csv rome weather\n",
      "turin_cc_niche_data.csv turin weather\n",
      "turin_cc_beina_data.csv turin weather\n",
      "turin_cc_torin_data.csv turin weather\n",
      "rome_neg_tusc2_data.csv rome weather\n",
      "rome_cc_eur2_data.csv rome weather\n",
      "milan_cc_arese_data.csv milan weather\n",
      "milan_cc_busna_data.csv milan weather\n",
      "rome_neg_rmnaz_data.csv rome weather\n"
     ]
    }
   ],
   "source": [
    "# Augment and export daily data\n",
    "daily_directory = os.fsencode(\"../datasets/ts_data/newdaily/daily/\")\n",
    "\n",
    "for file in os.listdir(daily_directory):\n",
    "    filename = os.fsdecode(file)\n",
    "    if filename.endswith(\".csv\"): \n",
    "        current_daily_data = pd.read_csv(\"../datasets/ts_data/newdaily/daily/\"+filename, index_col=[0], parse_dates=True)\n",
    "        if(\"milan\" in filename):\n",
    "            current_daily_data_aug = augment_daily_store_data(current_daily_data, milan_weather_df)\n",
    "            print(filename, \"milan weather\")\n",
    "        elif(\"turin\" in filename):\n",
    "            current_daily_data_aug = augment_daily_store_data(current_daily_data, turin_weather_df)\n",
    "            print(filename, \"turin weather\")\n",
    "        else:\n",
    "            current_daily_data_aug = augment_daily_store_data(current_daily_data, rome_weather_df)\n",
    "            print(filename, \"rome weather\")\n",
    "\n",
    "        current_daily_data_aug.to_csv(\"aug_\"+filename)"
   ]
  },
  {
   "cell_type": "code",
   "execution_count": 27,
   "metadata": {},
   "outputs": [
    {
     "name": "stdout",
     "output_type": "stream",
     "text": [
      "rome_neg_rmnaz_data_w.csv rome weather\n",
      "turin_cc_torin_data_w.csv turin weather\n",
      "milan_cc_busna_data_w.csv milan weather\n",
      "rome_neg_tusc2_data_w.csv rome weather\n",
      "rome_cc_eur2_data_w.csv rome weather\n",
      "rome_neg_tibur_data_w.csv rome weather\n",
      "rome_neg_tusc1_data_w.csv rome weather\n",
      "turin_cc_beina_data_w.csv turin weather\n",
      "turin_cc_todor_data_w.csv turin weather\n",
      "turin_cc_juve_data_w.csv turin weather\n",
      "turin_cc_niche_data_w.csv turin weather\n",
      "milan_cc_arese_data_w.csv milan weather\n"
     ]
    }
   ],
   "source": [
    "# Augment and export weekly data\n",
    "weekly_directory = os.fsencode(\"../datasets/ts_data/newdaily/weekly/\")\n",
    "\n",
    "for file in os.listdir(weekly_directory):\n",
    "    filename = os.fsdecode(file)\n",
    "    if filename.endswith(\".csv\"):\n",
    "        current_weekly_data = pd.read_csv(\"../datasets/ts_data/newdaily/weekly/\"+filename, index_col=[0], parse_dates=True)\n",
    "        if(\"milan\" in filename):\n",
    "            current_weekly_data_aug = augment_weekly_store_data(current_weekly_data, milan_weather_df)\n",
    "            print(filename, \"milan weather\")\n",
    "        elif(\"turin\" in filename):\n",
    "            current_weekly_data_aug = augment_weekly_store_data(current_weekly_data, turin_weather_df)\n",
    "            print(filename, \"turin weather\")\n",
    "        else:\n",
    "            current_weekly_data_aug = augment_weekly_store_data(current_weekly_data, rome_weather_df)\n",
    "            print(filename, \"rome weather\")\n",
    "\n",
    "        current_weekly_data_aug.to_csv(\"aug_\"+filename)"
   ]
  },
  {
   "cell_type": "code",
   "execution_count": null,
   "metadata": {},
   "outputs": [],
   "source": []
  }
 ],
 "metadata": {
  "kernelspec": {
   "display_name": "Python 3",
   "language": "python",
   "name": "python3"
  },
  "language_info": {
   "codemirror_mode": {
    "name": "ipython",
    "version": 3
   },
   "file_extension": ".py",
   "mimetype": "text/x-python",
   "name": "python",
   "nbconvert_exporter": "python",
   "pygments_lexer": "ipython3",
   "version": "3.7.5"
  }
 },
 "nbformat": 4,
 "nbformat_minor": 4
}
