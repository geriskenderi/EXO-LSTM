{
 "cells": [
  {
   "cell_type": "code",
   "execution_count": 60,
   "metadata": {},
   "outputs": [],
   "source": [
    "import time\n",
    "import datetime\n",
    "import random\n",
    "import math\n",
    "import torch\n",
    "import torch.nn as nn\n",
    "import torch.nn.functional as F\n",
    "import torch.optim as optim\n",
    "import pandas as pd\n",
    "import numpy as np\n",
    "import matplotlib.pyplot as plt\n",
    "import seaborn as sns\n",
    "import statsmodels.api as sm\n",
    "import pmdarima as pm\n",
    "from stldecompose import decompose, forecast\n",
    "from stldecompose.forecast_funcs import (naive, drift, mean, seasonal_naive) "
   ]
  },
  {
   "cell_type": "markdown",
   "metadata": {},
   "source": [
    "# NN model definition"
   ]
  },
  {
   "cell_type": "code",
   "execution_count": 2,
   "metadata": {},
   "outputs": [],
   "source": [
    "class Model(nn.Module):\n",
    "    def __init__(self, input_size, hidden_size, output_size):\n",
    "        super(Model, self).__init__()\n",
    "        self.input_size = input_size\n",
    "        self.hidden_size = hidden_size\n",
    "        self.output_size = output_size\n",
    "        self.lstm = nn.LSTMCell(self.input_size, self.hidden_size)\n",
    "        self.linear = nn.Linear(self.hidden_size, self.output_size)\n",
    "\n",
    "    def forward(self, input, future=0, y=None):\n",
    "        outputs = []\n",
    "\n",
    "        # reset the state of LSTM\n",
    "        # the state is kept till the end of the sequence\n",
    "        h_t = torch.zeros(input.size(0), self.hidden_size, dtype=torch.float32)\n",
    "        c_t = torch.zeros(input.size(0), self.hidden_size, dtype=torch.float32)\n",
    "\n",
    "        for i, input_t in enumerate(input.chunk(input.size(1), dim=1)):\n",
    "            h_t, c_t = self.lstm(input_t.squeeze(1), (h_t, c_t))\n",
    "            output = self.linear(h_t)\n",
    "\n",
    "            outputs += [output]\n",
    "\n",
    "        for i in range(future):\n",
    "            if y is not None and random.random() > 0.5:\n",
    "                output = y[:, [i]]  # teacher forcing\n",
    "            if output.dim()<3:\n",
    "                output=output.unsqueeze(1)\n",
    "            h_t, c_t = self.lstm(output.squeeze(1), (h_t, c_t))\n",
    "            output = self.linear(h_t)\n",
    "            outputs += [output]\n",
    "        outputs = torch.stack(outputs, 1)\n",
    "        return outputs\n"
   ]
  },
  {
   "cell_type": "markdown",
   "metadata": {},
   "source": [
    "# Optimization Class"
   ]
  },
  {
   "cell_type": "code",
   "execution_count": 3,
   "metadata": {},
   "outputs": [],
   "source": [
    "class Optimization:\n",
    "    \"\"\" A helper class to train, test and diagnose the LSTM\"\"\"\n",
    "\n",
    "    def __init__(self, model, loss_fn, optimizer, scheduler):\n",
    "        self.model = model\n",
    "        self.loss_fn = loss_fn\n",
    "        self.optimizer = optimizer\n",
    "        self.scheduler = scheduler\n",
    "        self.train_losses = []\n",
    "        self.val_losses = []\n",
    "        self.futures = []\n",
    "\n",
    "    @staticmethod\n",
    "    def generate_batch_data(x, y, batch_size):\n",
    "        for batch, i in enumerate(range(0, len(x) - batch_size, batch_size)):\n",
    "            x_batch = x[i : i + batch_size]\n",
    "            y_batch = y[i : i + batch_size]\n",
    "            yield x_batch, y_batch, batch\n",
    "\n",
    "    def train(\n",
    "        self,\n",
    "        x_train,\n",
    "        y_train,\n",
    "        x_val=None,\n",
    "        y_val=None,\n",
    "        batch_size=12,\n",
    "        n_epochs=100,\n",
    "        do_teacher_forcing=None,\n",
    "    ):\n",
    "        seq_len = x_train.shape[1]\n",
    "        for epoch in range(n_epochs):\n",
    "            start_time = time.time()\n",
    "            self.futures = []\n",
    "            train_loss = 0\n",
    "            for x_batch, y_batch, batch in self.generate_batch_data(x_train, y_train, batch_size):\n",
    "                y_pred = self._predict(x_batch, y_batch, seq_len, do_teacher_forcing)\n",
    "                self.optimizer.zero_grad()\n",
    "                loss = self.loss_fn(y_pred, y_batch)\n",
    "                loss.backward()\n",
    "                self.optimizer.step()\n",
    "                train_loss += loss.item()\n",
    "            self.scheduler.step()\n",
    "            train_loss /= batch\n",
    "            self.train_losses.append(train_loss)\n",
    "            self._validation(x_val, y_val, batch_size)\n",
    "\n",
    "            elapsed = time.time() - start_time\n",
    "            print(\n",
    "                \"Epoch %d Train loss: %.2f. Validation loss: %.2f. Avg future: %.2f. Elapsed time: %.2fs.\"\n",
    "                % (epoch + 1, train_loss, self.val_losses[-1], np.average(self.futures), elapsed)\n",
    "            )\n",
    "\n",
    "    def _predict(self, x_batch, y_batch, seq_len, do_teacher_forcing):\n",
    "        if do_teacher_forcing:\n",
    "            future = random.randint(1, int(seq_len) // 2)\n",
    "            limit = x_batch.size(1) - future\n",
    "            y_pred = self.model(x_batch[:, :limit], future=future, y=y_batch[:, limit:])\n",
    "        else:\n",
    "            future = 0\n",
    "            y_pred = self.model(x_batch)\n",
    "        self.futures.append(future)\n",
    "        return y_pred\n",
    "\n",
    "    def _validation(self, x_val, y_val, batch_size):\n",
    "        if x_val is None or y_val is None:\n",
    "            return\n",
    "        with torch.no_grad():\n",
    "            val_loss = 0\n",
    "            for x_batch, y_batch, batch in self.generate_batch_data(x_val, y_val, batch_size):\n",
    "                y_pred = self.model(x_batch)\n",
    "                loss = self.loss_fn(y_pred, y_batch)\n",
    "                val_loss += loss.item()\n",
    "            val_loss /= batch\n",
    "            self.val_losses.append(val_loss)\n",
    "\n",
    "    def evaluate(self, x_test, y_test, batch_size, future=1):\n",
    "        with torch.no_grad():\n",
    "            test_loss = 0\n",
    "            actual, predicted = [], []\n",
    "            for x_batch, y_batch, batch in self.generate_batch_data(x_test, y_test, batch_size):\n",
    "                y_pred = self.model(x_batch, future=future)\n",
    "                y_pred = (\n",
    "                    y_pred[:, -len(y_batch) :] if y_pred.shape[1] > y_batch.shape[1] else y_pred\n",
    "                )\n",
    "                loss = self.loss_fn(y_pred, y_batch)\n",
    "                test_loss += loss.item()\n",
    "                actual += torch.squeeze(y_batch[:, -1]).data.cpu().numpy().tolist()\n",
    "                predicted += torch.squeeze(y_pred[:, -1]).data.cpu().numpy().tolist()\n",
    "            test_loss /= batch\n",
    "            return actual, predicted, test_loss\n",
    "\n",
    "    def plot_losses(self):\n",
    "        plt.plot(self.train_losses, label=\"Training loss\")\n",
    "        plt.plot(self.val_losses, label=\"Validation loss\")\n",
    "        plt.legend()\n",
    "        plt.title(\"Losses\")"
   ]
  },
  {
   "cell_type": "markdown",
   "metadata": {},
   "source": [
    "# Auxilliary functions"
   ]
  },
  {
   "cell_type": "code",
   "execution_count": 4,
   "metadata": {},
   "outputs": [],
   "source": [
    "# Build index in order to transform data into time series\n",
    "def dateindex_from_weeknum(weeknum, year):\n",
    "    if weeknum == 1:\n",
    "        date_str = \"\" + str(year) + \"-01-01\"\n",
    "        dateindex = datetime.datetime.strptime(date_str, \"%Y-%m-%d\")\n",
    "    else:\n",
    "        date_str = \"\" + str(year) + \"-W\" + str(weeknum-1) + \"-1\"\n",
    "        dateindex = datetime.datetime.strptime(date_str, \"%Y-W%W-%w\")\n",
    "\n",
    "    return dateindex"
   ]
  },
  {
   "cell_type": "code",
   "execution_count": 5,
   "metadata": {},
   "outputs": [],
   "source": [
    "def test_stationarity(ts):\n",
    "    \n",
    "    ### Method 1: Calculate and plot rolling statistics like the mean and standard deviation\n",
    "    roll_mean = ts.rolling(window=12).mean()\n",
    "    roll_std = ts.rolling(window=12).std()\n",
    "     \n",
    "    plt.plot(ts, color=\"blue\", label=\"Original TS\")\n",
    "    plt.plot(roll_mean, color=\"red\", label=\"Rolling Mean\")\n",
    "    plt.plot(roll_std, color=\"green\", label=\"Rolling STD\")\n",
    "    plt.legend(loc=\"best\")\n",
    "    plt.show()\n",
    "    \n",
    "    ### Method 2: Use the Dickey-Fuller statistical test \n",
    "    print(\"Performing Dickey-Fuller statistical test...\")\n",
    "    dftest = adfuller(ts, autolag=\"AIC\")\n",
    "    \n",
    "    test_results = pd.Series(dftest[0:4], index=[\"Test statistic\", \"p-value\", \"#Lags used\", \"#Observations used\"])\n",
    "    for key, alpha_lvl in dftest[4].items():\n",
    "        test_results['Critical Value (%s)'%key] = alpha_lvl\n",
    "    print(test_results)"
   ]
  },
  {
   "cell_type": "code",
   "execution_count": 6,
   "metadata": {},
   "outputs": [],
   "source": [
    "def augment_store_data (store_df, loc_weather_df):\n",
    "    ## PREPROCESS THE ORIGINAL STORE DATA\n",
    "    \n",
    "    # Drop unnamed column and listino column, we won't be using those\n",
    "    store_df = store_df.drop([\"Unnamed: 0\", \"listino\"], axis=1)\n",
    "\n",
    "    # Build datetime index\n",
    "    store_df[\"time\"] = [dateindex_from_weeknum(week_year[0], week_year[1]) for week_year in store_df[[\"settimana\", \"anno\"]].values]\n",
    "    store_df = store_df.set_index([\"time\"])\n",
    "    store_df.index = pd.to_datetime(store_df.index) # make ts\n",
    "\n",
    "    # Sort the data based on the new time index\n",
    "    store_df.sort_index(inplace=True)\n",
    "\n",
    "    # Aggregate the data to get the total sales of each week\n",
    "    store_weekly_totals = store_df.groupby(pd.Grouper(freq = \"W-MON\")).agg({\n",
    "        \"vendita\": np.sum,\n",
    "        \"settimana\": np.min, \n",
    "        \"anno\": np.min,\n",
    "    })\n",
    "\n",
    "    # Check for NAN values and replace them if they are present\n",
    "    nan_indices = store_weekly_totals[store_weekly_totals.isnull().any(axis=1)].index\n",
    "    for nan_idx in nan_indices:\n",
    "        store_weekly_totals.loc[nan_idx, \"vendita\"] = np.mean(store_weekly_totals.loc[:nan_idx,\"vendita\"].values)\n",
    "        store_weekly_totals.loc[nan_idx, \"settimana\"] = nan_idx.week\n",
    "        store_weekly_totals.loc[nan_idx, \"anno\"] = nan_idx.year\n",
    "        \n",
    "    # Drop 2020 data (we won't be using them)\n",
    "    store_weekly_totals.drop(store_weekly_totals.loc[\"2020\"].index, inplace=True)\n",
    "    \n",
    "    ## PREPROCESS AND ADD WEATHER DATA\n",
    "    \n",
    "    # Converting the index as datetime index\n",
    "    loc_weather_df = loc_weather_df.set_index([\"DATA\"])\n",
    "    loc_weather_df.index = pd.to_datetime(loc_weather_df.index) # make ts\n",
    "\n",
    "    # We can't really group the different weather fenomenons happening each day that column can't be used\n",
    "    # Also the rain and average pressure cols are useless, they only have values of 0 or nan.\n",
    "    # We won't be using those either \n",
    "    loc_weather_df = loc_weather_df.drop([\"LOCALITA\", \"FENOMENI\", \"PIOGGIA mm\", \"PRESSIONEMEDIA mb\"], axis=1)\n",
    "    # Group data by week (starting with the date 01-01 of the the first year) and aggregate by mean\n",
    "    loc_weather_df = loc_weather_df.groupby([pd.Grouper(freq = \"W-MON\")]).agg(np.mean)\n",
    "    loc_weather_df = loc_weather_df.fillna(0).astype(int)\n",
    "\n",
    "    # Here we add exogenous data we run the train the network with and without these new data. \n",
    "    # If the prediction improves then we are looking at leading indicator and better forecast accuracy.\n",
    "    store_weekly_weather_augmented = store_weekly_totals.copy(deep=True)\n",
    "    for w_col in loc_weather_df.columns:\n",
    "        store_weekly_weather_augmented[w_col] = loc_weather_df.loc[:, w_col]\n",
    "    \n",
    "    return store_weekly_totals, store_weekly_weather_augmented"
   ]
  },
  {
   "cell_type": "code",
   "execution_count": 7,
   "metadata": {},
   "outputs": [],
   "source": [
    "def ts_train_test_split(df, test_length=0.2):\n",
    "    # Perform train-test split\n",
    "    split_index = int(df.shape[0]*test_length)\n",
    "    train = df[:-split_index]\n",
    "    test = df[-split_index:]    \n",
    "    return train, test"
   ]
  },
  {
   "cell_type": "code",
   "execution_count": 8,
   "metadata": {},
   "outputs": [],
   "source": [
    "def prepare_for_network(train, test):\n",
    "    # Build the full training and testing dataframes\n",
    "    # In order to pass the data to the LSTM we need to transform it so it is in the range [-1,1]\n",
    "    # We scale all our data in order to build the final training and test dataframes\n",
    "    tr_df = train.copy(deep=True)\n",
    "    te_df = test.copy(deep=True)\n",
    "    for col in tr_df.columns:\n",
    "        #print(tr_df.loc[:, col])\n",
    "        # mean std Z standardization\n",
    "        mean = np.mean(train.loc[:,col].values)\n",
    "        std = np.std(train.loc[:,col].values)\n",
    "        \n",
    "        tr_df.loc[:, col] = (train.loc[:,col].values-mean)/std\n",
    "        te_df.loc[:, col] = (test.loc[:,col].values-mean)/std\n",
    "        \n",
    "    \n",
    "    return tr_df, te_df"
   ]
  },
  {
   "cell_type": "code",
   "execution_count": 9,
   "metadata": {},
   "outputs": [],
   "source": [
    "def build_in_out_seq(tr_df, te_df, desired_input_features, in_len=6, out_len=2):\n",
    "    # Building the NN input and outputs. LSTM will expect a supervised learning problem, hence we need to build\n",
    "    # input sequences that will have output sequences which the model will then learn.\n",
    "\n",
    "    # Training\n",
    "    inp_tr = np.stack([tr_df.shift(i).values for i in range(out_len, out_len+in_len)], axis=1)[out_len+in_len:, -1::-1, desired_input_features].copy()\n",
    "    out_tr = np.stack([tr_df.shift(i).values for i in range(out_len)], axis=1)[out_len+in_len:, -1::-1, desired_input_features].copy()\n",
    "    # Testing\n",
    "    inp_te = np.stack([te_df.shift(i).values for i in range(out_len, out_len+in_len)], axis=1)[out_len+in_len:, -1::-1, desired_input_features].copy()\n",
    "    out_te = np.stack([te_df.shift(i).values for i in range(out_len)], axis=1)[out_len+in_len:, -1::-1, desired_input_features].copy()\n",
    "    print(\"Inputs for training\")\n",
    "    print(inp_tr.shape)\n",
    "    print(\"Outputs for training\")\n",
    "    print(out_tr.shape)\n",
    "    print(\"Inputs for testing\")\n",
    "    print(inp_te.shape)\n",
    "    print(\"Outputs for testing\")\n",
    "    print(out_te.shape)\n",
    "    print(\"\\n\")\n",
    "\n",
    "    return inp_tr, out_tr, inp_te, out_te"
   ]
  },
  {
   "cell_type": "code",
   "execution_count": 10,
   "metadata": {},
   "outputs": [],
   "source": [
    "def check_lstm_forecast_results(pred, inp_te, out_te, poll_mean, poll_std, in_len=6, out_len=2):\n",
    "    # *Data back needs to rescaled back to normal*\n",
    "    #print(out_te.shape)\n",
    "    #plt.title(\"One step forecast for first \" + str(out_te.shape[0]) +  \" test out entries\")\n",
    "    #plt.plot(range(0,out_te.shape[0]),out_te[:out_te.shape[0],0,0]*poll_std+poll_mean,label=\"GT\")\n",
    "    #plt.plot(range(0,out_te.shape[0]),pred[:out_te.shape[0],-2,0].detach().cpu().numpy()*poll_std+poll_mean,label=\"Predictions\")\n",
    "    #plt.legend()\n",
    "    #plt.show()\n",
    "\n",
    "    #plt.title(\"Forecast of \" +str(out_len) + \" weeks given \" + str(in_len))\n",
    "    #plt.plot(range(0,in_len+out_len),np.concatenate((inp_te[0,:,0],out_te[0,:,0]),0)*poll_std+poll_mean,label=\"GT\")\n",
    "    #plt.plot(range(in_len,in_len+out_len),pred[0,-out_len:,0].detach().cpu().numpy()*poll_std+poll_mean,label=\"Forecast\")\n",
    "    #plt.legend()\n",
    "    #plt.show()\n",
    "    \n",
    "    pred_vec = (pred[:,-out_len,0].detach().cpu().numpy() * poll_std) + poll_mean\n",
    "    real_vec = (out_te[:,0,0] * poll_std) + poll_mean\n",
    "    \n",
    "    # Numerical evaluation based on RMSE and MAE \n",
    "    #rmse = sm.tools.eval_measures.rmse((pred[:, -2,0].detach().cpu().numpy() * poll_std) + poll_mean, ((out_te[:, 0,0] * poll_std) + poll_mean))\n",
    "    #mae = sm.tools.eval_measures.meanabs((pred[:, -2,0].detach().cpu().numpy() * poll_std) + poll_mean, ((out_te[:, 0,0] * poll_std) + poll_mean))\n",
    "    rmse = sm.tools.eval_measures.rmse(pred_vec, real_vec)\n",
    "    mae = sm.tools.eval_measures.meanabs(pred_vec, real_vec)\n",
    "    #plt.plot(real_vec, label=\"Real Test\")\n",
    "    #plt.plot(pred_vec, label=\"Pred Test\")\n",
    "    #plt.legend()\n",
    "    #plt.show()\n",
    "\n",
    "    #diff_error = np.abs(((pred[:,-2,0].detach().cpu().numpy() * poll_std) + poll_mean) - ((out_te[:,0,0] * poll_std) + poll_mean))\n",
    "    # pct_mae = (diff_error/real_vec)\n",
    "    # print(pct_mae, \"\\n\\n\")\n",
    "    # print(diff_error, \"\\n\\n\")\n",
    "    # print(np.mean(pct_mae))\n",
    "    # print(out_te.shape, pct_mae.shape)\n",
    "    \n",
    "    #print(\"RMSE value:\", rmse)\n",
    "    #print(\"MAE value:\", mae)\n",
    "    \n",
    "    return rmse, mae"
   ]
  },
  {
   "cell_type": "code",
   "execution_count": 11,
   "metadata": {},
   "outputs": [],
   "source": [
    "def cols_with_most_corr(df, forecast_target_col=0, corr_threshhold=0.10):\n",
    "    corr_matrix = df.corr(method=\"spearman\")\n",
    "    corrmat_row = corr_matrix.iloc[forecast_target_col, :]\n",
    "    corrmat_row_vals = corrmat_row.values.tolist()\n",
    "    # Get only the columns that have a correlation coefficient >= corr_threshhold or =< -corr_threshhold\n",
    "    correlated_features = []\n",
    "    for val in corrmat_row_vals:\n",
    "        if (val > corr_threshhold or val < -corr_threshhold):\n",
    "            correlated_features.append(corrmat_row_vals.index(val))\n",
    "    return correlated_features"
   ]
  },
  {
   "cell_type": "code",
   "execution_count": 12,
   "metadata": {},
   "outputs": [],
   "source": [
    "def granger_casuality_for_features(df, n_lags=6):\n",
    "    feature_columns = []\n",
    "    stationary_ts = df - df.shift() \n",
    "    stationary_ts.dropna(inplace=True)\n",
    "    for column in stationary_ts.columns:\n",
    "        gc_res = grangercausalitytests(stationary_ts[[\"vendita\", column]], [n_lags],verbose=False)\n",
    "        test_values = gc_res[n_lags][0][\"params_ftest\"]\n",
    "        if test_values[0] > test_values[1]:\n",
    "            feature_columns.append(df.columns.tolist().index(column))\n",
    "\n",
    "    return feature_columns"
   ]
  },
  {
   "cell_type": "markdown",
   "metadata": {},
   "source": [
    "# Load and clean data"
   ]
  },
  {
   "cell_type": "code",
   "execution_count": 13,
   "metadata": {},
   "outputs": [
    {
     "name": "stdout",
     "output_type": "stream",
     "text": [
      "Milan sales data\n",
      "   Unnamed: 0 codice esterno  vendita  settimana  anno taglia negozio listino\n",
      "0        8313  16SF181BNE-16        1         16  2016     XS   ARESE     LSI\n",
      "1        8511  VA515233NE-16        1         16  2016     XS   ARESE     LSI\n",
      "2        8569  16SF181BBL-16        1         16  2016      S   ARESE     LSI\n",
      "3        8807   ZR121FABI-16        2         16  2016     UN   ARESE     LSI\n",
      "4        8833  16SF181BNE-16        1         16  2016      S   ARESE     LSI\n",
      "\n",
      "\n",
      "Turin sales data\n",
      "   Unnamed: 0  codice esterno  vendita  settimana  anno taglia negozio listino\n",
      "0      652733    2201611NE-17        1         19  2017      M   BEINA     LSI\n",
      "1      653618        TS4BE-17        1         19  2017      S   BEINA     LSI\n",
      "2      653750        TS4BE-17        1         19  2017      M   BEINA     LSI\n",
      "3      653776  30038PE17BL-17        1         20  2017     38   BEINA     LSI\n",
      "4      653867       BY19RS-17        1         20  2017     UN   BEINA     LSI\n",
      "\n",
      "\n",
      "Rome sales data\n",
      "   Unnamed: 0 codice esterno  vendita  settimana  anno taglia negozio listino\n",
      "0     1637612   782882VIO-18        1         37  2018     XS   EURR2     LSI\n",
      "1     1639976   782882VIO-18        1         38  2018      M   EURR2     LSI\n",
      "2     1639978   782882VIO-18        2         38  2018      S   EURR2     LSI\n",
      "3     1640167  LU3493PEFA-18        1         38  2018     UN   EURR2     LSI\n",
      "4     1640192        N4VI-18        1         38  2018      L   EURR2     LSI\n",
      "\n",
      "\n",
      "\n"
     ]
    }
   ],
   "source": [
    "## STORE DATA\n",
    "\n",
    "# Milan data\n",
    "milan_data_df = pd.read_csv(\"../datasets/dati_nunalie/MILANO/ARESE.csv\")\n",
    "milan_data_df = milan_data_df.append(pd.read_csv(\"../datasets/dati_nunalie/MILANO/BUSNA.csv\"))\n",
    "milan_data_df = milan_data_df.append(pd.read_csv(\"../datasets/dati_nunalie/MILANO/PAVIA.csv\"))\n",
    "\n",
    "# Turin data\n",
    "turin_data_df = pd.read_csv(\"../datasets/dati_nunalie/TORINO/BEINA.csv\")\n",
    "turin_data_df = turin_data_df.append(pd.read_csv(\"../datasets/dati_nunalie/TORINO/NICHE.csv\"))\n",
    "turin_data_df = turin_data_df.append(pd.read_csv(\"../datasets/dati_nunalie/TORINO/TODOR.csv\"))\n",
    "turin_data_df = turin_data_df.append(pd.read_csv(\"../datasets/dati_nunalie/TORINO/TORIN.csv\"))\n",
    "\n",
    "# Rome data\n",
    "rome_data_df = pd.read_csv(\"../datasets/dati_nunalie/ROMA/EURR2.csv\")\n",
    "rome_data_df = rome_data_df.append(pd.read_csv(\"../datasets/dati_nunalie/ROMA/RMNAZ.csv\"))\n",
    "rome_data_df = rome_data_df.append(pd.read_csv(\"../datasets/dati_nunalie/ROMA/TIBUR.csv\"))\n",
    "rome_data_df = rome_data_df.append(pd.read_csv(\"../datasets/dati_nunalie/ROMA/TUSC1.csv\"))\n",
    "rome_data_df = rome_data_df.append(pd.read_csv(\"../datasets/dati_nunalie/ROMA/TUSC2.csv\"))\n",
    "\n",
    "print(\"Milan sales data\")\n",
    "print(milan_data_df.head())\n",
    "print(\"\\n\")\n",
    "print(\"Turin sales data\")\n",
    "print(turin_data_df.head())\n",
    "print(\"\\n\")\n",
    "print(\"Rome sales data\")\n",
    "print(rome_data_df.head())\n",
    "print(\"\\n\\n\")\n",
    "\n",
    "## EXOGENOUS DATA\n",
    "\n",
    "# weather\n",
    "milan_weather_df = pd.read_csv(\"../datasets/Eso_data/weather/milano_weather_data.csv\")\n",
    "turin_weather_df = pd.read_csv(\"../datasets/Eso_data/weather/torino_weather_data.csv\")\n",
    "rome_weather_df = pd.read_csv(\"../datasets/Eso_data/weather/roma_weather_data.csv\")"
   ]
  },
  {
   "cell_type": "code",
   "execution_count": 14,
   "metadata": {},
   "outputs": [
    {
     "name": "stdout",
     "output_type": "stream",
     "text": [
      "Milan data original shape: (195, 3)\n",
      "Milan + exogenous data shape: (195, 13)\n",
      "Turin data original shape: (199, 3)\n",
      "Turin + exogenous data shape: (199, 13)\n",
      "Rome data original shape: (200, 3)\n",
      "Rome + exogenous data shape: (200, 13)\n"
     ]
    }
   ],
   "source": [
    "# Augment single location sales data and then put everything together\n",
    "milan_weekly_default, milan_weekly_augmented = augment_store_data(milan_data_df, milan_weather_df)\n",
    "print(\"Milan data original shape:\", milan_weekly_default.shape)\n",
    "print(\"Milan + exogenous data shape:\", milan_weekly_augmented.shape)\n",
    "turin_weekly_default, turin_weekly_augmented = augment_store_data(turin_data_df, turin_weather_df)\n",
    "print(\"Turin data original shape:\", turin_weekly_default.shape)\n",
    "print(\"Turin + exogenous data shape:\", turin_weekly_augmented.shape)\n",
    "rome_weekly_default, rome_weekly_augmented = augment_store_data(rome_data_df, rome_weather_df)\n",
    "print(\"Rome data original shape:\", rome_weekly_default.shape)\n",
    "print(\"Rome + exogenous data shape:\", rome_weekly_augmented.shape)\n",
    "#global_weekly_sales_augmented = milan_weekly_augmented.append(turin_weekly_augmented)\n",
    "#global_weekly_sales_augmented = global_weekly_sales_augmented.append(rome_weekly_augmented)\n",
    "#print(\"All together:\", global_weekly_sales_augmented.shape)\n",
    "#global_weekly_sales_augmented.sort_index(inplace=True)"
   ]
  },
  {
   "cell_type": "code",
   "execution_count": 15,
   "metadata": {},
   "outputs": [
    {
     "data": {
      "text/html": [
       "<div>\n",
       "<style scoped>\n",
       "    .dataframe tbody tr th:only-of-type {\n",
       "        vertical-align: middle;\n",
       "    }\n",
       "\n",
       "    .dataframe tbody tr th {\n",
       "        vertical-align: top;\n",
       "    }\n",
       "\n",
       "    .dataframe thead th {\n",
       "        text-align: right;\n",
       "    }\n",
       "</style>\n",
       "<table border=\"1\" class=\"dataframe\">\n",
       "  <thead>\n",
       "    <tr style=\"text-align: right;\">\n",
       "      <th></th>\n",
       "      <th>Unnamed: 0</th>\n",
       "      <th>codice esterno</th>\n",
       "      <th>vendita</th>\n",
       "      <th>settimana</th>\n",
       "      <th>anno</th>\n",
       "      <th>taglia</th>\n",
       "      <th>negozio</th>\n",
       "      <th>listino</th>\n",
       "    </tr>\n",
       "  </thead>\n",
       "  <tbody>\n",
       "    <tr>\n",
       "      <th>0</th>\n",
       "      <td>8313</td>\n",
       "      <td>16SF181BNE-16</td>\n",
       "      <td>1</td>\n",
       "      <td>16</td>\n",
       "      <td>2016</td>\n",
       "      <td>XS</td>\n",
       "      <td>ARESE</td>\n",
       "      <td>LSI</td>\n",
       "    </tr>\n",
       "    <tr>\n",
       "      <th>1</th>\n",
       "      <td>8511</td>\n",
       "      <td>VA515233NE-16</td>\n",
       "      <td>1</td>\n",
       "      <td>16</td>\n",
       "      <td>2016</td>\n",
       "      <td>XS</td>\n",
       "      <td>ARESE</td>\n",
       "      <td>LSI</td>\n",
       "    </tr>\n",
       "    <tr>\n",
       "      <th>2</th>\n",
       "      <td>8569</td>\n",
       "      <td>16SF181BBL-16</td>\n",
       "      <td>1</td>\n",
       "      <td>16</td>\n",
       "      <td>2016</td>\n",
       "      <td>S</td>\n",
       "      <td>ARESE</td>\n",
       "      <td>LSI</td>\n",
       "    </tr>\n",
       "    <tr>\n",
       "      <th>3</th>\n",
       "      <td>8807</td>\n",
       "      <td>ZR121FABI-16</td>\n",
       "      <td>2</td>\n",
       "      <td>16</td>\n",
       "      <td>2016</td>\n",
       "      <td>UN</td>\n",
       "      <td>ARESE</td>\n",
       "      <td>LSI</td>\n",
       "    </tr>\n",
       "    <tr>\n",
       "      <th>4</th>\n",
       "      <td>8833</td>\n",
       "      <td>16SF181BNE-16</td>\n",
       "      <td>1</td>\n",
       "      <td>16</td>\n",
       "      <td>2016</td>\n",
       "      <td>S</td>\n",
       "      <td>ARESE</td>\n",
       "      <td>LSI</td>\n",
       "    </tr>\n",
       "    <tr>\n",
       "      <th>...</th>\n",
       "      <td>...</td>\n",
       "      <td>...</td>\n",
       "      <td>...</td>\n",
       "      <td>...</td>\n",
       "      <td>...</td>\n",
       "      <td>...</td>\n",
       "      <td>...</td>\n",
       "      <td>...</td>\n",
       "    </tr>\n",
       "    <tr>\n",
       "      <th>18938</th>\n",
       "      <td>2879621</td>\n",
       "      <td>KJ37OR-19</td>\n",
       "      <td>2</td>\n",
       "      <td>11</td>\n",
       "      <td>2020</td>\n",
       "      <td>UN</td>\n",
       "      <td>PAVIA</td>\n",
       "      <td>LSI</td>\n",
       "    </tr>\n",
       "    <tr>\n",
       "      <th>18939</th>\n",
       "      <td>2879828</td>\n",
       "      <td>OK05AR-19</td>\n",
       "      <td>1</td>\n",
       "      <td>11</td>\n",
       "      <td>2020</td>\n",
       "      <td>UN</td>\n",
       "      <td>PAVIA</td>\n",
       "      <td>LSI</td>\n",
       "    </tr>\n",
       "    <tr>\n",
       "      <th>18940</th>\n",
       "      <td>2879881</td>\n",
       "      <td>XQT15OR-19</td>\n",
       "      <td>1</td>\n",
       "      <td>11</td>\n",
       "      <td>2020</td>\n",
       "      <td>UN</td>\n",
       "      <td>PAVIA</td>\n",
       "      <td>LSI</td>\n",
       "    </tr>\n",
       "    <tr>\n",
       "      <th>18941</th>\n",
       "      <td>2880159</td>\n",
       "      <td>JT18RS-19</td>\n",
       "      <td>1</td>\n",
       "      <td>11</td>\n",
       "      <td>2020</td>\n",
       "      <td>UN</td>\n",
       "      <td>PAVIA</td>\n",
       "      <td>LSI</td>\n",
       "    </tr>\n",
       "    <tr>\n",
       "      <th>18942</th>\n",
       "      <td>2880360</td>\n",
       "      <td>KJ40OR-19</td>\n",
       "      <td>1</td>\n",
       "      <td>11</td>\n",
       "      <td>2020</td>\n",
       "      <td>UN</td>\n",
       "      <td>PAVIA</td>\n",
       "      <td>LSI</td>\n",
       "    </tr>\n",
       "  </tbody>\n",
       "</table>\n",
       "<p>80520 rows × 8 columns</p>\n",
       "</div>"
      ],
      "text/plain": [
       "       Unnamed: 0 codice esterno  vendita  settimana  anno taglia negozio  \\\n",
       "0            8313  16SF181BNE-16        1         16  2016     XS   ARESE   \n",
       "1            8511  VA515233NE-16        1         16  2016     XS   ARESE   \n",
       "2            8569  16SF181BBL-16        1         16  2016      S   ARESE   \n",
       "3            8807   ZR121FABI-16        2         16  2016     UN   ARESE   \n",
       "4            8833  16SF181BNE-16        1         16  2016      S   ARESE   \n",
       "...           ...            ...      ...        ...   ...    ...     ...   \n",
       "18938     2879621      KJ37OR-19        2         11  2020     UN   PAVIA   \n",
       "18939     2879828      OK05AR-19        1         11  2020     UN   PAVIA   \n",
       "18940     2879881     XQT15OR-19        1         11  2020     UN   PAVIA   \n",
       "18941     2880159      JT18RS-19        1         11  2020     UN   PAVIA   \n",
       "18942     2880360      KJ40OR-19        1         11  2020     UN   PAVIA   \n",
       "\n",
       "      listino  \n",
       "0         LSI  \n",
       "1         LSI  \n",
       "2         LSI  \n",
       "3         LSI  \n",
       "4         LSI  \n",
       "...       ...  \n",
       "18938     LSI  \n",
       "18939     LSI  \n",
       "18940     LSI  \n",
       "18941     LSI  \n",
       "18942     LSI  \n",
       "\n",
       "[80520 rows x 8 columns]"
      ]
     },
     "execution_count": 15,
     "metadata": {},
     "output_type": "execute_result"
    }
   ],
   "source": [
    "milan_data_df"
   ]
  },
  {
   "cell_type": "code",
   "execution_count": 16,
   "metadata": {},
   "outputs": [
    {
     "data": {
      "text/html": [
       "<div>\n",
       "<style scoped>\n",
       "    .dataframe tbody tr th:only-of-type {\n",
       "        vertical-align: middle;\n",
       "    }\n",
       "\n",
       "    .dataframe tbody tr th {\n",
       "        vertical-align: top;\n",
       "    }\n",
       "\n",
       "    .dataframe thead th {\n",
       "        text-align: right;\n",
       "    }\n",
       "</style>\n",
       "<table border=\"1\" class=\"dataframe\">\n",
       "  <thead>\n",
       "    <tr style=\"text-align: right;\">\n",
       "      <th></th>\n",
       "      <th>vendita</th>\n",
       "      <th>settimana</th>\n",
       "      <th>anno</th>\n",
       "    </tr>\n",
       "    <tr>\n",
       "      <th>time</th>\n",
       "      <th></th>\n",
       "      <th></th>\n",
       "      <th></th>\n",
       "    </tr>\n",
       "  </thead>\n",
       "  <tbody>\n",
       "    <tr>\n",
       "      <th>2016-04-11</th>\n",
       "      <td>11.0</td>\n",
       "      <td>16.0</td>\n",
       "      <td>2016.0</td>\n",
       "    </tr>\n",
       "    <tr>\n",
       "      <th>2016-04-18</th>\n",
       "      <td>25.0</td>\n",
       "      <td>17.0</td>\n",
       "      <td>2016.0</td>\n",
       "    </tr>\n",
       "    <tr>\n",
       "      <th>2016-04-25</th>\n",
       "      <td>37.0</td>\n",
       "      <td>18.0</td>\n",
       "      <td>2016.0</td>\n",
       "    </tr>\n",
       "    <tr>\n",
       "      <th>2016-05-02</th>\n",
       "      <td>30.0</td>\n",
       "      <td>19.0</td>\n",
       "      <td>2016.0</td>\n",
       "    </tr>\n",
       "    <tr>\n",
       "      <th>2016-05-09</th>\n",
       "      <td>43.0</td>\n",
       "      <td>20.0</td>\n",
       "      <td>2016.0</td>\n",
       "    </tr>\n",
       "    <tr>\n",
       "      <th>...</th>\n",
       "      <td>...</td>\n",
       "      <td>...</td>\n",
       "      <td>...</td>\n",
       "    </tr>\n",
       "    <tr>\n",
       "      <th>2019-12-02</th>\n",
       "      <td>1428.0</td>\n",
       "      <td>49.0</td>\n",
       "      <td>2019.0</td>\n",
       "    </tr>\n",
       "    <tr>\n",
       "      <th>2019-12-09</th>\n",
       "      <td>198.0</td>\n",
       "      <td>50.0</td>\n",
       "      <td>2019.0</td>\n",
       "    </tr>\n",
       "    <tr>\n",
       "      <th>2019-12-16</th>\n",
       "      <td>100.0</td>\n",
       "      <td>51.0</td>\n",
       "      <td>2019.0</td>\n",
       "    </tr>\n",
       "    <tr>\n",
       "      <th>2019-12-23</th>\n",
       "      <td>82.0</td>\n",
       "      <td>52.0</td>\n",
       "      <td>2019.0</td>\n",
       "    </tr>\n",
       "    <tr>\n",
       "      <th>2019-12-30</th>\n",
       "      <td>22.0</td>\n",
       "      <td>53.0</td>\n",
       "      <td>2019.0</td>\n",
       "    </tr>\n",
       "  </tbody>\n",
       "</table>\n",
       "<p>195 rows × 3 columns</p>\n",
       "</div>"
      ],
      "text/plain": [
       "            vendita  settimana    anno\n",
       "time                                  \n",
       "2016-04-11     11.0       16.0  2016.0\n",
       "2016-04-18     25.0       17.0  2016.0\n",
       "2016-04-25     37.0       18.0  2016.0\n",
       "2016-05-02     30.0       19.0  2016.0\n",
       "2016-05-09     43.0       20.0  2016.0\n",
       "...             ...        ...     ...\n",
       "2019-12-02   1428.0       49.0  2019.0\n",
       "2019-12-09    198.0       50.0  2019.0\n",
       "2019-12-16    100.0       51.0  2019.0\n",
       "2019-12-23     82.0       52.0  2019.0\n",
       "2019-12-30     22.0       53.0  2019.0\n",
       "\n",
       "[195 rows x 3 columns]"
      ]
     },
     "execution_count": 16,
     "metadata": {},
     "output_type": "execute_result"
    }
   ],
   "source": [
    "milan_weekly_default"
   ]
  },
  {
   "cell_type": "code",
   "execution_count": 17,
   "metadata": {},
   "outputs": [
    {
     "data": {
      "text/html": [
       "<div>\n",
       "<style scoped>\n",
       "    .dataframe tbody tr th:only-of-type {\n",
       "        vertical-align: middle;\n",
       "    }\n",
       "\n",
       "    .dataframe tbody tr th {\n",
       "        vertical-align: top;\n",
       "    }\n",
       "\n",
       "    .dataframe thead th {\n",
       "        text-align: right;\n",
       "    }\n",
       "</style>\n",
       "<table border=\"1\" class=\"dataframe\">\n",
       "  <thead>\n",
       "    <tr style=\"text-align: right;\">\n",
       "      <th></th>\n",
       "      <th>vendita</th>\n",
       "      <th>settimana</th>\n",
       "      <th>anno</th>\n",
       "      <th>TMEDIA °C</th>\n",
       "      <th>TMIN °C</th>\n",
       "      <th>TMAX °C</th>\n",
       "      <th>PUNTORUGIADA °C</th>\n",
       "      <th>UMIDITA %</th>\n",
       "      <th>VISIBILITA km</th>\n",
       "      <th>VENTOMEDIA km/h</th>\n",
       "      <th>VENTOMAX km/h</th>\n",
       "      <th>RAFFICA km/h</th>\n",
       "      <th>PRESSIONESLM mb</th>\n",
       "    </tr>\n",
       "    <tr>\n",
       "      <th>time</th>\n",
       "      <th></th>\n",
       "      <th></th>\n",
       "      <th></th>\n",
       "      <th></th>\n",
       "      <th></th>\n",
       "      <th></th>\n",
       "      <th></th>\n",
       "      <th></th>\n",
       "      <th></th>\n",
       "      <th></th>\n",
       "      <th></th>\n",
       "      <th></th>\n",
       "      <th></th>\n",
       "    </tr>\n",
       "  </thead>\n",
       "  <tbody>\n",
       "    <tr>\n",
       "      <th>2016-04-11</th>\n",
       "      <td>11.0</td>\n",
       "      <td>16.0</td>\n",
       "      <td>2016.0</td>\n",
       "      <td>20</td>\n",
       "      <td>15</td>\n",
       "      <td>25</td>\n",
       "      <td>11</td>\n",
       "      <td>57</td>\n",
       "      <td>13</td>\n",
       "      <td>7</td>\n",
       "      <td>14</td>\n",
       "      <td>0</td>\n",
       "      <td>1016</td>\n",
       "    </tr>\n",
       "    <tr>\n",
       "      <th>2016-04-18</th>\n",
       "      <td>25.0</td>\n",
       "      <td>17.0</td>\n",
       "      <td>2016.0</td>\n",
       "      <td>15</td>\n",
       "      <td>11</td>\n",
       "      <td>20</td>\n",
       "      <td>8</td>\n",
       "      <td>62</td>\n",
       "      <td>9</td>\n",
       "      <td>8</td>\n",
       "      <td>18</td>\n",
       "      <td>7</td>\n",
       "      <td>1012</td>\n",
       "    </tr>\n",
       "    <tr>\n",
       "      <th>2016-04-25</th>\n",
       "      <td>37.0</td>\n",
       "      <td>18.0</td>\n",
       "      <td>2016.0</td>\n",
       "      <td>15</td>\n",
       "      <td>10</td>\n",
       "      <td>21</td>\n",
       "      <td>6</td>\n",
       "      <td>53</td>\n",
       "      <td>15</td>\n",
       "      <td>9</td>\n",
       "      <td>19</td>\n",
       "      <td>6</td>\n",
       "      <td>1013</td>\n",
       "    </tr>\n",
       "    <tr>\n",
       "      <th>2016-05-02</th>\n",
       "      <td>30.0</td>\n",
       "      <td>19.0</td>\n",
       "      <td>2016.0</td>\n",
       "      <td>10</td>\n",
       "      <td>6</td>\n",
       "      <td>15</td>\n",
       "      <td>3</td>\n",
       "      <td>58</td>\n",
       "      <td>10</td>\n",
       "      <td>10</td>\n",
       "      <td>20</td>\n",
       "      <td>4</td>\n",
       "      <td>1011</td>\n",
       "    </tr>\n",
       "    <tr>\n",
       "      <th>2016-05-09</th>\n",
       "      <td>43.0</td>\n",
       "      <td>20.0</td>\n",
       "      <td>2016.0</td>\n",
       "      <td>18</td>\n",
       "      <td>14</td>\n",
       "      <td>23</td>\n",
       "      <td>11</td>\n",
       "      <td>66</td>\n",
       "      <td>10</td>\n",
       "      <td>8</td>\n",
       "      <td>22</td>\n",
       "      <td>9</td>\n",
       "      <td>1011</td>\n",
       "    </tr>\n",
       "    <tr>\n",
       "      <th>...</th>\n",
       "      <td>...</td>\n",
       "      <td>...</td>\n",
       "      <td>...</td>\n",
       "      <td>...</td>\n",
       "      <td>...</td>\n",
       "      <td>...</td>\n",
       "      <td>...</td>\n",
       "      <td>...</td>\n",
       "      <td>...</td>\n",
       "      <td>...</td>\n",
       "      <td>...</td>\n",
       "      <td>...</td>\n",
       "      <td>...</td>\n",
       "    </tr>\n",
       "    <tr>\n",
       "      <th>2019-12-02</th>\n",
       "      <td>1428.0</td>\n",
       "      <td>49.0</td>\n",
       "      <td>2019.0</td>\n",
       "      <td>7</td>\n",
       "      <td>4</td>\n",
       "      <td>10</td>\n",
       "      <td>5</td>\n",
       "      <td>82</td>\n",
       "      <td>11</td>\n",
       "      <td>6</td>\n",
       "      <td>14</td>\n",
       "      <td>0</td>\n",
       "      <td>1012</td>\n",
       "    </tr>\n",
       "    <tr>\n",
       "      <th>2019-12-09</th>\n",
       "      <td>198.0</td>\n",
       "      <td>50.0</td>\n",
       "      <td>2019.0</td>\n",
       "      <td>18</td>\n",
       "      <td>14</td>\n",
       "      <td>24</td>\n",
       "      <td>12</td>\n",
       "      <td>63</td>\n",
       "      <td>19</td>\n",
       "      <td>8</td>\n",
       "      <td>18</td>\n",
       "      <td>0</td>\n",
       "      <td>1015</td>\n",
       "    </tr>\n",
       "    <tr>\n",
       "      <th>2019-12-16</th>\n",
       "      <td>100.0</td>\n",
       "      <td>51.0</td>\n",
       "      <td>2019.0</td>\n",
       "      <td>6</td>\n",
       "      <td>3</td>\n",
       "      <td>9</td>\n",
       "      <td>4</td>\n",
       "      <td>88</td>\n",
       "      <td>11</td>\n",
       "      <td>6</td>\n",
       "      <td>12</td>\n",
       "      <td>0</td>\n",
       "      <td>1009</td>\n",
       "    </tr>\n",
       "    <tr>\n",
       "      <th>2019-12-23</th>\n",
       "      <td>82.0</td>\n",
       "      <td>52.0</td>\n",
       "      <td>2019.0</td>\n",
       "      <td>9</td>\n",
       "      <td>7</td>\n",
       "      <td>11</td>\n",
       "      <td>7</td>\n",
       "      <td>88</td>\n",
       "      <td>10</td>\n",
       "      <td>8</td>\n",
       "      <td>17</td>\n",
       "      <td>0</td>\n",
       "      <td>1008</td>\n",
       "    </tr>\n",
       "    <tr>\n",
       "      <th>2019-12-30</th>\n",
       "      <td>22.0</td>\n",
       "      <td>53.0</td>\n",
       "      <td>2019.0</td>\n",
       "      <td>4</td>\n",
       "      <td>0</td>\n",
       "      <td>10</td>\n",
       "      <td>2</td>\n",
       "      <td>78</td>\n",
       "      <td>15</td>\n",
       "      <td>5</td>\n",
       "      <td>11</td>\n",
       "      <td>0</td>\n",
       "      <td>1025</td>\n",
       "    </tr>\n",
       "  </tbody>\n",
       "</table>\n",
       "<p>195 rows × 13 columns</p>\n",
       "</div>"
      ],
      "text/plain": [
       "            vendita  settimana    anno  TMEDIA °C  TMIN °C  TMAX °C  \\\n",
       "time                                                                  \n",
       "2016-04-11     11.0       16.0  2016.0         20       15       25   \n",
       "2016-04-18     25.0       17.0  2016.0         15       11       20   \n",
       "2016-04-25     37.0       18.0  2016.0         15       10       21   \n",
       "2016-05-02     30.0       19.0  2016.0         10        6       15   \n",
       "2016-05-09     43.0       20.0  2016.0         18       14       23   \n",
       "...             ...        ...     ...        ...      ...      ...   \n",
       "2019-12-02   1428.0       49.0  2019.0          7        4       10   \n",
       "2019-12-09    198.0       50.0  2019.0         18       14       24   \n",
       "2019-12-16    100.0       51.0  2019.0          6        3        9   \n",
       "2019-12-23     82.0       52.0  2019.0          9        7       11   \n",
       "2019-12-30     22.0       53.0  2019.0          4        0       10   \n",
       "\n",
       "            PUNTORUGIADA °C  UMIDITA %  VISIBILITA km  VENTOMEDIA km/h  \\\n",
       "time                                                                     \n",
       "2016-04-11               11         57             13                7   \n",
       "2016-04-18                8         62              9                8   \n",
       "2016-04-25                6         53             15                9   \n",
       "2016-05-02                3         58             10               10   \n",
       "2016-05-09               11         66             10                8   \n",
       "...                     ...        ...            ...              ...   \n",
       "2019-12-02                5         82             11                6   \n",
       "2019-12-09               12         63             19                8   \n",
       "2019-12-16                4         88             11                6   \n",
       "2019-12-23                7         88             10                8   \n",
       "2019-12-30                2         78             15                5   \n",
       "\n",
       "            VENTOMAX km/h  RAFFICA km/h  PRESSIONESLM mb  \n",
       "time                                                      \n",
       "2016-04-11             14             0             1016  \n",
       "2016-04-18             18             7             1012  \n",
       "2016-04-25             19             6             1013  \n",
       "2016-05-02             20             4             1011  \n",
       "2016-05-09             22             9             1011  \n",
       "...                   ...           ...              ...  \n",
       "2019-12-02             14             0             1012  \n",
       "2019-12-09             18             0             1015  \n",
       "2019-12-16             12             0             1009  \n",
       "2019-12-23             17             0             1008  \n",
       "2019-12-30             11             0             1025  \n",
       "\n",
       "[195 rows x 13 columns]"
      ]
     },
     "execution_count": 17,
     "metadata": {},
     "output_type": "execute_result"
    }
   ],
   "source": [
    "milan_weekly_augmented"
   ]
  },
  {
   "cell_type": "code",
   "execution_count": 18,
   "metadata": {},
   "outputs": [],
   "source": [
    "## Create dicts for different store data\n",
    "def_datasets = {\n",
    "    \"Milan\": milan_weekly_default,\n",
    "    \"Turin\": turin_weekly_default,\n",
    "    #\"Rome\": rome_weekly_default\n",
    "}\n",
    "aug_datasets = {\n",
    "    \"Milan\": milan_weekly_augmented,\n",
    "    \"Turin\": turin_weekly_augmented, \n",
    "    #\"Rome\": rome_weekly_augmented\n",
    "}\n",
    "\n",
    "## results containers\n",
    "rmse_vals = []\n",
    "mae_vals = []"
   ]
  },
  {
   "cell_type": "markdown",
   "metadata": {},
   "source": [
    "# Data Visualization and Exploration "
   ]
  },
  {
   "cell_type": "code",
   "execution_count": 19,
   "metadata": {},
   "outputs": [
    {
     "name": "stdout",
     "output_type": "stream",
     "text": [
      "Milan data \n",
      "\n"
     ]
    },
    {
     "data": {
      "image/png": "[encoded data removed]",
      "text/plain": [
       "<Figure size 720x576 with 6 Axes>"
      ]
     },
     "metadata": {
      "needs_background": "light"
     },
     "output_type": "display_data"
    },
    {
     "name": "stdout",
     "output_type": "stream",
     "text": [
      "Turin data \n",
      "\n"
     ]
    },
    {
     "data": {
      "image/png": "[encoded data removed]",
      "text/plain": [
       "<Figure size 720x576 with 7 Axes>"
      ]
     },
     "metadata": {
      "needs_background": "light"
     },
     "output_type": "display_data"
    }
   ],
   "source": [
    "# Plot the data to explore and see what we are working with\n",
    "for dataset in aug_datasets:\n",
    "    print(dataset, \"data \\n\")\n",
    "    # Plot the data with the most correlation to the sales we are trying to predict\n",
    "    # These are the features we will train the network on later\n",
    "    values = aug_datasets[dataset].values\n",
    "    cols_to_plot = cols_with_most_corr(aug_datasets[dataset], 0)\n",
    "    \n",
    "    #cols_to_plot_2 = granger_casuality_for_features(aug_datasets[dataset])\n",
    "    #print(cols_to_plot, cols_to_plot_2)\n",
    "    \n",
    "    i=1\n",
    "    plt.figure(figsize=(10,8))\n",
    "    for col in cols_to_plot:\n",
    "        plt.subplot(len(cols_to_plot), 1, i)\n",
    "        plt.plot(values[:, col], label=aug_datasets[dataset].columns[col])\n",
    "        plt.legend()\n",
    "        i += 1\n",
    "    plt.show()"
   ]
  },
  {
   "cell_type": "code",
   "execution_count": 20,
   "metadata": {},
   "outputs": [
    {
     "data": {
      "image/png": "[encoded data removed]",
      "text/plain": [
       "<Figure size 648x504 with 2 Axes>"
      ]
     },
     "metadata": {
      "needs_background": "light"
     },
     "output_type": "display_data"
    },
    {
     "data": {
      "image/png": "[encoded data removed]",
      "text/plain": [
       "<Figure size 648x504 with 2 Axes>"
      ]
     },
     "metadata": {
      "needs_background": "light"
     },
     "output_type": "display_data"
    }
   ],
   "source": [
    "## Correlation matrix: Spearman Correlation\n",
    "for dataset in aug_datasets:\n",
    "    # Default data\n",
    "    default_s_corr = aug_datasets[dataset].corr(method=\"spearman\")\n",
    "    plt.figure(figsize=(9,7))\n",
    "    sns.heatmap(data=default_s_corr, cmap=\"YlOrRd\", annot=True, linewidths=.5)\n",
    "    plt.title(\"Correlation for \"+ dataset+\" data\")\n",
    "    plt.show()"
   ]
  },
  {
   "cell_type": "markdown",
   "metadata": {},
   "source": [
    "# Forecasting evaluation"
   ]
  },
  {
   "cell_type": "code",
   "execution_count": 68,
   "metadata": {},
   "outputs": [
    {
     "name": "stdout",
     "output_type": "stream",
     "text": [
      "Running forecasting for sales in Milan\n",
      "Run # 1\n",
      "Default input features: [0, 1]\n",
      "Input features with exogenous data: [0, 1, 3, 4, 5, 12]\n",
      "Inputs for training\n",
      "(148, 6, 2)\n",
      "Outputs for training\n",
      "(148, 2, 2)\n",
      "Inputs for testing\n",
      "(31, 6, 2)\n",
      "Outputs for testing\n",
      "(31, 2, 2)\n",
      "\n",
      "\n",
      "Inputs for training\n",
      "(148, 6, 6)\n",
      "Outputs for training\n",
      "(148, 2, 6)\n",
      "Inputs for testing\n",
      "(31, 6, 6)\n",
      "Outputs for testing\n",
      "(31, 2, 6)\n",
      "\n",
      "\n",
      "Running Drift and Seasonal Drift models based on STL Decomposition...\n",
      "Done\n",
      "\n",
      "Running ARIMA Model...\n"
     ]
    },
    {
     "name": "stderr",
     "output_type": "stream",
     "text": [
      "/Users/Geri/.local/share/virtualenvs/thesis-ez8c3QqQ/lib/python3.7/site-packages/pmdarima/arima/_auto_solvers.py:386: ModelFitWarning:\n",
      "\n",
      "Unable to fit ARIMA for (2, 0, 2)x(1, 0, 1, 52); data is likely non-stationary. (if you do not want to see these warnings, run with error_action=\"ignore\")\n",
      "\n",
      "/Users/Geri/.local/share/virtualenvs/thesis-ez8c3QqQ/lib/python3.7/site-packages/pmdarima/arima/_auto_solvers.py:386: ModelFitWarning:\n",
      "\n",
      "Unable to fit ARIMA for (0, 0, 1)x(0, 0, 1, 52); data is likely non-stationary. (if you do not want to see these warnings, run with error_action=\"ignore\")\n",
      "\n",
      "/Users/Geri/.local/share/virtualenvs/thesis-ez8c3QqQ/lib/python3.7/site-packages/pmdarima/arima/_auto_solvers.py:386: ModelFitWarning:\n",
      "\n",
      "Unable to fit ARIMA for (1, 0, 0)x(1, 0, 1, 52); data is likely non-stationary. (if you do not want to see these warnings, run with error_action=\"ignore\")\n",
      "\n",
      "/Users/Geri/.local/share/virtualenvs/thesis-ez8c3QqQ/lib/python3.7/site-packages/pmdarima/arima/_auto_solvers.py:386: ModelFitWarning:\n",
      "\n",
      "Unable to fit ARIMA for (1, 0, 0)x(0, 0, 1, 52); data is likely non-stationary. (if you do not want to see these warnings, run with error_action=\"ignore\")\n",
      "\n",
      "/Users/Geri/.local/share/virtualenvs/thesis-ez8c3QqQ/lib/python3.7/site-packages/pmdarima/arima/_auto_solvers.py:386: ModelFitWarning:\n",
      "\n",
      "Unable to fit ARIMA for (1, 0, 0)x(2, 0, 1, 52); data is likely non-stationary. (if you do not want to see these warnings, run with error_action=\"ignore\")\n",
      "\n"
     ]
    },
    {
     "name": "stdout",
     "output_type": "stream",
     "text": [
      "Done\n",
      "\n",
      "Training the default LSTM model...\n",
      "Epoch 1 Train loss: 1.12. Validation loss: 1.10. Avg future: 1.92. Elapsed time: 0.08s.\n",
      "Epoch 2 Train loss: 1.07. Validation loss: 1.05. Avg future: 1.92. Elapsed time: 0.07s.\n",
      "Epoch 3 Train loss: 1.03. Validation loss: 1.00. Avg future: 2.00. Elapsed time: 0.07s.\n",
      "Epoch 4 Train loss: 0.98. Validation loss: 0.95. Avg future: 1.83. Elapsed time: 0.08s.\n",
      "Epoch 5 Train loss: 0.93. Validation loss: 0.89. Avg future: 1.92. Elapsed time: 0.07s.\n",
      "Epoch 6 Train loss: 0.87. Validation loss: 0.83. Avg future: 1.75. Elapsed time: 0.08s.\n",
      "Epoch 7 Train loss: 0.81. Validation loss: 0.77. Avg future: 1.83. Elapsed time: 0.06s.\n",
      "Epoch 8 Train loss: 0.76. Validation loss: 0.73. Avg future: 2.58. Elapsed time: 0.06s.\n",
      "Epoch 9 Train loss: 0.72. Validation loss: 0.69. Avg future: 2.00. Elapsed time: 0.07s.\n",
      "Epoch 10 Train loss: 0.70. Validation loss: 0.66. Avg future: 1.67. Elapsed time: 0.06s.\n",
      "Epoch 11 Train loss: 0.68. Validation loss: 0.64. Avg future: 2.08. Elapsed time: 0.06s.\n",
      "Epoch 12 Train loss: 0.64. Validation loss: 0.62. Avg future: 1.67. Elapsed time: 0.06s.\n",
      "Epoch 13 Train loss: 0.57. Validation loss: 0.59. Avg future: 2.00. Elapsed time: 0.06s.\n",
      "Epoch 14 Train loss: 0.55. Validation loss: 0.57. Avg future: 2.33. Elapsed time: 0.07s.\n",
      "Epoch 15 Train loss: 0.57. Validation loss: 0.55. Avg future: 1.75. Elapsed time: 0.06s.\n",
      "Epoch 16 Train loss: 0.55. Validation loss: 0.53. Avg future: 2.08. Elapsed time: 0.07s.\n",
      "Epoch 17 Train loss: 0.51. Validation loss: 0.51. Avg future: 1.92. Elapsed time: 0.06s.\n",
      "Epoch 18 Train loss: 0.47. Validation loss: 0.50. Avg future: 1.92. Elapsed time: 0.06s.\n",
      "Epoch 19 Train loss: 0.48. Validation loss: 0.49. Avg future: 2.00. Elapsed time: 0.06s.\n",
      "Epoch 20 Train loss: 0.48. Validation loss: 0.48. Avg future: 2.42. Elapsed time: 0.06s.\n",
      "Done\n",
      "\n",
      "Training the augmented Exo-LSTM model...\n",
      "Epoch 1 Train loss: 1.11. Validation loss: 1.06. Avg future: 2.25. Elapsed time: 0.11s.\n",
      "Epoch 2 Train loss: 1.02. Validation loss: 0.96. Avg future: 1.58. Elapsed time: 0.11s.\n",
      "Epoch 3 Train loss: 0.91. Validation loss: 0.84. Avg future: 1.83. Elapsed time: 0.10s.\n",
      "Epoch 4 Train loss: 0.81. Validation loss: 0.78. Avg future: 2.17. Elapsed time: 0.10s.\n",
      "Epoch 5 Train loss: 0.76. Validation loss: 0.75. Avg future: 1.75. Elapsed time: 0.11s.\n",
      "Epoch 6 Train loss: 0.72. Validation loss: 0.73. Avg future: 2.17. Elapsed time: 0.12s.\n",
      "Epoch 7 Train loss: 0.71. Validation loss: 0.71. Avg future: 1.67. Elapsed time: 0.11s.\n",
      "Epoch 8 Train loss: 0.69. Validation loss: 0.70. Avg future: 2.33. Elapsed time: 0.11s.\n",
      "Epoch 9 Train loss: 0.68. Validation loss: 0.68. Avg future: 1.58. Elapsed time: 0.11s.\n",
      "Epoch 10 Train loss: 0.68. Validation loss: 0.67. Avg future: 2.17. Elapsed time: 0.11s.\n",
      "Epoch 11 Train loss: 0.66. Validation loss: 0.66. Avg future: 1.92. Elapsed time: 0.12s.\n",
      "Epoch 12 Train loss: 0.65. Validation loss: 0.65. Avg future: 1.92. Elapsed time: 0.12s.\n",
      "Epoch 13 Train loss: 0.63. Validation loss: 0.64. Avg future: 1.92. Elapsed time: 0.11s.\n",
      "Epoch 14 Train loss: 0.62. Validation loss: 0.64. Avg future: 1.67. Elapsed time: 0.12s.\n",
      "Epoch 15 Train loss: 0.61. Validation loss: 0.63. Avg future: 1.92. Elapsed time: 0.24s.\n",
      "Epoch 16 Train loss: 0.60. Validation loss: 0.62. Avg future: 2.33. Elapsed time: 0.14s.\n",
      "Epoch 17 Train loss: 0.60. Validation loss: 0.62. Avg future: 1.67. Elapsed time: 0.15s.\n",
      "Epoch 18 Train loss: 0.60. Validation loss: 0.61. Avg future: 2.00. Elapsed time: 0.13s.\n",
      "Epoch 19 Train loss: 0.59. Validation loss: 0.60. Avg future: 2.08. Elapsed time: 0.12s.\n",
      "Epoch 20 Train loss: 0.59. Validation loss: 0.59. Avg future: 2.17. Elapsed time: 0.16s.\n",
      "Epoch 21 Train loss: 0.58. Validation loss: 0.58. Avg future: 1.92. Elapsed time: 0.13s.\n",
      "Epoch 22 Train loss: 0.55. Validation loss: 0.58. Avg future: 1.75. Elapsed time: 0.13s.\n",
      "Epoch 23 Train loss: 0.56. Validation loss: 0.57. Avg future: 2.08. Elapsed time: 0.11s.\n",
      "Epoch 24 Train loss: 0.55. Validation loss: 0.56. Avg future: 2.17. Elapsed time: 0.12s.\n",
      "Epoch 25 Train loss: 0.54. Validation loss: 0.56. Avg future: 1.67. Elapsed time: 0.11s.\n",
      "Epoch 26 Train loss: 0.55. Validation loss: 0.56. Avg future: 1.50. Elapsed time: 0.10s.\n",
      "Epoch 27 Train loss: 0.53. Validation loss: 0.56. Avg future: 2.50. Elapsed time: 0.11s.\n",
      "Epoch 28 Train loss: 0.54. Validation loss: 0.55. Avg future: 1.75. Elapsed time: 0.10s.\n",
      "Epoch 29 Train loss: 0.53. Validation loss: 0.55. Avg future: 1.75. Elapsed time: 0.10s.\n",
      "Epoch 30 Train loss: 0.52. Validation loss: 0.55. Avg future: 1.92. Elapsed time: 0.11s.\n",
      "Epoch 31 Train loss: 0.53. Validation loss: 0.55. Avg future: 2.17. Elapsed time: 0.11s.\n",
      "Epoch 32 Train loss: 0.52. Validation loss: 0.55. Avg future: 2.17. Elapsed time: 0.10s.\n",
      "Epoch 33 Train loss: 0.53. Validation loss: 0.55. Avg future: 1.83. Elapsed time: 0.10s.\n",
      "Epoch 34 Train loss: 0.53. Validation loss: 0.55. Avg future: 1.92. Elapsed time: 0.11s.\n",
      "Epoch 35 Train loss: 0.53. Validation loss: 0.55. Avg future: 1.58. Elapsed time: 0.10s.\n",
      "Epoch 36 Train loss: 0.53. Validation loss: 0.55. Avg future: 1.92. Elapsed time: 0.11s.\n",
      "Epoch 37 Train loss: 0.52. Validation loss: 0.55. Avg future: 1.83. Elapsed time: 0.23s.\n",
      "Epoch 38 Train loss: 0.53. Validation loss: 0.55. Avg future: 2.25. Elapsed time: 0.15s.\n",
      "Epoch 39 Train loss: 0.52. Validation loss: 0.55. Avg future: 1.83. Elapsed time: 0.11s.\n",
      "Epoch 40 Train loss: 0.51. Validation loss: 0.55. Avg future: 2.42. Elapsed time: 0.10s.\n",
      "Epoch 41 Train loss: 0.52. Validation loss: 0.55. Avg future: 2.17. Elapsed time: 0.13s.\n",
      "Epoch 42 Train loss: 0.53. Validation loss: 0.54. Avg future: 2.08. Elapsed time: 0.15s.\n",
      "Epoch 43 Train loss: 0.52. Validation loss: 0.54. Avg future: 2.00. Elapsed time: 0.13s.\n",
      "Epoch 44 Train loss: 0.53. Validation loss: 0.54. Avg future: 2.17. Elapsed time: 0.11s.\n",
      "Epoch 45 Train loss: 0.53. Validation loss: 0.54. Avg future: 1.92. Elapsed time: 0.11s.\n",
      "Epoch 46 Train loss: 0.52. Validation loss: 0.54. Avg future: 2.17. Elapsed time: 0.11s.\n",
      "Epoch 47 Train loss: 0.53. Validation loss: 0.54. Avg future: 2.17. Elapsed time: 0.11s.\n",
      "Epoch 48 Train loss: 0.51. Validation loss: 0.54. Avg future: 1.92. Elapsed time: 0.10s.\n",
      "Epoch 49 Train loss: 0.52. Validation loss: 0.54. Avg future: 1.58. Elapsed time: 0.10s.\n",
      "Epoch 50 Train loss: 0.52. Validation loss: 0.54. Avg future: 2.25. Elapsed time: 0.13s.\n",
      "Epoch 51 Train loss: 0.52. Validation loss: 0.54. Avg future: 1.75. Elapsed time: 0.15s.\n",
      "Epoch 52 Train loss: 0.51. Validation loss: 0.54. Avg future: 2.00. Elapsed time: 0.13s.\n",
      "Epoch 53 Train loss: 0.50. Validation loss: 0.54. Avg future: 2.25. Elapsed time: 0.11s.\n",
      "Epoch 54 Train loss: 0.52. Validation loss: 0.54. Avg future: 1.58. Elapsed time: 0.11s.\n",
      "Epoch 55 Train loss: 0.51. Validation loss: 0.54. Avg future: 1.75. Elapsed time: 0.11s.\n",
      "Epoch 56 Train loss: 0.51. Validation loss: 0.54. Avg future: 2.17. Elapsed time: 0.10s.\n",
      "Epoch 57 Train loss: 0.51. Validation loss: 0.54. Avg future: 2.00. Elapsed time: 0.11s.\n",
      "Epoch 58 Train loss: 0.52. Validation loss: 0.54. Avg future: 1.92. Elapsed time: 0.10s.\n",
      "Epoch 59 Train loss: 0.52. Validation loss: 0.54. Avg future: 2.00. Elapsed time: 0.13s.\n",
      "Epoch 60 Train loss: 0.53. Validation loss: 0.54. Avg future: 2.00. Elapsed time: 0.15s.\n",
      "Done\n",
      "\n"
     ]
    },
    {
     "data": {
      "application/vnd.plotly.v1+json": {
       "config": {
        "plotlyServerURL": "https://plot.ly"
       },
       "data": [
        {
         "mode": "lines",
         "name": "GT",
         "type": "scatter",
         "x": [
          0,
          1,
          2,
          3,
          4,
          5,
          6,
          7,
          8,
          9,
          10,
          11,
          12,
          13,
          14,
          15,
          16,
          17,
          18,
          19,
          20,
          21,
          22,
          23,
          24,
          25,
          26,
          27,
          28,
          29,
          30
         ],
         "y": [
          135,
          131,
          107,
          48.99999999999994,
          1083,
          2365,
          3040,
          1972,
          1832,
          1706,
          1012,
          589,
          480,
          223,
          183,
          52,
          19,
          21,
          14,
          14,
          20,
          7,
          9,
          9,
          7,
          6,
          2336,
          1428,
          198,
          99.99999999999994,
          82
         ]
        },
        {
         "mode": "lines",
         "name": "Drift",
         "type": "scatter",
         "x": [
          0,
          1,
          2,
          3,
          4,
          5,
          6,
          7,
          8,
          9,
          10,
          11,
          12,
          13,
          14,
          15,
          16,
          17,
          18,
          19,
          20,
          21,
          22,
          23,
          24,
          25,
          26,
          27,
          28,
          29,
          30
         ],
         "y": [
          322.69453839896016,
          324.3136106596573,
          325.93523573779237,
          327.55558440720847,
          329.17657128098404,
          330.79723905257987,
          332.41806637526554,
          334.0388139224063,
          335.6596013573195,
          337.2803688483465,
          338.90114631131655,
          340.5219187883151,
          342.1426937582994,
          343.7634674817908,
          345.38424182852873,
          347.0050158636434,
          348.6257900545697,
          350.2465641675901,
          351.8673383195635,
          353.48811245206036,
          355.1088865942955,
          356.7296607316615,
          358.3504348714621,
          359.9712090100454,
          361.59198314923736,
          363.212757288125,
          364.83353142716476,
          366.4543055661285,
          368.07507970513024,
          369.695853844113,
          371.31662798310526
         ]
        },
        {
         "mode": "lines",
         "name": "ARIMA",
         "type": "scatter",
         "x": [
          0,
          1,
          2,
          3,
          4,
          5,
          6,
          7,
          8,
          9,
          10,
          11,
          12,
          13,
          14,
          15,
          16,
          17,
          18,
          19,
          20,
          21,
          22,
          23,
          24,
          25,
          26,
          27,
          28,
          29,
          30
         ],
         "y": [
          138.5934760105318,
          217.80633340057335,
          285.0212736562811,
          335.49918325135485,
          356.3097160920979,
          348.33004539074767,
          370.80453183530403,
          408.3355019237056,
          420.08571620826854,
          411.396873981965,
          675.604226502501,
          1200.056594184118,
          1642.1574494909523,
          1236.185787777842,
          1041.6526488214536,
          1050.7065344465632,
          789.036217628392,
          633.4688657822346,
          571.4643005305147,
          496.54462155605023,
          432.3758463690012,
          369.27961949663563,
          347.770851521031,
          349.20677431379295,
          345.9811251612412,
          513.3104042491827,
          345.26516401497673,
          512.0380030311251,
          354.2287916589598,
          399.40349490919516,
          431.67113036997864
         ]
        },
        {
         "mode": "lines",
         "name": "LSTM",
         "type": "scatter",
         "x": [
          0,
          1,
          2,
          3,
          4,
          5,
          6,
          7,
          8,
          9,
          10,
          11,
          12,
          13,
          14,
          15,
          16,
          17,
          18,
          19,
          20,
          21,
          22,
          23,
          24,
          25,
          26,
          27,
          28,
          29,
          30
         ],
         "y": [
          245.35980224609375,
          297.34515380859375,
          330.76837158203125,
          345.9610290527344,
          340.7642822265625,
          758.4676513671875,
          1558.9329833984375,
          2003.341552734375,
          1622.86181640625,
          1272.195068359375,
          1084.455078125,
          802.7069091796875,
          602.6895141601562,
          542.5506591796875,
          470.98016357421875,
          455.2665100097656,
          422.0528564453125,
          405.7230529785156,
          405.03118896484375,
          405.2742919921875,
          405.67498779296875,
          407.64404296875,
          403.22607421875,
          401.3526611328125,
          399.65008544921875,
          397.1077880859375,
          394.43865966796875,
          1333.6019287109375,
          1181.796875,
          577.5298461914062,
          407.5776062011719
         ]
        },
        {
         "mode": "lines",
         "name": "Exo-LSTM",
         "type": "scatter",
         "x": [
          0,
          1,
          2,
          3,
          4,
          5,
          6,
          7,
          8,
          9,
          10,
          11,
          12,
          13,
          14,
          15,
          16,
          17,
          18,
          19,
          20,
          21,
          22,
          23,
          24,
          25,
          26,
          27,
          28,
          29,
          30
         ],
         "y": [
          16.11181640625,
          385.8714599609375,
          290.5115661621094,
          554.9847412109375,
          741.949951171875,
          1520.1494140625,
          2015.000732421875,
          2095.944580078125,
          1528.7664794921875,
          1349.45751953125,
          823.9210205078125,
          307.14154052734375,
          488.1846923828125,
          511.5148010253906,
          171.89547729492188,
          73.74978637695312,
          269.9281311035156,
          322.5587158203125,
          276.6582946777344,
          210.40341186523438,
          283.7967224121094,
          325.3943786621094,
          200.32373046875,
          124.15579223632812,
          302.3592529296875,
          -81.7247314453125,
          149.74212646484375,
          876.81591796875,
          559.7415161132812,
          -344.413330078125,
          306.44580078125
         ]
        }
       ],
       "layout": {
        "template": {
         "data": {
          "bar": [
           {
            "error_x": {
             "color": "#2a3f5f"
            },
            "error_y": {
             "color": "#2a3f5f"
            },
            "marker": {
             "line": {
              "color": "#E5ECF6",
              "width": 0.5
             }
            },
            "type": "bar"
           }
          ],
          "barpolar": [
           {
            "marker": {
             "line": {
              "color": "#E5ECF6",
              "width": 0.5
             }
            },
            "type": "barpolar"
           }
          ],
          "carpet": [
           {
            "aaxis": {
             "endlinecolor": "#2a3f5f",
             "gridcolor": "white",
             "linecolor": "white",
             "minorgridcolor": "white",
             "startlinecolor": "#2a3f5f"
            },
            "baxis": {
             "endlinecolor": "#2a3f5f",
             "gridcolor": "white",
             "linecolor": "white",
             "minorgridcolor": "white",
             "startlinecolor": "#2a3f5f"
            },
            "type": "carpet"
           }
          ],
          "choropleth": [
           {
            "colorbar": {
             "outlinewidth": 0,
             "ticks": ""
            },
            "type": "choropleth"
           }
          ],
          "contour": [
           {
            "colorbar": {
             "outlinewidth": 0,
             "ticks": ""
            },
            "colorscale": [
             [
              0,
              "#0d0887"
             ],
             [
              0.1111111111111111,
              "#46039f"
             ],
             [
              0.2222222222222222,
              "#7201a8"
             ],
             [
              0.3333333333333333,
              "#9c179e"
             ],
             [
              0.4444444444444444,
              "#bd3786"
             ],
             [
              0.5555555555555556,
              "#d8576b"
             ],
             [
              0.6666666666666666,
              "#ed7953"
             ],
             [
              0.7777777777777778,
              "#fb9f3a"
             ],
             [
              0.8888888888888888,
              "#fdca26"
             ],
             [
              1,
              "#f0f921"
             ]
            ],
            "type": "contour"
           }
          ],
          "contourcarpet": [
           {
            "colorbar": {
             "outlinewidth": 0,
             "ticks": ""
            },
            "type": "contourcarpet"
           }
          ],
          "heatmap": [
           {
            "colorbar": {
             "outlinewidth": 0,
             "ticks": ""
            },
            "colorscale": [
             [
              0,
              "#0d0887"
             ],
             [
              0.1111111111111111,
              "#46039f"
             ],
             [
              0.2222222222222222,
              "#7201a8"
             ],
             [
              0.3333333333333333,
              "#9c179e"
             ],
             [
              0.4444444444444444,
              "#bd3786"
             ],
             [
              0.5555555555555556,
              "#d8576b"
             ],
             [
              0.6666666666666666,
              "#ed7953"
             ],
             [
              0.7777777777777778,
              "#fb9f3a"
             ],
             [
              0.8888888888888888,
              "#fdca26"
             ],
             [
              1,
              "#f0f921"
             ]
            ],
            "type": "heatmap"
           }
          ],
          "heatmapgl": [
           {
            "colorbar": {
             "outlinewidth": 0,
             "ticks": ""
            },
            "colorscale": [
             [
              0,
              "#0d0887"
             ],
             [
              0.1111111111111111,
              "#46039f"
             ],
             [
              0.2222222222222222,
              "#7201a8"
             ],
             [
              0.3333333333333333,
              "#9c179e"
             ],
             [
              0.4444444444444444,
              "#bd3786"
             ],
             [
              0.5555555555555556,
              "#d8576b"
             ],
             [
              0.6666666666666666,
              "#ed7953"
             ],
             [
              0.7777777777777778,
              "#fb9f3a"
             ],
             [
              0.8888888888888888,
              "#fdca26"
             ],
             [
              1,
              "#f0f921"
             ]
            ],
            "type": "heatmapgl"
           }
          ],
          "histogram": [
           {
            "marker": {
             "colorbar": {
              "outlinewidth": 0,
              "ticks": ""
             }
            },
            "type": "histogram"
           }
          ],
          "histogram2d": [
           {
            "colorbar": {
             "outlinewidth": 0,
             "ticks": ""
            },
            "colorscale": [
             [
              0,
              "#0d0887"
             ],
             [
              0.1111111111111111,
              "#46039f"
             ],
             [
              0.2222222222222222,
              "#7201a8"
             ],
             [
              0.3333333333333333,
              "#9c179e"
             ],
             [
              0.4444444444444444,
              "#bd3786"
             ],
             [
              0.5555555555555556,
              "#d8576b"
             ],
             [
              0.6666666666666666,
              "#ed7953"
             ],
             [
              0.7777777777777778,
              "#fb9f3a"
             ],
             [
              0.8888888888888888,
              "#fdca26"
             ],
             [
              1,
              "#f0f921"
             ]
            ],
            "type": "histogram2d"
           }
          ],
          "histogram2dcontour": [
           {
            "colorbar": {
             "outlinewidth": 0,
             "ticks": ""
            },
            "colorscale": [
             [
              0,
              "#0d0887"
             ],
             [
              0.1111111111111111,
              "#46039f"
             ],
             [
              0.2222222222222222,
              "#7201a8"
             ],
             [
              0.3333333333333333,
              "#9c179e"
             ],
             [
              0.4444444444444444,
              "#bd3786"
             ],
             [
              0.5555555555555556,
              "#d8576b"
             ],
             [
              0.6666666666666666,
              "#ed7953"
             ],
             [
              0.7777777777777778,
              "#fb9f3a"
             ],
             [
              0.8888888888888888,
              "#fdca26"
             ],
             [
              1,
              "#f0f921"
             ]
            ],
            "type": "histogram2dcontour"
           }
          ],
          "mesh3d": [
           {
            "colorbar": {
             "outlinewidth": 0,
             "ticks": ""
            },
            "type": "mesh3d"
           }
          ],
          "parcoords": [
           {
            "line": {
             "colorbar": {
              "outlinewidth": 0,
              "ticks": ""
             }
            },
            "type": "parcoords"
           }
          ],
          "pie": [
           {
            "automargin": true,
            "type": "pie"
           }
          ],
          "scatter": [
           {
            "marker": {
             "colorbar": {
              "outlinewidth": 0,
              "ticks": ""
             }
            },
            "type": "scatter"
           }
          ],
          "scatter3d": [
           {
            "line": {
             "colorbar": {
              "outlinewidth": 0,
              "ticks": ""
             }
            },
            "marker": {
             "colorbar": {
              "outlinewidth": 0,
              "ticks": ""
             }
            },
            "type": "scatter3d"
           }
          ],
          "scattercarpet": [
           {
            "marker": {
             "colorbar": {
              "outlinewidth": 0,
              "ticks": ""
             }
            },
            "type": "scattercarpet"
           }
          ],
          "scattergeo": [
           {
            "marker": {
             "colorbar": {
              "outlinewidth": 0,
              "ticks": ""
             }
            },
            "type": "scattergeo"
           }
          ],
          "scattergl": [
           {
            "marker": {
             "colorbar": {
              "outlinewidth": 0,
              "ticks": ""
             }
            },
            "type": "scattergl"
           }
          ],
          "scattermapbox": [
           {
            "marker": {
             "colorbar": {
              "outlinewidth": 0,
              "ticks": ""
             }
            },
            "type": "scattermapbox"
           }
          ],
          "scatterpolar": [
           {
            "marker": {
             "colorbar": {
              "outlinewidth": 0,
              "ticks": ""
             }
            },
            "type": "scatterpolar"
           }
          ],
          "scatterpolargl": [
           {
            "marker": {
             "colorbar": {
              "outlinewidth": 0,
              "ticks": ""
             }
            },
            "type": "scatterpolargl"
           }
          ],
          "scatterternary": [
           {
            "marker": {
             "colorbar": {
              "outlinewidth": 0,
              "ticks": ""
             }
            },
            "type": "scatterternary"
           }
          ],
          "surface": [
           {
            "colorbar": {
             "outlinewidth": 0,
             "ticks": ""
            },
            "colorscale": [
             [
              0,
              "#0d0887"
             ],
             [
              0.1111111111111111,
              "#46039f"
             ],
             [
              0.2222222222222222,
              "#7201a8"
             ],
             [
              0.3333333333333333,
              "#9c179e"
             ],
             [
              0.4444444444444444,
              "#bd3786"
             ],
             [
              0.5555555555555556,
              "#d8576b"
             ],
             [
              0.6666666666666666,
              "#ed7953"
             ],
             [
              0.7777777777777778,
              "#fb9f3a"
             ],
             [
              0.8888888888888888,
              "#fdca26"
             ],
             [
              1,
              "#f0f921"
             ]
            ],
            "type": "surface"
           }
          ],
          "table": [
           {
            "cells": {
             "fill": {
              "color": "#EBF0F8"
             },
             "line": {
              "color": "white"
             }
            },
            "header": {
             "fill": {
              "color": "#C8D4E3"
             },
             "line": {
              "color": "white"
             }
            },
            "type": "table"
           }
          ]
         },
         "layout": {
          "annotationdefaults": {
           "arrowcolor": "#2a3f5f",
           "arrowhead": 0,
           "arrowwidth": 1
          },
          "coloraxis": {
           "colorbar": {
            "outlinewidth": 0,
            "ticks": ""
           }
          },
          "colorscale": {
           "diverging": [
            [
             0,
             "#8e0152"
            ],
            [
             0.1,
             "#c51b7d"
            ],
            [
             0.2,
             "#de77ae"
            ],
            [
             0.3,
             "#f1b6da"
            ],
            [
             0.4,
             "#fde0ef"
            ],
            [
             0.5,
             "#f7f7f7"
            ],
            [
             0.6,
             "#e6f5d0"
            ],
            [
             0.7,
             "#b8e186"
            ],
            [
             0.8,
             "#7fbc41"
            ],
            [
             0.9,
             "#4d9221"
            ],
            [
             1,
             "#276419"
            ]
           ],
           "sequential": [
            [
             0,
             "#0d0887"
            ],
            [
             0.1111111111111111,
             "#46039f"
            ],
            [
             0.2222222222222222,
             "#7201a8"
            ],
            [
             0.3333333333333333,
             "#9c179e"
            ],
            [
             0.4444444444444444,
             "#bd3786"
            ],
            [
             0.5555555555555556,
             "#d8576b"
            ],
            [
             0.6666666666666666,
             "#ed7953"
            ],
            [
             0.7777777777777778,
             "#fb9f3a"
            ],
            [
             0.8888888888888888,
             "#fdca26"
            ],
            [
             1,
             "#f0f921"
            ]
           ],
           "sequentialminus": [
            [
             0,
             "#0d0887"
            ],
            [
             0.1111111111111111,
             "#46039f"
            ],
            [
             0.2222222222222222,
             "#7201a8"
            ],
            [
             0.3333333333333333,
             "#9c179e"
            ],
            [
             0.4444444444444444,
             "#bd3786"
            ],
            [
             0.5555555555555556,
             "#d8576b"
            ],
            [
             0.6666666666666666,
             "#ed7953"
            ],
            [
             0.7777777777777778,
             "#fb9f3a"
            ],
            [
             0.8888888888888888,
             "#fdca26"
            ],
            [
             1,
             "#f0f921"
            ]
           ]
          },
          "colorway": [
           "#636efa",
           "#EF553B",
           "#00cc96",
           "#ab63fa",
           "#FFA15A",
           "#19d3f3",
           "#FF6692",
           "#B6E880",
           "#FF97FF",
           "#FECB52"
          ],
          "font": {
           "color": "#2a3f5f"
          },
          "geo": {
           "bgcolor": "white",
           "lakecolor": "white",
           "landcolor": "#E5ECF6",
           "showlakes": true,
           "showland": true,
           "subunitcolor": "white"
          },
          "hoverlabel": {
           "align": "left"
          },
          "hovermode": "closest",
          "mapbox": {
           "style": "light"
          },
          "paper_bgcolor": "white",
          "plot_bgcolor": "#E5ECF6",
          "polar": {
           "angularaxis": {
            "gridcolor": "white",
            "linecolor": "white",
            "ticks": ""
           },
           "bgcolor": "#E5ECF6",
           "radialaxis": {
            "gridcolor": "white",
            "linecolor": "white",
            "ticks": ""
           }
          },
          "scene": {
           "xaxis": {
            "backgroundcolor": "#E5ECF6",
            "gridcolor": "white",
            "gridwidth": 2,
            "linecolor": "white",
            "showbackground": true,
            "ticks": "",
            "zerolinecolor": "white"
           },
           "yaxis": {
            "backgroundcolor": "#E5ECF6",
            "gridcolor": "white",
            "gridwidth": 2,
            "linecolor": "white",
            "showbackground": true,
            "ticks": "",
            "zerolinecolor": "white"
           },
           "zaxis": {
            "backgroundcolor": "#E5ECF6",
            "gridcolor": "white",
            "gridwidth": 2,
            "linecolor": "white",
            "showbackground": true,
            "ticks": "",
            "zerolinecolor": "white"
           }
          },
          "shapedefaults": {
           "line": {
            "color": "#2a3f5f"
           }
          },
          "ternary": {
           "aaxis": {
            "gridcolor": "white",
            "linecolor": "white",
            "ticks": ""
           },
           "baxis": {
            "gridcolor": "white",
            "linecolor": "white",
            "ticks": ""
           },
           "bgcolor": "#E5ECF6",
           "caxis": {
            "gridcolor": "white",
            "linecolor": "white",
            "ticks": ""
           }
          },
          "title": {
           "x": 0.05
          },
          "xaxis": {
           "automargin": true,
           "gridcolor": "white",
           "linecolor": "white",
           "ticks": "",
           "title": {
            "standoff": 15
           },
           "zerolinecolor": "white",
           "zerolinewidth": 2
          },
          "yaxis": {
           "automargin": true,
           "gridcolor": "white",
           "linecolor": "white",
           "ticks": "",
           "title": {
            "standoff": 15
           },
           "zerolinecolor": "white",
           "zerolinewidth": 2
          }
         }
        }
       }
      },
      "text/html": [
       "<div>\n",
       "        \n",
       "        \n",
       "            <div id=\"2d3c5154-be55-4f3d-9645-a5390a6f722b\" class=\"plotly-graph-div\" style=\"height:525px; width:100%;\"></div>\n",
       "            <script type=\"text/javascript\">\n",
       "                require([\"plotly\"], function(Plotly) {\n",
       "                    window.PLOTLYENV=window.PLOTLYENV || {};\n",
       "                    \n",
       "                if (document.getElementById(\"2d3c5154-be55-4f3d-9645-a5390a6f722b\")) {\n",
       "                    Plotly.newPlot(\n",
       "                        '2d3c5154-be55-4f3d-9645-a5390a6f722b',\n",
       "                        [{\"mode\": \"lines\", \"name\": \"GT\", \"type\": \"scatter\", \"x\": [0, 1, 2, 3, 4, 5, 6, 7, 8, 9, 10, 11, 12, 13, 14, 15, 16, 17, 18, 19, 20, 21, 22, 23, 24, 25, 26, 27, 28, 29, 30], \"y\": [135.0, 131.0, 107.0, 48.99999999999994, 1083.0, 2365.0, 3040.0, 1972.0, 1832.0, 1706.0, 1012.0, 589.0, 480.0, 223.0, 183.0, 52.0, 19.0, 21.0, 14.0, 14.0, 20.0, 7.0, 9.0, 9.0, 7.0, 6.0, 2336.0, 1428.0, 198.0, 99.99999999999994, 82.0]}, {\"mode\": \"lines\", \"name\": \"Drift\", \"type\": \"scatter\", \"x\": [0, 1, 2, 3, 4, 5, 6, 7, 8, 9, 10, 11, 12, 13, 14, 15, 16, 17, 18, 19, 20, 21, 22, 23, 24, 25, 26, 27, 28, 29, 30], \"y\": [322.69453839896016, 324.3136106596573, 325.93523573779237, 327.55558440720847, 329.17657128098404, 330.79723905257987, 332.41806637526554, 334.0388139224063, 335.6596013573195, 337.2803688483465, 338.90114631131655, 340.5219187883151, 342.1426937582994, 343.7634674817908, 345.38424182852873, 347.0050158636434, 348.6257900545697, 350.2465641675901, 351.8673383195635, 353.48811245206036, 355.1088865942955, 356.7296607316615, 358.3504348714621, 359.9712090100454, 361.59198314923736, 363.212757288125, 364.83353142716476, 366.4543055661285, 368.07507970513024, 369.695853844113, 371.31662798310526]}, {\"mode\": \"lines\", \"name\": \"ARIMA\", \"type\": \"scatter\", \"x\": [0, 1, 2, 3, 4, 5, 6, 7, 8, 9, 10, 11, 12, 13, 14, 15, 16, 17, 18, 19, 20, 21, 22, 23, 24, 25, 26, 27, 28, 29, 30], \"y\": [138.5934760105318, 217.80633340057335, 285.0212736562811, 335.49918325135485, 356.3097160920979, 348.33004539074767, 370.80453183530403, 408.3355019237056, 420.08571620826854, 411.396873981965, 675.604226502501, 1200.056594184118, 1642.1574494909523, 1236.185787777842, 1041.6526488214536, 1050.7065344465632, 789.036217628392, 633.4688657822346, 571.4643005305147, 496.54462155605023, 432.3758463690012, 369.27961949663563, 347.770851521031, 349.20677431379295, 345.9811251612412, 513.3104042491827, 345.26516401497673, 512.0380030311251, 354.2287916589598, 399.40349490919516, 431.67113036997864]}, {\"mode\": \"lines\", \"name\": \"LSTM\", \"type\": \"scatter\", \"x\": [0, 1, 2, 3, 4, 5, 6, 7, 8, 9, 10, 11, 12, 13, 14, 15, 16, 17, 18, 19, 20, 21, 22, 23, 24, 25, 26, 27, 28, 29, 30], \"y\": [245.35980224609375, 297.34515380859375, 330.76837158203125, 345.9610290527344, 340.7642822265625, 758.4676513671875, 1558.9329833984375, 2003.341552734375, 1622.86181640625, 1272.195068359375, 1084.455078125, 802.7069091796875, 602.6895141601562, 542.5506591796875, 470.98016357421875, 455.2665100097656, 422.0528564453125, 405.7230529785156, 405.03118896484375, 405.2742919921875, 405.67498779296875, 407.64404296875, 403.22607421875, 401.3526611328125, 399.65008544921875, 397.1077880859375, 394.43865966796875, 1333.6019287109375, 1181.796875, 577.5298461914062, 407.5776062011719]}, {\"mode\": \"lines\", \"name\": \"Exo-LSTM\", \"type\": \"scatter\", \"x\": [0, 1, 2, 3, 4, 5, 6, 7, 8, 9, 10, 11, 12, 13, 14, 15, 16, 17, 18, 19, 20, 21, 22, 23, 24, 25, 26, 27, 28, 29, 30], \"y\": [16.11181640625, 385.8714599609375, 290.5115661621094, 554.9847412109375, 741.949951171875, 1520.1494140625, 2015.000732421875, 2095.944580078125, 1528.7664794921875, 1349.45751953125, 823.9210205078125, 307.14154052734375, 488.1846923828125, 511.5148010253906, 171.89547729492188, 73.74978637695312, 269.9281311035156, 322.5587158203125, 276.6582946777344, 210.40341186523438, 283.7967224121094, 325.3943786621094, 200.32373046875, 124.15579223632812, 302.3592529296875, -81.7247314453125, 149.74212646484375, 876.81591796875, 559.7415161132812, -344.413330078125, 306.44580078125]}],\n",
       "                        {\"template\": {\"data\": {\"bar\": [{\"error_x\": {\"color\": \"#2a3f5f\"}, \"error_y\": {\"color\": \"#2a3f5f\"}, \"marker\": {\"line\": {\"color\": \"#E5ECF6\", \"width\": 0.5}}, \"type\": \"bar\"}], \"barpolar\": [{\"marker\": {\"line\": {\"color\": \"#E5ECF6\", \"width\": 0.5}}, \"type\": \"barpolar\"}], \"carpet\": [{\"aaxis\": {\"endlinecolor\": \"#2a3f5f\", \"gridcolor\": \"white\", \"linecolor\": \"white\", \"minorgridcolor\": \"white\", \"startlinecolor\": \"#2a3f5f\"}, \"baxis\": {\"endlinecolor\": \"#2a3f5f\", \"gridcolor\": \"white\", \"linecolor\": \"white\", \"minorgridcolor\": \"white\", \"startlinecolor\": \"#2a3f5f\"}, \"type\": \"carpet\"}], \"choropleth\": [{\"colorbar\": {\"outlinewidth\": 0, \"ticks\": \"\"}, \"type\": \"choropleth\"}], \"contour\": [{\"colorbar\": {\"outlinewidth\": 0, \"ticks\": \"\"}, \"colorscale\": [[0.0, \"#0d0887\"], [0.1111111111111111, \"#46039f\"], [0.2222222222222222, \"#7201a8\"], [0.3333333333333333, \"#9c179e\"], [0.4444444444444444, \"#bd3786\"], [0.5555555555555556, \"#d8576b\"], [0.6666666666666666, \"#ed7953\"], [0.7777777777777778, \"#fb9f3a\"], [0.8888888888888888, \"#fdca26\"], [1.0, \"#f0f921\"]], \"type\": \"contour\"}], \"contourcarpet\": [{\"colorbar\": {\"outlinewidth\": 0, \"ticks\": \"\"}, \"type\": \"contourcarpet\"}], \"heatmap\": [{\"colorbar\": {\"outlinewidth\": 0, \"ticks\": \"\"}, \"colorscale\": [[0.0, \"#0d0887\"], [0.1111111111111111, \"#46039f\"], [0.2222222222222222, \"#7201a8\"], [0.3333333333333333, \"#9c179e\"], [0.4444444444444444, \"#bd3786\"], [0.5555555555555556, \"#d8576b\"], [0.6666666666666666, \"#ed7953\"], [0.7777777777777778, \"#fb9f3a\"], [0.8888888888888888, \"#fdca26\"], [1.0, \"#f0f921\"]], \"type\": \"heatmap\"}], \"heatmapgl\": [{\"colorbar\": {\"outlinewidth\": 0, \"ticks\": \"\"}, \"colorscale\": [[0.0, \"#0d0887\"], [0.1111111111111111, \"#46039f\"], [0.2222222222222222, \"#7201a8\"], [0.3333333333333333, \"#9c179e\"], [0.4444444444444444, \"#bd3786\"], [0.5555555555555556, \"#d8576b\"], [0.6666666666666666, \"#ed7953\"], [0.7777777777777778, \"#fb9f3a\"], [0.8888888888888888, \"#fdca26\"], [1.0, \"#f0f921\"]], \"type\": \"heatmapgl\"}], \"histogram\": [{\"marker\": {\"colorbar\": {\"outlinewidth\": 0, \"ticks\": \"\"}}, \"type\": \"histogram\"}], \"histogram2d\": [{\"colorbar\": {\"outlinewidth\": 0, \"ticks\": \"\"}, \"colorscale\": [[0.0, \"#0d0887\"], [0.1111111111111111, \"#46039f\"], [0.2222222222222222, \"#7201a8\"], [0.3333333333333333, \"#9c179e\"], [0.4444444444444444, \"#bd3786\"], [0.5555555555555556, \"#d8576b\"], [0.6666666666666666, \"#ed7953\"], [0.7777777777777778, \"#fb9f3a\"], [0.8888888888888888, \"#fdca26\"], [1.0, \"#f0f921\"]], \"type\": \"histogram2d\"}], \"histogram2dcontour\": [{\"colorbar\": {\"outlinewidth\": 0, \"ticks\": \"\"}, \"colorscale\": [[0.0, \"#0d0887\"], [0.1111111111111111, \"#46039f\"], [0.2222222222222222, \"#7201a8\"], [0.3333333333333333, \"#9c179e\"], [0.4444444444444444, \"#bd3786\"], [0.5555555555555556, \"#d8576b\"], [0.6666666666666666, \"#ed7953\"], [0.7777777777777778, \"#fb9f3a\"], [0.8888888888888888, \"#fdca26\"], [1.0, \"#f0f921\"]], \"type\": \"histogram2dcontour\"}], \"mesh3d\": [{\"colorbar\": {\"outlinewidth\": 0, \"ticks\": \"\"}, \"type\": \"mesh3d\"}], \"parcoords\": [{\"line\": {\"colorbar\": {\"outlinewidth\": 0, \"ticks\": \"\"}}, \"type\": \"parcoords\"}], \"pie\": [{\"automargin\": true, \"type\": \"pie\"}], \"scatter\": [{\"marker\": {\"colorbar\": {\"outlinewidth\": 0, \"ticks\": \"\"}}, \"type\": \"scatter\"}], \"scatter3d\": [{\"line\": {\"colorbar\": {\"outlinewidth\": 0, \"ticks\": \"\"}}, \"marker\": {\"colorbar\": {\"outlinewidth\": 0, \"ticks\": \"\"}}, \"type\": \"scatter3d\"}], \"scattercarpet\": [{\"marker\": {\"colorbar\": {\"outlinewidth\": 0, \"ticks\": \"\"}}, \"type\": \"scattercarpet\"}], \"scattergeo\": [{\"marker\": {\"colorbar\": {\"outlinewidth\": 0, \"ticks\": \"\"}}, \"type\": \"scattergeo\"}], \"scattergl\": [{\"marker\": {\"colorbar\": {\"outlinewidth\": 0, \"ticks\": \"\"}}, \"type\": \"scattergl\"}], \"scattermapbox\": [{\"marker\": {\"colorbar\": {\"outlinewidth\": 0, \"ticks\": \"\"}}, \"type\": \"scattermapbox\"}], \"scatterpolar\": [{\"marker\": {\"colorbar\": {\"outlinewidth\": 0, \"ticks\": \"\"}}, \"type\": \"scatterpolar\"}], \"scatterpolargl\": [{\"marker\": {\"colorbar\": {\"outlinewidth\": 0, \"ticks\": \"\"}}, \"type\": \"scatterpolargl\"}], \"scatterternary\": [{\"marker\": {\"colorbar\": {\"outlinewidth\": 0, \"ticks\": \"\"}}, \"type\": \"scatterternary\"}], \"surface\": [{\"colorbar\": {\"outlinewidth\": 0, \"ticks\": \"\"}, \"colorscale\": [[0.0, \"#0d0887\"], [0.1111111111111111, \"#46039f\"], [0.2222222222222222, \"#7201a8\"], [0.3333333333333333, \"#9c179e\"], [0.4444444444444444, \"#bd3786\"], [0.5555555555555556, \"#d8576b\"], [0.6666666666666666, \"#ed7953\"], [0.7777777777777778, \"#fb9f3a\"], [0.8888888888888888, \"#fdca26\"], [1.0, \"#f0f921\"]], \"type\": \"surface\"}], \"table\": [{\"cells\": {\"fill\": {\"color\": \"#EBF0F8\"}, \"line\": {\"color\": \"white\"}}, \"header\": {\"fill\": {\"color\": \"#C8D4E3\"}, \"line\": {\"color\": \"white\"}}, \"type\": \"table\"}]}, \"layout\": {\"annotationdefaults\": {\"arrowcolor\": \"#2a3f5f\", \"arrowhead\": 0, \"arrowwidth\": 1}, \"coloraxis\": {\"colorbar\": {\"outlinewidth\": 0, \"ticks\": \"\"}}, \"colorscale\": {\"diverging\": [[0, \"#8e0152\"], [0.1, \"#c51b7d\"], [0.2, \"#de77ae\"], [0.3, \"#f1b6da\"], [0.4, \"#fde0ef\"], [0.5, \"#f7f7f7\"], [0.6, \"#e6f5d0\"], [0.7, \"#b8e186\"], [0.8, \"#7fbc41\"], [0.9, \"#4d9221\"], [1, \"#276419\"]], \"sequential\": [[0.0, \"#0d0887\"], [0.1111111111111111, \"#46039f\"], [0.2222222222222222, \"#7201a8\"], [0.3333333333333333, \"#9c179e\"], [0.4444444444444444, \"#bd3786\"], [0.5555555555555556, \"#d8576b\"], [0.6666666666666666, \"#ed7953\"], [0.7777777777777778, \"#fb9f3a\"], [0.8888888888888888, \"#fdca26\"], [1.0, \"#f0f921\"]], \"sequentialminus\": [[0.0, \"#0d0887\"], [0.1111111111111111, \"#46039f\"], [0.2222222222222222, \"#7201a8\"], [0.3333333333333333, \"#9c179e\"], [0.4444444444444444, \"#bd3786\"], [0.5555555555555556, \"#d8576b\"], [0.6666666666666666, \"#ed7953\"], [0.7777777777777778, \"#fb9f3a\"], [0.8888888888888888, \"#fdca26\"], [1.0, \"#f0f921\"]]}, \"colorway\": [\"#636efa\", \"#EF553B\", \"#00cc96\", \"#ab63fa\", \"#FFA15A\", \"#19d3f3\", \"#FF6692\", \"#B6E880\", \"#FF97FF\", \"#FECB52\"], \"font\": {\"color\": \"#2a3f5f\"}, \"geo\": {\"bgcolor\": \"white\", \"lakecolor\": \"white\", \"landcolor\": \"#E5ECF6\", \"showlakes\": true, \"showland\": true, \"subunitcolor\": \"white\"}, \"hoverlabel\": {\"align\": \"left\"}, \"hovermode\": \"closest\", \"mapbox\": {\"style\": \"light\"}, \"paper_bgcolor\": \"white\", \"plot_bgcolor\": \"#E5ECF6\", \"polar\": {\"angularaxis\": {\"gridcolor\": \"white\", \"linecolor\": \"white\", \"ticks\": \"\"}, \"bgcolor\": \"#E5ECF6\", \"radialaxis\": {\"gridcolor\": \"white\", \"linecolor\": \"white\", \"ticks\": \"\"}}, \"scene\": {\"xaxis\": {\"backgroundcolor\": \"#E5ECF6\", \"gridcolor\": \"white\", \"gridwidth\": 2, \"linecolor\": \"white\", \"showbackground\": true, \"ticks\": \"\", \"zerolinecolor\": \"white\"}, \"yaxis\": {\"backgroundcolor\": \"#E5ECF6\", \"gridcolor\": \"white\", \"gridwidth\": 2, \"linecolor\": \"white\", \"showbackground\": true, \"ticks\": \"\", \"zerolinecolor\": \"white\"}, \"zaxis\": {\"backgroundcolor\": \"#E5ECF6\", \"gridcolor\": \"white\", \"gridwidth\": 2, \"linecolor\": \"white\", \"showbackground\": true, \"ticks\": \"\", \"zerolinecolor\": \"white\"}}, \"shapedefaults\": {\"line\": {\"color\": \"#2a3f5f\"}}, \"ternary\": {\"aaxis\": {\"gridcolor\": \"white\", \"linecolor\": \"white\", \"ticks\": \"\"}, \"baxis\": {\"gridcolor\": \"white\", \"linecolor\": \"white\", \"ticks\": \"\"}, \"bgcolor\": \"#E5ECF6\", \"caxis\": {\"gridcolor\": \"white\", \"linecolor\": \"white\", \"ticks\": \"\"}}, \"title\": {\"x\": 0.05}, \"xaxis\": {\"automargin\": true, \"gridcolor\": \"white\", \"linecolor\": \"white\", \"ticks\": \"\", \"title\": {\"standoff\": 15}, \"zerolinecolor\": \"white\", \"zerolinewidth\": 2}, \"yaxis\": {\"automargin\": true, \"gridcolor\": \"white\", \"linecolor\": \"white\", \"ticks\": \"\", \"title\": {\"standoff\": 15}, \"zerolinecolor\": \"white\", \"zerolinewidth\": 2}}}},\n",
       "                        {\"responsive\": true}\n",
       "                    ).then(function(){\n",
       "                            \n",
       "var gd = document.getElementById('2d3c5154-be55-4f3d-9645-a5390a6f722b');\n",
       "var x = new MutationObserver(function (mutations, observer) {{\n",
       "        var display = window.getComputedStyle(gd).display;\n",
       "        if (!display || display === 'none') {{\n",
       "            console.log([gd, 'removed!']);\n",
       "            Plotly.purge(gd);\n",
       "            observer.disconnect();\n",
       "        }}\n",
       "}});\n",
       "\n",
       "// Listen for the removal of the full notebook cells\n",
       "var notebookContainer = gd.closest('#notebook-container');\n",
       "if (notebookContainer) {{\n",
       "    x.observe(notebookContainer, {childList: true});\n",
       "}}\n",
       "\n",
       "// Listen for the clearing of the current output cell\n",
       "var outputEl = gd.closest('.output');\n",
       "if (outputEl) {{\n",
       "    x.observe(outputEl, {childList: true});\n",
       "}}\n",
       "\n",
       "                        })\n",
       "                };\n",
       "                });\n",
       "            </script>\n",
       "        </div>"
      ]
     },
     "metadata": {},
     "output_type": "display_data"
    },
    {
     "name": "stdout",
     "output_type": "stream",
     "text": [
      "\n",
      "Running forecasting for sales in Turin\n",
      "Run # 1\n",
      "Default input features: [0, 1, 2]\n",
      "Input features with exogenous data: [0, 1, 2, 3, 4, 5, 6]\n",
      "Inputs for training\n",
      "(152, 6, 3)\n",
      "Outputs for training\n",
      "(152, 2, 3)\n",
      "Inputs for testing\n",
      "(31, 6, 3)\n",
      "Outputs for testing\n",
      "(31, 2, 3)\n",
      "\n",
      "\n",
      "Inputs for training\n",
      "(152, 6, 7)\n",
      "Outputs for training\n",
      "(152, 2, 7)\n",
      "Inputs for testing\n",
      "(31, 6, 7)\n",
      "Outputs for testing\n",
      "(31, 2, 7)\n",
      "\n",
      "\n",
      "Running Drift and Seasonal Drift models based on STL Decomposition...\n",
      "Done\n",
      "\n",
      "Running ARIMA Model...\n",
      "Done\n",
      "\n",
      "Training the default LSTM model...\n",
      "Epoch 1 Train loss: 1.01. Validation loss: 0.97. Avg future: 2.25. Elapsed time: 0.11s.\n",
      "Epoch 2 Train loss: 0.96. Validation loss: 0.92. Avg future: 1.83. Elapsed time: 0.12s.\n",
      "Epoch 3 Train loss: 0.91. Validation loss: 0.87. Avg future: 1.83. Elapsed time: 0.12s.\n",
      "Epoch 4 Train loss: 0.85. Validation loss: 0.81. Avg future: 1.83. Elapsed time: 0.10s.\n",
      "Epoch 5 Train loss: 0.80. Validation loss: 0.74. Avg future: 2.42. Elapsed time: 0.09s.\n",
      "Epoch 6 Train loss: 0.71. Validation loss: 0.66. Avg future: 2.00. Elapsed time: 0.10s.\n",
      "Epoch 7 Train loss: 0.63. Validation loss: 0.58. Avg future: 2.08. Elapsed time: 0.10s.\n",
      "Epoch 8 Train loss: 0.57. Validation loss: 0.52. Avg future: 1.75. Elapsed time: 0.09s.\n",
      "Epoch 9 Train loss: 0.49. Validation loss: 0.47. Avg future: 2.08. Elapsed time: 0.08s.\n",
      "Epoch 10 Train loss: 0.47. Validation loss: 0.44. Avg future: 1.92. Elapsed time: 0.10s.\n",
      "Epoch 11 Train loss: 0.45. Validation loss: 0.42. Avg future: 1.83. Elapsed time: 0.11s.\n",
      "Epoch 12 Train loss: 0.40. Validation loss: 0.40. Avg future: 1.92. Elapsed time: 0.10s.\n",
      "Epoch 13 Train loss: 0.38. Validation loss: 0.38. Avg future: 2.42. Elapsed time: 0.11s.\n",
      "Epoch 14 Train loss: 0.39. Validation loss: 0.36. Avg future: 2.33. Elapsed time: 0.09s.\n",
      "Epoch 15 Train loss: 0.39. Validation loss: 0.35. Avg future: 2.33. Elapsed time: 0.10s.\n",
      "Epoch 16 Train loss: 0.33. Validation loss: 0.34. Avg future: 2.00. Elapsed time: 0.12s.\n",
      "Epoch 17 Train loss: 0.32. Validation loss: 0.33. Avg future: 2.00. Elapsed time: 0.10s.\n",
      "Epoch 18 Train loss: 0.32. Validation loss: 0.32. Avg future: 1.67. Elapsed time: 0.11s.\n",
      "Epoch 19 Train loss: 0.32. Validation loss: 0.31. Avg future: 1.92. Elapsed time: 0.09s.\n",
      "Epoch 20 Train loss: 0.26. Validation loss: 0.30. Avg future: 2.08. Elapsed time: 0.09s.\n",
      "Epoch 21 Train loss: 0.29. Validation loss: 0.29. Avg future: 2.25. Elapsed time: 0.10s.\n",
      "Epoch 22 Train loss: 0.26. Validation loss: 0.29. Avg future: 2.17. Elapsed time: 0.12s.\n",
      "Epoch 23 Train loss: 0.26. Validation loss: 0.28. Avg future: 2.08. Elapsed time: 0.12s.\n",
      "Epoch 24 Train loss: 0.29. Validation loss: 0.28. Avg future: 1.83. Elapsed time: 0.09s.\n",
      "Epoch 25 Train loss: 0.29. Validation loss: 0.27. Avg future: 2.08. Elapsed time: 0.09s.\n",
      "Epoch 26 Train loss: 0.28. Validation loss: 0.27. Avg future: 1.75. Elapsed time: 0.09s.\n",
      "Epoch 27 Train loss: 0.30. Validation loss: 0.27. Avg future: 2.00. Elapsed time: 0.09s.\n",
      "Epoch 28 Train loss: 0.28. Validation loss: 0.27. Avg future: 2.25. Elapsed time: 0.08s.\n",
      "Epoch 29 Train loss: 0.24. Validation loss: 0.27. Avg future: 2.08. Elapsed time: 0.08s.\n",
      "Epoch 30 Train loss: 0.27. Validation loss: 0.27. Avg future: 2.00. Elapsed time: 0.10s.\n",
      "Done\n",
      "\n",
      "Training the augmented Exo-LSTM model...\n",
      "Epoch 1 Train loss: 1.00. Validation loss: 0.93. Avg future: 2.08. Elapsed time: 0.12s.\n",
      "Epoch 2 Train loss: 0.89. Validation loss: 0.81. Avg future: 2.08. Elapsed time: 0.11s.\n",
      "Epoch 3 Train loss: 0.76. Validation loss: 0.72. Avg future: 2.25. Elapsed time: 0.11s.\n",
      "Epoch 4 Train loss: 0.68. Validation loss: 0.66. Avg future: 1.83. Elapsed time: 0.11s.\n",
      "Epoch 5 Train loss: 0.62. Validation loss: 0.62. Avg future: 1.42. Elapsed time: 0.12s.\n",
      "Epoch 6 Train loss: 0.58. Validation loss: 0.59. Avg future: 2.25. Elapsed time: 0.11s.\n",
      "Epoch 7 Train loss: 0.56. Validation loss: 0.56. Avg future: 2.08. Elapsed time: 0.11s.\n",
      "Epoch 8 Train loss: 0.54. Validation loss: 0.55. Avg future: 1.75. Elapsed time: 0.12s.\n",
      "Epoch 9 Train loss: 0.51. Validation loss: 0.53. Avg future: 2.17. Elapsed time: 0.12s.\n",
      "Epoch 10 Train loss: 0.51. Validation loss: 0.52. Avg future: 1.75. Elapsed time: 0.12s.\n",
      "Epoch 11 Train loss: 0.49. Validation loss: 0.51. Avg future: 2.33. Elapsed time: 0.12s.\n",
      "Epoch 12 Train loss: 0.49. Validation loss: 0.50. Avg future: 2.25. Elapsed time: 0.11s.\n",
      "Epoch 13 Train loss: 0.46. Validation loss: 0.49. Avg future: 2.25. Elapsed time: 0.11s.\n",
      "Epoch 14 Train loss: 0.46. Validation loss: 0.48. Avg future: 1.58. Elapsed time: 0.11s.\n",
      "Epoch 15 Train loss: 0.47. Validation loss: 0.47. Avg future: 1.67. Elapsed time: 0.11s.\n",
      "Epoch 16 Train loss: 0.47. Validation loss: 0.46. Avg future: 2.17. Elapsed time: 0.12s.\n",
      "Epoch 17 Train loss: 0.44. Validation loss: 0.45. Avg future: 2.08. Elapsed time: 0.12s.\n",
      "Epoch 18 Train loss: 0.43. Validation loss: 0.44. Avg future: 1.83. Elapsed time: 0.11s.\n",
      "Epoch 19 Train loss: 0.43. Validation loss: 0.44. Avg future: 1.92. Elapsed time: 0.11s.\n",
      "Epoch 20 Train loss: 0.41. Validation loss: 0.43. Avg future: 2.25. Elapsed time: 0.12s.\n",
      "Epoch 21 Train loss: 0.42. Validation loss: 0.45. Avg future: 2.42. Elapsed time: 0.11s.\n",
      "Epoch 22 Train loss: 0.43. Validation loss: 0.42. Avg future: 1.33. Elapsed time: 0.11s.\n",
      "Epoch 23 Train loss: 0.40. Validation loss: 0.41. Avg future: 1.92. Elapsed time: 0.12s.\n",
      "Epoch 24 Train loss: 0.39. Validation loss: 0.40. Avg future: 2.00. Elapsed time: 0.11s.\n",
      "Epoch 25 Train loss: 0.39. Validation loss: 0.40. Avg future: 2.33. Elapsed time: 0.11s.\n",
      "Epoch 26 Train loss: 0.39. Validation loss: 0.40. Avg future: 1.83. Elapsed time: 0.12s.\n",
      "Epoch 27 Train loss: 0.39. Validation loss: 0.40. Avg future: 2.17. Elapsed time: 0.11s.\n",
      "Epoch 28 Train loss: 0.38. Validation loss: 0.39. Avg future: 1.75. Elapsed time: 0.12s.\n",
      "Epoch 29 Train loss: 0.38. Validation loss: 0.39. Avg future: 2.08. Elapsed time: 0.11s.\n",
      "Epoch 30 Train loss: 0.37. Validation loss: 0.39. Avg future: 2.25. Elapsed time: 0.12s.\n",
      "Epoch 31 Train loss: 0.38. Validation loss: 0.39. Avg future: 1.75. Elapsed time: 0.11s.\n",
      "Epoch 32 Train loss: 0.38. Validation loss: 0.39. Avg future: 1.75. Elapsed time: 0.11s.\n",
      "Epoch 33 Train loss: 0.37. Validation loss: 0.39. Avg future: 1.92. Elapsed time: 0.11s.\n",
      "Epoch 34 Train loss: 0.37. Validation loss: 0.39. Avg future: 2.08. Elapsed time: 0.12s.\n",
      "Epoch 35 Train loss: 0.37. Validation loss: 0.39. Avg future: 2.25. Elapsed time: 0.11s.\n",
      "Epoch 36 Train loss: 0.36. Validation loss: 0.39. Avg future: 2.42. Elapsed time: 0.11s.\n",
      "Epoch 37 Train loss: 0.37. Validation loss: 0.39. Avg future: 1.58. Elapsed time: 0.11s.\n",
      "Epoch 38 Train loss: 0.37. Validation loss: 0.38. Avg future: 2.00. Elapsed time: 0.11s.\n",
      "Epoch 39 Train loss: 0.37. Validation loss: 0.38. Avg future: 1.83. Elapsed time: 0.11s.\n",
      "Epoch 40 Train loss: 0.37. Validation loss: 0.38. Avg future: 1.92. Elapsed time: 0.12s.\n",
      "Epoch 41 Train loss: 0.37. Validation loss: 0.38. Avg future: 1.75. Elapsed time: 0.11s.\n",
      "Epoch 42 Train loss: 0.37. Validation loss: 0.38. Avg future: 1.58. Elapsed time: 0.12s.\n",
      "Epoch 43 Train loss: 0.36. Validation loss: 0.38. Avg future: 2.25. Elapsed time: 0.11s.\n",
      "Epoch 44 Train loss: 0.36. Validation loss: 0.38. Avg future: 2.08. Elapsed time: 0.11s.\n",
      "Epoch 45 Train loss: 0.36. Validation loss: 0.38. Avg future: 1.92. Elapsed time: 0.11s.\n",
      "Epoch 46 Train loss: 0.36. Validation loss: 0.38. Avg future: 2.00. Elapsed time: 0.11s.\n",
      "Epoch 47 Train loss: 0.36. Validation loss: 0.38. Avg future: 2.08. Elapsed time: 0.12s.\n",
      "Epoch 48 Train loss: 0.37. Validation loss: 0.38. Avg future: 1.92. Elapsed time: 0.12s.\n",
      "Epoch 49 Train loss: 0.36. Validation loss: 0.38. Avg future: 2.42. Elapsed time: 0.13s.\n",
      "Epoch 50 Train loss: 0.36. Validation loss: 0.37. Avg future: 2.50. Elapsed time: 0.13s.\n",
      "Epoch 51 Train loss: 0.36. Validation loss: 0.37. Avg future: 2.08. Elapsed time: 0.12s.\n",
      "Epoch 52 Train loss: 0.35. Validation loss: 0.37. Avg future: 2.08. Elapsed time: 0.11s.\n",
      "Epoch 53 Train loss: 0.36. Validation loss: 0.37. Avg future: 2.25. Elapsed time: 0.11s.\n",
      "Epoch 54 Train loss: 0.36. Validation loss: 0.37. Avg future: 1.83. Elapsed time: 0.12s.\n",
      "Epoch 55 Train loss: 0.36. Validation loss: 0.37. Avg future: 2.17. Elapsed time: 0.16s.\n",
      "Epoch 56 Train loss: 0.36. Validation loss: 0.37. Avg future: 1.83. Elapsed time: 0.15s.\n",
      "Epoch 57 Train loss: 0.36. Validation loss: 0.37. Avg future: 1.83. Elapsed time: 0.12s.\n"
     ]
    },
    {
     "name": "stdout",
     "output_type": "stream",
     "text": [
      "Epoch 58 Train loss: 0.37. Validation loss: 0.37. Avg future: 2.33. Elapsed time: 0.11s.\n",
      "Epoch 59 Train loss: 0.37. Validation loss: 0.37. Avg future: 2.25. Elapsed time: 0.12s.\n",
      "Epoch 60 Train loss: 0.36. Validation loss: 0.37. Avg future: 1.92. Elapsed time: 0.11s.\n",
      "Epoch 61 Train loss: 0.36. Validation loss: 0.37. Avg future: 1.92. Elapsed time: 0.11s.\n",
      "Epoch 62 Train loss: 0.36. Validation loss: 0.37. Avg future: 2.00. Elapsed time: 0.11s.\n",
      "Epoch 63 Train loss: 0.35. Validation loss: 0.37. Avg future: 1.92. Elapsed time: 0.12s.\n",
      "Epoch 64 Train loss: 0.36. Validation loss: 0.37. Avg future: 2.00. Elapsed time: 0.11s.\n",
      "Epoch 65 Train loss: 0.36. Validation loss: 0.37. Avg future: 2.00. Elapsed time: 0.12s.\n",
      "Epoch 66 Train loss: 0.35. Validation loss: 0.37. Avg future: 2.25. Elapsed time: 0.11s.\n",
      "Epoch 67 Train loss: 0.37. Validation loss: 0.37. Avg future: 2.25. Elapsed time: 0.11s.\n",
      "Epoch 68 Train loss: 0.36. Validation loss: 0.37. Avg future: 1.92. Elapsed time: 0.11s.\n",
      "Epoch 69 Train loss: 0.35. Validation loss: 0.37. Avg future: 2.17. Elapsed time: 0.11s.\n",
      "Epoch 70 Train loss: 0.35. Validation loss: 0.37. Avg future: 2.17. Elapsed time: 0.12s.\n",
      "Done\n",
      "\n"
     ]
    },
    {
     "data": {
      "application/vnd.plotly.v1+json": {
       "config": {
        "plotlyServerURL": "https://plot.ly"
       },
       "data": [
        {
         "mode": "lines",
         "name": "GT",
         "type": "scatter",
         "x": [
          0,
          1,
          2,
          3,
          4,
          5,
          6,
          7,
          8,
          9,
          10,
          11,
          12,
          13,
          14,
          15,
          16,
          17,
          18,
          19,
          20,
          21,
          22,
          23,
          24,
          25,
          26,
          27,
          28,
          29,
          30
         ],
         "y": [
          137,
          144.00000000000006,
          78.99999999999994,
          38,
          967,
          2065,
          2162.9999999999995,
          1930,
          1917,
          1725,
          1324,
          1045,
          1125,
          656,
          253,
          80,
          51,
          30,
          11,
          17,
          28,
          26,
          18,
          8,
          16,
          8,
          2253,
          1416,
          172.00000000000006,
          124,
          64.00000000000006
         ]
        },
        {
         "mode": "lines",
         "name": "Drift",
         "type": "scatter",
         "x": [
          0,
          1,
          2,
          3,
          4,
          5,
          6,
          7,
          8,
          9,
          10,
          11,
          12,
          13,
          14,
          15,
          16,
          17,
          18,
          19,
          20,
          21,
          22,
          23,
          24,
          25,
          26,
          27,
          28,
          29,
          30
         ],
         "y": [
          532.5509678129944,
          535.6778690129233,
          538.8083894758237,
          541.9371003072383,
          545.0667159543958,
          548.1958791936819,
          551.3252686369037,
          554.4545449781576,
          557.5838778703956,
          560.7131824871415,
          563.8425012416334,
          566.9718129272524,
          570.1011281473078,
          573.230441600145,
          576.3597559365913,
          579.4890698312331,
          582.6183839467772,
          585.7476979518701,
          588.8770120121886,
          592.0063260448944,
          595.1356400914066,
          598.2649541310155,
          601.3942681740762,
          604.5235822154109,
          607.6528962576085,
          610.7822102993747,
          613.9115243413567,
          617.0408383832307,
          620.1701524251587,
          623.2994664670597,
          626.4287805089741
         ]
        },
        {
         "mode": "lines",
         "name": "ARIMA",
         "type": "scatter",
         "x": [
          0,
          1,
          2,
          3,
          4,
          5,
          6,
          7,
          8,
          9,
          10,
          11,
          12,
          13,
          14,
          15,
          16,
          17,
          18,
          19,
          20,
          21,
          22,
          23,
          24,
          25,
          26,
          27,
          28,
          29,
          30
         ],
         "y": [
          92.27109899702413,
          134.08628094964797,
          192.31810951520086,
          227.7554859239135,
          256.9248374127241,
          267.05696932365794,
          302.76551887646457,
          381.3076452953972,
          403.68677218307937,
          355.1924511349653,
          676.6641027328944,
          1120.4271915878485,
          1169.7130534201035,
          1246.193576107808,
          1172.0618016578624,
          1174.0426606748981,
          1002.5813640437709,
          811.8440512826978,
          774.5185867848581,
          553.6564369662171,
          426.15218537997174,
          326.5341119354831,
          324.865855088908,
          316.9369022627204,
          315.53544907286704,
          524.1321899452544,
          315.88609211718517,
          522.8779922525586,
          321.8745158612194,
          370.9778879124876,
          419.2412879492451
         ]
        },
        {
         "mode": "lines",
         "name": "LSTM",
         "type": "scatter",
         "x": [
          0,
          1,
          2,
          3,
          4,
          5,
          6,
          7,
          8,
          9,
          10,
          11,
          12,
          13,
          14,
          15,
          16,
          17,
          18,
          19,
          20,
          21,
          22,
          23,
          24,
          25,
          26,
          27,
          28,
          29,
          30
         ],
         "y": [
          463.4264831542969,
          534.7411499023438,
          576.053466796875,
          558.8614501953125,
          535.1638793945312,
          1080.706298828125,
          1848.6199951171875,
          1938.69140625,
          1628.789794921875,
          1415.8348388671875,
          1235.1640625,
          993.2162475585938,
          833.491455078125,
          906.51611328125,
          742.9390869140625,
          547.00927734375,
          475.987060546875,
          508.4014892578125,
          559.320556640625,
          598.4417724609375,
          623.7346801757812,
          639.0572509765625,
          642.8053588867188,
          640.169921875,
          635.147705078125,
          638.2922973632812,
          636.6209716796875,
          1736.0987548828125,
          1427.403076171875,
          649.39892578125,
          502.62847900390625
         ]
        },
        {
         "mode": "lines",
         "name": "Exo-LSTM",
         "type": "scatter",
         "x": [
          0,
          1,
          2,
          3,
          4,
          5,
          6,
          7,
          8,
          9,
          10,
          11,
          12,
          13,
          14,
          15,
          16,
          17,
          18,
          19,
          20,
          21,
          22,
          23,
          24,
          25,
          26,
          27,
          28,
          29,
          30
         ],
         "y": [
          5.885498046875,
          263.0649719238281,
          116.73117065429688,
          333.7850341796875,
          501.4476013183594,
          1311.2364501953125,
          2281.26513671875,
          2300.860595703125,
          1977.9156494140625,
          1625.911376953125,
          1167.19580078125,
          763.9224853515625,
          608.6843872070312,
          637.4905395507812,
          435.09521484375,
          223.20651245117188,
          218.17538452148438,
          330.113037109375,
          362.5249938964844,
          359.01275634765625,
          484.9993591308594,
          479.5000915527344,
          354.3000793457031,
          278.4379577636719,
          471.2701721191406,
          172.46060180664062,
          591.2551879882812,
          1064.401611328125,
          752.4451293945312,
          -164.744384765625,
          549.8911743164062
         ]
        }
       ],
       "layout": {
        "template": {
         "data": {
          "bar": [
           {
            "error_x": {
             "color": "#2a3f5f"
            },
            "error_y": {
             "color": "#2a3f5f"
            },
            "marker": {
             "line": {
              "color": "#E5ECF6",
              "width": 0.5
             }
            },
            "type": "bar"
           }
          ],
          "barpolar": [
           {
            "marker": {
             "line": {
              "color": "#E5ECF6",
              "width": 0.5
             }
            },
            "type": "barpolar"
           }
          ],
          "carpet": [
           {
            "aaxis": {
             "endlinecolor": "#2a3f5f",
             "gridcolor": "white",
             "linecolor": "white",
             "minorgridcolor": "white",
             "startlinecolor": "#2a3f5f"
            },
            "baxis": {
             "endlinecolor": "#2a3f5f",
             "gridcolor": "white",
             "linecolor": "white",
             "minorgridcolor": "white",
             "startlinecolor": "#2a3f5f"
            },
            "type": "carpet"
           }
          ],
          "choropleth": [
           {
            "colorbar": {
             "outlinewidth": 0,
             "ticks": ""
            },
            "type": "choropleth"
           }
          ],
          "contour": [
           {
            "colorbar": {
             "outlinewidth": 0,
             "ticks": ""
            },
            "colorscale": [
             [
              0,
              "#0d0887"
             ],
             [
              0.1111111111111111,
              "#46039f"
             ],
             [
              0.2222222222222222,
              "#7201a8"
             ],
             [
              0.3333333333333333,
              "#9c179e"
             ],
             [
              0.4444444444444444,
              "#bd3786"
             ],
             [
              0.5555555555555556,
              "#d8576b"
             ],
             [
              0.6666666666666666,
              "#ed7953"
             ],
             [
              0.7777777777777778,
              "#fb9f3a"
             ],
             [
              0.8888888888888888,
              "#fdca26"
             ],
             [
              1,
              "#f0f921"
             ]
            ],
            "type": "contour"
           }
          ],
          "contourcarpet": [
           {
            "colorbar": {
             "outlinewidth": 0,
             "ticks": ""
            },
            "type": "contourcarpet"
           }
          ],
          "heatmap": [
           {
            "colorbar": {
             "outlinewidth": 0,
             "ticks": ""
            },
            "colorscale": [
             [
              0,
              "#0d0887"
             ],
             [
              0.1111111111111111,
              "#46039f"
             ],
             [
              0.2222222222222222,
              "#7201a8"
             ],
             [
              0.3333333333333333,
              "#9c179e"
             ],
             [
              0.4444444444444444,
              "#bd3786"
             ],
             [
              0.5555555555555556,
              "#d8576b"
             ],
             [
              0.6666666666666666,
              "#ed7953"
             ],
             [
              0.7777777777777778,
              "#fb9f3a"
             ],
             [
              0.8888888888888888,
              "#fdca26"
             ],
             [
              1,
              "#f0f921"
             ]
            ],
            "type": "heatmap"
           }
          ],
          "heatmapgl": [
           {
            "colorbar": {
             "outlinewidth": 0,
             "ticks": ""
            },
            "colorscale": [
             [
              0,
              "#0d0887"
             ],
             [
              0.1111111111111111,
              "#46039f"
             ],
             [
              0.2222222222222222,
              "#7201a8"
             ],
             [
              0.3333333333333333,
              "#9c179e"
             ],
             [
              0.4444444444444444,
              "#bd3786"
             ],
             [
              0.5555555555555556,
              "#d8576b"
             ],
             [
              0.6666666666666666,
              "#ed7953"
             ],
             [
              0.7777777777777778,
              "#fb9f3a"
             ],
             [
              0.8888888888888888,
              "#fdca26"
             ],
             [
              1,
              "#f0f921"
             ]
            ],
            "type": "heatmapgl"
           }
          ],
          "histogram": [
           {
            "marker": {
             "colorbar": {
              "outlinewidth": 0,
              "ticks": ""
             }
            },
            "type": "histogram"
           }
          ],
          "histogram2d": [
           {
            "colorbar": {
             "outlinewidth": 0,
             "ticks": ""
            },
            "colorscale": [
             [
              0,
              "#0d0887"
             ],
             [
              0.1111111111111111,
              "#46039f"
             ],
             [
              0.2222222222222222,
              "#7201a8"
             ],
             [
              0.3333333333333333,
              "#9c179e"
             ],
             [
              0.4444444444444444,
              "#bd3786"
             ],
             [
              0.5555555555555556,
              "#d8576b"
             ],
             [
              0.6666666666666666,
              "#ed7953"
             ],
             [
              0.7777777777777778,
              "#fb9f3a"
             ],
             [
              0.8888888888888888,
              "#fdca26"
             ],
             [
              1,
              "#f0f921"
             ]
            ],
            "type": "histogram2d"
           }
          ],
          "histogram2dcontour": [
           {
            "colorbar": {
             "outlinewidth": 0,
             "ticks": ""
            },
            "colorscale": [
             [
              0,
              "#0d0887"
             ],
             [
              0.1111111111111111,
              "#46039f"
             ],
             [
              0.2222222222222222,
              "#7201a8"
             ],
             [
              0.3333333333333333,
              "#9c179e"
             ],
             [
              0.4444444444444444,
              "#bd3786"
             ],
             [
              0.5555555555555556,
              "#d8576b"
             ],
             [
              0.6666666666666666,
              "#ed7953"
             ],
             [
              0.7777777777777778,
              "#fb9f3a"
             ],
             [
              0.8888888888888888,
              "#fdca26"
             ],
             [
              1,
              "#f0f921"
             ]
            ],
            "type": "histogram2dcontour"
           }
          ],
          "mesh3d": [
           {
            "colorbar": {
             "outlinewidth": 0,
             "ticks": ""
            },
            "type": "mesh3d"
           }
          ],
          "parcoords": [
           {
            "line": {
             "colorbar": {
              "outlinewidth": 0,
              "ticks": ""
             }
            },
            "type": "parcoords"
           }
          ],
          "pie": [
           {
            "automargin": true,
            "type": "pie"
           }
          ],
          "scatter": [
           {
            "marker": {
             "colorbar": {
              "outlinewidth": 0,
              "ticks": ""
             }
            },
            "type": "scatter"
           }
          ],
          "scatter3d": [
           {
            "line": {
             "colorbar": {
              "outlinewidth": 0,
              "ticks": ""
             }
            },
            "marker": {
             "colorbar": {
              "outlinewidth": 0,
              "ticks": ""
             }
            },
            "type": "scatter3d"
           }
          ],
          "scattercarpet": [
           {
            "marker": {
             "colorbar": {
              "outlinewidth": 0,
              "ticks": ""
             }
            },
            "type": "scattercarpet"
           }
          ],
          "scattergeo": [
           {
            "marker": {
             "colorbar": {
              "outlinewidth": 0,
              "ticks": ""
             }
            },
            "type": "scattergeo"
           }
          ],
          "scattergl": [
           {
            "marker": {
             "colorbar": {
              "outlinewidth": 0,
              "ticks": ""
             }
            },
            "type": "scattergl"
           }
          ],
          "scattermapbox": [
           {
            "marker": {
             "colorbar": {
              "outlinewidth": 0,
              "ticks": ""
             }
            },
            "type": "scattermapbox"
           }
          ],
          "scatterpolar": [
           {
            "marker": {
             "colorbar": {
              "outlinewidth": 0,
              "ticks": ""
             }
            },
            "type": "scatterpolar"
           }
          ],
          "scatterpolargl": [
           {
            "marker": {
             "colorbar": {
              "outlinewidth": 0,
              "ticks": ""
             }
            },
            "type": "scatterpolargl"
           }
          ],
          "scatterternary": [
           {
            "marker": {
             "colorbar": {
              "outlinewidth": 0,
              "ticks": ""
             }
            },
            "type": "scatterternary"
           }
          ],
          "surface": [
           {
            "colorbar": {
             "outlinewidth": 0,
             "ticks": ""
            },
            "colorscale": [
             [
              0,
              "#0d0887"
             ],
             [
              0.1111111111111111,
              "#46039f"
             ],
             [
              0.2222222222222222,
              "#7201a8"
             ],
             [
              0.3333333333333333,
              "#9c179e"
             ],
             [
              0.4444444444444444,
              "#bd3786"
             ],
             [
              0.5555555555555556,
              "#d8576b"
             ],
             [
              0.6666666666666666,
              "#ed7953"
             ],
             [
              0.7777777777777778,
              "#fb9f3a"
             ],
             [
              0.8888888888888888,
              "#fdca26"
             ],
             [
              1,
              "#f0f921"
             ]
            ],
            "type": "surface"
           }
          ],
          "table": [
           {
            "cells": {
             "fill": {
              "color": "#EBF0F8"
             },
             "line": {
              "color": "white"
             }
            },
            "header": {
             "fill": {
              "color": "#C8D4E3"
             },
             "line": {
              "color": "white"
             }
            },
            "type": "table"
           }
          ]
         },
         "layout": {
          "annotationdefaults": {
           "arrowcolor": "#2a3f5f",
           "arrowhead": 0,
           "arrowwidth": 1
          },
          "coloraxis": {
           "colorbar": {
            "outlinewidth": 0,
            "ticks": ""
           }
          },
          "colorscale": {
           "diverging": [
            [
             0,
             "#8e0152"
            ],
            [
             0.1,
             "#c51b7d"
            ],
            [
             0.2,
             "#de77ae"
            ],
            [
             0.3,
             "#f1b6da"
            ],
            [
             0.4,
             "#fde0ef"
            ],
            [
             0.5,
             "#f7f7f7"
            ],
            [
             0.6,
             "#e6f5d0"
            ],
            [
             0.7,
             "#b8e186"
            ],
            [
             0.8,
             "#7fbc41"
            ],
            [
             0.9,
             "#4d9221"
            ],
            [
             1,
             "#276419"
            ]
           ],
           "sequential": [
            [
             0,
             "#0d0887"
            ],
            [
             0.1111111111111111,
             "#46039f"
            ],
            [
             0.2222222222222222,
             "#7201a8"
            ],
            [
             0.3333333333333333,
             "#9c179e"
            ],
            [
             0.4444444444444444,
             "#bd3786"
            ],
            [
             0.5555555555555556,
             "#d8576b"
            ],
            [
             0.6666666666666666,
             "#ed7953"
            ],
            [
             0.7777777777777778,
             "#fb9f3a"
            ],
            [
             0.8888888888888888,
             "#fdca26"
            ],
            [
             1,
             "#f0f921"
            ]
           ],
           "sequentialminus": [
            [
             0,
             "#0d0887"
            ],
            [
             0.1111111111111111,
             "#46039f"
            ],
            [
             0.2222222222222222,
             "#7201a8"
            ],
            [
             0.3333333333333333,
             "#9c179e"
            ],
            [
             0.4444444444444444,
             "#bd3786"
            ],
            [
             0.5555555555555556,
             "#d8576b"
            ],
            [
             0.6666666666666666,
             "#ed7953"
            ],
            [
             0.7777777777777778,
             "#fb9f3a"
            ],
            [
             0.8888888888888888,
             "#fdca26"
            ],
            [
             1,
             "#f0f921"
            ]
           ]
          },
          "colorway": [
           "#636efa",
           "#EF553B",
           "#00cc96",
           "#ab63fa",
           "#FFA15A",
           "#19d3f3",
           "#FF6692",
           "#B6E880",
           "#FF97FF",
           "#FECB52"
          ],
          "font": {
           "color": "#2a3f5f"
          },
          "geo": {
           "bgcolor": "white",
           "lakecolor": "white",
           "landcolor": "#E5ECF6",
           "showlakes": true,
           "showland": true,
           "subunitcolor": "white"
          },
          "hoverlabel": {
           "align": "left"
          },
          "hovermode": "closest",
          "mapbox": {
           "style": "light"
          },
          "paper_bgcolor": "white",
          "plot_bgcolor": "#E5ECF6",
          "polar": {
           "angularaxis": {
            "gridcolor": "white",
            "linecolor": "white",
            "ticks": ""
           },
           "bgcolor": "#E5ECF6",
           "radialaxis": {
            "gridcolor": "white",
            "linecolor": "white",
            "ticks": ""
           }
          },
          "scene": {
           "xaxis": {
            "backgroundcolor": "#E5ECF6",
            "gridcolor": "white",
            "gridwidth": 2,
            "linecolor": "white",
            "showbackground": true,
            "ticks": "",
            "zerolinecolor": "white"
           },
           "yaxis": {
            "backgroundcolor": "#E5ECF6",
            "gridcolor": "white",
            "gridwidth": 2,
            "linecolor": "white",
            "showbackground": true,
            "ticks": "",
            "zerolinecolor": "white"
           },
           "zaxis": {
            "backgroundcolor": "#E5ECF6",
            "gridcolor": "white",
            "gridwidth": 2,
            "linecolor": "white",
            "showbackground": true,
            "ticks": "",
            "zerolinecolor": "white"
           }
          },
          "shapedefaults": {
           "line": {
            "color": "#2a3f5f"
           }
          },
          "ternary": {
           "aaxis": {
            "gridcolor": "white",
            "linecolor": "white",
            "ticks": ""
           },
           "baxis": {
            "gridcolor": "white",
            "linecolor": "white",
            "ticks": ""
           },
           "bgcolor": "#E5ECF6",
           "caxis": {
            "gridcolor": "white",
            "linecolor": "white",
            "ticks": ""
           }
          },
          "title": {
           "x": 0.05
          },
          "xaxis": {
           "automargin": true,
           "gridcolor": "white",
           "linecolor": "white",
           "ticks": "",
           "title": {
            "standoff": 15
           },
           "zerolinecolor": "white",
           "zerolinewidth": 2
          },
          "yaxis": {
           "automargin": true,
           "gridcolor": "white",
           "linecolor": "white",
           "ticks": "",
           "title": {
            "standoff": 15
           },
           "zerolinecolor": "white",
           "zerolinewidth": 2
          }
         }
        }
       }
      },
      "text/html": [
       "<div>\n",
       "        \n",
       "        \n",
       "            <div id=\"57d18cc7-b677-4505-8cb0-e32bec431ab5\" class=\"plotly-graph-div\" style=\"height:525px; width:100%;\"></div>\n",
       "            <script type=\"text/javascript\">\n",
       "                require([\"plotly\"], function(Plotly) {\n",
       "                    window.PLOTLYENV=window.PLOTLYENV || {};\n",
       "                    \n",
       "                if (document.getElementById(\"57d18cc7-b677-4505-8cb0-e32bec431ab5\")) {\n",
       "                    Plotly.newPlot(\n",
       "                        '57d18cc7-b677-4505-8cb0-e32bec431ab5',\n",
       "                        [{\"mode\": \"lines\", \"name\": \"GT\", \"type\": \"scatter\", \"x\": [0, 1, 2, 3, 4, 5, 6, 7, 8, 9, 10, 11, 12, 13, 14, 15, 16, 17, 18, 19, 20, 21, 22, 23, 24, 25, 26, 27, 28, 29, 30], \"y\": [137.0, 144.00000000000006, 78.99999999999994, 38.0, 967.0, 2065.0, 2162.9999999999995, 1930.0, 1917.0, 1725.0, 1324.0, 1045.0, 1125.0, 656.0, 253.0, 80.0, 51.0, 30.0, 11.0, 17.0, 28.0, 26.0, 18.0, 8.0, 16.0, 8.0, 2253.0, 1416.0, 172.00000000000006, 124.0, 64.00000000000006]}, {\"mode\": \"lines\", \"name\": \"Drift\", \"type\": \"scatter\", \"x\": [0, 1, 2, 3, 4, 5, 6, 7, 8, 9, 10, 11, 12, 13, 14, 15, 16, 17, 18, 19, 20, 21, 22, 23, 24, 25, 26, 27, 28, 29, 30], \"y\": [532.5509678129944, 535.6778690129233, 538.8083894758237, 541.9371003072383, 545.0667159543958, 548.1958791936819, 551.3252686369037, 554.4545449781576, 557.5838778703956, 560.7131824871415, 563.8425012416334, 566.9718129272524, 570.1011281473078, 573.230441600145, 576.3597559365913, 579.4890698312331, 582.6183839467772, 585.7476979518701, 588.8770120121886, 592.0063260448944, 595.1356400914066, 598.2649541310155, 601.3942681740762, 604.5235822154109, 607.6528962576085, 610.7822102993747, 613.9115243413567, 617.0408383832307, 620.1701524251587, 623.2994664670597, 626.4287805089741]}, {\"mode\": \"lines\", \"name\": \"ARIMA\", \"type\": \"scatter\", \"x\": [0, 1, 2, 3, 4, 5, 6, 7, 8, 9, 10, 11, 12, 13, 14, 15, 16, 17, 18, 19, 20, 21, 22, 23, 24, 25, 26, 27, 28, 29, 30], \"y\": [92.27109899702413, 134.08628094964797, 192.31810951520086, 227.7554859239135, 256.9248374127241, 267.05696932365794, 302.76551887646457, 381.3076452953972, 403.68677218307937, 355.1924511349653, 676.6641027328944, 1120.4271915878485, 1169.7130534201035, 1246.193576107808, 1172.0618016578624, 1174.0426606748981, 1002.5813640437709, 811.8440512826978, 774.5185867848581, 553.6564369662171, 426.15218537997174, 326.5341119354831, 324.865855088908, 316.9369022627204, 315.53544907286704, 524.1321899452544, 315.88609211718517, 522.8779922525586, 321.8745158612194, 370.9778879124876, 419.2412879492451]}, {\"mode\": \"lines\", \"name\": \"LSTM\", \"type\": \"scatter\", \"x\": [0, 1, 2, 3, 4, 5, 6, 7, 8, 9, 10, 11, 12, 13, 14, 15, 16, 17, 18, 19, 20, 21, 22, 23, 24, 25, 26, 27, 28, 29, 30], \"y\": [463.4264831542969, 534.7411499023438, 576.053466796875, 558.8614501953125, 535.1638793945312, 1080.706298828125, 1848.6199951171875, 1938.69140625, 1628.789794921875, 1415.8348388671875, 1235.1640625, 993.2162475585938, 833.491455078125, 906.51611328125, 742.9390869140625, 547.00927734375, 475.987060546875, 508.4014892578125, 559.320556640625, 598.4417724609375, 623.7346801757812, 639.0572509765625, 642.8053588867188, 640.169921875, 635.147705078125, 638.2922973632812, 636.6209716796875, 1736.0987548828125, 1427.403076171875, 649.39892578125, 502.62847900390625]}, {\"mode\": \"lines\", \"name\": \"Exo-LSTM\", \"type\": \"scatter\", \"x\": [0, 1, 2, 3, 4, 5, 6, 7, 8, 9, 10, 11, 12, 13, 14, 15, 16, 17, 18, 19, 20, 21, 22, 23, 24, 25, 26, 27, 28, 29, 30], \"y\": [5.885498046875, 263.0649719238281, 116.73117065429688, 333.7850341796875, 501.4476013183594, 1311.2364501953125, 2281.26513671875, 2300.860595703125, 1977.9156494140625, 1625.911376953125, 1167.19580078125, 763.9224853515625, 608.6843872070312, 637.4905395507812, 435.09521484375, 223.20651245117188, 218.17538452148438, 330.113037109375, 362.5249938964844, 359.01275634765625, 484.9993591308594, 479.5000915527344, 354.3000793457031, 278.4379577636719, 471.2701721191406, 172.46060180664062, 591.2551879882812, 1064.401611328125, 752.4451293945312, -164.744384765625, 549.8911743164062]}],\n",
       "                        {\"template\": {\"data\": {\"bar\": [{\"error_x\": {\"color\": \"#2a3f5f\"}, \"error_y\": {\"color\": \"#2a3f5f\"}, \"marker\": {\"line\": {\"color\": \"#E5ECF6\", \"width\": 0.5}}, \"type\": \"bar\"}], \"barpolar\": [{\"marker\": {\"line\": {\"color\": \"#E5ECF6\", \"width\": 0.5}}, \"type\": \"barpolar\"}], \"carpet\": [{\"aaxis\": {\"endlinecolor\": \"#2a3f5f\", \"gridcolor\": \"white\", \"linecolor\": \"white\", \"minorgridcolor\": \"white\", \"startlinecolor\": \"#2a3f5f\"}, \"baxis\": {\"endlinecolor\": \"#2a3f5f\", \"gridcolor\": \"white\", \"linecolor\": \"white\", \"minorgridcolor\": \"white\", \"startlinecolor\": \"#2a3f5f\"}, \"type\": \"carpet\"}], \"choropleth\": [{\"colorbar\": {\"outlinewidth\": 0, \"ticks\": \"\"}, \"type\": \"choropleth\"}], \"contour\": [{\"colorbar\": {\"outlinewidth\": 0, \"ticks\": \"\"}, \"colorscale\": [[0.0, \"#0d0887\"], [0.1111111111111111, \"#46039f\"], [0.2222222222222222, \"#7201a8\"], [0.3333333333333333, \"#9c179e\"], [0.4444444444444444, \"#bd3786\"], [0.5555555555555556, \"#d8576b\"], [0.6666666666666666, \"#ed7953\"], [0.7777777777777778, \"#fb9f3a\"], [0.8888888888888888, \"#fdca26\"], [1.0, \"#f0f921\"]], \"type\": \"contour\"}], \"contourcarpet\": [{\"colorbar\": {\"outlinewidth\": 0, \"ticks\": \"\"}, \"type\": \"contourcarpet\"}], \"heatmap\": [{\"colorbar\": {\"outlinewidth\": 0, \"ticks\": \"\"}, \"colorscale\": [[0.0, \"#0d0887\"], [0.1111111111111111, \"#46039f\"], [0.2222222222222222, \"#7201a8\"], [0.3333333333333333, \"#9c179e\"], [0.4444444444444444, \"#bd3786\"], [0.5555555555555556, \"#d8576b\"], [0.6666666666666666, \"#ed7953\"], [0.7777777777777778, \"#fb9f3a\"], [0.8888888888888888, \"#fdca26\"], [1.0, \"#f0f921\"]], \"type\": \"heatmap\"}], \"heatmapgl\": [{\"colorbar\": {\"outlinewidth\": 0, \"ticks\": \"\"}, \"colorscale\": [[0.0, \"#0d0887\"], [0.1111111111111111, \"#46039f\"], [0.2222222222222222, \"#7201a8\"], [0.3333333333333333, \"#9c179e\"], [0.4444444444444444, \"#bd3786\"], [0.5555555555555556, \"#d8576b\"], [0.6666666666666666, \"#ed7953\"], [0.7777777777777778, \"#fb9f3a\"], [0.8888888888888888, \"#fdca26\"], [1.0, \"#f0f921\"]], \"type\": \"heatmapgl\"}], \"histogram\": [{\"marker\": {\"colorbar\": {\"outlinewidth\": 0, \"ticks\": \"\"}}, \"type\": \"histogram\"}], \"histogram2d\": [{\"colorbar\": {\"outlinewidth\": 0, \"ticks\": \"\"}, \"colorscale\": [[0.0, \"#0d0887\"], [0.1111111111111111, \"#46039f\"], [0.2222222222222222, \"#7201a8\"], [0.3333333333333333, \"#9c179e\"], [0.4444444444444444, \"#bd3786\"], [0.5555555555555556, \"#d8576b\"], [0.6666666666666666, \"#ed7953\"], [0.7777777777777778, \"#fb9f3a\"], [0.8888888888888888, \"#fdca26\"], [1.0, \"#f0f921\"]], \"type\": \"histogram2d\"}], \"histogram2dcontour\": [{\"colorbar\": {\"outlinewidth\": 0, \"ticks\": \"\"}, \"colorscale\": [[0.0, \"#0d0887\"], [0.1111111111111111, \"#46039f\"], [0.2222222222222222, \"#7201a8\"], [0.3333333333333333, \"#9c179e\"], [0.4444444444444444, \"#bd3786\"], [0.5555555555555556, \"#d8576b\"], [0.6666666666666666, \"#ed7953\"], [0.7777777777777778, \"#fb9f3a\"], [0.8888888888888888, \"#fdca26\"], [1.0, \"#f0f921\"]], \"type\": \"histogram2dcontour\"}], \"mesh3d\": [{\"colorbar\": {\"outlinewidth\": 0, \"ticks\": \"\"}, \"type\": \"mesh3d\"}], \"parcoords\": [{\"line\": {\"colorbar\": {\"outlinewidth\": 0, \"ticks\": \"\"}}, \"type\": \"parcoords\"}], \"pie\": [{\"automargin\": true, \"type\": \"pie\"}], \"scatter\": [{\"marker\": {\"colorbar\": {\"outlinewidth\": 0, \"ticks\": \"\"}}, \"type\": \"scatter\"}], \"scatter3d\": [{\"line\": {\"colorbar\": {\"outlinewidth\": 0, \"ticks\": \"\"}}, \"marker\": {\"colorbar\": {\"outlinewidth\": 0, \"ticks\": \"\"}}, \"type\": \"scatter3d\"}], \"scattercarpet\": [{\"marker\": {\"colorbar\": {\"outlinewidth\": 0, \"ticks\": \"\"}}, \"type\": \"scattercarpet\"}], \"scattergeo\": [{\"marker\": {\"colorbar\": {\"outlinewidth\": 0, \"ticks\": \"\"}}, \"type\": \"scattergeo\"}], \"scattergl\": [{\"marker\": {\"colorbar\": {\"outlinewidth\": 0, \"ticks\": \"\"}}, \"type\": \"scattergl\"}], \"scattermapbox\": [{\"marker\": {\"colorbar\": {\"outlinewidth\": 0, \"ticks\": \"\"}}, \"type\": \"scattermapbox\"}], \"scatterpolar\": [{\"marker\": {\"colorbar\": {\"outlinewidth\": 0, \"ticks\": \"\"}}, \"type\": \"scatterpolar\"}], \"scatterpolargl\": [{\"marker\": {\"colorbar\": {\"outlinewidth\": 0, \"ticks\": \"\"}}, \"type\": \"scatterpolargl\"}], \"scatterternary\": [{\"marker\": {\"colorbar\": {\"outlinewidth\": 0, \"ticks\": \"\"}}, \"type\": \"scatterternary\"}], \"surface\": [{\"colorbar\": {\"outlinewidth\": 0, \"ticks\": \"\"}, \"colorscale\": [[0.0, \"#0d0887\"], [0.1111111111111111, \"#46039f\"], [0.2222222222222222, \"#7201a8\"], [0.3333333333333333, \"#9c179e\"], [0.4444444444444444, \"#bd3786\"], [0.5555555555555556, \"#d8576b\"], [0.6666666666666666, \"#ed7953\"], [0.7777777777777778, \"#fb9f3a\"], [0.8888888888888888, \"#fdca26\"], [1.0, \"#f0f921\"]], \"type\": \"surface\"}], \"table\": [{\"cells\": {\"fill\": {\"color\": \"#EBF0F8\"}, \"line\": {\"color\": \"white\"}}, \"header\": {\"fill\": {\"color\": \"#C8D4E3\"}, \"line\": {\"color\": \"white\"}}, \"type\": \"table\"}]}, \"layout\": {\"annotationdefaults\": {\"arrowcolor\": \"#2a3f5f\", \"arrowhead\": 0, \"arrowwidth\": 1}, \"coloraxis\": {\"colorbar\": {\"outlinewidth\": 0, \"ticks\": \"\"}}, \"colorscale\": {\"diverging\": [[0, \"#8e0152\"], [0.1, \"#c51b7d\"], [0.2, \"#de77ae\"], [0.3, \"#f1b6da\"], [0.4, \"#fde0ef\"], [0.5, \"#f7f7f7\"], [0.6, \"#e6f5d0\"], [0.7, \"#b8e186\"], [0.8, \"#7fbc41\"], [0.9, \"#4d9221\"], [1, \"#276419\"]], \"sequential\": [[0.0, \"#0d0887\"], [0.1111111111111111, \"#46039f\"], [0.2222222222222222, \"#7201a8\"], [0.3333333333333333, \"#9c179e\"], [0.4444444444444444, \"#bd3786\"], [0.5555555555555556, \"#d8576b\"], [0.6666666666666666, \"#ed7953\"], [0.7777777777777778, \"#fb9f3a\"], [0.8888888888888888, \"#fdca26\"], [1.0, \"#f0f921\"]], \"sequentialminus\": [[0.0, \"#0d0887\"], [0.1111111111111111, \"#46039f\"], [0.2222222222222222, \"#7201a8\"], [0.3333333333333333, \"#9c179e\"], [0.4444444444444444, \"#bd3786\"], [0.5555555555555556, \"#d8576b\"], [0.6666666666666666, \"#ed7953\"], [0.7777777777777778, \"#fb9f3a\"], [0.8888888888888888, \"#fdca26\"], [1.0, \"#f0f921\"]]}, \"colorway\": [\"#636efa\", \"#EF553B\", \"#00cc96\", \"#ab63fa\", \"#FFA15A\", \"#19d3f3\", \"#FF6692\", \"#B6E880\", \"#FF97FF\", \"#FECB52\"], \"font\": {\"color\": \"#2a3f5f\"}, \"geo\": {\"bgcolor\": \"white\", \"lakecolor\": \"white\", \"landcolor\": \"#E5ECF6\", \"showlakes\": true, \"showland\": true, \"subunitcolor\": \"white\"}, \"hoverlabel\": {\"align\": \"left\"}, \"hovermode\": \"closest\", \"mapbox\": {\"style\": \"light\"}, \"paper_bgcolor\": \"white\", \"plot_bgcolor\": \"#E5ECF6\", \"polar\": {\"angularaxis\": {\"gridcolor\": \"white\", \"linecolor\": \"white\", \"ticks\": \"\"}, \"bgcolor\": \"#E5ECF6\", \"radialaxis\": {\"gridcolor\": \"white\", \"linecolor\": \"white\", \"ticks\": \"\"}}, \"scene\": {\"xaxis\": {\"backgroundcolor\": \"#E5ECF6\", \"gridcolor\": \"white\", \"gridwidth\": 2, \"linecolor\": \"white\", \"showbackground\": true, \"ticks\": \"\", \"zerolinecolor\": \"white\"}, \"yaxis\": {\"backgroundcolor\": \"#E5ECF6\", \"gridcolor\": \"white\", \"gridwidth\": 2, \"linecolor\": \"white\", \"showbackground\": true, \"ticks\": \"\", \"zerolinecolor\": \"white\"}, \"zaxis\": {\"backgroundcolor\": \"#E5ECF6\", \"gridcolor\": \"white\", \"gridwidth\": 2, \"linecolor\": \"white\", \"showbackground\": true, \"ticks\": \"\", \"zerolinecolor\": \"white\"}}, \"shapedefaults\": {\"line\": {\"color\": \"#2a3f5f\"}}, \"ternary\": {\"aaxis\": {\"gridcolor\": \"white\", \"linecolor\": \"white\", \"ticks\": \"\"}, \"baxis\": {\"gridcolor\": \"white\", \"linecolor\": \"white\", \"ticks\": \"\"}, \"bgcolor\": \"#E5ECF6\", \"caxis\": {\"gridcolor\": \"white\", \"linecolor\": \"white\", \"ticks\": \"\"}}, \"title\": {\"x\": 0.05}, \"xaxis\": {\"automargin\": true, \"gridcolor\": \"white\", \"linecolor\": \"white\", \"ticks\": \"\", \"title\": {\"standoff\": 15}, \"zerolinecolor\": \"white\", \"zerolinewidth\": 2}, \"yaxis\": {\"automargin\": true, \"gridcolor\": \"white\", \"linecolor\": \"white\", \"ticks\": \"\", \"title\": {\"standoff\": 15}, \"zerolinecolor\": \"white\", \"zerolinewidth\": 2}}}},\n",
       "                        {\"responsive\": true}\n",
       "                    ).then(function(){\n",
       "                            \n",
       "var gd = document.getElementById('57d18cc7-b677-4505-8cb0-e32bec431ab5');\n",
       "var x = new MutationObserver(function (mutations, observer) {{\n",
       "        var display = window.getComputedStyle(gd).display;\n",
       "        if (!display || display === 'none') {{\n",
       "            console.log([gd, 'removed!']);\n",
       "            Plotly.purge(gd);\n",
       "            observer.disconnect();\n",
       "        }}\n",
       "}});\n",
       "\n",
       "// Listen for the removal of the full notebook cells\n",
       "var notebookContainer = gd.closest('#notebook-container');\n",
       "if (notebookContainer) {{\n",
       "    x.observe(notebookContainer, {childList: true});\n",
       "}}\n",
       "\n",
       "// Listen for the clearing of the current output cell\n",
       "var outputEl = gd.closest('.output');\n",
       "if (outputEl) {{\n",
       "    x.observe(outputEl, {childList: true});\n",
       "}}\n",
       "\n",
       "                        })\n",
       "                };\n",
       "                });\n",
       "            </script>\n",
       "        </div>"
      ]
     },
     "metadata": {},
     "output_type": "display_data"
    },
    {
     "name": "stdout",
     "output_type": "stream",
     "text": [
      "\n"
     ]
    }
   ],
   "source": [
    "single_run_results = []\n",
    "n_runs = 1\n",
    "\n",
    "for dataset in aug_datasets:\n",
    "    print(\"Running forecasting for sales in\", dataset)\n",
    "    curr_def_rmse = curr_def_mae = curr_aug_rmse = curr_aug_mae = 0\n",
    "    for run in range(n_runs):\n",
    "        print (\"Run #\", run+1)\n",
    "        # Load the default and augmented versions of the data\n",
    "        aug_dataset = aug_datasets[dataset]\n",
    "        def_dataset = def_datasets[dataset]\n",
    "\n",
    "        # Create training and test data\n",
    "        def_train, def_test = ts_train_test_split(def_dataset)\n",
    "        aug_train, aug_test = ts_train_test_split(aug_dataset)\n",
    "\n",
    "        def_tr_df, def_te_df = prepare_for_network(def_train, def_test)\n",
    "        aug_tr_df, aug_te_df = prepare_for_network(aug_train, aug_test)\n",
    "       \n",
    "        # Extract the columns which display most correlation with the value we are trying to predict.\n",
    "        # As it can be seen in the \n",
    "        default_desired_input_features = cols_with_most_corr(def_dataset, 0)\n",
    "        aug_desired_input_features = cols_with_most_corr(aug_dataset, 0)\n",
    "        #default_desired_input_features = granger_casuality_for_features(def_dataset)\n",
    "        #aug_desired_input_features = granger_casuality_for_features(aug_dataset)\n",
    "        print(\"Default input features:\", default_desired_input_features)\n",
    "        print(\"Input features with exogenous data:\", aug_desired_input_features)\n",
    "\n",
    "        # Prepare data for the LSTM Network. We need to create sequences of inputs and outputs\n",
    "        # so that our time series problem esentially becomes a \"supervised regression problem\"\n",
    "        def_inp_tr, def_out_tr, def_inp_te, def_out_te = build_in_out_seq(def_tr_df, def_te_df, default_desired_input_features)\n",
    "        aug_inp_tr, aug_out_tr, aug_inp_te, aug_out_te = build_in_out_seq(aug_tr_df, aug_te_df, aug_desired_input_features)\n",
    "\n",
    "        # Transform the input and output sequences into PyTorch Tensors in order to feed them to the model\n",
    "        def_x_train=torch.cat((torch.Tensor(def_inp_tr),torch.Tensor(def_out_tr)),1)\n",
    "        def_x_test=torch.Tensor(def_inp_te)\n",
    "        aug_x_train=torch.cat((torch.Tensor(aug_inp_tr),torch.Tensor(aug_out_tr)),1)\n",
    "        aug_x_test=torch.Tensor(aug_inp_te)\n",
    "\n",
    "        # Define the two LSTM Models and Optimizer objects (one for the default data and the other for the augmented)\n",
    "        # First create the LSTM Model that will be used for forecasting\n",
    "        loss_fn = nn.MSELoss()\n",
    "\n",
    "        def_LSTM_Model = Model(input_size=len(default_desired_input_features), hidden_size=len(default_desired_input_features)*21, output_size=len(default_desired_input_features))\n",
    "        def_optimizer = optim.Adam(def_LSTM_Model.parameters(), lr=1e-3)\n",
    "        def_scheduler = optim.lr_scheduler.StepLR(optimizer=def_optimizer, step_size=25, gamma=0.1)\n",
    "        def_opt_obj = Optimization(def_LSTM_Model, loss_fn, def_optimizer, def_scheduler)\n",
    "\n",
    "        aug_LSTM_Model = Model(input_size=len(aug_desired_input_features), hidden_size=len(aug_desired_input_features)*21, output_size=len(aug_desired_input_features))\n",
    "        aug_optimizer = optim.Adam(aug_LSTM_Model.parameters(), lr=1e-3)\n",
    "        aug_scheduler = optim.lr_scheduler.StepLR(optimizer=aug_optimizer, step_size=25, gamma=0.1)\n",
    "        aug_opt_obj = Optimization(aug_LSTM_Model, loss_fn, aug_optimizer, aug_scheduler)\n",
    "        \n",
    "        ## Run STL Decomposition as baseline\n",
    "        print(\"Running Drift and Seasonal Drift models based on STL Decomposition...\")\n",
    "        f_steps = def_test.shape[0]\n",
    "        decomp = decompose(def_train.vendita, period=52)\n",
    "        drift_forecast = forecast(decomp, steps=f_steps, fc_func=drift)\n",
    "        #sdrift_forecast = forecast(decomp, steps=f_steps, fc_func=drift, seasonal=True)\n",
    "        drift_rmse = sm.tools.eval_measures.rmse(def_test.vendita.values, drift_forecast.drift.values)\n",
    "        drift_mae = sm.tools.eval_measures.meanabs(def_test.vendita.values, drift_forecast.drift.values)\n",
    "        print(\"Done\\n\")\n",
    "        # Run ARIMA as another baseline\n",
    "        print(\"Running ARIMA Model...\")\n",
    "        # Fit your model\n",
    "        arima_model = pm.auto_arima(def_train.vendita, seasonal=True, m=52, suppress_warnings=True)\n",
    "        # Predict #test steps into the future\n",
    "        arima_forecasts = arima_model.predict(def_test.shape[0])  \n",
    "        arima_rmse = sm.tools.eval_measures.rmse(def_test.vendita.values, arima_forecasts)\n",
    "        arima_mae = sm.tools.eval_measures.meanabs(def_test.vendita.values, arima_forecasts)\n",
    "        print(\"Done\\n\")\n",
    "\n",
    "        # Run LSTM and Exo-LSTM\n",
    "        print(\"Training the default LSTM model...\")\n",
    "        def_opt_obj.train(def_x_train[:,:-1],def_x_train[:,1:],def_x_train[:,:-1],def_x_train[:,1:], do_teacher_forcing=True, n_epochs=len(default_desired_input_features)*10)\n",
    "        print(\"Done\\n\")\n",
    "        print(\"Training the augmented Exo-LSTM model...\")\n",
    "        aug_opt_obj.train(aug_x_train[:,:-1],aug_x_train[:,1:],aug_x_train[:,:-1],aug_x_train[:,1:], do_teacher_forcing=True, n_epochs=len(aug_desired_input_features)*10)\n",
    "        print(\"Done\\n\")\n",
    "\n",
    "        def_pred=def_LSTM_Model(def_x_test, 2)\n",
    "        aug_pred=aug_LSTM_Model(aug_x_test, 2)\n",
    "\n",
    "        # Check results of both forecasts\n",
    "        def_mean = np.mean(def_train[\"vendita\"].values)\n",
    "        def_std = np.std(def_train[\"vendita\"].values)\n",
    "        aug_mean = np.mean(aug_train[\"vendita\"].values)\n",
    "        aug_std = np.std(aug_train[\"vendita\"].values)\n",
    "        \n",
    "        curr_def_rmse = check_lstm_forecast_results(def_pred, def_inp_te, def_out_te, def_mean, def_std)[0]\n",
    "        curr_def_mae = check_lstm_forecast_results(def_pred, def_inp_te, def_out_te, def_mean, def_std)[1]\n",
    "        curr_aug_rmse = check_lstm_forecast_results(aug_pred, aug_inp_te, aug_out_te, aug_mean, aug_std)[0]\n",
    "        curr_aug_mae = check_lstm_forecast_results(aug_pred, aug_inp_te, aug_out_te, aug_mean, aug_std)[1]\n",
    "        \n",
    "        #plt.figure(figsize=(12,7))\n",
    "        #plt.title(\"Forecast for \" + str(def_out_te.shape[0]) +  \" (all) test entries\")        \n",
    "        #plt.plot(range(0,def_out_te.shape[0]), def_out_te[:def_out_te.shape[0],0,0]*def_std+def_mean, label=\"GT\")\n",
    "        #plt.plot(range(0,def_out_te.shape[0]), drift_forecast.drift.values[:def_out_te.shape[0]], label=\"Drift\")\n",
    "        #plt.plot(range(0,def_out_te.shape[0]), arima_forecasts[:def_out_te.shape[0]], label=\"ARIMA\")\n",
    "        #plt.plot(range(0,def_out_te.shape[0]), def_pred[:def_out_te.shape[0],-2,0].detach().cpu().numpy()*def_std+def_mean, label=\"LSTM\")\n",
    "        #plt.plot(range(0,aug_out_te.shape[0]), aug_pred[:aug_out_te.shape[0],-2,0].detach().cpu().numpy()*aug_std+aug_mean, label=\"Exo-LSTM\")\n",
    "        #plt.legend()\n",
    "        #plt.show()\n",
    "        \n",
    "        fig = go.Figure()\n",
    "        x_labels = list(range(0,def_out_te.shape[0]))\n",
    "\n",
    "        fig.add_trace(go.Scatter(x=x_labels, y=def_out_te[:def_out_te.shape[0],0,0]*def_std+def_mean,\n",
    "                    mode='lines', name='GT'))\n",
    "        fig.add_trace(go.Scatter(x=x_labels, y=drift_forecast.drift.values[8:def_out_te.shape[0]],\n",
    "                    mode='lines', name='Drift'))\n",
    "        fig.add_trace(go.Scatter(x=x_labels, y=arima_forecasts[:def_out_te.shape[0]],\n",
    "                    mode='lines', name='ARIMA'))\n",
    "        fig.add_trace(go.Scatter(x=x_labels, y=def_pred[:def_out_te.shape[0],-2,0].detach().cpu().numpy()*def_std+def_mean,\n",
    "                    mode='lines', name='LSTM'))\n",
    "        fig.add_trace(go.Scatter(x=x_labels, y=aug_pred[:aug_out_te.shape[0],-2,0].detach().cpu().numpy()*aug_std+aug_mean,\n",
    "                    mode='lines', name='Exo-LSTM'))\n",
    "\n",
    "        fig.show()\n",
    "        \n",
    "        single_run_results.append([dataset, \"run \"+str(run+1), drift_rmse, arima_rmse, curr_def_rmse, curr_aug_rmse, drift_mae, arima_mae, curr_def_mae, curr_aug_mae])\n",
    "        print()\n",
    "        \n",
    "        \n",
    "## ARIMA, SARIMA from statsmodels: All preds in-sample (one step ahead) or out of sample !!!\n",
    "## Extract params + order from auto-arima\n",
    "\n",
    "## Extra metrics: SMAP, Pct on Naive forecast.\n",
    "\n",
    "## Boxplots for error distribution"
   ]
  },
  {
   "cell_type": "code",
   "execution_count": 49,
   "metadata": {},
   "outputs": [
    {
     "data": {
      "text/html": [
       "<div>\n",
       "<style scoped>\n",
       "    .dataframe tbody tr th:only-of-type {\n",
       "        vertical-align: middle;\n",
       "    }\n",
       "\n",
       "    .dataframe tbody tr th {\n",
       "        vertical-align: top;\n",
       "    }\n",
       "\n",
       "    .dataframe thead th {\n",
       "        text-align: right;\n",
       "    }\n",
       "</style>\n",
       "<table border=\"1\" class=\"dataframe\">\n",
       "  <thead>\n",
       "    <tr style=\"text-align: right;\">\n",
       "      <th></th>\n",
       "      <th>Dataset</th>\n",
       "      <th>Run Nr.</th>\n",
       "      <th>DRIFT RMSE</th>\n",
       "      <th>ARIMA RMSE</th>\n",
       "      <th>LSTM RMSE</th>\n",
       "      <th>Exo-LSTM RMSE</th>\n",
       "      <th>ARIMA MAE</th>\n",
       "      <th>DRIFT MAE</th>\n",
       "      <th>LSTM MAE</th>\n",
       "      <th>Exo-LSTM MAE</th>\n",
       "    </tr>\n",
       "  </thead>\n",
       "  <tbody>\n",
       "    <tr>\n",
       "      <th>0</th>\n",
       "      <td>Milan</td>\n",
       "      <td>run 1</td>\n",
       "      <td>827.009825</td>\n",
       "      <td>633.994598</td>\n",
       "      <td>663.399138</td>\n",
       "      <td>526.032729</td>\n",
       "      <td>572.307423</td>\n",
       "      <td>486.691954</td>\n",
       "      <td>488.857248</td>\n",
       "      <td>365.153791</td>\n",
       "    </tr>\n",
       "    <tr>\n",
       "      <th>1</th>\n",
       "      <td>Turin</td>\n",
       "      <td>run 1</td>\n",
       "      <td>751.562384</td>\n",
       "      <td>566.347547</td>\n",
       "      <td>614.076122</td>\n",
       "      <td>478.708681</td>\n",
       "      <td>666.760198</td>\n",
       "      <td>453.657115</td>\n",
       "      <td>533.707047</td>\n",
       "      <td>368.407743</td>\n",
       "    </tr>\n",
       "  </tbody>\n",
       "</table>\n",
       "</div>"
      ],
      "text/plain": [
       "  Dataset Run Nr.  DRIFT RMSE  ARIMA RMSE   LSTM RMSE  Exo-LSTM RMSE  \\\n",
       "0   Milan   run 1  827.009825  633.994598  663.399138     526.032729   \n",
       "1   Turin   run 1  751.562384  566.347547  614.076122     478.708681   \n",
       "\n",
       "    ARIMA MAE   DRIFT MAE    LSTM MAE  Exo-LSTM MAE  \n",
       "0  572.307423  486.691954  488.857248    365.153791  \n",
       "1  666.760198  453.657115  533.707047    368.407743  "
      ]
     },
     "execution_count": 49,
     "metadata": {},
     "output_type": "execute_result"
    }
   ],
   "source": [
    "# Results for each run of forecasting\n",
    "single_run_results_df = pd.DataFrame(single_run_results, columns=[\"Dataset\", \"Run Nr.\", \"DRIFT RMSE\", \"ARIMA RMSE\", \"LSTM RMSE\", \\\n",
    "                                                                  \"Exo-LSTM RMSE\", \"ARIMA MAE\", \"DRIFT MAE\", \"LSTM MAE\", \"Exo-LSTM MAE\"])\n",
    "single_run_results_df"
   ]
  },
  {
   "cell_type": "code",
   "execution_count": 50,
   "metadata": {},
   "outputs": [
    {
     "data": {
      "text/html": [
       "<div>\n",
       "<style scoped>\n",
       "    .dataframe tbody tr th:only-of-type {\n",
       "        vertical-align: middle;\n",
       "    }\n",
       "\n",
       "    .dataframe tbody tr th {\n",
       "        vertical-align: top;\n",
       "    }\n",
       "\n",
       "    .dataframe thead th {\n",
       "        text-align: right;\n",
       "    }\n",
       "</style>\n",
       "<table border=\"1\" class=\"dataframe\">\n",
       "  <thead>\n",
       "    <tr style=\"text-align: right;\">\n",
       "      <th></th>\n",
       "      <th>DRIFT RMSE</th>\n",
       "      <th>ARIMA RMSE</th>\n",
       "      <th>LSTM RMSE</th>\n",
       "      <th>Exo-LSTM RMSE</th>\n",
       "      <th>ARIMA MAE</th>\n",
       "      <th>DRIFT MAE</th>\n",
       "      <th>LSTM MAE</th>\n",
       "      <th>Exo-LSTM MAE</th>\n",
       "    </tr>\n",
       "    <tr>\n",
       "      <th>Dataset</th>\n",
       "      <th></th>\n",
       "      <th></th>\n",
       "      <th></th>\n",
       "      <th></th>\n",
       "      <th></th>\n",
       "      <th></th>\n",
       "      <th></th>\n",
       "      <th></th>\n",
       "    </tr>\n",
       "  </thead>\n",
       "  <tbody>\n",
       "    <tr>\n",
       "      <th>Milan</th>\n",
       "      <td>827.009825</td>\n",
       "      <td>633.994598</td>\n",
       "      <td>663.399138</td>\n",
       "      <td>526.032729</td>\n",
       "      <td>572.307423</td>\n",
       "      <td>486.691954</td>\n",
       "      <td>488.857248</td>\n",
       "      <td>365.153791</td>\n",
       "    </tr>\n",
       "    <tr>\n",
       "      <th>Turin</th>\n",
       "      <td>751.562384</td>\n",
       "      <td>566.347547</td>\n",
       "      <td>614.076122</td>\n",
       "      <td>478.708681</td>\n",
       "      <td>666.760198</td>\n",
       "      <td>453.657115</td>\n",
       "      <td>533.707047</td>\n",
       "      <td>368.407743</td>\n",
       "    </tr>\n",
       "  </tbody>\n",
       "</table>\n",
       "</div>"
      ],
      "text/plain": [
       "         DRIFT RMSE  ARIMA RMSE   LSTM RMSE  Exo-LSTM RMSE   ARIMA MAE  \\\n",
       "Dataset                                                                  \n",
       "Milan    827.009825  633.994598  663.399138     526.032729  572.307423   \n",
       "Turin    751.562384  566.347547  614.076122     478.708681  666.760198   \n",
       "\n",
       "          DRIFT MAE    LSTM MAE  Exo-LSTM MAE  \n",
       "Dataset                                        \n",
       "Milan    486.691954  488.857248    365.153791  \n",
       "Turin    453.657115  533.707047    368.407743  "
      ]
     },
     "execution_count": 50,
     "metadata": {},
     "output_type": "execute_result"
    }
   ],
   "source": [
    "# Aggregate results\n",
    "mean_results = single_run_results_df.copy(deep=True)\n",
    "mean_results = mean_results.groupby([\"Dataset\"]).agg(np.mean)\n",
    "mean_results"
   ]
  },
  {
   "cell_type": "code",
   "execution_count": null,
   "metadata": {},
   "outputs": [],
   "source": []
  }
 ],
 "metadata": {
  "kernelspec": {
   "display_name": "Python 3",
   "language": "python",
   "name": "python3"
  },
  "language_info": {
   "codemirror_mode": {
    "name": "ipython",
    "version": 3
   },
   "file_extension": ".py",
   "mimetype": "text/x-python",
   "name": "python",
   "nbconvert_exporter": "python",
   "pygments_lexer": "ipython3",
   "version": "3.7.5"
  }
 },
 "nbformat": 4,
 "nbformat_minor": 4
}
