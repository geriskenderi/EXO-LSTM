{
 "cells": [
  {
   "cell_type": "code",
   "execution_count": 1,
   "metadata": {},
   "outputs": [
    {
     "name": "stderr",
     "output_type": "stream",
     "text": [
      "/Users/Geri/.local/share/virtualenvs/thesis-ez8c3QqQ/lib/python3.7/site-packages/statsmodels/tools/_testing.py:19: FutureWarning: pandas.util.testing is deprecated. Use the functions in the public API at pandas.testing instead.\n",
      "  import pandas.util.testing as tm\n"
     ]
    }
   ],
   "source": [
    "import pandas as pd\n",
    "import numpy as np\n",
    "from pandas_profiling import ProfileReport"
   ]
  },
  {
   "cell_type": "code",
   "execution_count": 2,
   "metadata": {},
   "outputs": [
    {
     "name": "stdout",
     "output_type": "stream",
     "text": [
      "Milan sales data: (277702, 3)\n",
      "            qty codice esterno tab negozio\n",
      "time                                      \n",
      "2016-04-14    1  PA312119NE-16       ARESE\n",
      "2016-04-14    1       S39FA-16       ARESE\n",
      "2016-04-14    1     ME138BL-16       ARESE\n",
      "2016-04-14    1      C3FABL-16       ARESE\n",
      "2016-04-14    1  LI240521BI-16       ARESE\n",
      "\n",
      "\n",
      "Turin sales data: (371732, 3)\n",
      "            qty   codice esterno tab negozio\n",
      "time                                        \n",
      "2016-01-02    1  LDVF5253FANE-15       TORIN\n",
      "2016-01-02    1    LDVF5264FA-15        JUVE\n",
      "2016-01-02    1  LDVF5206FANE-15        JUVE\n",
      "2016-01-02    1    LDVF5237NE-15       TORIN\n",
      "2016-01-02    1        GG43FA-16        JUVE\n",
      "\n",
      "\n",
      "Rome sales data: (296486, 3)\n",
      "            qty       codice esterno tab negozio\n",
      "time                                            \n",
      "2016-01-02    1  VA713346T15128FA-15       TUSC1\n",
      "2016-01-02    1       MA3243905FA-15       TIBUR\n",
      "2016-01-02    1        LDVF5233FA-15       TUSC1\n",
      "2016-01-02    1            SS62FA-15       TUSC1\n",
      "2016-01-02    1           763FABL-15       TIBUR\n",
      "\n",
      "\n",
      "\n"
     ]
    }
   ],
   "source": [
    "\n",
    "# Milan daily sales data\n",
    "milan_data_df = pd.read_csv(\"../datasets/milan_daily.csv\", index_col=[0], parse_dates=True)\n",
    "# Turin daily sales data\n",
    "turin_data_df = pd.read_csv(\"../datasets/turin_daily.csv\", index_col=[0], parse_dates=True)\n",
    "# Rome daily sales data\n",
    "rome_data_df = pd.read_csv(\"../datasets/rome_daily.csv\", index_col=[0], parse_dates=True)\n",
    "\n",
    "print(\"Milan sales data:\", milan_data_df.shape)\n",
    "print(milan_data_df.head())\n",
    "print(\"\\n\")\n",
    "print(\"Turin sales data:\", turin_data_df.shape)\n",
    "print(turin_data_df.head())\n",
    "print(\"\\n\")\n",
    "print(\"Rome sales data:\", rome_data_df.shape)\n",
    "print(rome_data_df.head())\n",
    "print(\"\\n\\n\")\n",
    "\n",
    "## Exogenous weather data\n",
    "milan_weather_df = pd.read_csv(\"../datasets/Eso_data/weather/milano_weather_data.csv\")\n",
    "turin_weather_df = pd.read_csv(\"../datasets/Eso_data/weather/torino_weather_data.csv\")\n",
    "rome_weather_df = pd.read_csv(\"../datasets/Eso_data/weather/roma_weather_data.csv\")"
   ]
  },
  {
   "cell_type": "code",
   "execution_count": 3,
   "metadata": {},
   "outputs": [
    {
     "data": {
      "application/vnd.jupyter.widget-view+json": {
       "model_id": "175da48db1be46d3af246881a4af27fb",
       "version_major": 2,
       "version_minor": 0
      },
      "text/plain": [
       "HBox(children=(FloatProgress(value=0.0, description='Summarize dataset', max=18.0, style=ProgressStyle(descrip…"
      ]
     },
     "metadata": {},
     "output_type": "display_data"
    },
    {
     "name": "stdout",
     "output_type": "stream",
     "text": [
      "\n"
     ]
    },
    {
     "data": {
      "application/vnd.jupyter.widget-view+json": {
       "model_id": "1d4dc958a23b4338b8d4f9692901882a",
       "version_major": 2,
       "version_minor": 0
      },
      "text/plain": [
       "HBox(children=(FloatProgress(value=0.0, description='Generate report structure', max=1.0, style=ProgressStyle(…"
      ]
     },
     "metadata": {},
     "output_type": "display_data"
    },
    {
     "name": "stdout",
     "output_type": "stream",
     "text": [
      "\n"
     ]
    },
    {
     "data": {
      "application/vnd.jupyter.widget-view+json": {
       "model_id": "",
       "version_major": 2,
       "version_minor": 0
      },
      "text/plain": [
       "HBox(children=(FloatProgress(value=0.0, description='Render widgets', max=1.0, style=ProgressStyle(description…"
      ]
     },
     "metadata": {},
     "output_type": "display_data"
    },
    {
     "data": {
      "application/vnd.jupyter.widget-view+json": {
       "model_id": "0e6b2780e54c4cf7baa6c37146c36490",
       "version_major": 2,
       "version_minor": 0
      },
      "text/plain": [
       "VBox(children=(Tab(children=(Tab(children=(GridBox(children=(VBox(children=(GridspecLayout(children=(HTML(valu…"
      ]
     },
     "metadata": {},
     "output_type": "display_data"
    }
   ],
   "source": [
    "milan_sales_profile = ProfileReport(milan_data_df, title='Milan daily sales profiling report')\n",
    "milan_sales_profile.to_widgets()"
   ]
  },
  {
   "cell_type": "code",
   "execution_count": 4,
   "metadata": {},
   "outputs": [
    {
     "data": {
      "application/vnd.jupyter.widget-view+json": {
       "model_id": "5413fb582adc487e863eb59a492ae630",
       "version_major": 2,
       "version_minor": 0
      },
      "text/plain": [
       "HBox(children=(FloatProgress(value=0.0, description='Summarize dataset', max=29.0, style=ProgressStyle(descrip…"
      ]
     },
     "metadata": {},
     "output_type": "display_data"
    },
    {
     "name": "stdout",
     "output_type": "stream",
     "text": [
      "\n"
     ]
    },
    {
     "data": {
      "application/vnd.jupyter.widget-view+json": {
       "model_id": "52f6086f8cb24c069353b25023aa2177",
       "version_major": 2,
       "version_minor": 0
      },
      "text/plain": [
       "HBox(children=(FloatProgress(value=0.0, description='Generate report structure', max=1.0, style=ProgressStyle(…"
      ]
     },
     "metadata": {},
     "output_type": "display_data"
    },
    {
     "name": "stdout",
     "output_type": "stream",
     "text": [
      "\n"
     ]
    },
    {
     "data": {
      "application/vnd.jupyter.widget-view+json": {
       "model_id": "",
       "version_major": 2,
       "version_minor": 0
      },
      "text/plain": [
       "HBox(children=(FloatProgress(value=0.0, description='Render widgets', max=1.0, style=ProgressStyle(description…"
      ]
     },
     "metadata": {},
     "output_type": "display_data"
    },
    {
     "data": {
      "application/vnd.jupyter.widget-view+json": {
       "model_id": "cb34ef653a5249d88317d37788fdfd08",
       "version_major": 2,
       "version_minor": 0
      },
      "text/plain": [
       "VBox(children=(Tab(children=(Tab(children=(GridBox(children=(VBox(children=(GridspecLayout(children=(HTML(valu…"
      ]
     },
     "metadata": {},
     "output_type": "display_data"
    }
   ],
   "source": [
    "rome_weather_profile = ProfileReport(rome_weather_df, title='Rome weather profiling report')\n",
    "rome_weather_profile.to_widgets()"
   ]
  },
  {
   "cell_type": "code",
   "execution_count": null,
   "metadata": {},
   "outputs": [],
   "source": []
  }
 ],
 "metadata": {
  "kernelspec": {
   "display_name": "Python 3",
   "language": "python",
   "name": "python3"
  },
  "language_info": {
   "codemirror_mode": {
    "name": "ipython",
    "version": 3
   },
   "file_extension": ".py",
   "mimetype": "text/x-python",
   "name": "python",
   "nbconvert_exporter": "python",
   "pygments_lexer": "ipython3",
   "version": "3.7.5"
  }
 },
 "nbformat": 4,
 "nbformat_minor": 4
}
