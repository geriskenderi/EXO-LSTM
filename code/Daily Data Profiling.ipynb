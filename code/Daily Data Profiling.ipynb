{
 "cells": [
  {
   "cell_type": "code",
   "execution_count": 20,
   "metadata": {},
   "outputs": [],
   "source": [
    "import pandas as pd\n",
    "import numpy as np\n",
    "from pandas_profiling import ProfileReport"
   ]
  },
  {
   "cell_type": "code",
   "execution_count": 21,
   "metadata": {},
   "outputs": [
    {
     "name": "stdout",
     "output_type": "stream",
     "text": [
      "Milan sales data: (277702, 3)\n",
      "            qty codice esterno tab negozio\n",
      "time                                      \n",
      "2016-04-14    1  PA312119NE-16       ARESE\n",
      "2016-04-14    1       S39FA-16       ARESE\n",
      "2016-04-14    1     ME138BL-16       ARESE\n",
      "2016-04-14    1      C3FABL-16       ARESE\n",
      "2016-04-14    1  LI240521BI-16       ARESE\n",
      "\n",
      "\n",
      "Turin sales data: (371732, 3)\n",
      "            qty   codice esterno tab negozio\n",
      "time                                        \n",
      "2016-01-02    1  LDVF5253FANE-15       TORIN\n",
      "2016-01-02    1    LDVF5264FA-15        JUVE\n",
      "2016-01-02    1  LDVF5206FANE-15        JUVE\n",
      "2016-01-02    1    LDVF5237NE-15       TORIN\n",
      "2016-01-02    1        GG43FA-16        JUVE\n",
      "\n",
      "\n",
      "Rome sales data: (296486, 3)\n",
      "            qty       codice esterno tab negozio\n",
      "time                                            \n",
      "2016-01-02    1  VA713346T15128FA-15       TUSC1\n",
      "2016-01-02    1       MA3243905FA-15       TIBUR\n",
      "2016-01-02    1        LDVF5233FA-15       TUSC1\n",
      "2016-01-02    1            SS62FA-15       TUSC1\n",
      "2016-01-02    1           763FABL-15       TIBUR\n",
      "\n",
      "\n",
      "\n"
     ]
    }
   ],
   "source": [
    "\n",
    "# Milan daily sales data\n",
    "milan_data_df = pd.read_csv(\"../datasets/milan_daily.csv\", index_col=[0], parse_dates=True)\n",
    "# Turin daily sales data\n",
    "turin_data_df = pd.read_csv(\"../datasets/turin_daily.csv\", index_col=[0], parse_dates=True)\n",
    "# Rome daily sales data\n",
    "rome_data_df = pd.read_csv(\"../datasets/rome_daily.csv\", index_col=[0], parse_dates=True)\n",
    "\n",
    "print(\"Milan sales data:\", milan_data_df.shape)\n",
    "print(milan_data_df.head())\n",
    "print(\"\\n\")\n",
    "print(\"Turin sales data:\", turin_data_df.shape)\n",
    "print(turin_data_df.head())\n",
    "print(\"\\n\")\n",
    "print(\"Rome sales data:\", rome_data_df.shape)\n",
    "print(rome_data_df.head())\n",
    "print(\"\\n\\n\")\n",
    "\n",
    "## Exogenous weather data\n",
    "milan_weather_df = pd.read_csv(\"../datasets/Eso_data/weather/milano_weather_data.csv\")\n",
    "turin_weather_df = pd.read_csv(\"../datasets/Eso_data/weather/torino_weather_data.csv\")\n",
    "rome_weather_df = pd.read_csv(\"../datasets/Eso_data/weather/roma_weather_data.csv\")"
   ]
  },
  {
   "cell_type": "code",
   "execution_count": 23,
   "metadata": {},
   "outputs": [
    {
     "data": {
      "application/vnd.jupyter.widget-view+json": {
       "model_id": "906e93edaf2c471ba6b012df0d1be686",
       "version_major": 2,
       "version_minor": 0
      },
      "text/plain": [
       "HBox(children=(FloatProgress(value=0.0, description='Summarize dataset', max=18.0, style=ProgressStyle(descrip…"
      ]
     },
     "metadata": {},
     "output_type": "display_data"
    },
    {
     "name": "stdout",
     "output_type": "stream",
     "text": [
      "\n"
     ]
    },
    {
     "data": {
      "application/vnd.jupyter.widget-view+json": {
       "model_id": "085fc960e4f647788747c9f87cc89646",
       "version_major": 2,
       "version_minor": 0
      },
      "text/plain": [
       "HBox(children=(FloatProgress(value=0.0, description='Generate report structure', max=1.0, style=ProgressStyle(…"
      ]
     },
     "metadata": {},
     "output_type": "display_data"
    },
    {
     "name": "stdout",
     "output_type": "stream",
     "text": [
      "\n"
     ]
    },
    {
     "data": {
      "application/vnd.jupyter.widget-view+json": {
       "model_id": "",
       "version_major": 2,
       "version_minor": 0
      },
      "text/plain": [
       "HBox(children=(FloatProgress(value=0.0, description='Render widgets', max=1.0, style=ProgressStyle(description…"
      ]
     },
     "metadata": {},
     "output_type": "display_data"
    },
    {
     "data": {
      "application/vnd.jupyter.widget-view+json": {
       "model_id": "3c058e4138ca4d94986d1d5980471311",
       "version_major": 2,
       "version_minor": 0
      },
      "text/plain": [
       "VBox(children=(Tab(children=(Tab(children=(GridBox(children=(VBox(children=(GridspecLayout(children=(HTML(valu…"
      ]
     },
     "metadata": {},
     "output_type": "display_data"
    }
   ],
   "source": [
    "milan_sales_profile = ProfileReport(milan_data_df, title='Milan daily sales profiling report')\n",
    "milan_sales_profile.to_widgets()"
   ]
  },
  {
   "cell_type": "code",
   "execution_count": 25,
   "metadata": {},
   "outputs": [
    {
     "data": {
      "application/vnd.jupyter.widget-view+json": {
       "model_id": "489ab6222c8d41aab1bb9c7fbce6b9fa",
       "version_major": 2,
       "version_minor": 0
      },
      "text/plain": [
       "HBox(children=(FloatProgress(value=0.0, description='Summarize dataset', max=29.0, style=ProgressStyle(descrip…"
      ]
     },
     "metadata": {},
     "output_type": "display_data"
    },
    {
     "name": "stdout",
     "output_type": "stream",
     "text": [
      "\n"
     ]
    },
    {
     "data": {
      "application/vnd.jupyter.widget-view+json": {
       "model_id": "86cf9ff08f4d42739f00074890bb6c05",
       "version_major": 2,
       "version_minor": 0
      },
      "text/plain": [
       "HBox(children=(FloatProgress(value=0.0, description='Generate report structure', max=1.0, style=ProgressStyle(…"
      ]
     },
     "metadata": {},
     "output_type": "display_data"
    },
    {
     "name": "stdout",
     "output_type": "stream",
     "text": [
      "\n"
     ]
    },
    {
     "data": {
      "application/vnd.jupyter.widget-view+json": {
       "model_id": "",
       "version_major": 2,
       "version_minor": 0
      },
      "text/plain": [
       "HBox(children=(FloatProgress(value=0.0, description='Render widgets', max=1.0, style=ProgressStyle(description…"
      ]
     },
     "metadata": {},
     "output_type": "display_data"
    },
    {
     "data": {
      "application/vnd.jupyter.widget-view+json": {
       "model_id": "d21ab00e7e384bc3bfa81dfd03de361b",
       "version_major": 2,
       "version_minor": 0
      },
      "text/plain": [
       "VBox(children=(Tab(children=(Tab(children=(GridBox(children=(VBox(children=(GridspecLayout(children=(HTML(valu…"
      ]
     },
     "metadata": {},
     "output_type": "display_data"
    }
   ],
   "source": [
    "rome_weather_profile = ProfileReport(rome_weather_df, title='Rome weather profiling report')\n",
    "rome_weather_profile.to_widgets()"
   ]
  },
  {
   "cell_type": "code",
   "execution_count": null,
   "metadata": {},
   "outputs": [],
   "source": []
  }
 ],
 "metadata": {
  "kernelspec": {
   "display_name": "Python 3",
   "language": "python",
   "name": "python3"
  },
  "language_info": {
   "codemirror_mode": {
    "name": "ipython",
    "version": 3
   },
   "file_extension": ".py",
   "mimetype": "text/x-python",
   "name": "python",
   "nbconvert_exporter": "python",
   "pygments_lexer": "ipython3",
   "version": "3.7.5"
  }
 },
 "nbformat": 4,
 "nbformat_minor": 4
}
