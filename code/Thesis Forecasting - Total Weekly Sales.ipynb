{
 "cells": [
  {
   "cell_type": "code",
   "execution_count": 1,
   "metadata": {},
   "outputs": [
    {
     "name": "stderr",
     "output_type": "stream",
     "text": [
      "/Users/Geri/.local/share/virtualenvs/thesis-ez8c3QqQ/lib/python3.7/site-packages/statsmodels/tools/_testing.py:19: FutureWarning: pandas.util.testing is deprecated. Use the functions in the public API at pandas.testing instead.\n",
      "  import pandas.util.testing as tm\n"
     ]
    }
   ],
   "source": [
    "import time\n",
    "import datetime\n",
    "import random\n",
    "import math\n",
    "import torch\n",
    "import torch.nn as nn\n",
    "import torch.nn.functional as F\n",
    "import torch.optim as optim\n",
    "import pandas as pd\n",
    "import numpy as np\n",
    "import pmdarima as pm\n",
    "import matplotlib.pyplot as plt\n",
    "import seaborn as sns\n",
    "import plotly.graph_objects as go\n",
    "import plotly.io as pltio\n",
    "import statsmodels.api as sm\n",
    "from statsmodels.tsa.statespace.sarimax import SARIMAX\n",
    "from scipy.stats import spearmanr\n",
    "from stldecompose import decompose, forecast\n",
    "from stldecompose.forecast_funcs import (naive, drift, mean, seasonal_naive)"
   ]
  },
  {
   "cell_type": "markdown",
   "metadata": {},
   "source": [
    "# NN model definition"
   ]
  },
  {
   "cell_type": "code",
   "execution_count": 2,
   "metadata": {},
   "outputs": [],
   "source": [
    "class Model(nn.Module):\n",
    "    def __init__(self, input_size, hidden_size, output_size):\n",
    "        super(Model, self).__init__()\n",
    "        self.input_size = input_size\n",
    "        self.hidden_size = hidden_size\n",
    "        self.output_size = output_size\n",
    "        self.lstm = nn.LSTMCell(self.input_size, self.hidden_size)\n",
    "        self.linear = nn.Linear(self.hidden_size, self.output_size)\n",
    "\n",
    "    def forward(self, input, future=0, y=None):\n",
    "        outputs = []\n",
    "\n",
    "        # reset the state of LSTM\n",
    "        # the state is kept till the end of the sequence\n",
    "        h_t = torch.zeros(input.size(0), self.hidden_size, dtype=torch.float32)\n",
    "        c_t = torch.zeros(input.size(0), self.hidden_size, dtype=torch.float32)\n",
    "\n",
    "        for i, input_t in enumerate(input.chunk(input.size(1), dim=1)):\n",
    "            h_t, c_t = self.lstm(input_t.squeeze(1), (h_t, c_t))\n",
    "            output = self.linear(h_t)\n",
    "\n",
    "            outputs += [output]\n",
    "\n",
    "        for i in range(future):\n",
    "            if y is not None and random.random() > 0.5:\n",
    "                output = y[:, [i]]  # teacher forcing\n",
    "            if output.dim()<3:\n",
    "                output=output.unsqueeze(1)\n",
    "            h_t, c_t = self.lstm(output.squeeze(1), (h_t, c_t))\n",
    "            output = self.linear(h_t)\n",
    "            outputs += [output]\n",
    "        outputs = torch.stack(outputs, 1)\n",
    "        return outputs"
   ]
  },
  {
   "cell_type": "markdown",
   "metadata": {},
   "source": [
    "# Optimization Class"
   ]
  },
  {
   "cell_type": "code",
   "execution_count": 3,
   "metadata": {},
   "outputs": [],
   "source": [
    "class Optimization:\n",
    "    \"\"\" A helper class to train, test and diagnose the LSTM\"\"\"\n",
    "\n",
    "    def __init__(self, model, loss_fn, optimizer, scheduler):\n",
    "        self.model = model\n",
    "        self.loss_fn = loss_fn\n",
    "        self.optimizer = optimizer\n",
    "        self.scheduler = scheduler\n",
    "        self.train_losses = []\n",
    "        self.val_losses = []\n",
    "        self.futures = []\n",
    "\n",
    "    @staticmethod\n",
    "    def generate_batch_data(x, y, batch_size):\n",
    "        for batch, i in enumerate(range(0, len(x) - batch_size, batch_size)):\n",
    "            x_batch = x[i : i + batch_size]\n",
    "            y_batch = y[i : i + batch_size]\n",
    "            yield x_batch, y_batch, batch\n",
    "\n",
    "    def train(\n",
    "        self,\n",
    "        x_train,\n",
    "        y_train,\n",
    "        x_val=None,\n",
    "        y_val=None,\n",
    "        batch_size=12,\n",
    "        n_epochs=100,\n",
    "        do_teacher_forcing=None,\n",
    "    ):\n",
    "        seq_len = x_train.shape[1]\n",
    "        for epoch in range(n_epochs):\n",
    "            start_time = time.time()\n",
    "            self.futures = []\n",
    "            train_loss = 0\n",
    "            for x_batch, y_batch, batch in self.generate_batch_data(x_train, y_train, batch_size):\n",
    "                y_pred = self._predict(x_batch, y_batch, seq_len, do_teacher_forcing)\n",
    "                self.optimizer.zero_grad()\n",
    "                loss = self.loss_fn(y_pred, y_batch)\n",
    "                loss.backward()\n",
    "                self.optimizer.step()\n",
    "                train_loss += loss.item()\n",
    "            self.scheduler.step()\n",
    "            train_loss /= batch\n",
    "            self.train_losses.append(train_loss)\n",
    "            self._validation(x_val, y_val, batch_size)\n",
    "\n",
    "            elapsed = time.time() - start_time\n",
    "            print(\n",
    "                \"Epoch %d Train loss: %.2f. Validation loss: %.2f. Avg future: %.2f. Elapsed time: %.2fs.\"\n",
    "                % (epoch + 1, train_loss, self.val_losses[-1], np.average(self.futures), elapsed)\n",
    "            )\n",
    "\n",
    "    def _predict(self, x_batch, y_batch, seq_len, do_teacher_forcing):\n",
    "        if do_teacher_forcing:\n",
    "            future = random.randint(1, int(seq_len) // 2)\n",
    "            limit = x_batch.size(1) - future\n",
    "            y_pred = self.model(x_batch[:, :limit], future=future, y=y_batch[:, limit:])\n",
    "        else:\n",
    "            future = 0\n",
    "            y_pred = self.model(x_batch)\n",
    "        self.futures.append(future)\n",
    "        return y_pred\n",
    "\n",
    "    def _validation(self, x_val, y_val, batch_size):\n",
    "        if x_val is None or y_val is None:\n",
    "            return\n",
    "        with torch.no_grad():\n",
    "            val_loss = 0\n",
    "            for x_batch, y_batch, batch in self.generate_batch_data(x_val, y_val, batch_size):\n",
    "                y_pred = self.model(x_batch)\n",
    "                loss = self.loss_fn(y_pred, y_batch)\n",
    "                val_loss += loss.item()\n",
    "            val_loss /= batch\n",
    "            self.val_losses.append(val_loss)\n",
    "\n",
    "    def evaluate(self, x_test, y_test, batch_size, future=1):\n",
    "        with torch.no_grad():\n",
    "            test_loss = 0\n",
    "            actual, predicted = [], []\n",
    "            for x_batch, y_batch, batch in self.generate_batch_data(x_test, y_test, batch_size):\n",
    "                y_pred = self.model(x_batch, future=future)\n",
    "                y_pred = (\n",
    "                    y_pred[:, -len(y_batch) :] if y_pred.shape[1] > y_batch.shape[1] else y_pred\n",
    "                )\n",
    "                loss = self.loss_fn(y_pred, y_batch)\n",
    "                test_loss += loss.item()\n",
    "                actual += torch.squeeze(y_batch[:, -1]).data.cpu().numpy().tolist()\n",
    "                predicted += torch.squeeze(y_pred[:, -1]).data.cpu().numpy().tolist()\n",
    "            test_loss /= batch\n",
    "            return actual, predicted, test_loss\n",
    "\n",
    "    def plot_losses(self):\n",
    "        plt.plot(self.train_losses, label=\"Training loss\")\n",
    "        plt.plot(self.val_losses, label=\"Validation loss\")\n",
    "        plt.legend()\n",
    "        plt.title(\"Losses\")"
   ]
  },
  {
   "cell_type": "markdown",
   "metadata": {},
   "source": [
    "# Auxilliary functions"
   ]
  },
  {
   "cell_type": "code",
   "execution_count": 4,
   "metadata": {},
   "outputs": [],
   "source": [
    "# Build index in order to transform data into time series\n",
    "def dateindex_from_weeknum(weeknum, year):\n",
    "    if weeknum == 1:\n",
    "        date_str = \"\" + str(year) + \"-01-01\"\n",
    "        dateindex = datetime.datetime.strptime(date_str, \"%Y-%m-%d\")\n",
    "    else:\n",
    "        date_str = \"\" + str(year) + \"-W\" + str(weeknum-1) + \"-1\"\n",
    "        dateindex = datetime.datetime.strptime(date_str, \"%Y-W%W-%w\")\n",
    "\n",
    "    return dateindex"
   ]
  },
  {
   "cell_type": "code",
   "execution_count": 5,
   "metadata": {},
   "outputs": [],
   "source": [
    "def test_stationarity(ts):\n",
    "    \n",
    "    ### Method 1: Calculate and plot rolling statistics like the mean and standard deviation\n",
    "    roll_mean = ts.rolling(window=12).mean()\n",
    "    roll_std = ts.rolling(window=12).std()\n",
    "     \n",
    "    plt.plot(ts, color=\"blue\", label=\"Original TS\")\n",
    "    plt.plot(roll_mean, color=\"red\", label=\"Rolling Mean\")\n",
    "    plt.plot(roll_std, color=\"green\", label=\"Rolling STD\")\n",
    "    plt.legend(loc=\"best\")\n",
    "    plt.show()\n",
    "    \n",
    "    ### Method 2: Use the Dickey-Fuller statistical test \n",
    "    print(\"Performing Dickey-Fuller statistical test...\")\n",
    "    dftest = adfuller(ts, autolag=\"AIC\")\n",
    "    \n",
    "    test_results = pd.Series(dftest[0:4], index=[\"Test statistic\", \"p-value\", \"#Lags used\", \"#Observations used\"])\n",
    "    for key, alpha_lvl in dftest[4].items():\n",
    "        test_results['Critical Value (%s)'%key] = alpha_lvl\n",
    "    print(test_results)"
   ]
  },
  {
   "cell_type": "code",
   "execution_count": 6,
   "metadata": {},
   "outputs": [],
   "source": [
    "def augment_store_data (store_df, loc_weather_df):\n",
    "    ## PREPROCESS THE ORIGINAL STORE DATA\n",
    "    \n",
    "    # Drop unnamed column and listino column, we won't be using those\n",
    "    store_df = store_df.drop([\"Unnamed: 0\", \"listino\"], axis=1)\n",
    "\n",
    "    # Build datetime index\n",
    "    store_df[\"time\"] = [dateindex_from_weeknum(week_year[0], week_year[1]) for week_year in store_df[[\"settimana\", \"anno\"]].values]\n",
    "    store_df = store_df.set_index([\"time\"])\n",
    "    store_df.index = pd.to_datetime(store_df.index) # make ts\n",
    "\n",
    "    # Sort the data based on the new time index\n",
    "    store_df.sort_index(inplace=True)\n",
    "\n",
    "    # Aggregate the data to get the total sales of each week\n",
    "    store_weekly_totals = store_df.groupby(pd.Grouper(freq = \"W-MON\")).agg({\n",
    "        \"vendita\": np.sum,\n",
    "        \"settimana\": np.min, \n",
    "        \"anno\": np.min,\n",
    "    })\n",
    "\n",
    "    # Check for NAN values and replace them if they are present\n",
    "    nan_indices = store_weekly_totals[store_weekly_totals.isnull().any(axis=1)].index\n",
    "    for nan_idx in nan_indices:\n",
    "        store_weekly_totals.loc[nan_idx, \"vendita\"] = np.mean(store_weekly_totals.loc[:nan_idx,\"vendita\"].values)\n",
    "        store_weekly_totals.loc[nan_idx, \"settimana\"] = nan_idx.week\n",
    "        store_weekly_totals.loc[nan_idx, \"anno\"] = nan_idx.year\n",
    "        \n",
    "    # Drop 2020 data (we won't be using them)\n",
    "    store_weekly_totals.drop(store_weekly_totals.loc[\"2020\"].index, inplace=True)\n",
    "    # Drop the year data (we won't be using it)\n",
    "    store_weekly_totals.drop(\"anno\", axis=1, inplace=True)\n",
    "    # Transform the week into sin(week#/53 * 2pi) * cos(week#/53 * 2pi)\n",
    "    week_nr_values = store_weekly_totals.settimana.values\n",
    "    store_weekly_totals[\"sin_week\"] =  np.sin((week_nr_values/53) * 2*np.pi)\n",
    "    store_weekly_totals[\"cos_week\"] = np.cos((week_nr_values/53) * 2*np.pi)\n",
    "    store_weekly_totals[\"sincos_week\"] = np.sin((week_nr_values/53) * 2*np.pi) * np.cos((week_nr_values/53) * 2*np.pi)\n",
    "    store_weekly_totals.drop(\"settimana\", axis=1, inplace=True) # drop the actual week number values now\n",
    "\n",
    "\n",
    "    ## PREPROCESS AND ADD WEATHER DATA\n",
    "    \n",
    "    # Converting the index as datetime index\n",
    "    loc_weather_df = loc_weather_df.set_index([\"DATA\"])\n",
    "    loc_weather_df.index = pd.to_datetime(loc_weather_df.index) # make ts\n",
    "\n",
    "    # We can't really group the different weather fenomenons happening each day that column can't be used\n",
    "    # Also the rain and average pressure cols are useless, they only have values of 0 or nan.\n",
    "    # We won't be using those either \n",
    "    loc_weather_df = loc_weather_df.drop([\"LOCALITA\", \"FENOMENI\", \"PIOGGIA mm\", \"PRESSIONEMEDIA mb\"], axis=1)\n",
    "    # Group data by week (starting with the date 01-01 of the the first year) and aggregate by mean\n",
    "    loc_weather_df = loc_weather_df.groupby([pd.Grouper(freq = \"W-MON\")]).agg(np.mean)\n",
    "    loc_weather_df = loc_weather_df.fillna(0).astype(int)\n",
    "\n",
    "    # Here we add exogenous data we run the train the network with and without these new data. \n",
    "    # If the prediction improves then we are looking at leading indicator and better forecast accuracy.\n",
    "    store_weekly_weather_augmented = store_weekly_totals.copy(deep=True)\n",
    "    for w_col in loc_weather_df.columns:\n",
    "        store_weekly_weather_augmented[w_col] = loc_weather_df.loc[:, w_col]\n",
    "    \n",
    "    return store_weekly_totals, store_weekly_weather_augmented"
   ]
  },
  {
   "cell_type": "code",
   "execution_count": 7,
   "metadata": {},
   "outputs": [],
   "source": [
    "def ts_train_test_split(df, test_length=0.2):\n",
    "    # Perform train-test split\n",
    "    split_index = int(df.shape[0]*test_length)\n",
    "    train = df[:-split_index]\n",
    "    test = df[-split_index:]    \n",
    "    return train, test"
   ]
  },
  {
   "cell_type": "code",
   "execution_count": 8,
   "metadata": {},
   "outputs": [],
   "source": [
    "def prepare_for_network(train, test):\n",
    "    # Build the full training and testing dataframes\n",
    "    # In order to pass the data to the LSTM we need to transform it so it is in the range [-1,1]\n",
    "    # We scale all our data in order to build the final training and test dataframes\n",
    "    tr_df = train.copy(deep=True)\n",
    "    te_df = test.copy(deep=True)\n",
    "    for col in tr_df.columns:\n",
    "        # mean std Z standardization\n",
    "        mean = np.mean(train.loc[:,col].values)\n",
    "        std = np.std(train.loc[:,col].values)\n",
    "        \n",
    "        tr_df.loc[:, col] = (train.loc[:,col].values-mean)/std\n",
    "        te_df.loc[:, col] = (test.loc[:,col].values-mean)/std\n",
    "        \n",
    "    \n",
    "    return tr_df, pd.concat([tr_df.iloc[-54:, :], te_df])"
   ]
  },
  {
   "cell_type": "code",
   "execution_count": 9,
   "metadata": {},
   "outputs": [],
   "source": [
    "def build_in_out_seq(tr_df, te_df, desired_input_features, in_len=54, out_len=39):\n",
    "    # Building the NN input and outputs. LSTM will expect a supervised learning problem, hence we need to build\n",
    "    # input sequences that will have output sequences which the model will then learn.\n",
    "    \n",
    "    # Training\n",
    "    inp_tr = np.stack([tr_df.shift(i).values for i in range(out_len, out_len+in_len)], axis=1)[out_len+in_len-1:, -1::-1, desired_input_features].copy()\n",
    "    out_tr = np.stack([tr_df.shift(i).values for i in range(out_len)], axis=1)[out_len+in_len-1:, -1::-1, desired_input_features].copy()\n",
    "    # Testing\n",
    "    inp_te = np.stack([te_df.shift(i).values for i in range(out_len, out_len+in_len)], axis=1)[out_len+in_len-1:, -1::-1, desired_input_features].copy()\n",
    "    out_te = np.stack([te_df.shift(i).values for i in range(out_len)], axis=1)[out_len+in_len-1:, -1::-1, desired_input_features].copy()\n",
    "    print(\"Inputs for training\")\n",
    "    print(inp_tr.shape)\n",
    "    print(\"Outputs for training\")\n",
    "    print(out_tr.shape)\n",
    "    print(\"Inputs for testing\")\n",
    "    print(inp_te.shape)\n",
    "    print(\"Outputs for testing\")\n",
    "    print(out_te.shape)\n",
    "    print(\"\\n\")\n",
    "\n",
    "    return inp_tr, out_tr, inp_te, out_te"
   ]
  },
  {
   "cell_type": "code",
   "execution_count": 10,
   "metadata": {},
   "outputs": [],
   "source": [
    "def check_lstm_forecast_results(pred, inp_te, out_te, poll_mean, poll_std, in_len=54, out_len=39):\n",
    "    # *Data back needs to rescaled back to normal*\n",
    "    pred_vec = (pred[0,-out_len:,0].detach().cpu().numpy() * poll_std) + poll_mean\n",
    "    real_vec = (out_te[0,:,0] * poll_std) + poll_mean\n",
    "    rmse = sm.tools.eval_measures.rmse(pred_vec, real_vec)\n",
    "    mae = sm.tools.eval_measures.meanabs(pred_vec, real_vec)\n",
    "    \n",
    "    return rmse, mae"
   ]
  },
  {
   "cell_type": "code",
   "execution_count": 11,
   "metadata": {},
   "outputs": [],
   "source": [
    "def cols_with_most_corr(df, forecast_target_col=0, corr_threshhold=0.10):\n",
    "    corr_matrix = df.corr(method=\"spearman\")\n",
    "    corrmat_row = corr_matrix.iloc[forecast_target_col, :]\n",
    "    corrmat_row_vals = corrmat_row.values.tolist()\n",
    "    # Get only the columns that have a correlation coefficient >= corr_threshhold or =< -corr_threshhold\n",
    "    correlated_features = []\n",
    "    for val in corrmat_row_vals:\n",
    "        if (val > corr_threshhold or val < -corr_threshhold):\n",
    "            pct_zeros_in_col = df[df.iloc[:, corrmat_row_vals.index(val)] == 0].count(axis=0)[0]/len(df.index)\n",
    "            if pct_zeros_in_col < 0.5:\n",
    "                correlated_features.append(corrmat_row_vals.index(val))\n",
    "\n",
    "    return correlated_features"
   ]
  },
  {
   "cell_type": "code",
   "execution_count": 12,
   "metadata": {},
   "outputs": [],
   "source": [
    "def cols_with_most_lagged_corr(df, lag=-1, forecast_target_col=0, corr_threshhold=0.10):\n",
    "    corr_matrix = lagged_corr_matrix(df, lag=lag)\n",
    "    corrmat_row = corr_matrix.iloc[forecast_target_col, :]\n",
    "    corrmat_row_vals = corrmat_row.values.tolist()\n",
    "    # Get only the columns that have a correlation coefficient >= corr_threshhold or =< -corr_threshhold\n",
    "    correlated_features = []\n",
    "    for val in corrmat_row_vals:\n",
    "        if (val > corr_threshhold or val < -corr_threshhold):\n",
    "            pct_zeros_in_col = df[df.iloc[:, corrmat_row_vals.index(val)] == 0].count(axis=0)[0]/len(df.index)\n",
    "            if pct_zeros_in_col < 0.5:\n",
    "                correlated_features.append(corrmat_row_vals.index(val))\n",
    "\n",
    "    return correlated_features"
   ]
  },
  {
   "cell_type": "code",
   "execution_count": 13,
   "metadata": {},
   "outputs": [],
   "source": [
    "def lagged_corr(datax, datay, lag=0):\n",
    "    #print(datax, datay.shift(lag))\n",
    "    return datax.corr(datay.shift(lag), method=\"spearman\") # no p-values\n",
    "    #return spearmanr(datax, datay.shift(lag)) # tuple of spearman coeff and two sided p-value"
   ]
  },
  {
   "cell_type": "code",
   "execution_count": 14,
   "metadata": {},
   "outputs": [],
   "source": [
    "def lagged_corr_matrix(df, lag):\n",
    "    df = df.dropna()._get_numeric_data()\n",
    "    dfcols = pd.DataFrame(columns=df.columns)\n",
    "    corr_values = dfcols.transpose().join(dfcols, how='outer')\n",
    "    for r in df.columns:\n",
    "        for c in df.columns:\n",
    "            corr_values[r][c] = lagged_corr(df[r], df[c], lag)\n",
    "    return corr_values.astype('float64')"
   ]
  },
  {
   "cell_type": "code",
   "execution_count": 15,
   "metadata": {},
   "outputs": [],
   "source": [
    "def calculate_pvalues(df, lag=0):\n",
    "    df = df.dropna()._get_numeric_data()\n",
    "    dfcols = pd.DataFrame(columns=df.columns)\n",
    "    pvalues = dfcols.transpose().join(dfcols, how='outer')\n",
    "    for r in df.columns:\n",
    "        for c in df.columns:\n",
    "            pvalues[r][c] = round(spearmanr(df[r],df[c].shift(lag, fill_value=0))[1], 4) #CONSULT: fill_value\n",
    "    return pvalues.astype('float64')"
   ]
  },
  {
   "cell_type": "markdown",
   "metadata": {},
   "source": [
    "# Load and clean data"
   ]
  },
  {
   "cell_type": "code",
   "execution_count": 16,
   "metadata": {},
   "outputs": [
    {
     "name": "stdout",
     "output_type": "stream",
     "text": [
      "Milan sales data\n",
      "   Unnamed: 0 codice esterno  vendita  settimana  anno taglia negozio listino\n",
      "0        8313  16SF181BNE-16        1         16  2016     XS   ARESE     LSI\n",
      "1        8511  VA515233NE-16        1         16  2016     XS   ARESE     LSI\n",
      "2        8569  16SF181BBL-16        1         16  2016      S   ARESE     LSI\n",
      "3        8807   ZR121FABI-16        2         16  2016     UN   ARESE     LSI\n",
      "4        8833  16SF181BNE-16        1         16  2016      S   ARESE     LSI\n",
      "\n",
      "\n",
      "Turin sales data\n",
      "   Unnamed: 0  codice esterno  vendita  settimana  anno taglia negozio listino\n",
      "0      652733    2201611NE-17        1         19  2017      M   BEINA     LSI\n",
      "1      653618        TS4BE-17        1         19  2017      S   BEINA     LSI\n",
      "2      653750        TS4BE-17        1         19  2017      M   BEINA     LSI\n",
      "3      653776  30038PE17BL-17        1         20  2017     38   BEINA     LSI\n",
      "4      653867       BY19RS-17        1         20  2017     UN   BEINA     LSI\n",
      "\n",
      "\n",
      "Rome sales data\n",
      "   Unnamed: 0 codice esterno  vendita  settimana  anno taglia negozio listino\n",
      "0     1637612   782882VIO-18        1         37  2018     XS   EURR2     LSI\n",
      "1     1639976   782882VIO-18        1         38  2018      M   EURR2     LSI\n",
      "2     1639978   782882VIO-18        2         38  2018      S   EURR2     LSI\n",
      "3     1640167  LU3493PEFA-18        1         38  2018     UN   EURR2     LSI\n",
      "4     1640192        N4VI-18        1         38  2018      L   EURR2     LSI\n",
      "\n",
      "\n",
      "\n"
     ]
    }
   ],
   "source": [
    "## STORE DATA\n",
    "\n",
    "# Milan data\n",
    "milan_data_df = pd.read_csv(\"../datasets/dati_nunalie/MILANO/ARESE.csv\")\n",
    "milan_data_df = milan_data_df.append(pd.read_csv(\"../datasets/dati_nunalie/MILANO/BUSNA.csv\"))\n",
    "milan_data_df = milan_data_df.append(pd.read_csv(\"../datasets/dati_nunalie/MILANO/PAVIA.csv\"))\n",
    "\n",
    "# Turin data\n",
    "turin_data_df = pd.read_csv(\"../datasets/dati_nunalie/TORINO/BEINA.csv\")\n",
    "turin_data_df = turin_data_df.append(pd.read_csv(\"../datasets/dati_nunalie/TORINO/NICHE.csv\"))\n",
    "turin_data_df = turin_data_df.append(pd.read_csv(\"../datasets/dati_nunalie/TORINO/TODOR.csv\"))\n",
    "turin_data_df = turin_data_df.append(pd.read_csv(\"../datasets/dati_nunalie/TORINO/TORIN.csv\"))\n",
    "\n",
    "# Rome data\n",
    "rome_data_df = pd.read_csv(\"../datasets/dati_nunalie/ROMA/EURR2.csv\")\n",
    "rome_data_df = rome_data_df.append(pd.read_csv(\"../datasets/dati_nunalie/ROMA/RMNAZ.csv\"))\n",
    "rome_data_df = rome_data_df.append(pd.read_csv(\"../datasets/dati_nunalie/ROMA/TIBUR.csv\"))\n",
    "rome_data_df = rome_data_df.append(pd.read_csv(\"../datasets/dati_nunalie/ROMA/TUSC1.csv\"))\n",
    "rome_data_df = rome_data_df.append(pd.read_csv(\"../datasets/dati_nunalie/ROMA/TUSC2.csv\"))\n",
    "\n",
    "print(\"Milan sales data\")\n",
    "print(milan_data_df.head())\n",
    "print(\"\\n\")\n",
    "print(\"Turin sales data\")\n",
    "print(turin_data_df.head())\n",
    "print(\"\\n\")\n",
    "print(\"Rome sales data\")\n",
    "print(rome_data_df.head())\n",
    "print(\"\\n\\n\")\n",
    "\n",
    "## EXOGENOUS DATA\n",
    "\n",
    "# weather\n",
    "milan_weather_df = pd.read_csv(\"../datasets/Eso_data/weather/milano_weather_data.csv\")\n",
    "turin_weather_df = pd.read_csv(\"../datasets/Eso_data/weather/torino_weather_data.csv\")\n",
    "rome_weather_df = pd.read_csv(\"../datasets/Eso_data/weather/roma_weather_data.csv\")"
   ]
  },
  {
   "cell_type": "code",
   "execution_count": 17,
   "metadata": {},
   "outputs": [
    {
     "name": "stdout",
     "output_type": "stream",
     "text": [
      "Milan data original shape: (195, 4)\n",
      "Milan + exogenous data shape: (195, 14)\n",
      "Turin data original shape: (199, 4)\n",
      "Turin + exogenous data shape: (199, 14)\n",
      "Rome data original shape: (200, 4)\n",
      "Rome + exogenous data shape: (200, 14)\n"
     ]
    }
   ],
   "source": [
    "# Augment single location sales data and then put everything together\n",
    "milan_weekly_default, milan_weekly_augmented = augment_store_data(milan_data_df, milan_weather_df)\n",
    "print(\"Milan data original shape:\", milan_weekly_default.shape)\n",
    "print(\"Milan + exogenous data shape:\", milan_weekly_augmented.shape)\n",
    "turin_weekly_default, turin_weekly_augmented = augment_store_data(turin_data_df, turin_weather_df)\n",
    "print(\"Turin data original shape:\", turin_weekly_default.shape)\n",
    "print(\"Turin + exogenous data shape:\", turin_weekly_augmented.shape)\n",
    "rome_weekly_default, rome_weekly_augmented = augment_store_data(rome_data_df, rome_weather_df)\n",
    "print(\"Rome data original shape:\", rome_weekly_default.shape)\n",
    "print(\"Rome + exogenous data shape:\", rome_weekly_augmented.shape)"
   ]
  },
  {
   "cell_type": "code",
   "execution_count": 18,
   "metadata": {},
   "outputs": [],
   "source": [
    "## Create dicts for different store data\n",
    "def_datasets = {\n",
    "    \"Milan\": milan_weekly_default,\n",
    "    #\"Turin\": turin_weekly_default,\n",
    "    #\"Rome\": rome_weekly_default\n",
    "}\n",
    "aug_datasets = {\n",
    "    \"Milan\": milan_weekly_augmented,\n",
    "    #\"Turin\": turin_weekly_augmented, \n",
    "    #\"Rome\": rome_weekly_augmented\n",
    "}"
   ]
  },
  {
   "cell_type": "code",
   "execution_count": 19,
   "metadata": {},
   "outputs": [],
   "source": [
    "# -52 lagged corr for sales\n",
    "#cols_to_check = aug_datasets[\"Milan\"].columns[1:]\n",
    "#for col in cols_to_check:\n",
    "#    print(\"Corr with\", col)\n",
    "#    corr_lagged = [crosscorr(milan_weekly_augmented.vendita, milan_weekly_augmented[col], lag=i) for i in range(12)]\n",
    "#    print(corr_lagged.index(max(corr_lagged)), max(corr_lagged))\n",
    "#    print()"
   ]
  },
  {
   "cell_type": "markdown",
   "metadata": {},
   "source": [
    "# Data Visualization and Exploration "
   ]
  },
  {
   "cell_type": "code",
   "execution_count": 20,
   "metadata": {},
   "outputs": [
    {
     "name": "stdout",
     "output_type": "stream",
     "text": [
      "Milan data \n",
      "\n"
     ]
    },
    {
     "data": {
      "image/png": "[encoded data removed]",
      "text/plain": [
       "<Figure size 720x576 with 5 Axes>"
      ]
     },
     "metadata": {
      "needs_background": "light"
     },
     "output_type": "display_data"
    }
   ],
   "source": [
    "# Plot the data to explore and see what we are working with\n",
    "for dataset in aug_datasets:\n",
    "    print(dataset, \"data \\n\")\n",
    "    # Plot the data with the most correlation to the sales we are trying to predict\n",
    "    # These are the features we will train the network on later\n",
    "    values = aug_datasets[dataset].values\n",
    "    #cols_to_plot = cols_with_most_corr(aug_datasets[dataset], 0)\n",
    "    cols_to_plot = [0,1,2,3,4]\n",
    "    \n",
    "    i=1\n",
    "    plt.figure(figsize=(10,8))\n",
    "    for col in cols_to_plot:\n",
    "        plt.subplot(len(cols_to_plot), 1, i)\n",
    "        plt.plot(values[:, col], label=aug_datasets[dataset].columns[col])\n",
    "        plt.legend()\n",
    "        i += 1\n",
    "    plt.show()"
   ]
  },
  {
   "cell_type": "code",
   "execution_count": 21,
   "metadata": {},
   "outputs": [],
   "source": [
    "#milan_weekly_augmented.vendita.shift(periods=3, fill_value=0)"
   ]
  },
  {
   "cell_type": "code",
   "execution_count": 22,
   "metadata": {},
   "outputs": [],
   "source": [
    "## Correlation matrix: Spearman Correlation\n",
    "#for dataset in aug_datasets:\n",
    "\n",
    "   #default_s_corr = aug_datasets[dataset].corr(method=\"spearman\")\n",
    "   #plt.figure(figsize=(10,8))\n",
    "   #sns.heatmap(data=default_s_corr, cmap=\"YlOrRd\", annot=True, linewidths=.1)\n",
    "   #plt.title(\"Correlation for \"+ dataset+\" data\")\n",
    "   #plt.show()\n",
    "   #\n",
    "   #def_p_val_matrix = calculate_pvalues(aug_datasets[dataset], lag=0)\n",
    "   #plt.figure(figsize=(10,8))\n",
    "   #sns.heatmap(data=def_p_val_matrix, annot=True, linewidths=.1)\n",
    "   #plt.title(\"P-Vals for above correlation data\")\n",
    "   #plt.show()\n",
    "   #\n",
    "   #lagged_s_corr = lagged_corr_matrix(milan_weekly_augmented, lag=1)\n",
    "   #plt.figure(figsize=(10,8))\n",
    "   #sns.heatmap(data=lagged_s_corr, cmap=\"YlOrRd\", annot=True, linewidths=.1)\n",
    "   #plt.title(\"Lagged correlation for \"+ dataset + \" data\")\n",
    "   #plt.show()\n",
    "   #\n",
    "   #lagged_p_val_matrix = calculate_pvalues(aug_datasets[dataset], lag=1)\n",
    "   #plt.figure(figsize=(10,8))\n",
    "   #sns.heatmap(data=lagged_p_val_matrix, annot=True, linewidths=.1)\n",
    "   #plt.title(\"P-Vals for above correlation data\")\n",
    "   #plt.show()\n",
    "    \n",
    "    #feature_cols = cols_with_most_corr(aug_datasets[dataset], 0)\n",
    "    #for col in feature_cols:\n",
    "    #    print(\"P-value of correlation between sales and\", aug_datasets[dataset].columns[col], \\\n",
    "    #          \":\", p_val_matrix.values[0][col])"
   ]
  },
  {
   "cell_type": "markdown",
   "metadata": {},
   "source": [
    "# Forecasting evaluation"
   ]
  },
  {
   "cell_type": "code",
   "execution_count": 27,
   "metadata": {},
   "outputs": [
    {
     "name": "stdout",
     "output_type": "stream",
     "text": [
      "Running forecasting for sales in Milan\n",
      "Run # 1\n",
      "Default input features: [0, 3]\n",
      "Input features with exogenous data: [0, 2, 3, 11, 13]\n",
      "Inputs for training\n",
      "(65, 54, 2)\n",
      "Outputs for training\n",
      "(65, 38, 2)\n",
      "Inputs for testing\n",
      "(1, 54, 2)\n",
      "Outputs for testing\n",
      "(1, 38, 2)\n",
      "\n",
      "\n",
      "Inputs for training\n",
      "(65, 54, 5)\n",
      "Outputs for training\n",
      "(65, 38, 5)\n",
      "Inputs for testing\n",
      "(1, 54, 5)\n",
      "Outputs for testing\n",
      "(1, 38, 5)\n",
      "\n",
      "\n",
      "Running Drift and Seasonal Drift models based on STL Decomposition...\n",
      "Training the default LSTM model...\n",
      "Epoch 1 Train loss: 1.17. Validation loss: 1.14. Avg future: 14.60. Elapsed time: 0.44s.\n",
      "Epoch 2 Train loss: 1.13. Validation loss: 1.09. Avg future: 20.80. Elapsed time: 0.37s.\n",
      "Epoch 3 Train loss: 1.08. Validation loss: 1.04. Avg future: 19.40. Elapsed time: 0.43s.\n",
      "Epoch 4 Train loss: 1.03. Validation loss: 0.99. Avg future: 13.20. Elapsed time: 0.36s.\n",
      "Epoch 5 Train loss: 0.98. Validation loss: 0.93. Avg future: 20.60. Elapsed time: 0.56s.\n",
      "Epoch 6 Train loss: 0.92. Validation loss: 0.86. Avg future: 22.80. Elapsed time: 0.57s.\n",
      "Epoch 7 Train loss: 0.84. Validation loss: 0.78. Avg future: 13.20. Elapsed time: 0.44s.\n",
      "Epoch 8 Train loss: 0.77. Validation loss: 0.68. Avg future: 25.20. Elapsed time: 0.42s.\n",
      "Epoch 9 Train loss: 0.67. Validation loss: 0.57. Avg future: 24.20. Elapsed time: 0.45s.\n",
      "Epoch 10 Train loss: 0.55. Validation loss: 0.46. Avg future: 23.80. Elapsed time: 0.43s.\n",
      "Epoch 11 Train loss: 0.43. Validation loss: 0.39. Avg future: 26.60. Elapsed time: 0.43s.\n",
      "Epoch 12 Train loss: 0.36. Validation loss: 0.35. Avg future: 23.00. Elapsed time: 0.33s.\n",
      "Epoch 13 Train loss: 0.33. Validation loss: 0.32. Avg future: 13.00. Elapsed time: 0.32s.\n",
      "Epoch 14 Train loss: 0.30. Validation loss: 0.29. Avg future: 24.40. Elapsed time: 0.32s.\n",
      "Epoch 15 Train loss: 0.28. Validation loss: 0.27. Avg future: 18.60. Elapsed time: 0.32s.\n",
      "Epoch 16 Train loss: 0.26. Validation loss: 0.26. Avg future: 22.00. Elapsed time: 0.32s.\n",
      "Epoch 17 Train loss: 0.25. Validation loss: 0.25. Avg future: 18.00. Elapsed time: 0.33s.\n",
      "Epoch 18 Train loss: 0.24. Validation loss: 0.24. Avg future: 27.80. Elapsed time: 0.33s.\n",
      "Epoch 19 Train loss: 0.23. Validation loss: 0.23. Avg future: 20.00. Elapsed time: 0.32s.\n",
      "Epoch 20 Train loss: 0.23. Validation loss: 0.23. Avg future: 32.40. Elapsed time: 0.32s.\n",
      "Done\n",
      "\n",
      "Training the augmented Exo-LSTM model...\n",
      "Epoch 1 Train loss: 1.05. Validation loss: 1.01. Avg future: 21.80. Elapsed time: 0.50s.\n",
      "Epoch 2 Train loss: 0.99. Validation loss: 0.95. Avg future: 20.80. Elapsed time: 0.51s.\n",
      "Epoch 3 Train loss: 0.94. Validation loss: 0.88. Avg future: 21.20. Elapsed time: 0.50s.\n",
      "Epoch 4 Train loss: 0.86. Validation loss: 0.80. Avg future: 19.40. Elapsed time: 0.50s.\n",
      "Epoch 5 Train loss: 0.79. Validation loss: 0.71. Avg future: 28.20. Elapsed time: 0.51s.\n",
      "Epoch 6 Train loss: 0.68. Validation loss: 0.62. Avg future: 10.80. Elapsed time: 0.51s.\n",
      "Epoch 7 Train loss: 0.61. Validation loss: 0.54. Avg future: 28.40. Elapsed time: 0.50s.\n",
      "Epoch 8 Train loss: 0.53. Validation loss: 0.48. Avg future: 15.00. Elapsed time: 0.51s.\n",
      "Epoch 9 Train loss: 0.47. Validation loss: 0.45. Avg future: 25.60. Elapsed time: 0.50s.\n",
      "Epoch 10 Train loss: 0.44. Validation loss: 0.43. Avg future: 24.40. Elapsed time: 0.50s.\n",
      "Epoch 11 Train loss: 0.43. Validation loss: 0.43. Avg future: 18.00. Elapsed time: 0.50s.\n",
      "Epoch 12 Train loss: 0.42. Validation loss: 0.42. Avg future: 18.60. Elapsed time: 0.51s.\n",
      "Epoch 13 Train loss: 0.42. Validation loss: 0.42. Avg future: 21.60. Elapsed time: 0.65s.\n",
      "Epoch 14 Train loss: 0.42. Validation loss: 0.42. Avg future: 24.00. Elapsed time: 0.50s.\n",
      "Epoch 15 Train loss: 0.42. Validation loss: 0.42. Avg future: 27.60. Elapsed time: 0.51s.\n",
      "Epoch 16 Train loss: 0.43. Validation loss: 0.41. Avg future: 19.60. Elapsed time: 0.51s.\n",
      "Epoch 17 Train loss: 0.41. Validation loss: 0.40. Avg future: 10.60. Elapsed time: 0.50s.\n",
      "Epoch 18 Train loss: 0.40. Validation loss: 0.40. Avg future: 25.00. Elapsed time: 0.51s.\n",
      "Epoch 19 Train loss: 0.40. Validation loss: 0.40. Avg future: 30.20. Elapsed time: 0.50s.\n",
      "Epoch 20 Train loss: 0.39. Validation loss: 0.39. Avg future: 26.60. Elapsed time: 0.49s.\n",
      "Epoch 21 Train loss: 0.39. Validation loss: 0.38. Avg future: 17.20. Elapsed time: 0.56s.\n",
      "Epoch 22 Train loss: 0.38. Validation loss: 0.38. Avg future: 28.80. Elapsed time: 0.50s.\n",
      "Epoch 23 Train loss: 0.38. Validation loss: 0.38. Avg future: 21.80. Elapsed time: 0.50s.\n",
      "Epoch 24 Train loss: 0.37. Validation loss: 0.38. Avg future: 30.60. Elapsed time: 0.49s.\n",
      "Epoch 25 Train loss: 0.38. Validation loss: 0.37. Avg future: 17.20. Elapsed time: 0.50s.\n",
      "Epoch 26 Train loss: 0.37. Validation loss: 0.37. Avg future: 18.40. Elapsed time: 0.50s.\n",
      "Epoch 27 Train loss: 0.37. Validation loss: 0.37. Avg future: 24.00. Elapsed time: 0.50s.\n",
      "Epoch 28 Train loss: 0.37. Validation loss: 0.37. Avg future: 21.00. Elapsed time: 0.52s.\n",
      "Epoch 29 Train loss: 0.37. Validation loss: 0.37. Avg future: 26.40. Elapsed time: 0.53s.\n",
      "Epoch 30 Train loss: 0.36. Validation loss: 0.37. Avg future: 32.60. Elapsed time: 0.89s.\n",
      "Epoch 31 Train loss: 0.37. Validation loss: 0.37. Avg future: 17.80. Elapsed time: 0.68s.\n",
      "Epoch 32 Train loss: 0.36. Validation loss: 0.37. Avg future: 23.00. Elapsed time: 0.53s.\n",
      "Epoch 33 Train loss: 0.36. Validation loss: 0.37. Avg future: 29.80. Elapsed time: 0.66s.\n",
      "Epoch 34 Train loss: 0.36. Validation loss: 0.37. Avg future: 14.20. Elapsed time: 0.51s.\n",
      "Epoch 35 Train loss: 0.36. Validation loss: 0.37. Avg future: 31.80. Elapsed time: 0.50s.\n",
      "Epoch 36 Train loss: 0.36. Validation loss: 0.37. Avg future: 16.60. Elapsed time: 0.51s.\n",
      "Epoch 37 Train loss: 0.36. Validation loss: 0.37. Avg future: 14.40. Elapsed time: 0.51s.\n",
      "Epoch 38 Train loss: 0.36. Validation loss: 0.36. Avg future: 20.00. Elapsed time: 0.50s.\n",
      "Epoch 39 Train loss: 0.36. Validation loss: 0.36. Avg future: 19.00. Elapsed time: 0.50s.\n",
      "Epoch 40 Train loss: 0.36. Validation loss: 0.36. Avg future: 16.40. Elapsed time: 0.51s.\n",
      "Epoch 41 Train loss: 0.36. Validation loss: 0.36. Avg future: 13.00. Elapsed time: 0.64s.\n",
      "Epoch 42 Train loss: 0.36. Validation loss: 0.36. Avg future: 24.00. Elapsed time: 0.53s.\n",
      "Epoch 43 Train loss: 0.36. Validation loss: 0.36. Avg future: 13.40. Elapsed time: 0.66s.\n",
      "Epoch 44 Train loss: 0.36. Validation loss: 0.36. Avg future: 31.20. Elapsed time: 0.67s.\n",
      "Epoch 45 Train loss: 0.36. Validation loss: 0.36. Avg future: 28.20. Elapsed time: 0.66s.\n",
      "Epoch 46 Train loss: 0.36. Validation loss: 0.36. Avg future: 24.40. Elapsed time: 0.69s.\n",
      "Epoch 47 Train loss: 0.36. Validation loss: 0.36. Avg future: 33.60. Elapsed time: 1.00s.\n",
      "Epoch 48 Train loss: 0.36. Validation loss: 0.36. Avg future: 23.40. Elapsed time: 0.67s.\n",
      "Epoch 49 Train loss: 0.36. Validation loss: 0.36. Avg future: 19.80. Elapsed time: 0.56s.\n",
      "Epoch 50 Train loss: 0.36. Validation loss: 0.36. Avg future: 21.60. Elapsed time: 0.66s.\n",
      "Done\n",
      "\n"
     ]
    },
    {
     "data": {
      "application/vnd.plotly.v1+json": {
       "config": {
        "plotlyServerURL": "https://plot.ly"
       },
       "data": [
        {
         "mode": "lines",
         "name": "GT",
         "type": "scatter",
         "x": [
          0,
          1,
          2,
          3,
          4,
          5,
          6,
          7,
          8,
          9,
          10,
          11,
          12,
          13,
          14,
          15,
          16,
          17,
          18,
          19,
          20,
          21,
          22,
          23,
          24,
          25,
          26,
          27,
          28,
          29,
          30,
          31,
          32,
          33,
          34,
          35,
          36
         ],
         "y": [
          2,
          14,
          10,
          7,
          6,
          72,
          36.00000000000006,
          135,
          131,
          107,
          48.99999999999994,
          1083,
          2365,
          3040,
          1972,
          1832,
          1706,
          1012,
          589,
          480,
          223,
          183,
          52,
          19,
          21,
          14,
          14,
          20,
          7,
          9,
          9,
          7,
          6,
          2336,
          1428,
          198,
          99.99999999999994,
          82
         ]
        },
        {
         "mode": "lines",
         "name": "LSTM",
         "type": "scatter",
         "x": [
          0,
          1,
          2,
          3,
          4,
          5,
          6,
          7,
          8,
          9,
          10,
          11,
          12,
          13,
          14,
          15,
          16,
          17,
          18,
          19,
          20,
          21,
          22,
          23,
          24,
          25,
          26,
          27,
          28,
          29,
          30,
          31,
          32,
          33,
          34,
          35,
          36
         ],
         "y": [
          563.9902954101562,
          510.57000732421875,
          465.6328125,
          432.8050537109375,
          423.646484375,
          443.666748046875,
          491.91778564453125,
          565.6316528320312,
          681.7740478515625,
          843.0724487304688,
          1018.0821533203125,
          1159.544677734375,
          1324.60986328125,
          1512.45458984375,
          1624.5687255859375,
          1549.559814453125,
          1369.9599609375,
          1166.1346435546875,
          880.027099609375,
          612.04638671875,
          423.5731201171875,
          285.5777893066406,
          176.61676025390625,
          89.329345703125,
          26.746429443359375,
          -13.94256591796875,
          -36.8521728515625,
          -15.55303955078125,
          -32.30810546875,
          -3.78070068359375,
          -18.14788818359375,
          -9.86846923828125,
          12.63995361328125,
          252.1888427734375,
          377.53973388671875,
          511.0628967285156,
          695.3710327148438,
          918.9326171875,
          1189.9775390625,
          1340.09619140625,
          1378.092041015625,
          1642.20849609375,
          1589.24462890625,
          1454.129150390625,
          1239.736083984375,
          1006.1050415039062,
          739.0098876953125,
          521.702392578125,
          355.21124267578125,
          225.80145263671875,
          120.74688720703125,
          45.662353515625,
          -3.96038818359375,
          -31.9390869140625,
          -39.99462890625,
          -46.8746337890625,
          -51.43756103515625,
          -51.80029296875,
          -46.06903076171875,
          -35.71295166015625,
          -18.12811279296875,
          15.72088623046875,
          79.3828125,
          189.86709594726562,
          371.15521240234375,
          652.9005737304688,
          1028.886474609375,
          1408.0546875,
          1665.9154052734375,
          1716.4334716796875,
          1606.92578125,
          1406.1873779296875,
          1141.0986328125,
          851.3939208984375,
          599.7564086914062,
          414.90350341796875,
          280.088623046875,
          175.67037963867188,
          95.20016479492188,
          35.534027099609375,
          -6.20770263671875,
          -31.50091552734375,
          -43.8458251953125,
          -49.81298828125,
          -53.748291015625,
          -53.31689453125,
          -47.0015869140625,
          -36.2059326171875,
          -17.96990966796875,
          16.99713134765625,
          82.364013671875
         ]
        },
        {
         "mode": "lines",
         "name": "Exo-LSTM",
         "type": "scatter",
         "x": [
          0,
          1,
          2,
          3,
          4,
          5,
          6,
          7,
          8,
          9,
          10,
          11,
          12,
          13,
          14,
          15,
          16,
          17,
          18,
          19,
          20,
          21,
          22,
          23,
          24,
          25,
          26,
          27,
          28,
          29,
          30,
          31,
          32,
          33,
          34,
          35,
          36
         ],
         "y": [
          372.23870849609375,
          206.56283569335938,
          115.45944213867188,
          58.04010009765625,
          22.472747802734375,
          29.785430908203125,
          62.7520751953125,
          112.65802001953125,
          210.01083374023438,
          412.00714111328125,
          745.9451293945312,
          1151.072021484375,
          1616.9173583984375,
          1967.1197509765625,
          2114.046875,
          1855.343994140625,
          1506.4278564453125,
          1188.3458251953125,
          816.564697265625,
          522.944091796875,
          333.0565185546875,
          194.63623046875,
          84.56991577148438,
          12.71905517578125,
          -1.02191162109375,
          -10.22772216796875,
          20.23114013671875,
          80.9647216796875,
          101.06124877929688,
          189.38726806640625,
          185.7999267578125,
          166.64035034179688,
          133.95852661132812,
          295.8293762207031,
          301.38616943359375,
          214.4564208984375,
          213.13479614257812,
          385.605712890625,
          741.2711181640625,
          1113.2666015625,
          1309.6241455078125,
          1696.3193359375,
          1570.753662109375,
          1432.0284423828125,
          1149.85791015625,
          898.6071166992188,
          665.1148071289062,
          457.76287841796875,
          285.46923828125,
          158.92193603515625,
          62.715423583984375,
          15.26959228515625,
          -11.93084716796875,
          -41.14166259765625,
          -58.78271484375,
          -70.25347900390625,
          -77.641845703125,
          -79.415771484375,
          -74.01031494140625,
          -58.6553955078125,
          -28.021728515625,
          26.07244873046875,
          115.25521850585938,
          258.5452880859375,
          492.54345703125,
          873.1275634765625,
          1401.03076171875,
          1881.6356201171875,
          2068.18603515625,
          1982.2030029296875,
          1743.84619140625,
          1432.5362548828125,
          1097.7825927734375,
          779.990234375,
          510.7718505859375,
          305.1539306640625,
          163.16921997070312,
          75.70492553710938,
          30.012237548828125,
          12.7406005859375,
          12.257080078125,
          19.96734619140625,
          30.528900146484375,
          43.6810302734375,
          61.510894775390625,
          82.82955932617188,
          102.83993530273438,
          116.84234619140625,
          122.8675537109375,
          122.33145141601562,
          120.33541870117188
         ]
        }
       ],
       "layout": {
        "font": {
         "color": "#7f7f7f",
         "family": "Courier New, monospace",
         "size": 16
        },
        "template": {
         "data": {
          "bar": [
           {
            "error_x": {
             "color": "#2a3f5f"
            },
            "error_y": {
             "color": "#2a3f5f"
            },
            "marker": {
             "line": {
              "color": "#E5ECF6",
              "width": 0.5
             }
            },
            "type": "bar"
           }
          ],
          "barpolar": [
           {
            "marker": {
             "line": {
              "color": "#E5ECF6",
              "width": 0.5
             }
            },
            "type": "barpolar"
           }
          ],
          "carpet": [
           {
            "aaxis": {
             "endlinecolor": "#2a3f5f",
             "gridcolor": "white",
             "linecolor": "white",
             "minorgridcolor": "white",
             "startlinecolor": "#2a3f5f"
            },
            "baxis": {
             "endlinecolor": "#2a3f5f",
             "gridcolor": "white",
             "linecolor": "white",
             "minorgridcolor": "white",
             "startlinecolor": "#2a3f5f"
            },
            "type": "carpet"
           }
          ],
          "choropleth": [
           {
            "colorbar": {
             "outlinewidth": 0,
             "ticks": ""
            },
            "type": "choropleth"
           }
          ],
          "contour": [
           {
            "colorbar": {
             "outlinewidth": 0,
             "ticks": ""
            },
            "colorscale": [
             [
              0,
              "#0d0887"
             ],
             [
              0.1111111111111111,
              "#46039f"
             ],
             [
              0.2222222222222222,
              "#7201a8"
             ],
             [
              0.3333333333333333,
              "#9c179e"
             ],
             [
              0.4444444444444444,
              "#bd3786"
             ],
             [
              0.5555555555555556,
              "#d8576b"
             ],
             [
              0.6666666666666666,
              "#ed7953"
             ],
             [
              0.7777777777777778,
              "#fb9f3a"
             ],
             [
              0.8888888888888888,
              "#fdca26"
             ],
             [
              1,
              "#f0f921"
             ]
            ],
            "type": "contour"
           }
          ],
          "contourcarpet": [
           {
            "colorbar": {
             "outlinewidth": 0,
             "ticks": ""
            },
            "type": "contourcarpet"
           }
          ],
          "heatmap": [
           {
            "colorbar": {
             "outlinewidth": 0,
             "ticks": ""
            },
            "colorscale": [
             [
              0,
              "#0d0887"
             ],
             [
              0.1111111111111111,
              "#46039f"
             ],
             [
              0.2222222222222222,
              "#7201a8"
             ],
             [
              0.3333333333333333,
              "#9c179e"
             ],
             [
              0.4444444444444444,
              "#bd3786"
             ],
             [
              0.5555555555555556,
              "#d8576b"
             ],
             [
              0.6666666666666666,
              "#ed7953"
             ],
             [
              0.7777777777777778,
              "#fb9f3a"
             ],
             [
              0.8888888888888888,
              "#fdca26"
             ],
             [
              1,
              "#f0f921"
             ]
            ],
            "type": "heatmap"
           }
          ],
          "heatmapgl": [
           {
            "colorbar": {
             "outlinewidth": 0,
             "ticks": ""
            },
            "colorscale": [
             [
              0,
              "#0d0887"
             ],
             [
              0.1111111111111111,
              "#46039f"
             ],
             [
              0.2222222222222222,
              "#7201a8"
             ],
             [
              0.3333333333333333,
              "#9c179e"
             ],
             [
              0.4444444444444444,
              "#bd3786"
             ],
             [
              0.5555555555555556,
              "#d8576b"
             ],
             [
              0.6666666666666666,
              "#ed7953"
             ],
             [
              0.7777777777777778,
              "#fb9f3a"
             ],
             [
              0.8888888888888888,
              "#fdca26"
             ],
             [
              1,
              "#f0f921"
             ]
            ],
            "type": "heatmapgl"
           }
          ],
          "histogram": [
           {
            "marker": {
             "colorbar": {
              "outlinewidth": 0,
              "ticks": ""
             }
            },
            "type": "histogram"
           }
          ],
          "histogram2d": [
           {
            "colorbar": {
             "outlinewidth": 0,
             "ticks": ""
            },
            "colorscale": [
             [
              0,
              "#0d0887"
             ],
             [
              0.1111111111111111,
              "#46039f"
             ],
             [
              0.2222222222222222,
              "#7201a8"
             ],
             [
              0.3333333333333333,
              "#9c179e"
             ],
             [
              0.4444444444444444,
              "#bd3786"
             ],
             [
              0.5555555555555556,
              "#d8576b"
             ],
             [
              0.6666666666666666,
              "#ed7953"
             ],
             [
              0.7777777777777778,
              "#fb9f3a"
             ],
             [
              0.8888888888888888,
              "#fdca26"
             ],
             [
              1,
              "#f0f921"
             ]
            ],
            "type": "histogram2d"
           }
          ],
          "histogram2dcontour": [
           {
            "colorbar": {
             "outlinewidth": 0,
             "ticks": ""
            },
            "colorscale": [
             [
              0,
              "#0d0887"
             ],
             [
              0.1111111111111111,
              "#46039f"
             ],
             [
              0.2222222222222222,
              "#7201a8"
             ],
             [
              0.3333333333333333,
              "#9c179e"
             ],
             [
              0.4444444444444444,
              "#bd3786"
             ],
             [
              0.5555555555555556,
              "#d8576b"
             ],
             [
              0.6666666666666666,
              "#ed7953"
             ],
             [
              0.7777777777777778,
              "#fb9f3a"
             ],
             [
              0.8888888888888888,
              "#fdca26"
             ],
             [
              1,
              "#f0f921"
             ]
            ],
            "type": "histogram2dcontour"
           }
          ],
          "mesh3d": [
           {
            "colorbar": {
             "outlinewidth": 0,
             "ticks": ""
            },
            "type": "mesh3d"
           }
          ],
          "parcoords": [
           {
            "line": {
             "colorbar": {
              "outlinewidth": 0,
              "ticks": ""
             }
            },
            "type": "parcoords"
           }
          ],
          "pie": [
           {
            "automargin": true,
            "type": "pie"
           }
          ],
          "scatter": [
           {
            "marker": {
             "colorbar": {
              "outlinewidth": 0,
              "ticks": ""
             }
            },
            "type": "scatter"
           }
          ],
          "scatter3d": [
           {
            "line": {
             "colorbar": {
              "outlinewidth": 0,
              "ticks": ""
             }
            },
            "marker": {
             "colorbar": {
              "outlinewidth": 0,
              "ticks": ""
             }
            },
            "type": "scatter3d"
           }
          ],
          "scattercarpet": [
           {
            "marker": {
             "colorbar": {
              "outlinewidth": 0,
              "ticks": ""
             }
            },
            "type": "scattercarpet"
           }
          ],
          "scattergeo": [
           {
            "marker": {
             "colorbar": {
              "outlinewidth": 0,
              "ticks": ""
             }
            },
            "type": "scattergeo"
           }
          ],
          "scattergl": [
           {
            "marker": {
             "colorbar": {
              "outlinewidth": 0,
              "ticks": ""
             }
            },
            "type": "scattergl"
           }
          ],
          "scattermapbox": [
           {
            "marker": {
             "colorbar": {
              "outlinewidth": 0,
              "ticks": ""
             }
            },
            "type": "scattermapbox"
           }
          ],
          "scatterpolar": [
           {
            "marker": {
             "colorbar": {
              "outlinewidth": 0,
              "ticks": ""
             }
            },
            "type": "scatterpolar"
           }
          ],
          "scatterpolargl": [
           {
            "marker": {
             "colorbar": {
              "outlinewidth": 0,
              "ticks": ""
             }
            },
            "type": "scatterpolargl"
           }
          ],
          "scatterternary": [
           {
            "marker": {
             "colorbar": {
              "outlinewidth": 0,
              "ticks": ""
             }
            },
            "type": "scatterternary"
           }
          ],
          "surface": [
           {
            "colorbar": {
             "outlinewidth": 0,
             "ticks": ""
            },
            "colorscale": [
             [
              0,
              "#0d0887"
             ],
             [
              0.1111111111111111,
              "#46039f"
             ],
             [
              0.2222222222222222,
              "#7201a8"
             ],
             [
              0.3333333333333333,
              "#9c179e"
             ],
             [
              0.4444444444444444,
              "#bd3786"
             ],
             [
              0.5555555555555556,
              "#d8576b"
             ],
             [
              0.6666666666666666,
              "#ed7953"
             ],
             [
              0.7777777777777778,
              "#fb9f3a"
             ],
             [
              0.8888888888888888,
              "#fdca26"
             ],
             [
              1,
              "#f0f921"
             ]
            ],
            "type": "surface"
           }
          ],
          "table": [
           {
            "cells": {
             "fill": {
              "color": "#EBF0F8"
             },
             "line": {
              "color": "white"
             }
            },
            "header": {
             "fill": {
              "color": "#C8D4E3"
             },
             "line": {
              "color": "white"
             }
            },
            "type": "table"
           }
          ]
         },
         "layout": {
          "annotationdefaults": {
           "arrowcolor": "#2a3f5f",
           "arrowhead": 0,
           "arrowwidth": 1
          },
          "coloraxis": {
           "colorbar": {
            "outlinewidth": 0,
            "ticks": ""
           }
          },
          "colorscale": {
           "diverging": [
            [
             0,
             "#8e0152"
            ],
            [
             0.1,
             "#c51b7d"
            ],
            [
             0.2,
             "#de77ae"
            ],
            [
             0.3,
             "#f1b6da"
            ],
            [
             0.4,
             "#fde0ef"
            ],
            [
             0.5,
             "#f7f7f7"
            ],
            [
             0.6,
             "#e6f5d0"
            ],
            [
             0.7,
             "#b8e186"
            ],
            [
             0.8,
             "#7fbc41"
            ],
            [
             0.9,
             "#4d9221"
            ],
            [
             1,
             "#276419"
            ]
           ],
           "sequential": [
            [
             0,
             "#0d0887"
            ],
            [
             0.1111111111111111,
             "#46039f"
            ],
            [
             0.2222222222222222,
             "#7201a8"
            ],
            [
             0.3333333333333333,
             "#9c179e"
            ],
            [
             0.4444444444444444,
             "#bd3786"
            ],
            [
             0.5555555555555556,
             "#d8576b"
            ],
            [
             0.6666666666666666,
             "#ed7953"
            ],
            [
             0.7777777777777778,
             "#fb9f3a"
            ],
            [
             0.8888888888888888,
             "#fdca26"
            ],
            [
             1,
             "#f0f921"
            ]
           ],
           "sequentialminus": [
            [
             0,
             "#0d0887"
            ],
            [
             0.1111111111111111,
             "#46039f"
            ],
            [
             0.2222222222222222,
             "#7201a8"
            ],
            [
             0.3333333333333333,
             "#9c179e"
            ],
            [
             0.4444444444444444,
             "#bd3786"
            ],
            [
             0.5555555555555556,
             "#d8576b"
            ],
            [
             0.6666666666666666,
             "#ed7953"
            ],
            [
             0.7777777777777778,
             "#fb9f3a"
            ],
            [
             0.8888888888888888,
             "#fdca26"
            ],
            [
             1,
             "#f0f921"
            ]
           ]
          },
          "colorway": [
           "#636efa",
           "#EF553B",
           "#00cc96",
           "#ab63fa",
           "#FFA15A",
           "#19d3f3",
           "#FF6692",
           "#B6E880",
           "#FF97FF",
           "#FECB52"
          ],
          "font": {
           "color": "#2a3f5f"
          },
          "geo": {
           "bgcolor": "white",
           "lakecolor": "white",
           "landcolor": "#E5ECF6",
           "showlakes": true,
           "showland": true,
           "subunitcolor": "white"
          },
          "hoverlabel": {
           "align": "left"
          },
          "hovermode": "closest",
          "mapbox": {
           "style": "light"
          },
          "paper_bgcolor": "white",
          "plot_bgcolor": "#E5ECF6",
          "polar": {
           "angularaxis": {
            "gridcolor": "white",
            "linecolor": "white",
            "ticks": ""
           },
           "bgcolor": "#E5ECF6",
           "radialaxis": {
            "gridcolor": "white",
            "linecolor": "white",
            "ticks": ""
           }
          },
          "scene": {
           "xaxis": {
            "backgroundcolor": "#E5ECF6",
            "gridcolor": "white",
            "gridwidth": 2,
            "linecolor": "white",
            "showbackground": true,
            "ticks": "",
            "zerolinecolor": "white"
           },
           "yaxis": {
            "backgroundcolor": "#E5ECF6",
            "gridcolor": "white",
            "gridwidth": 2,
            "linecolor": "white",
            "showbackground": true,
            "ticks": "",
            "zerolinecolor": "white"
           },
           "zaxis": {
            "backgroundcolor": "#E5ECF6",
            "gridcolor": "white",
            "gridwidth": 2,
            "linecolor": "white",
            "showbackground": true,
            "ticks": "",
            "zerolinecolor": "white"
           }
          },
          "shapedefaults": {
           "line": {
            "color": "#2a3f5f"
           }
          },
          "ternary": {
           "aaxis": {
            "gridcolor": "white",
            "linecolor": "white",
            "ticks": ""
           },
           "baxis": {
            "gridcolor": "white",
            "linecolor": "white",
            "ticks": ""
           },
           "bgcolor": "#E5ECF6",
           "caxis": {
            "gridcolor": "white",
            "linecolor": "white",
            "ticks": ""
           }
          },
          "title": {
           "x": 0.05
          },
          "xaxis": {
           "automargin": true,
           "gridcolor": "white",
           "linecolor": "white",
           "ticks": "",
           "title": {
            "standoff": 15
           },
           "zerolinecolor": "white",
           "zerolinewidth": 2
          },
          "yaxis": {
           "automargin": true,
           "gridcolor": "white",
           "linecolor": "white",
           "ticks": "",
           "title": {
            "standoff": 15
           },
           "zerolinecolor": "white",
           "zerolinewidth": 2
          }
         }
        },
        "title": {
         "text": "Forecast of test set"
        },
        "xaxis": {
         "title": {
          "text": "Time steps"
         }
        },
        "yaxis": {
         "title": {
          "text": "Prediction"
         }
        }
       }
      },
      "text/html": [
       "<div>\n",
       "        \n",
       "        \n",
       "            <div id=\"f1f34c97-7098-4193-887e-3b8e332a2cdf\" class=\"plotly-graph-div\" style=\"height:525px; width:100%;\"></div>\n",
       "            <script type=\"text/javascript\">\n",
       "                require([\"plotly\"], function(Plotly) {\n",
       "                    window.PLOTLYENV=window.PLOTLYENV || {};\n",
       "                    \n",
       "                if (document.getElementById(\"f1f34c97-7098-4193-887e-3b8e332a2cdf\")) {\n",
       "                    Plotly.newPlot(\n",
       "                        'f1f34c97-7098-4193-887e-3b8e332a2cdf',\n",
       "                        [{\"mode\": \"lines\", \"name\": \"GT\", \"type\": \"scatter\", \"x\": [0, 1, 2, 3, 4, 5, 6, 7, 8, 9, 10, 11, 12, 13, 14, 15, 16, 17, 18, 19, 20, 21, 22, 23, 24, 25, 26, 27, 28, 29, 30, 31, 32, 33, 34, 35, 36], \"y\": [2.0, 14.0, 10.0, 7.0, 6.0, 72.0, 36.00000000000006, 135.0, 131.0, 107.0, 48.99999999999994, 1083.0, 2365.0, 3040.0, 1972.0, 1832.0, 1706.0, 1012.0, 589.0, 480.0, 223.0, 183.0, 52.0, 19.0, 21.0, 14.0, 14.0, 20.0, 7.0, 9.0, 9.0, 7.0, 6.0, 2336.0, 1428.0, 198.0, 99.99999999999994, 82.0]}, {\"mode\": \"lines\", \"name\": \"LSTM\", \"type\": \"scatter\", \"x\": [0, 1, 2, 3, 4, 5, 6, 7, 8, 9, 10, 11, 12, 13, 14, 15, 16, 17, 18, 19, 20, 21, 22, 23, 24, 25, 26, 27, 28, 29, 30, 31, 32, 33, 34, 35, 36], \"y\": [563.9902954101562, 510.57000732421875, 465.6328125, 432.8050537109375, 423.646484375, 443.666748046875, 491.91778564453125, 565.6316528320312, 681.7740478515625, 843.0724487304688, 1018.0821533203125, 1159.544677734375, 1324.60986328125, 1512.45458984375, 1624.5687255859375, 1549.559814453125, 1369.9599609375, 1166.1346435546875, 880.027099609375, 612.04638671875, 423.5731201171875, 285.5777893066406, 176.61676025390625, 89.329345703125, 26.746429443359375, -13.94256591796875, -36.8521728515625, -15.55303955078125, -32.30810546875, -3.78070068359375, -18.14788818359375, -9.86846923828125, 12.63995361328125, 252.1888427734375, 377.53973388671875, 511.0628967285156, 695.3710327148438, 918.9326171875, 1189.9775390625, 1340.09619140625, 1378.092041015625, 1642.20849609375, 1589.24462890625, 1454.129150390625, 1239.736083984375, 1006.1050415039062, 739.0098876953125, 521.702392578125, 355.21124267578125, 225.80145263671875, 120.74688720703125, 45.662353515625, -3.96038818359375, -31.9390869140625, -39.99462890625, -46.8746337890625, -51.43756103515625, -51.80029296875, -46.06903076171875, -35.71295166015625, -18.12811279296875, 15.72088623046875, 79.3828125, 189.86709594726562, 371.15521240234375, 652.9005737304688, 1028.886474609375, 1408.0546875, 1665.9154052734375, 1716.4334716796875, 1606.92578125, 1406.1873779296875, 1141.0986328125, 851.3939208984375, 599.7564086914062, 414.90350341796875, 280.088623046875, 175.67037963867188, 95.20016479492188, 35.534027099609375, -6.20770263671875, -31.50091552734375, -43.8458251953125, -49.81298828125, -53.748291015625, -53.31689453125, -47.0015869140625, -36.2059326171875, -17.96990966796875, 16.99713134765625, 82.364013671875]}, {\"mode\": \"lines\", \"name\": \"Exo-LSTM\", \"type\": \"scatter\", \"x\": [0, 1, 2, 3, 4, 5, 6, 7, 8, 9, 10, 11, 12, 13, 14, 15, 16, 17, 18, 19, 20, 21, 22, 23, 24, 25, 26, 27, 28, 29, 30, 31, 32, 33, 34, 35, 36], \"y\": [372.23870849609375, 206.56283569335938, 115.45944213867188, 58.04010009765625, 22.472747802734375, 29.785430908203125, 62.7520751953125, 112.65802001953125, 210.01083374023438, 412.00714111328125, 745.9451293945312, 1151.072021484375, 1616.9173583984375, 1967.1197509765625, 2114.046875, 1855.343994140625, 1506.4278564453125, 1188.3458251953125, 816.564697265625, 522.944091796875, 333.0565185546875, 194.63623046875, 84.56991577148438, 12.71905517578125, -1.02191162109375, -10.22772216796875, 20.23114013671875, 80.9647216796875, 101.06124877929688, 189.38726806640625, 185.7999267578125, 166.64035034179688, 133.95852661132812, 295.8293762207031, 301.38616943359375, 214.4564208984375, 213.13479614257812, 385.605712890625, 741.2711181640625, 1113.2666015625, 1309.6241455078125, 1696.3193359375, 1570.753662109375, 1432.0284423828125, 1149.85791015625, 898.6071166992188, 665.1148071289062, 457.76287841796875, 285.46923828125, 158.92193603515625, 62.715423583984375, 15.26959228515625, -11.93084716796875, -41.14166259765625, -58.78271484375, -70.25347900390625, -77.641845703125, -79.415771484375, -74.01031494140625, -58.6553955078125, -28.021728515625, 26.07244873046875, 115.25521850585938, 258.5452880859375, 492.54345703125, 873.1275634765625, 1401.03076171875, 1881.6356201171875, 2068.18603515625, 1982.2030029296875, 1743.84619140625, 1432.5362548828125, 1097.7825927734375, 779.990234375, 510.7718505859375, 305.1539306640625, 163.16921997070312, 75.70492553710938, 30.012237548828125, 12.7406005859375, 12.257080078125, 19.96734619140625, 30.528900146484375, 43.6810302734375, 61.510894775390625, 82.82955932617188, 102.83993530273438, 116.84234619140625, 122.8675537109375, 122.33145141601562, 120.33541870117188]}],\n",
       "                        {\"font\": {\"color\": \"#7f7f7f\", \"family\": \"Courier New, monospace\", \"size\": 16}, \"template\": {\"data\": {\"bar\": [{\"error_x\": {\"color\": \"#2a3f5f\"}, \"error_y\": {\"color\": \"#2a3f5f\"}, \"marker\": {\"line\": {\"color\": \"#E5ECF6\", \"width\": 0.5}}, \"type\": \"bar\"}], \"barpolar\": [{\"marker\": {\"line\": {\"color\": \"#E5ECF6\", \"width\": 0.5}}, \"type\": \"barpolar\"}], \"carpet\": [{\"aaxis\": {\"endlinecolor\": \"#2a3f5f\", \"gridcolor\": \"white\", \"linecolor\": \"white\", \"minorgridcolor\": \"white\", \"startlinecolor\": \"#2a3f5f\"}, \"baxis\": {\"endlinecolor\": \"#2a3f5f\", \"gridcolor\": \"white\", \"linecolor\": \"white\", \"minorgridcolor\": \"white\", \"startlinecolor\": \"#2a3f5f\"}, \"type\": \"carpet\"}], \"choropleth\": [{\"colorbar\": {\"outlinewidth\": 0, \"ticks\": \"\"}, \"type\": \"choropleth\"}], \"contour\": [{\"colorbar\": {\"outlinewidth\": 0, \"ticks\": \"\"}, \"colorscale\": [[0.0, \"#0d0887\"], [0.1111111111111111, \"#46039f\"], [0.2222222222222222, \"#7201a8\"], [0.3333333333333333, \"#9c179e\"], [0.4444444444444444, \"#bd3786\"], [0.5555555555555556, \"#d8576b\"], [0.6666666666666666, \"#ed7953\"], [0.7777777777777778, \"#fb9f3a\"], [0.8888888888888888, \"#fdca26\"], [1.0, \"#f0f921\"]], \"type\": \"contour\"}], \"contourcarpet\": [{\"colorbar\": {\"outlinewidth\": 0, \"ticks\": \"\"}, \"type\": \"contourcarpet\"}], \"heatmap\": [{\"colorbar\": {\"outlinewidth\": 0, \"ticks\": \"\"}, \"colorscale\": [[0.0, \"#0d0887\"], [0.1111111111111111, \"#46039f\"], [0.2222222222222222, \"#7201a8\"], [0.3333333333333333, \"#9c179e\"], [0.4444444444444444, \"#bd3786\"], [0.5555555555555556, \"#d8576b\"], [0.6666666666666666, \"#ed7953\"], [0.7777777777777778, \"#fb9f3a\"], [0.8888888888888888, \"#fdca26\"], [1.0, \"#f0f921\"]], \"type\": \"heatmap\"}], \"heatmapgl\": [{\"colorbar\": {\"outlinewidth\": 0, \"ticks\": \"\"}, \"colorscale\": [[0.0, \"#0d0887\"], [0.1111111111111111, \"#46039f\"], [0.2222222222222222, \"#7201a8\"], [0.3333333333333333, \"#9c179e\"], [0.4444444444444444, \"#bd3786\"], [0.5555555555555556, \"#d8576b\"], [0.6666666666666666, \"#ed7953\"], [0.7777777777777778, \"#fb9f3a\"], [0.8888888888888888, \"#fdca26\"], [1.0, \"#f0f921\"]], \"type\": \"heatmapgl\"}], \"histogram\": [{\"marker\": {\"colorbar\": {\"outlinewidth\": 0, \"ticks\": \"\"}}, \"type\": \"histogram\"}], \"histogram2d\": [{\"colorbar\": {\"outlinewidth\": 0, \"ticks\": \"\"}, \"colorscale\": [[0.0, \"#0d0887\"], [0.1111111111111111, \"#46039f\"], [0.2222222222222222, \"#7201a8\"], [0.3333333333333333, \"#9c179e\"], [0.4444444444444444, \"#bd3786\"], [0.5555555555555556, \"#d8576b\"], [0.6666666666666666, \"#ed7953\"], [0.7777777777777778, \"#fb9f3a\"], [0.8888888888888888, \"#fdca26\"], [1.0, \"#f0f921\"]], \"type\": \"histogram2d\"}], \"histogram2dcontour\": [{\"colorbar\": {\"outlinewidth\": 0, \"ticks\": \"\"}, \"colorscale\": [[0.0, \"#0d0887\"], [0.1111111111111111, \"#46039f\"], [0.2222222222222222, \"#7201a8\"], [0.3333333333333333, \"#9c179e\"], [0.4444444444444444, \"#bd3786\"], [0.5555555555555556, \"#d8576b\"], [0.6666666666666666, \"#ed7953\"], [0.7777777777777778, \"#fb9f3a\"], [0.8888888888888888, \"#fdca26\"], [1.0, \"#f0f921\"]], \"type\": \"histogram2dcontour\"}], \"mesh3d\": [{\"colorbar\": {\"outlinewidth\": 0, \"ticks\": \"\"}, \"type\": \"mesh3d\"}], \"parcoords\": [{\"line\": {\"colorbar\": {\"outlinewidth\": 0, \"ticks\": \"\"}}, \"type\": \"parcoords\"}], \"pie\": [{\"automargin\": true, \"type\": \"pie\"}], \"scatter\": [{\"marker\": {\"colorbar\": {\"outlinewidth\": 0, \"ticks\": \"\"}}, \"type\": \"scatter\"}], \"scatter3d\": [{\"line\": {\"colorbar\": {\"outlinewidth\": 0, \"ticks\": \"\"}}, \"marker\": {\"colorbar\": {\"outlinewidth\": 0, \"ticks\": \"\"}}, \"type\": \"scatter3d\"}], \"scattercarpet\": [{\"marker\": {\"colorbar\": {\"outlinewidth\": 0, \"ticks\": \"\"}}, \"type\": \"scattercarpet\"}], \"scattergeo\": [{\"marker\": {\"colorbar\": {\"outlinewidth\": 0, \"ticks\": \"\"}}, \"type\": \"scattergeo\"}], \"scattergl\": [{\"marker\": {\"colorbar\": {\"outlinewidth\": 0, \"ticks\": \"\"}}, \"type\": \"scattergl\"}], \"scattermapbox\": [{\"marker\": {\"colorbar\": {\"outlinewidth\": 0, \"ticks\": \"\"}}, \"type\": \"scattermapbox\"}], \"scatterpolar\": [{\"marker\": {\"colorbar\": {\"outlinewidth\": 0, \"ticks\": \"\"}}, \"type\": \"scatterpolar\"}], \"scatterpolargl\": [{\"marker\": {\"colorbar\": {\"outlinewidth\": 0, \"ticks\": \"\"}}, \"type\": \"scatterpolargl\"}], \"scatterternary\": [{\"marker\": {\"colorbar\": {\"outlinewidth\": 0, \"ticks\": \"\"}}, \"type\": \"scatterternary\"}], \"surface\": [{\"colorbar\": {\"outlinewidth\": 0, \"ticks\": \"\"}, \"colorscale\": [[0.0, \"#0d0887\"], [0.1111111111111111, \"#46039f\"], [0.2222222222222222, \"#7201a8\"], [0.3333333333333333, \"#9c179e\"], [0.4444444444444444, \"#bd3786\"], [0.5555555555555556, \"#d8576b\"], [0.6666666666666666, \"#ed7953\"], [0.7777777777777778, \"#fb9f3a\"], [0.8888888888888888, \"#fdca26\"], [1.0, \"#f0f921\"]], \"type\": \"surface\"}], \"table\": [{\"cells\": {\"fill\": {\"color\": \"#EBF0F8\"}, \"line\": {\"color\": \"white\"}}, \"header\": {\"fill\": {\"color\": \"#C8D4E3\"}, \"line\": {\"color\": \"white\"}}, \"type\": \"table\"}]}, \"layout\": {\"annotationdefaults\": {\"arrowcolor\": \"#2a3f5f\", \"arrowhead\": 0, \"arrowwidth\": 1}, \"coloraxis\": {\"colorbar\": {\"outlinewidth\": 0, \"ticks\": \"\"}}, \"colorscale\": {\"diverging\": [[0, \"#8e0152\"], [0.1, \"#c51b7d\"], [0.2, \"#de77ae\"], [0.3, \"#f1b6da\"], [0.4, \"#fde0ef\"], [0.5, \"#f7f7f7\"], [0.6, \"#e6f5d0\"], [0.7, \"#b8e186\"], [0.8, \"#7fbc41\"], [0.9, \"#4d9221\"], [1, \"#276419\"]], \"sequential\": [[0.0, \"#0d0887\"], [0.1111111111111111, \"#46039f\"], [0.2222222222222222, \"#7201a8\"], [0.3333333333333333, \"#9c179e\"], [0.4444444444444444, \"#bd3786\"], [0.5555555555555556, \"#d8576b\"], [0.6666666666666666, \"#ed7953\"], [0.7777777777777778, \"#fb9f3a\"], [0.8888888888888888, \"#fdca26\"], [1.0, \"#f0f921\"]], \"sequentialminus\": [[0.0, \"#0d0887\"], [0.1111111111111111, \"#46039f\"], [0.2222222222222222, \"#7201a8\"], [0.3333333333333333, \"#9c179e\"], [0.4444444444444444, \"#bd3786\"], [0.5555555555555556, \"#d8576b\"], [0.6666666666666666, \"#ed7953\"], [0.7777777777777778, \"#fb9f3a\"], [0.8888888888888888, \"#fdca26\"], [1.0, \"#f0f921\"]]}, \"colorway\": [\"#636efa\", \"#EF553B\", \"#00cc96\", \"#ab63fa\", \"#FFA15A\", \"#19d3f3\", \"#FF6692\", \"#B6E880\", \"#FF97FF\", \"#FECB52\"], \"font\": {\"color\": \"#2a3f5f\"}, \"geo\": {\"bgcolor\": \"white\", \"lakecolor\": \"white\", \"landcolor\": \"#E5ECF6\", \"showlakes\": true, \"showland\": true, \"subunitcolor\": \"white\"}, \"hoverlabel\": {\"align\": \"left\"}, \"hovermode\": \"closest\", \"mapbox\": {\"style\": \"light\"}, \"paper_bgcolor\": \"white\", \"plot_bgcolor\": \"#E5ECF6\", \"polar\": {\"angularaxis\": {\"gridcolor\": \"white\", \"linecolor\": \"white\", \"ticks\": \"\"}, \"bgcolor\": \"#E5ECF6\", \"radialaxis\": {\"gridcolor\": \"white\", \"linecolor\": \"white\", \"ticks\": \"\"}}, \"scene\": {\"xaxis\": {\"backgroundcolor\": \"#E5ECF6\", \"gridcolor\": \"white\", \"gridwidth\": 2, \"linecolor\": \"white\", \"showbackground\": true, \"ticks\": \"\", \"zerolinecolor\": \"white\"}, \"yaxis\": {\"backgroundcolor\": \"#E5ECF6\", \"gridcolor\": \"white\", \"gridwidth\": 2, \"linecolor\": \"white\", \"showbackground\": true, \"ticks\": \"\", \"zerolinecolor\": \"white\"}, \"zaxis\": {\"backgroundcolor\": \"#E5ECF6\", \"gridcolor\": \"white\", \"gridwidth\": 2, \"linecolor\": \"white\", \"showbackground\": true, \"ticks\": \"\", \"zerolinecolor\": \"white\"}}, \"shapedefaults\": {\"line\": {\"color\": \"#2a3f5f\"}}, \"ternary\": {\"aaxis\": {\"gridcolor\": \"white\", \"linecolor\": \"white\", \"ticks\": \"\"}, \"baxis\": {\"gridcolor\": \"white\", \"linecolor\": \"white\", \"ticks\": \"\"}, \"bgcolor\": \"#E5ECF6\", \"caxis\": {\"gridcolor\": \"white\", \"linecolor\": \"white\", \"ticks\": \"\"}}, \"title\": {\"x\": 0.05}, \"xaxis\": {\"automargin\": true, \"gridcolor\": \"white\", \"linecolor\": \"white\", \"ticks\": \"\", \"title\": {\"standoff\": 15}, \"zerolinecolor\": \"white\", \"zerolinewidth\": 2}, \"yaxis\": {\"automargin\": true, \"gridcolor\": \"white\", \"linecolor\": \"white\", \"ticks\": \"\", \"title\": {\"standoff\": 15}, \"zerolinecolor\": \"white\", \"zerolinewidth\": 2}}}, \"title\": {\"text\": \"Forecast of test set\"}, \"xaxis\": {\"title\": {\"text\": \"Time steps\"}}, \"yaxis\": {\"title\": {\"text\": \"Prediction\"}}},\n",
       "                        {\"responsive\": true}\n",
       "                    ).then(function(){\n",
       "                            \n",
       "var gd = document.getElementById('f1f34c97-7098-4193-887e-3b8e332a2cdf');\n",
       "var x = new MutationObserver(function (mutations, observer) {{\n",
       "        var display = window.getComputedStyle(gd).display;\n",
       "        if (!display || display === 'none') {{\n",
       "            console.log([gd, 'removed!']);\n",
       "            Plotly.purge(gd);\n",
       "            observer.disconnect();\n",
       "        }}\n",
       "}});\n",
       "\n",
       "// Listen for the removal of the full notebook cells\n",
       "var notebookContainer = gd.closest('#notebook-container');\n",
       "if (notebookContainer) {{\n",
       "    x.observe(notebookContainer, {childList: true});\n",
       "}}\n",
       "\n",
       "// Listen for the clearing of the current output cell\n",
       "var outputEl = gd.closest('.output');\n",
       "if (outputEl) {{\n",
       "    x.observe(outputEl, {childList: true});\n",
       "}}\n",
       "\n",
       "                        })\n",
       "                };\n",
       "                });\n",
       "            </script>\n",
       "        </div>"
      ]
     },
     "metadata": {},
     "output_type": "display_data"
    },
    {
     "name": "stdout",
     "output_type": "stream",
     "text": [
      "\n",
      "Run # 2\n",
      "Default input features: [0, 3]\n",
      "Input features with exogenous data: [0, 2, 3, 11, 13]\n",
      "Inputs for training\n",
      "(65, 54, 2)\n",
      "Outputs for training\n",
      "(65, 38, 2)\n",
      "Inputs for testing\n",
      "(1, 54, 2)\n",
      "Outputs for testing\n",
      "(1, 38, 2)\n",
      "\n",
      "\n",
      "Inputs for training\n",
      "(65, 54, 5)\n",
      "Outputs for training\n",
      "(65, 38, 5)\n",
      "Inputs for testing\n",
      "(1, 54, 5)\n",
      "Outputs for testing\n",
      "(1, 38, 5)\n",
      "\n",
      "\n",
      "Running Drift and Seasonal Drift models based on STL Decomposition...\n",
      "Training the default LSTM model...\n",
      "Epoch 1 Train loss: 1.20. Validation loss: 1.18. Avg future: 23.40. Elapsed time: 0.50s.\n",
      "Epoch 2 Train loss: 1.16. Validation loss: 1.13. Avg future: 15.80. Elapsed time: 0.75s.\n",
      "Epoch 3 Train loss: 1.11. Validation loss: 1.08. Avg future: 17.00. Elapsed time: 0.32s.\n",
      "Epoch 4 Train loss: 1.07. Validation loss: 1.03. Avg future: 18.80. Elapsed time: 0.31s.\n",
      "Epoch 5 Train loss: 1.03. Validation loss: 0.98. Avg future: 28.80. Elapsed time: 0.31s.\n",
      "Epoch 6 Train loss: 0.97. Validation loss: 0.91. Avg future: 29.20. Elapsed time: 0.30s.\n",
      "Epoch 7 Train loss: 0.89. Validation loss: 0.83. Avg future: 16.20. Elapsed time: 0.31s.\n",
      "Epoch 8 Train loss: 0.82. Validation loss: 0.74. Avg future: 23.00. Elapsed time: 0.64s.\n",
      "Epoch 9 Train loss: 0.70. Validation loss: 0.61. Avg future: 16.00. Elapsed time: 0.49s.\n",
      "Epoch 10 Train loss: 0.55. Validation loss: 0.46. Avg future: 21.00. Elapsed time: 0.79s.\n",
      "Epoch 11 Train loss: 0.41. Validation loss: 0.35. Avg future: 15.60. Elapsed time: 0.34s.\n",
      "Epoch 12 Train loss: 0.32. Validation loss: 0.31. Avg future: 24.20. Elapsed time: 0.31s.\n",
      "Epoch 13 Train loss: 0.30. Validation loss: 0.29. Avg future: 12.80. Elapsed time: 0.91s.\n",
      "Epoch 14 Train loss: 0.28. Validation loss: 0.26. Avg future: 25.00. Elapsed time: 0.44s.\n",
      "Epoch 15 Train loss: 0.25. Validation loss: 0.25. Avg future: 23.40. Elapsed time: 0.32s.\n",
      "Epoch 16 Train loss: 0.24. Validation loss: 0.24. Avg future: 21.60. Elapsed time: 0.31s.\n",
      "Epoch 17 Train loss: 0.23. Validation loss: 0.24. Avg future: 21.80. Elapsed time: 0.35s.\n",
      "Epoch 18 Train loss: 0.24. Validation loss: 0.23. Avg future: 22.00. Elapsed time: 0.40s.\n",
      "Epoch 19 Train loss: 0.23. Validation loss: 0.23. Avg future: 27.20. Elapsed time: 0.74s.\n",
      "Epoch 20 Train loss: 0.23. Validation loss: 0.22. Avg future: 21.00. Elapsed time: 0.57s.\n",
      "Done\n",
      "\n",
      "Training the augmented Exo-LSTM model...\n",
      "Epoch 1 Train loss: 1.03. Validation loss: 0.99. Avg future: 18.20. Elapsed time: 0.76s.\n",
      "Epoch 2 Train loss: 0.98. Validation loss: 0.93. Avg future: 24.20. Elapsed time: 0.98s.\n",
      "Epoch 3 Train loss: 0.92. Validation loss: 0.86. Avg future: 20.80. Elapsed time: 0.92s.\n",
      "Epoch 4 Train loss: 0.84. Validation loss: 0.78. Avg future: 21.80. Elapsed time: 0.56s.\n",
      "Epoch 5 Train loss: 0.78. Validation loss: 0.70. Avg future: 31.80. Elapsed time: 0.89s.\n",
      "Epoch 6 Train loss: 0.69. Validation loss: 0.61. Avg future: 29.40. Elapsed time: 0.84s.\n",
      "Epoch 7 Train loss: 0.59. Validation loss: 0.54. Avg future: 15.80. Elapsed time: 0.82s.\n",
      "Epoch 8 Train loss: 0.51. Validation loss: 0.47. Avg future: 9.40. Elapsed time: 0.58s.\n",
      "Epoch 9 Train loss: 0.45. Validation loss: 0.44. Avg future: 27.60. Elapsed time: 0.60s.\n",
      "Epoch 10 Train loss: 0.44. Validation loss: 0.43. Avg future: 25.00. Elapsed time: 0.85s.\n",
      "Epoch 11 Train loss: 0.42. Validation loss: 0.42. Avg future: 13.00. Elapsed time: 0.77s.\n",
      "Epoch 12 Train loss: 0.41. Validation loss: 0.41. Avg future: 15.00. Elapsed time: 0.47s.\n",
      "Epoch 13 Train loss: 0.41. Validation loss: 0.41. Avg future: 38.00. Elapsed time: 0.52s.\n",
      "Epoch 14 Train loss: 0.40. Validation loss: 0.40. Avg future: 24.80. Elapsed time: 0.94s.\n",
      "Epoch 15 Train loss: 0.42. Validation loss: 0.40. Avg future: 26.00. Elapsed time: 0.66s.\n",
      "Epoch 16 Train loss: 0.40. Validation loss: 0.39. Avg future: 27.80. Elapsed time: 1.43s.\n",
      "Epoch 17 Train loss: 0.39. Validation loss: 0.39. Avg future: 24.00. Elapsed time: 1.26s.\n",
      "Epoch 18 Train loss: 0.39. Validation loss: 0.39. Avg future: 23.00. Elapsed time: 0.69s.\n",
      "Epoch 19 Train loss: 0.38. Validation loss: 0.38. Avg future: 17.40. Elapsed time: 1.17s.\n",
      "Epoch 20 Train loss: 0.38. Validation loss: 0.38. Avg future: 28.40. Elapsed time: 0.49s.\n",
      "Epoch 21 Train loss: 0.38. Validation loss: 0.37. Avg future: 30.60. Elapsed time: 1.18s.\n",
      "Epoch 22 Train loss: 0.38. Validation loss: 0.37. Avg future: 26.40. Elapsed time: 0.50s.\n",
      "Epoch 23 Train loss: 0.37. Validation loss: 0.37. Avg future: 23.80. Elapsed time: 0.49s.\n",
      "Epoch 24 Train loss: 0.37. Validation loss: 0.36. Avg future: 23.80. Elapsed time: 0.48s.\n",
      "Epoch 25 Train loss: 0.36. Validation loss: 0.36. Avg future: 34.20. Elapsed time: 0.48s.\n",
      "Epoch 26 Train loss: 0.36. Validation loss: 0.36. Avg future: 22.80. Elapsed time: 0.66s.\n",
      "Epoch 27 Train loss: 0.35. Validation loss: 0.36. Avg future: 34.40. Elapsed time: 0.49s.\n",
      "Epoch 28 Train loss: 0.36. Validation loss: 0.36. Avg future: 16.60. Elapsed time: 0.47s.\n",
      "Epoch 29 Train loss: 0.35. Validation loss: 0.36. Avg future: 18.80. Elapsed time: 0.88s.\n",
      "Epoch 30 Train loss: 0.35. Validation loss: 0.36. Avg future: 29.40. Elapsed time: 0.66s.\n",
      "Epoch 31 Train loss: 0.35. Validation loss: 0.36. Avg future: 25.00. Elapsed time: 0.62s.\n",
      "Epoch 32 Train loss: 0.35. Validation loss: 0.36. Avg future: 25.00. Elapsed time: 0.84s.\n",
      "Epoch 33 Train loss: 0.35. Validation loss: 0.35. Avg future: 16.60. Elapsed time: 0.48s.\n",
      "Epoch 34 Train loss: 0.35. Validation loss: 0.35. Avg future: 22.40. Elapsed time: 0.61s.\n",
      "Epoch 35 Train loss: 0.35. Validation loss: 0.35. Avg future: 20.80. Elapsed time: 0.67s.\n",
      "Epoch 36 Train loss: 0.35. Validation loss: 0.35. Avg future: 23.00. Elapsed time: 0.55s.\n",
      "Epoch 37 Train loss: 0.35. Validation loss: 0.35. Avg future: 19.20. Elapsed time: 0.74s.\n",
      "Epoch 38 Train loss: 0.35. Validation loss: 0.35. Avg future: 21.00. Elapsed time: 0.64s.\n",
      "Epoch 39 Train loss: 0.35. Validation loss: 0.35. Avg future: 29.00. Elapsed time: 0.76s.\n",
      "Epoch 40 Train loss: 0.35. Validation loss: 0.35. Avg future: 16.60. Elapsed time: 0.73s.\n",
      "Epoch 41 Train loss: 0.35. Validation loss: 0.35. Avg future: 21.60. Elapsed time: 0.70s.\n",
      "Epoch 42 Train loss: 0.35. Validation loss: 0.35. Avg future: 16.40. Elapsed time: 0.50s.\n",
      "Epoch 43 Train loss: 0.35. Validation loss: 0.35. Avg future: 24.40. Elapsed time: 0.49s.\n",
      "Epoch 44 Train loss: 0.35. Validation loss: 0.35. Avg future: 31.20. Elapsed time: 0.50s.\n",
      "Epoch 45 Train loss: 0.35. Validation loss: 0.35. Avg future: 23.40. Elapsed time: 0.48s.\n",
      "Epoch 46 Train loss: 0.35. Validation loss: 0.35. Avg future: 34.20. Elapsed time: 0.50s.\n",
      "Epoch 47 Train loss: 0.35. Validation loss: 0.35. Avg future: 20.20. Elapsed time: 0.53s.\n",
      "Epoch 48 Train loss: 0.35. Validation loss: 0.35. Avg future: 19.60. Elapsed time: 0.47s.\n",
      "Epoch 49 Train loss: 0.34. Validation loss: 0.35. Avg future: 22.60. Elapsed time: 0.46s.\n",
      "Epoch 50 Train loss: 0.34. Validation loss: 0.35. Avg future: 22.80. Elapsed time: 0.47s.\n",
      "Done\n",
      "\n"
     ]
    },
    {
     "data": {
      "application/vnd.plotly.v1+json": {
       "config": {
        "plotlyServerURL": "https://plot.ly"
       },
       "data": [
        {
         "mode": "lines",
         "name": "GT",
         "type": "scatter",
         "x": [
          0,
          1,
          2,
          3,
          4,
          5,
          6,
          7,
          8,
          9,
          10,
          11,
          12,
          13,
          14,
          15,
          16,
          17,
          18,
          19,
          20,
          21,
          22,
          23,
          24,
          25,
          26,
          27,
          28,
          29,
          30,
          31,
          32,
          33,
          34,
          35,
          36
         ],
         "y": [
          2,
          14,
          10,
          7,
          6,
          72,
          36.00000000000006,
          135,
          131,
          107,
          48.99999999999994,
          1083,
          2365,
          3040,
          1972,
          1832,
          1706,
          1012,
          589,
          480,
          223,
          183,
          52,
          19,
          21,
          14,
          14,
          20,
          7,
          9,
          9,
          7,
          6,
          2336,
          1428,
          198,
          99.99999999999994,
          82
         ]
        },
        {
         "mode": "lines",
         "name": "LSTM",
         "type": "scatter",
         "x": [
          0,
          1,
          2,
          3,
          4,
          5,
          6,
          7,
          8,
          9,
          10,
          11,
          12,
          13,
          14,
          15,
          16,
          17,
          18,
          19,
          20,
          21,
          22,
          23,
          24,
          25,
          26,
          27,
          28,
          29,
          30,
          31,
          32,
          33,
          34,
          35,
          36
         ],
         "y": [
          481.92578125,
          431.1185302734375,
          379.54541015625,
          335.8111572265625,
          310.99969482421875,
          310.00201416015625,
          334.2713928222656,
          386.14215087890625,
          486.2633056640625,
          653.5442504882812,
          888.1387939453125,
          1152.858642578125,
          1449.14990234375,
          1689.5345458984375,
          1778.052490234375,
          1640.66943359375,
          1396.3369140625,
          1146.9112548828125,
          861.735595703125,
          617.0733642578125,
          439.9095764160156,
          307.14208984375,
          200.34152221679688,
          107.78610229492188,
          32.50994873046875,
          -21.162109375,
          -53.010498046875,
          -26.55908203125,
          -34.9813232421875,
          8.73944091796875,
          10.07977294921875,
          34.0716552734375,
          79.86309814453125,
          331.4951171875,
          523.9765014648438,
          739.7838745117188,
          999.2054443359375,
          1262.5615234375,
          1480.4361572265625,
          1504.7283935546875,
          1393.361572265625,
          1545.78076171875,
          1404.11572265625,
          1218.5479736328125,
          994.8406982421875,
          802.5618286132812,
          613.2310180664062,
          458.91949462890625,
          327.36370849609375,
          216.09329223632812,
          118.01025390625,
          38.531097412109375,
          -18.41632080078125,
          -50.98016357421875,
          -58.9580078125,
          -56.1175537109375,
          -46.92041015625,
          -33.3502197265625,
          -13.45843505859375,
          17.9241943359375,
          67.28240966796875,
          142.92343139648438,
          257.4241027832031,
          431.68634033203125,
          700.2190551757812,
          1094.878662109375,
          1522.361328125,
          1754.0494384765625,
          1746.0977783203125,
          1572.345947265625,
          1296.61669921875,
          989.8956909179688,
          717.238037109375,
          508.6109619140625,
          357.4083251953125,
          242.6983642578125,
          149.7740478515625,
          73.25555419921875,
          13.2315673828125,
          -28.9783935546875,
          -53.335205078125,
          -61.97747802734375,
          -59.091064453125,
          -49.47796630859375,
          -35.21044921875,
          -13.6785888671875,
          20.49566650390625,
          73.81695556640625,
          154.93008422851562,
          277.28399658203125,
          463.46466064453125
         ]
        },
        {
         "mode": "lines",
         "name": "Exo-LSTM",
         "type": "scatter",
         "x": [
          0,
          1,
          2,
          3,
          4,
          5,
          6,
          7,
          8,
          9,
          10,
          11,
          12,
          13,
          14,
          15,
          16,
          17,
          18,
          19,
          20,
          21,
          22,
          23,
          24,
          25,
          26,
          27,
          28,
          29,
          30,
          31,
          32,
          33,
          34,
          35,
          36
         ],
         "y": [
          345.9608154296875,
          213.82687377929688,
          153.69052124023438,
          128.22991943359375,
          102.1519775390625,
          119.852783203125,
          160.18881225585938,
          151.22933959960938,
          159.011962890625,
          325.4157409667969,
          577.494873046875,
          978.8905029296875,
          1515.116943359375,
          1969.14990234375,
          2198.510498046875,
          2003.2291259765625,
          1674.5318603515625,
          1368.0079345703125,
          990.7528076171875,
          646.8729248046875,
          388.2967529296875,
          193.23806762695312,
          57.532958984375,
          15.083251953125,
          -5.22991943359375,
          6.3673095703125,
          27.28369140625,
          66.97808837890625,
          83.64852905273438,
          151.98193359375,
          164.36465454101562,
          178.82894897460938,
          148.19754028320312,
          255.36590576171875,
          265.86932373046875,
          153.6170654296875,
          130.87997436523438,
          256.5389099121094,
          755.4951782226562,
          1271.9747314453125,
          1423.7578125,
          1744.48583984375,
          1550.501220703125,
          1311.5068359375,
          993.75830078125,
          738.381103515625,
          519.4733276367188,
          328.4130859375,
          186.63916015625,
          102.65869140625,
          51.716949462890625,
          28.442291259765625,
          28.91650390625,
          9.93438720703125,
          14.2879638671875,
          12.1761474609375,
          6.32659912109375,
          -0.83782958984375,
          -6.2703857421875,
          -4.1778564453125,
          16.5926513671875,
          72.36795043945312,
          185.79769897460938,
          399.9613952636719,
          801.7996826171875,
          1397.4122314453125,
          1876.968505859375,
          2034.4654541015625,
          1954.5010986328125,
          1739.9801025390625,
          1454.6622314453125,
          1146.736328125,
          849.251220703125,
          583.1009521484375,
          359.2439880371094,
          185.5955810546875,
          70.64404296875,
          13.37109375,
          -1.33453369140625,
          8.7261962890625,
          32.30523681640625,
          65.12258911132812,
          104.26797485351562,
          142.81988525390625,
          171.65469360351562,
          185.11874389648438,
          182.93145751953125,
          168.5325927734375,
          145.5047607421875,
          115.00875854492188,
          77.520263671875
         ]
        }
       ],
       "layout": {
        "font": {
         "color": "#7f7f7f",
         "family": "Courier New, monospace",
         "size": 16
        },
        "template": {
         "data": {
          "bar": [
           {
            "error_x": {
             "color": "#2a3f5f"
            },
            "error_y": {
             "color": "#2a3f5f"
            },
            "marker": {
             "line": {
              "color": "#E5ECF6",
              "width": 0.5
             }
            },
            "type": "bar"
           }
          ],
          "barpolar": [
           {
            "marker": {
             "line": {
              "color": "#E5ECF6",
              "width": 0.5
             }
            },
            "type": "barpolar"
           }
          ],
          "carpet": [
           {
            "aaxis": {
             "endlinecolor": "#2a3f5f",
             "gridcolor": "white",
             "linecolor": "white",
             "minorgridcolor": "white",
             "startlinecolor": "#2a3f5f"
            },
            "baxis": {
             "endlinecolor": "#2a3f5f",
             "gridcolor": "white",
             "linecolor": "white",
             "minorgridcolor": "white",
             "startlinecolor": "#2a3f5f"
            },
            "type": "carpet"
           }
          ],
          "choropleth": [
           {
            "colorbar": {
             "outlinewidth": 0,
             "ticks": ""
            },
            "type": "choropleth"
           }
          ],
          "contour": [
           {
            "colorbar": {
             "outlinewidth": 0,
             "ticks": ""
            },
            "colorscale": [
             [
              0,
              "#0d0887"
             ],
             [
              0.1111111111111111,
              "#46039f"
             ],
             [
              0.2222222222222222,
              "#7201a8"
             ],
             [
              0.3333333333333333,
              "#9c179e"
             ],
             [
              0.4444444444444444,
              "#bd3786"
             ],
             [
              0.5555555555555556,
              "#d8576b"
             ],
             [
              0.6666666666666666,
              "#ed7953"
             ],
             [
              0.7777777777777778,
              "#fb9f3a"
             ],
             [
              0.8888888888888888,
              "#fdca26"
             ],
             [
              1,
              "#f0f921"
             ]
            ],
            "type": "contour"
           }
          ],
          "contourcarpet": [
           {
            "colorbar": {
             "outlinewidth": 0,
             "ticks": ""
            },
            "type": "contourcarpet"
           }
          ],
          "heatmap": [
           {
            "colorbar": {
             "outlinewidth": 0,
             "ticks": ""
            },
            "colorscale": [
             [
              0,
              "#0d0887"
             ],
             [
              0.1111111111111111,
              "#46039f"
             ],
             [
              0.2222222222222222,
              "#7201a8"
             ],
             [
              0.3333333333333333,
              "#9c179e"
             ],
             [
              0.4444444444444444,
              "#bd3786"
             ],
             [
              0.5555555555555556,
              "#d8576b"
             ],
             [
              0.6666666666666666,
              "#ed7953"
             ],
             [
              0.7777777777777778,
              "#fb9f3a"
             ],
             [
              0.8888888888888888,
              "#fdca26"
             ],
             [
              1,
              "#f0f921"
             ]
            ],
            "type": "heatmap"
           }
          ],
          "heatmapgl": [
           {
            "colorbar": {
             "outlinewidth": 0,
             "ticks": ""
            },
            "colorscale": [
             [
              0,
              "#0d0887"
             ],
             [
              0.1111111111111111,
              "#46039f"
             ],
             [
              0.2222222222222222,
              "#7201a8"
             ],
             [
              0.3333333333333333,
              "#9c179e"
             ],
             [
              0.4444444444444444,
              "#bd3786"
             ],
             [
              0.5555555555555556,
              "#d8576b"
             ],
             [
              0.6666666666666666,
              "#ed7953"
             ],
             [
              0.7777777777777778,
              "#fb9f3a"
             ],
             [
              0.8888888888888888,
              "#fdca26"
             ],
             [
              1,
              "#f0f921"
             ]
            ],
            "type": "heatmapgl"
           }
          ],
          "histogram": [
           {
            "marker": {
             "colorbar": {
              "outlinewidth": 0,
              "ticks": ""
             }
            },
            "type": "histogram"
           }
          ],
          "histogram2d": [
           {
            "colorbar": {
             "outlinewidth": 0,
             "ticks": ""
            },
            "colorscale": [
             [
              0,
              "#0d0887"
             ],
             [
              0.1111111111111111,
              "#46039f"
             ],
             [
              0.2222222222222222,
              "#7201a8"
             ],
             [
              0.3333333333333333,
              "#9c179e"
             ],
             [
              0.4444444444444444,
              "#bd3786"
             ],
             [
              0.5555555555555556,
              "#d8576b"
             ],
             [
              0.6666666666666666,
              "#ed7953"
             ],
             [
              0.7777777777777778,
              "#fb9f3a"
             ],
             [
              0.8888888888888888,
              "#fdca26"
             ],
             [
              1,
              "#f0f921"
             ]
            ],
            "type": "histogram2d"
           }
          ],
          "histogram2dcontour": [
           {
            "colorbar": {
             "outlinewidth": 0,
             "ticks": ""
            },
            "colorscale": [
             [
              0,
              "#0d0887"
             ],
             [
              0.1111111111111111,
              "#46039f"
             ],
             [
              0.2222222222222222,
              "#7201a8"
             ],
             [
              0.3333333333333333,
              "#9c179e"
             ],
             [
              0.4444444444444444,
              "#bd3786"
             ],
             [
              0.5555555555555556,
              "#d8576b"
             ],
             [
              0.6666666666666666,
              "#ed7953"
             ],
             [
              0.7777777777777778,
              "#fb9f3a"
             ],
             [
              0.8888888888888888,
              "#fdca26"
             ],
             [
              1,
              "#f0f921"
             ]
            ],
            "type": "histogram2dcontour"
           }
          ],
          "mesh3d": [
           {
            "colorbar": {
             "outlinewidth": 0,
             "ticks": ""
            },
            "type": "mesh3d"
           }
          ],
          "parcoords": [
           {
            "line": {
             "colorbar": {
              "outlinewidth": 0,
              "ticks": ""
             }
            },
            "type": "parcoords"
           }
          ],
          "pie": [
           {
            "automargin": true,
            "type": "pie"
           }
          ],
          "scatter": [
           {
            "marker": {
             "colorbar": {
              "outlinewidth": 0,
              "ticks": ""
             }
            },
            "type": "scatter"
           }
          ],
          "scatter3d": [
           {
            "line": {
             "colorbar": {
              "outlinewidth": 0,
              "ticks": ""
             }
            },
            "marker": {
             "colorbar": {
              "outlinewidth": 0,
              "ticks": ""
             }
            },
            "type": "scatter3d"
           }
          ],
          "scattercarpet": [
           {
            "marker": {
             "colorbar": {
              "outlinewidth": 0,
              "ticks": ""
             }
            },
            "type": "scattercarpet"
           }
          ],
          "scattergeo": [
           {
            "marker": {
             "colorbar": {
              "outlinewidth": 0,
              "ticks": ""
             }
            },
            "type": "scattergeo"
           }
          ],
          "scattergl": [
           {
            "marker": {
             "colorbar": {
              "outlinewidth": 0,
              "ticks": ""
             }
            },
            "type": "scattergl"
           }
          ],
          "scattermapbox": [
           {
            "marker": {
             "colorbar": {
              "outlinewidth": 0,
              "ticks": ""
             }
            },
            "type": "scattermapbox"
           }
          ],
          "scatterpolar": [
           {
            "marker": {
             "colorbar": {
              "outlinewidth": 0,
              "ticks": ""
             }
            },
            "type": "scatterpolar"
           }
          ],
          "scatterpolargl": [
           {
            "marker": {
             "colorbar": {
              "outlinewidth": 0,
              "ticks": ""
             }
            },
            "type": "scatterpolargl"
           }
          ],
          "scatterternary": [
           {
            "marker": {
             "colorbar": {
              "outlinewidth": 0,
              "ticks": ""
             }
            },
            "type": "scatterternary"
           }
          ],
          "surface": [
           {
            "colorbar": {
             "outlinewidth": 0,
             "ticks": ""
            },
            "colorscale": [
             [
              0,
              "#0d0887"
             ],
             [
              0.1111111111111111,
              "#46039f"
             ],
             [
              0.2222222222222222,
              "#7201a8"
             ],
             [
              0.3333333333333333,
              "#9c179e"
             ],
             [
              0.4444444444444444,
              "#bd3786"
             ],
             [
              0.5555555555555556,
              "#d8576b"
             ],
             [
              0.6666666666666666,
              "#ed7953"
             ],
             [
              0.7777777777777778,
              "#fb9f3a"
             ],
             [
              0.8888888888888888,
              "#fdca26"
             ],
             [
              1,
              "#f0f921"
             ]
            ],
            "type": "surface"
           }
          ],
          "table": [
           {
            "cells": {
             "fill": {
              "color": "#EBF0F8"
             },
             "line": {
              "color": "white"
             }
            },
            "header": {
             "fill": {
              "color": "#C8D4E3"
             },
             "line": {
              "color": "white"
             }
            },
            "type": "table"
           }
          ]
         },
         "layout": {
          "annotationdefaults": {
           "arrowcolor": "#2a3f5f",
           "arrowhead": 0,
           "arrowwidth": 1
          },
          "coloraxis": {
           "colorbar": {
            "outlinewidth": 0,
            "ticks": ""
           }
          },
          "colorscale": {
           "diverging": [
            [
             0,
             "#8e0152"
            ],
            [
             0.1,
             "#c51b7d"
            ],
            [
             0.2,
             "#de77ae"
            ],
            [
             0.3,
             "#f1b6da"
            ],
            [
             0.4,
             "#fde0ef"
            ],
            [
             0.5,
             "#f7f7f7"
            ],
            [
             0.6,
             "#e6f5d0"
            ],
            [
             0.7,
             "#b8e186"
            ],
            [
             0.8,
             "#7fbc41"
            ],
            [
             0.9,
             "#4d9221"
            ],
            [
             1,
             "#276419"
            ]
           ],
           "sequential": [
            [
             0,
             "#0d0887"
            ],
            [
             0.1111111111111111,
             "#46039f"
            ],
            [
             0.2222222222222222,
             "#7201a8"
            ],
            [
             0.3333333333333333,
             "#9c179e"
            ],
            [
             0.4444444444444444,
             "#bd3786"
            ],
            [
             0.5555555555555556,
             "#d8576b"
            ],
            [
             0.6666666666666666,
             "#ed7953"
            ],
            [
             0.7777777777777778,
             "#fb9f3a"
            ],
            [
             0.8888888888888888,
             "#fdca26"
            ],
            [
             1,
             "#f0f921"
            ]
           ],
           "sequentialminus": [
            [
             0,
             "#0d0887"
            ],
            [
             0.1111111111111111,
             "#46039f"
            ],
            [
             0.2222222222222222,
             "#7201a8"
            ],
            [
             0.3333333333333333,
             "#9c179e"
            ],
            [
             0.4444444444444444,
             "#bd3786"
            ],
            [
             0.5555555555555556,
             "#d8576b"
            ],
            [
             0.6666666666666666,
             "#ed7953"
            ],
            [
             0.7777777777777778,
             "#fb9f3a"
            ],
            [
             0.8888888888888888,
             "#fdca26"
            ],
            [
             1,
             "#f0f921"
            ]
           ]
          },
          "colorway": [
           "#636efa",
           "#EF553B",
           "#00cc96",
           "#ab63fa",
           "#FFA15A",
           "#19d3f3",
           "#FF6692",
           "#B6E880",
           "#FF97FF",
           "#FECB52"
          ],
          "font": {
           "color": "#2a3f5f"
          },
          "geo": {
           "bgcolor": "white",
           "lakecolor": "white",
           "landcolor": "#E5ECF6",
           "showlakes": true,
           "showland": true,
           "subunitcolor": "white"
          },
          "hoverlabel": {
           "align": "left"
          },
          "hovermode": "closest",
          "mapbox": {
           "style": "light"
          },
          "paper_bgcolor": "white",
          "plot_bgcolor": "#E5ECF6",
          "polar": {
           "angularaxis": {
            "gridcolor": "white",
            "linecolor": "white",
            "ticks": ""
           },
           "bgcolor": "#E5ECF6",
           "radialaxis": {
            "gridcolor": "white",
            "linecolor": "white",
            "ticks": ""
           }
          },
          "scene": {
           "xaxis": {
            "backgroundcolor": "#E5ECF6",
            "gridcolor": "white",
            "gridwidth": 2,
            "linecolor": "white",
            "showbackground": true,
            "ticks": "",
            "zerolinecolor": "white"
           },
           "yaxis": {
            "backgroundcolor": "#E5ECF6",
            "gridcolor": "white",
            "gridwidth": 2,
            "linecolor": "white",
            "showbackground": true,
            "ticks": "",
            "zerolinecolor": "white"
           },
           "zaxis": {
            "backgroundcolor": "#E5ECF6",
            "gridcolor": "white",
            "gridwidth": 2,
            "linecolor": "white",
            "showbackground": true,
            "ticks": "",
            "zerolinecolor": "white"
           }
          },
          "shapedefaults": {
           "line": {
            "color": "#2a3f5f"
           }
          },
          "ternary": {
           "aaxis": {
            "gridcolor": "white",
            "linecolor": "white",
            "ticks": ""
           },
           "baxis": {
            "gridcolor": "white",
            "linecolor": "white",
            "ticks": ""
           },
           "bgcolor": "#E5ECF6",
           "caxis": {
            "gridcolor": "white",
            "linecolor": "white",
            "ticks": ""
           }
          },
          "title": {
           "x": 0.05
          },
          "xaxis": {
           "automargin": true,
           "gridcolor": "white",
           "linecolor": "white",
           "ticks": "",
           "title": {
            "standoff": 15
           },
           "zerolinecolor": "white",
           "zerolinewidth": 2
          },
          "yaxis": {
           "automargin": true,
           "gridcolor": "white",
           "linecolor": "white",
           "ticks": "",
           "title": {
            "standoff": 15
           },
           "zerolinecolor": "white",
           "zerolinewidth": 2
          }
         }
        },
        "title": {
         "text": "Forecast of test set"
        },
        "xaxis": {
         "title": {
          "text": "Time steps"
         }
        },
        "yaxis": {
         "title": {
          "text": "Prediction"
         }
        }
       }
      },
      "text/html": [
       "<div>\n",
       "        \n",
       "        \n",
       "            <div id=\"2fc08dee-9d54-4039-8a35-bb3c5b3bb634\" class=\"plotly-graph-div\" style=\"height:525px; width:100%;\"></div>\n",
       "            <script type=\"text/javascript\">\n",
       "                require([\"plotly\"], function(Plotly) {\n",
       "                    window.PLOTLYENV=window.PLOTLYENV || {};\n",
       "                    \n",
       "                if (document.getElementById(\"2fc08dee-9d54-4039-8a35-bb3c5b3bb634\")) {\n",
       "                    Plotly.newPlot(\n",
       "                        '2fc08dee-9d54-4039-8a35-bb3c5b3bb634',\n",
       "                        [{\"mode\": \"lines\", \"name\": \"GT\", \"type\": \"scatter\", \"x\": [0, 1, 2, 3, 4, 5, 6, 7, 8, 9, 10, 11, 12, 13, 14, 15, 16, 17, 18, 19, 20, 21, 22, 23, 24, 25, 26, 27, 28, 29, 30, 31, 32, 33, 34, 35, 36], \"y\": [2.0, 14.0, 10.0, 7.0, 6.0, 72.0, 36.00000000000006, 135.0, 131.0, 107.0, 48.99999999999994, 1083.0, 2365.0, 3040.0, 1972.0, 1832.0, 1706.0, 1012.0, 589.0, 480.0, 223.0, 183.0, 52.0, 19.0, 21.0, 14.0, 14.0, 20.0, 7.0, 9.0, 9.0, 7.0, 6.0, 2336.0, 1428.0, 198.0, 99.99999999999994, 82.0]}, {\"mode\": \"lines\", \"name\": \"LSTM\", \"type\": \"scatter\", \"x\": [0, 1, 2, 3, 4, 5, 6, 7, 8, 9, 10, 11, 12, 13, 14, 15, 16, 17, 18, 19, 20, 21, 22, 23, 24, 25, 26, 27, 28, 29, 30, 31, 32, 33, 34, 35, 36], \"y\": [481.92578125, 431.1185302734375, 379.54541015625, 335.8111572265625, 310.99969482421875, 310.00201416015625, 334.2713928222656, 386.14215087890625, 486.2633056640625, 653.5442504882812, 888.1387939453125, 1152.858642578125, 1449.14990234375, 1689.5345458984375, 1778.052490234375, 1640.66943359375, 1396.3369140625, 1146.9112548828125, 861.735595703125, 617.0733642578125, 439.9095764160156, 307.14208984375, 200.34152221679688, 107.78610229492188, 32.50994873046875, -21.162109375, -53.010498046875, -26.55908203125, -34.9813232421875, 8.73944091796875, 10.07977294921875, 34.0716552734375, 79.86309814453125, 331.4951171875, 523.9765014648438, 739.7838745117188, 999.2054443359375, 1262.5615234375, 1480.4361572265625, 1504.7283935546875, 1393.361572265625, 1545.78076171875, 1404.11572265625, 1218.5479736328125, 994.8406982421875, 802.5618286132812, 613.2310180664062, 458.91949462890625, 327.36370849609375, 216.09329223632812, 118.01025390625, 38.531097412109375, -18.41632080078125, -50.98016357421875, -58.9580078125, -56.1175537109375, -46.92041015625, -33.3502197265625, -13.45843505859375, 17.9241943359375, 67.28240966796875, 142.92343139648438, 257.4241027832031, 431.68634033203125, 700.2190551757812, 1094.878662109375, 1522.361328125, 1754.0494384765625, 1746.0977783203125, 1572.345947265625, 1296.61669921875, 989.8956909179688, 717.238037109375, 508.6109619140625, 357.4083251953125, 242.6983642578125, 149.7740478515625, 73.25555419921875, 13.2315673828125, -28.9783935546875, -53.335205078125, -61.97747802734375, -59.091064453125, -49.47796630859375, -35.21044921875, -13.6785888671875, 20.49566650390625, 73.81695556640625, 154.93008422851562, 277.28399658203125, 463.46466064453125]}, {\"mode\": \"lines\", \"name\": \"Exo-LSTM\", \"type\": \"scatter\", \"x\": [0, 1, 2, 3, 4, 5, 6, 7, 8, 9, 10, 11, 12, 13, 14, 15, 16, 17, 18, 19, 20, 21, 22, 23, 24, 25, 26, 27, 28, 29, 30, 31, 32, 33, 34, 35, 36], \"y\": [345.9608154296875, 213.82687377929688, 153.69052124023438, 128.22991943359375, 102.1519775390625, 119.852783203125, 160.18881225585938, 151.22933959960938, 159.011962890625, 325.4157409667969, 577.494873046875, 978.8905029296875, 1515.116943359375, 1969.14990234375, 2198.510498046875, 2003.2291259765625, 1674.5318603515625, 1368.0079345703125, 990.7528076171875, 646.8729248046875, 388.2967529296875, 193.23806762695312, 57.532958984375, 15.083251953125, -5.22991943359375, 6.3673095703125, 27.28369140625, 66.97808837890625, 83.64852905273438, 151.98193359375, 164.36465454101562, 178.82894897460938, 148.19754028320312, 255.36590576171875, 265.86932373046875, 153.6170654296875, 130.87997436523438, 256.5389099121094, 755.4951782226562, 1271.9747314453125, 1423.7578125, 1744.48583984375, 1550.501220703125, 1311.5068359375, 993.75830078125, 738.381103515625, 519.4733276367188, 328.4130859375, 186.63916015625, 102.65869140625, 51.716949462890625, 28.442291259765625, 28.91650390625, 9.93438720703125, 14.2879638671875, 12.1761474609375, 6.32659912109375, -0.83782958984375, -6.2703857421875, -4.1778564453125, 16.5926513671875, 72.36795043945312, 185.79769897460938, 399.9613952636719, 801.7996826171875, 1397.4122314453125, 1876.968505859375, 2034.4654541015625, 1954.5010986328125, 1739.9801025390625, 1454.6622314453125, 1146.736328125, 849.251220703125, 583.1009521484375, 359.2439880371094, 185.5955810546875, 70.64404296875, 13.37109375, -1.33453369140625, 8.7261962890625, 32.30523681640625, 65.12258911132812, 104.26797485351562, 142.81988525390625, 171.65469360351562, 185.11874389648438, 182.93145751953125, 168.5325927734375, 145.5047607421875, 115.00875854492188, 77.520263671875]}],\n",
       "                        {\"font\": {\"color\": \"#7f7f7f\", \"family\": \"Courier New, monospace\", \"size\": 16}, \"template\": {\"data\": {\"bar\": [{\"error_x\": {\"color\": \"#2a3f5f\"}, \"error_y\": {\"color\": \"#2a3f5f\"}, \"marker\": {\"line\": {\"color\": \"#E5ECF6\", \"width\": 0.5}}, \"type\": \"bar\"}], \"barpolar\": [{\"marker\": {\"line\": {\"color\": \"#E5ECF6\", \"width\": 0.5}}, \"type\": \"barpolar\"}], \"carpet\": [{\"aaxis\": {\"endlinecolor\": \"#2a3f5f\", \"gridcolor\": \"white\", \"linecolor\": \"white\", \"minorgridcolor\": \"white\", \"startlinecolor\": \"#2a3f5f\"}, \"baxis\": {\"endlinecolor\": \"#2a3f5f\", \"gridcolor\": \"white\", \"linecolor\": \"white\", \"minorgridcolor\": \"white\", \"startlinecolor\": \"#2a3f5f\"}, \"type\": \"carpet\"}], \"choropleth\": [{\"colorbar\": {\"outlinewidth\": 0, \"ticks\": \"\"}, \"type\": \"choropleth\"}], \"contour\": [{\"colorbar\": {\"outlinewidth\": 0, \"ticks\": \"\"}, \"colorscale\": [[0.0, \"#0d0887\"], [0.1111111111111111, \"#46039f\"], [0.2222222222222222, \"#7201a8\"], [0.3333333333333333, \"#9c179e\"], [0.4444444444444444, \"#bd3786\"], [0.5555555555555556, \"#d8576b\"], [0.6666666666666666, \"#ed7953\"], [0.7777777777777778, \"#fb9f3a\"], [0.8888888888888888, \"#fdca26\"], [1.0, \"#f0f921\"]], \"type\": \"contour\"}], \"contourcarpet\": [{\"colorbar\": {\"outlinewidth\": 0, \"ticks\": \"\"}, \"type\": \"contourcarpet\"}], \"heatmap\": [{\"colorbar\": {\"outlinewidth\": 0, \"ticks\": \"\"}, \"colorscale\": [[0.0, \"#0d0887\"], [0.1111111111111111, \"#46039f\"], [0.2222222222222222, \"#7201a8\"], [0.3333333333333333, \"#9c179e\"], [0.4444444444444444, \"#bd3786\"], [0.5555555555555556, \"#d8576b\"], [0.6666666666666666, \"#ed7953\"], [0.7777777777777778, \"#fb9f3a\"], [0.8888888888888888, \"#fdca26\"], [1.0, \"#f0f921\"]], \"type\": \"heatmap\"}], \"heatmapgl\": [{\"colorbar\": {\"outlinewidth\": 0, \"ticks\": \"\"}, \"colorscale\": [[0.0, \"#0d0887\"], [0.1111111111111111, \"#46039f\"], [0.2222222222222222, \"#7201a8\"], [0.3333333333333333, \"#9c179e\"], [0.4444444444444444, \"#bd3786\"], [0.5555555555555556, \"#d8576b\"], [0.6666666666666666, \"#ed7953\"], [0.7777777777777778, \"#fb9f3a\"], [0.8888888888888888, \"#fdca26\"], [1.0, \"#f0f921\"]], \"type\": \"heatmapgl\"}], \"histogram\": [{\"marker\": {\"colorbar\": {\"outlinewidth\": 0, \"ticks\": \"\"}}, \"type\": \"histogram\"}], \"histogram2d\": [{\"colorbar\": {\"outlinewidth\": 0, \"ticks\": \"\"}, \"colorscale\": [[0.0, \"#0d0887\"], [0.1111111111111111, \"#46039f\"], [0.2222222222222222, \"#7201a8\"], [0.3333333333333333, \"#9c179e\"], [0.4444444444444444, \"#bd3786\"], [0.5555555555555556, \"#d8576b\"], [0.6666666666666666, \"#ed7953\"], [0.7777777777777778, \"#fb9f3a\"], [0.8888888888888888, \"#fdca26\"], [1.0, \"#f0f921\"]], \"type\": \"histogram2d\"}], \"histogram2dcontour\": [{\"colorbar\": {\"outlinewidth\": 0, \"ticks\": \"\"}, \"colorscale\": [[0.0, \"#0d0887\"], [0.1111111111111111, \"#46039f\"], [0.2222222222222222, \"#7201a8\"], [0.3333333333333333, \"#9c179e\"], [0.4444444444444444, \"#bd3786\"], [0.5555555555555556, \"#d8576b\"], [0.6666666666666666, \"#ed7953\"], [0.7777777777777778, \"#fb9f3a\"], [0.8888888888888888, \"#fdca26\"], [1.0, \"#f0f921\"]], \"type\": \"histogram2dcontour\"}], \"mesh3d\": [{\"colorbar\": {\"outlinewidth\": 0, \"ticks\": \"\"}, \"type\": \"mesh3d\"}], \"parcoords\": [{\"line\": {\"colorbar\": {\"outlinewidth\": 0, \"ticks\": \"\"}}, \"type\": \"parcoords\"}], \"pie\": [{\"automargin\": true, \"type\": \"pie\"}], \"scatter\": [{\"marker\": {\"colorbar\": {\"outlinewidth\": 0, \"ticks\": \"\"}}, \"type\": \"scatter\"}], \"scatter3d\": [{\"line\": {\"colorbar\": {\"outlinewidth\": 0, \"ticks\": \"\"}}, \"marker\": {\"colorbar\": {\"outlinewidth\": 0, \"ticks\": \"\"}}, \"type\": \"scatter3d\"}], \"scattercarpet\": [{\"marker\": {\"colorbar\": {\"outlinewidth\": 0, \"ticks\": \"\"}}, \"type\": \"scattercarpet\"}], \"scattergeo\": [{\"marker\": {\"colorbar\": {\"outlinewidth\": 0, \"ticks\": \"\"}}, \"type\": \"scattergeo\"}], \"scattergl\": [{\"marker\": {\"colorbar\": {\"outlinewidth\": 0, \"ticks\": \"\"}}, \"type\": \"scattergl\"}], \"scattermapbox\": [{\"marker\": {\"colorbar\": {\"outlinewidth\": 0, \"ticks\": \"\"}}, \"type\": \"scattermapbox\"}], \"scatterpolar\": [{\"marker\": {\"colorbar\": {\"outlinewidth\": 0, \"ticks\": \"\"}}, \"type\": \"scatterpolar\"}], \"scatterpolargl\": [{\"marker\": {\"colorbar\": {\"outlinewidth\": 0, \"ticks\": \"\"}}, \"type\": \"scatterpolargl\"}], \"scatterternary\": [{\"marker\": {\"colorbar\": {\"outlinewidth\": 0, \"ticks\": \"\"}}, \"type\": \"scatterternary\"}], \"surface\": [{\"colorbar\": {\"outlinewidth\": 0, \"ticks\": \"\"}, \"colorscale\": [[0.0, \"#0d0887\"], [0.1111111111111111, \"#46039f\"], [0.2222222222222222, \"#7201a8\"], [0.3333333333333333, \"#9c179e\"], [0.4444444444444444, \"#bd3786\"], [0.5555555555555556, \"#d8576b\"], [0.6666666666666666, \"#ed7953\"], [0.7777777777777778, \"#fb9f3a\"], [0.8888888888888888, \"#fdca26\"], [1.0, \"#f0f921\"]], \"type\": \"surface\"}], \"table\": [{\"cells\": {\"fill\": {\"color\": \"#EBF0F8\"}, \"line\": {\"color\": \"white\"}}, \"header\": {\"fill\": {\"color\": \"#C8D4E3\"}, \"line\": {\"color\": \"white\"}}, \"type\": \"table\"}]}, \"layout\": {\"annotationdefaults\": {\"arrowcolor\": \"#2a3f5f\", \"arrowhead\": 0, \"arrowwidth\": 1}, \"coloraxis\": {\"colorbar\": {\"outlinewidth\": 0, \"ticks\": \"\"}}, \"colorscale\": {\"diverging\": [[0, \"#8e0152\"], [0.1, \"#c51b7d\"], [0.2, \"#de77ae\"], [0.3, \"#f1b6da\"], [0.4, \"#fde0ef\"], [0.5, \"#f7f7f7\"], [0.6, \"#e6f5d0\"], [0.7, \"#b8e186\"], [0.8, \"#7fbc41\"], [0.9, \"#4d9221\"], [1, \"#276419\"]], \"sequential\": [[0.0, \"#0d0887\"], [0.1111111111111111, \"#46039f\"], [0.2222222222222222, \"#7201a8\"], [0.3333333333333333, \"#9c179e\"], [0.4444444444444444, \"#bd3786\"], [0.5555555555555556, \"#d8576b\"], [0.6666666666666666, \"#ed7953\"], [0.7777777777777778, \"#fb9f3a\"], [0.8888888888888888, \"#fdca26\"], [1.0, \"#f0f921\"]], \"sequentialminus\": [[0.0, \"#0d0887\"], [0.1111111111111111, \"#46039f\"], [0.2222222222222222, \"#7201a8\"], [0.3333333333333333, \"#9c179e\"], [0.4444444444444444, \"#bd3786\"], [0.5555555555555556, \"#d8576b\"], [0.6666666666666666, \"#ed7953\"], [0.7777777777777778, \"#fb9f3a\"], [0.8888888888888888, \"#fdca26\"], [1.0, \"#f0f921\"]]}, \"colorway\": [\"#636efa\", \"#EF553B\", \"#00cc96\", \"#ab63fa\", \"#FFA15A\", \"#19d3f3\", \"#FF6692\", \"#B6E880\", \"#FF97FF\", \"#FECB52\"], \"font\": {\"color\": \"#2a3f5f\"}, \"geo\": {\"bgcolor\": \"white\", \"lakecolor\": \"white\", \"landcolor\": \"#E5ECF6\", \"showlakes\": true, \"showland\": true, \"subunitcolor\": \"white\"}, \"hoverlabel\": {\"align\": \"left\"}, \"hovermode\": \"closest\", \"mapbox\": {\"style\": \"light\"}, \"paper_bgcolor\": \"white\", \"plot_bgcolor\": \"#E5ECF6\", \"polar\": {\"angularaxis\": {\"gridcolor\": \"white\", \"linecolor\": \"white\", \"ticks\": \"\"}, \"bgcolor\": \"#E5ECF6\", \"radialaxis\": {\"gridcolor\": \"white\", \"linecolor\": \"white\", \"ticks\": \"\"}}, \"scene\": {\"xaxis\": {\"backgroundcolor\": \"#E5ECF6\", \"gridcolor\": \"white\", \"gridwidth\": 2, \"linecolor\": \"white\", \"showbackground\": true, \"ticks\": \"\", \"zerolinecolor\": \"white\"}, \"yaxis\": {\"backgroundcolor\": \"#E5ECF6\", \"gridcolor\": \"white\", \"gridwidth\": 2, \"linecolor\": \"white\", \"showbackground\": true, \"ticks\": \"\", \"zerolinecolor\": \"white\"}, \"zaxis\": {\"backgroundcolor\": \"#E5ECF6\", \"gridcolor\": \"white\", \"gridwidth\": 2, \"linecolor\": \"white\", \"showbackground\": true, \"ticks\": \"\", \"zerolinecolor\": \"white\"}}, \"shapedefaults\": {\"line\": {\"color\": \"#2a3f5f\"}}, \"ternary\": {\"aaxis\": {\"gridcolor\": \"white\", \"linecolor\": \"white\", \"ticks\": \"\"}, \"baxis\": {\"gridcolor\": \"white\", \"linecolor\": \"white\", \"ticks\": \"\"}, \"bgcolor\": \"#E5ECF6\", \"caxis\": {\"gridcolor\": \"white\", \"linecolor\": \"white\", \"ticks\": \"\"}}, \"title\": {\"x\": 0.05}, \"xaxis\": {\"automargin\": true, \"gridcolor\": \"white\", \"linecolor\": \"white\", \"ticks\": \"\", \"title\": {\"standoff\": 15}, \"zerolinecolor\": \"white\", \"zerolinewidth\": 2}, \"yaxis\": {\"automargin\": true, \"gridcolor\": \"white\", \"linecolor\": \"white\", \"ticks\": \"\", \"title\": {\"standoff\": 15}, \"zerolinecolor\": \"white\", \"zerolinewidth\": 2}}}, \"title\": {\"text\": \"Forecast of test set\"}, \"xaxis\": {\"title\": {\"text\": \"Time steps\"}}, \"yaxis\": {\"title\": {\"text\": \"Prediction\"}}},\n",
       "                        {\"responsive\": true}\n",
       "                    ).then(function(){\n",
       "                            \n",
       "var gd = document.getElementById('2fc08dee-9d54-4039-8a35-bb3c5b3bb634');\n",
       "var x = new MutationObserver(function (mutations, observer) {{\n",
       "        var display = window.getComputedStyle(gd).display;\n",
       "        if (!display || display === 'none') {{\n",
       "            console.log([gd, 'removed!']);\n",
       "            Plotly.purge(gd);\n",
       "            observer.disconnect();\n",
       "        }}\n",
       "}});\n",
       "\n",
       "// Listen for the removal of the full notebook cells\n",
       "var notebookContainer = gd.closest('#notebook-container');\n",
       "if (notebookContainer) {{\n",
       "    x.observe(notebookContainer, {childList: true});\n",
       "}}\n",
       "\n",
       "// Listen for the clearing of the current output cell\n",
       "var outputEl = gd.closest('.output');\n",
       "if (outputEl) {{\n",
       "    x.observe(outputEl, {childList: true});\n",
       "}}\n",
       "\n",
       "                        })\n",
       "                };\n",
       "                });\n",
       "            </script>\n",
       "        </div>"
      ]
     },
     "metadata": {},
     "output_type": "display_data"
    },
    {
     "name": "stdout",
     "output_type": "stream",
     "text": [
      "\n"
     ]
    }
   ],
   "source": [
    "single_run_results = []\n",
    "n_runs = 2\n",
    "\n",
    "for dataset in aug_datasets:\n",
    "    print(\"Running forecasting for sales in\", dataset)\n",
    "    curr_def_rmse = curr_def_mae = curr_aug_rmse = curr_aug_mae = 0\n",
    "    for run in range(n_runs):\n",
    "        print (\"Run #\", run+1)\n",
    "        # Load the default and augmented versions of the data\n",
    "        aug_dataset = aug_datasets[dataset]\n",
    "        non_shifted_aug = aug_dataset\n",
    "        aug_dataset.iloc[:, 1:] = aug_dataset.iloc[:, 1:].shift(-1)\n",
    "        aug_dataset = aug_dataset.iloc[:-1, :]\n",
    "        def_dataset = def_datasets[dataset]\n",
    "        def_dataset = def_dataset.iloc[:-1, :]\n",
    "\n",
    "        \n",
    "\n",
    "        # Create training and test data\n",
    "        def_train, def_test = ts_train_test_split(def_dataset)\n",
    "        aug_train, aug_test = ts_train_test_split(aug_dataset)\n",
    "        ns_aug_train, ns_aug_test = ts_train_test_split(non_shifted_aug)\n",
    "\n",
    "        def_tr_df, def_te_df = prepare_for_network(def_train, def_test)\n",
    "        aug_tr_df, aug_te_df = prepare_for_network(aug_train, aug_test)\n",
    "       \n",
    "        # Extract the columns which display most correlation with the value we are trying to predict.\n",
    "        # As it can be seen in the \n",
    "        default_desired_input_features = cols_with_most_lagged_corr(def_train)\n",
    "        #aug_desired_input_features = cols_with_most_corr(ns_aug_train)\n",
    "        aug_desired_input_features = [0, 2, 3, 11, 13]\n",
    "       \n",
    "        print(\"Default input features:\", default_desired_input_features)\n",
    "        print(\"Input features with exogenous data:\", aug_desired_input_features)\n",
    "\n",
    "        \n",
    "        \n",
    "        ## Run STL Decomposition as baseline\n",
    "        print(\"Running Drift and Seasonal Drift models based on STL Decomposition...\")\n",
    "        f_steps = def_test.shape[0]-1\n",
    "        #decomp = decompose(def_train.vendita, period=52)\n",
    "        #drift_forecast = forecast(decomp, steps=f_steps, fc_func=drift, seasonal=True)\n",
    "        ##sdrift_forecast = forecast(decomp, steps=f_steps, fc_func=drift, )\n",
    "        #drift_rmse = sm.tools.eval_measures.rmse(def_test.vendita.values, drift_forecast[\"drift+seasonal\"].values)\n",
    "        #drift_mae = sm.tools.eval_measures.meanabs(def_test.vendita.values, drift_forecast[\"drift+seasonal\"].values)\n",
    "        ##sdrift_rmse = sm.tools.eval_measures.rmse(def_test.vendita.values[:f_steps], sdrift_forecast[\"drift+seasonal\"].values)\n",
    "        ##sdrift_mae = sm.tools.eval_measures.meanabs(def_test.vendita.values[:f_steps], sdrift_forecast[\"drift+seasonal\"].values)\n",
    "        #print(\"Done\\n\")\n",
    "        #\n",
    "        ## Run ARIMA as another baseline\n",
    "        #print(\"Running SARIMA model...\")\n",
    "        ## Fit your model\n",
    "        #sarima_model = pm.auto_arima(def_train.vendita, seasonal=True, m=52, suppress_warnings=True, max_order=None, \\\n",
    "        #                            start_p=3, start_q=0, start_P=0, start_Q=0, \\\n",
    "        #                            max_p=6, max_d=1, max_q=1, max_P=1, max_D=1, max_Q=1)\n",
    "        ## Get model params\n",
    "        #sarima_order = sarima_model.get_params()[\"order\"]\n",
    "        #sarima_s_order = sarima_model.get_params()[\"seasonal_order\"]\n",
    "        ## Predict #test steps into the future\n",
    "        #sarima_forecasts = sarima_model.predict(f_steps)  \n",
    "        #sarima_rmse = sm.tools.eval_measures.rmse(def_test.vendita.values, sarima_forecasts)\n",
    "        #sarima_mae = sm.tools.eval_measures.meanabs(def_test.vendita.values, sarima_forecasts)\n",
    "        #print(\"Done\\n\")\n",
    "        #\n",
    "        #print(\"Running SARIMAX model...\")\n",
    "        #sarimax_model = SARIMAX(endog=aug_train.vendita, exog=aug_train.iloc[:, aug_desired_input_features[1:]], \\\n",
    "        #                        order=sarima_order, seasonal_order=sarima_s_order)\n",
    "        #sarimax_fitted = sarimax_model.fit()\n",
    "        #sarimax_forecasts = sarimax_fitted.forecast(f_steps, exog=aug_test.iloc[:, aug_desired_input_features[1:]])  \n",
    "        #sarimax_rmse = sm.tools.eval_measures.rmse(def_test.vendita.values, sarimax_forecasts)\n",
    "        #sarimax_mae = sm.tools.eval_measures.meanabs(def_test.vendita.values, sarimax_forecasts)\n",
    "        #print(\"Done\\n\")\n",
    "        \n",
    "        \n",
    "\n",
    "        # Run LSTM and Exo-LSTM\n",
    "        print(\"Training the default LSTM model...\")\n",
    "        def_opt_obj.train(def_x_train[:,:-1],def_x_train[:,1:],def_x_train[:,:-1],def_x_train[:,1:], do_teacher_forcing=True, n_epochs=len(default_desired_input_features)*10)\n",
    "        print(\"Done\\n\")\n",
    "        print(\"Training the augmented Exo-LSTM model...\")\n",
    "        aug_opt_obj.train(aug_x_train[:,:-1],aug_x_train[:,1:],aug_x_train[:,:-1],aug_x_train[:,1:], do_teacher_forcing=True, n_epochs=len(aug_desired_input_features)*10)\n",
    "        print(\"Done\\n\")\n",
    "\n",
    "        def_pred=def_LSTM_Model(def_x_test, f_steps)\n",
    "        aug_pred=aug_LSTM_Model(aug_x_test, f_steps)\n",
    "\n",
    "        # Check results of both forecasts\n",
    "        def_mean = np.mean(def_train[\"vendita\"].values)\n",
    "        def_std = np.std(def_train[\"vendita\"].values)\n",
    "        aug_mean = np.mean(aug_train[\"vendita\"].values)\n",
    "        aug_std = np.std(aug_train[\"vendita\"].values)\n",
    "        \n",
    "        curr_def_rmse, curr_def_mae = check_lstm_forecast_results(def_pred, def_inp_te, def_out_te, def_mean, def_std, out_len=38)\n",
    "        curr_aug_rmse, curr_aug_mae = check_lstm_forecast_results(aug_pred, aug_inp_te, aug_out_te, aug_mean, aug_std, out_len=38)\n",
    "        \n",
    "        fig = go.Figure()\n",
    "        \n",
    "        x_labels = list(range(0,f_steps))\n",
    "        fig.add_trace(go.Scatter(x=x_labels, y=def_out_te[0,:,0]*def_std+def_mean,\n",
    "                    mode='lines', name='GT'))\n",
    "        #fig.add_trace(go.Scatter(x=x_labels, y=drift_forecast[\"drift+seasonal\"].values,\n",
    "        #            mode='lines', name='Drift'))\n",
    "        #fig.add_trace(go.Scatter(x=x_labels, y=sarima_forecasts,\n",
    "        #            mode='lines', name='SARIMA'+str(sarima_order)+str(sarima_s_order)))\n",
    "        #fig.add_trace(go.Scatter(x=x_labels, y=sarimax_forecasts,\n",
    "        #            mode='lines', name='SARIMAX'+str(sarima_order)+str(sarima_s_order)))\n",
    "        fig.add_trace(go.Scatter(x=x_labels, y=def_pred[0,:,0].detach().cpu().numpy()*def_std+def_mean,\n",
    "                    mode='lines', name='LSTM'))\n",
    "        fig.add_trace(go.Scatter(x=x_labels, y=aug_pred[0,:,0].detach().cpu().numpy()*aug_std+aug_mean,\n",
    "                    mode='lines', name='Exo-LSTM'))\n",
    "        # Update plot title and axis titles, then save plot as a HTML File\n",
    "        fig.update_layout(\n",
    "            title=\"Forecast of test set\",\n",
    "            xaxis_title=\"Time steps\",\n",
    "            yaxis_title=\"Prediction\",\n",
    "            font=dict(\n",
    "                family=\"Courier New, monospace\",\n",
    "                size=16,\n",
    "                color=\"#7f7f7f\"\n",
    "            )\n",
    "        )\n",
    "        fig.show()\n",
    "        pltio.write_html(fig, dataset+\"-\"+\"run\"+str(run+1)+\"-sales-results.html\")\n",
    "        #single_run_results.append([dataset, \"run \"+str(run+1), drift_rmse, sarima_rmse, sarimax_rmse, curr_def_rmse, curr_aug_rmse, \\\n",
    "        #                           drift_mae, sarima_mae, sarimax_mae, curr_def_mae, curr_aug_mae])\n",
    "        single_run_results.append([dataset, \"run \"+str(run+1), curr_def_rmse, curr_aug_rmse, \\\n",
    "                                   curr_def_mae, curr_aug_mae])\n",
    "        print()"
   ]
  },
  {
   "cell_type": "code",
   "execution_count": 28,
   "metadata": {},
   "outputs": [
    {
     "data": {
      "text/html": [
       "<div>\n",
       "<style scoped>\n",
       "    .dataframe tbody tr th:only-of-type {\n",
       "        vertical-align: middle;\n",
       "    }\n",
       "\n",
       "    .dataframe tbody tr th {\n",
       "        vertical-align: top;\n",
       "    }\n",
       "\n",
       "    .dataframe thead th {\n",
       "        text-align: right;\n",
       "    }\n",
       "</style>\n",
       "<table border=\"1\" class=\"dataframe\">\n",
       "  <thead>\n",
       "    <tr style=\"text-align: right;\">\n",
       "      <th></th>\n",
       "      <th>Dataset</th>\n",
       "      <th>Run Nr.</th>\n",
       "      <th>LSTM RMSE</th>\n",
       "      <th>Exo-LSTM RMSE</th>\n",
       "      <th>LSTM MAE</th>\n",
       "      <th>Exo-LSTM MAE</th>\n",
       "    </tr>\n",
       "  </thead>\n",
       "  <tbody>\n",
       "    <tr>\n",
       "      <th>0</th>\n",
       "      <td>Milan</td>\n",
       "      <td>run 1</td>\n",
       "      <td>689.560295</td>\n",
       "      <td>615.582815</td>\n",
       "      <td>381.736225</td>\n",
       "      <td>338.218609</td>\n",
       "    </tr>\n",
       "    <tr>\n",
       "      <th>1</th>\n",
       "      <td>Milan</td>\n",
       "      <td>run 2</td>\n",
       "      <td>566.537721</td>\n",
       "      <td>504.774828</td>\n",
       "      <td>289.794238</td>\n",
       "      <td>253.189555</td>\n",
       "    </tr>\n",
       "  </tbody>\n",
       "</table>\n",
       "</div>"
      ],
      "text/plain": [
       "  Dataset Run Nr.   LSTM RMSE  Exo-LSTM RMSE    LSTM MAE  Exo-LSTM MAE\n",
       "0   Milan   run 1  689.560295     615.582815  381.736225    338.218609\n",
       "1   Milan   run 2  566.537721     504.774828  289.794238    253.189555"
      ]
     },
     "execution_count": 28,
     "metadata": {},
     "output_type": "execute_result"
    }
   ],
   "source": [
    "# Results for each run of forecasting\n",
    "#single_run_results_df = pd.DataFrame(single_run_results, columns=[\"Dataset\", \"Run Nr.\", \"DRIFT RMSE\", \"SARIMA RMSE\", \\\n",
    "#                                                                  \"SARIMAX RMSE\", \"LSTM RMSE\", \"Exo-LSTM RMSE\", \\\n",
    "#                                                                  \"DRIFT MAE\", \"SARIMA MAE\", \"SARIMAX MAE\", \"LSTM MAE\",\\\n",
    "#                                                                  \"Exo-LSTM MAE\"])\n",
    "#\n",
    "single_run_results_df = pd.DataFrame(single_run_results, columns=[\"Dataset\", \"Run Nr.\", \"LSTM RMSE\", \"Exo-LSTM RMSE\", \\\n",
    "                                                                  \"LSTM MAE\",\"Exo-LSTM MAE\"])\n",
    "single_run_results_df"
   ]
  },
  {
   "cell_type": "code",
   "execution_count": 29,
   "metadata": {},
   "outputs": [
    {
     "data": {
      "text/html": [
       "<div>\n",
       "<style scoped>\n",
       "    .dataframe tbody tr th:only-of-type {\n",
       "        vertical-align: middle;\n",
       "    }\n",
       "\n",
       "    .dataframe tbody tr th {\n",
       "        vertical-align: top;\n",
       "    }\n",
       "\n",
       "    .dataframe thead th {\n",
       "        text-align: right;\n",
       "    }\n",
       "</style>\n",
       "<table border=\"1\" class=\"dataframe\">\n",
       "  <thead>\n",
       "    <tr style=\"text-align: right;\">\n",
       "      <th></th>\n",
       "      <th>LSTM RMSE</th>\n",
       "      <th>Exo-LSTM RMSE</th>\n",
       "      <th>LSTM MAE</th>\n",
       "      <th>Exo-LSTM MAE</th>\n",
       "    </tr>\n",
       "    <tr>\n",
       "      <th>Dataset</th>\n",
       "      <th></th>\n",
       "      <th></th>\n",
       "      <th></th>\n",
       "      <th></th>\n",
       "    </tr>\n",
       "  </thead>\n",
       "  <tbody>\n",
       "    <tr>\n",
       "      <th>Milan</th>\n",
       "      <td>628.049008</td>\n",
       "      <td>560.178822</td>\n",
       "      <td>335.765232</td>\n",
       "      <td>295.704082</td>\n",
       "    </tr>\n",
       "  </tbody>\n",
       "</table>\n",
       "</div>"
      ],
      "text/plain": [
       "          LSTM RMSE  Exo-LSTM RMSE    LSTM MAE  Exo-LSTM MAE\n",
       "Dataset                                                     \n",
       "Milan    628.049008     560.178822  335.765232    295.704082"
      ]
     },
     "execution_count": 29,
     "metadata": {},
     "output_type": "execute_result"
    }
   ],
   "source": [
    "# Aggregate results\n",
    "mean_results = single_run_results_df.copy(deep=True)\n",
    "mean_results = mean_results.groupby([\"Dataset\"]).agg(np.mean)\n",
    "mean_results"
   ]
  },
  {
   "cell_type": "code",
   "execution_count": 26,
   "metadata": {},
   "outputs": [
    {
     "ename": "ValueError",
     "evalue": "Could not interpret input 'DRIFT RMSE'",
     "output_type": "error",
     "traceback": [
      "\u001b[0;31m---------------------------------------------------------------------------\u001b[0m",
      "\u001b[0;31mValueError\u001b[0m                                Traceback (most recent call last)",
      "\u001b[0;32m<ipython-input-26-ef90205b9a53>\u001b[0m in \u001b[0;36m<module>\u001b[0;34m\u001b[0m\n\u001b[1;32m      2\u001b[0m \u001b[0mplt\u001b[0m\u001b[0;34m.\u001b[0m\u001b[0mfigure\u001b[0m\u001b[0;34m(\u001b[0m\u001b[0mfigsize\u001b[0m\u001b[0;34m=\u001b[0m\u001b[0;34m(\u001b[0m\u001b[0;36m10\u001b[0m\u001b[0;34m,\u001b[0m\u001b[0;36m8\u001b[0m\u001b[0;34m)\u001b[0m\u001b[0;34m)\u001b[0m\u001b[0;34m\u001b[0m\u001b[0;34m\u001b[0m\u001b[0m\n\u001b[1;32m      3\u001b[0m \u001b[0mplt\u001b[0m\u001b[0;34m.\u001b[0m\u001b[0mtitle\u001b[0m\u001b[0;34m(\u001b[0m\u001b[0;34m\"Comparison of RMSE Values of the forecasts\"\u001b[0m\u001b[0;34m)\u001b[0m\u001b[0;34m\u001b[0m\u001b[0;34m\u001b[0m\u001b[0m\n\u001b[0;32m----> 4\u001b[0;31m \u001b[0max\u001b[0m \u001b[0;34m=\u001b[0m \u001b[0msns\u001b[0m\u001b[0;34m.\u001b[0m\u001b[0mscatterplot\u001b[0m\u001b[0;34m(\u001b[0m\u001b[0mx\u001b[0m\u001b[0;34m=\u001b[0m\u001b[0mmean_results\u001b[0m\u001b[0;34m.\u001b[0m\u001b[0mindex\u001b[0m\u001b[0;34m,\u001b[0m \u001b[0my\u001b[0m\u001b[0;34m=\u001b[0m\u001b[0;34m\"DRIFT RMSE\"\u001b[0m\u001b[0;34m,\u001b[0m \u001b[0mdata\u001b[0m\u001b[0;34m=\u001b[0m\u001b[0mmean_results\u001b[0m\u001b[0;34m,\u001b[0m \u001b[0mlabel\u001b[0m\u001b[0;34m=\u001b[0m\u001b[0;34m\"Drift\"\u001b[0m\u001b[0;34m)\u001b[0m\u001b[0;34m\u001b[0m\u001b[0;34m\u001b[0m\u001b[0m\n\u001b[0m\u001b[1;32m      5\u001b[0m \u001b[0max\u001b[0m \u001b[0;34m=\u001b[0m\u001b[0msns\u001b[0m\u001b[0;34m.\u001b[0m\u001b[0mscatterplot\u001b[0m\u001b[0;34m(\u001b[0m\u001b[0mx\u001b[0m\u001b[0;34m=\u001b[0m\u001b[0mmean_results\u001b[0m\u001b[0;34m.\u001b[0m\u001b[0mindex\u001b[0m\u001b[0;34m,\u001b[0m \u001b[0my\u001b[0m\u001b[0;34m=\u001b[0m\u001b[0;34m\"SARIMA RMSE\"\u001b[0m\u001b[0;34m,\u001b[0m \u001b[0mdata\u001b[0m\u001b[0;34m=\u001b[0m\u001b[0mmean_results\u001b[0m\u001b[0;34m,\u001b[0m \u001b[0mlabel\u001b[0m\u001b[0;34m=\u001b[0m\u001b[0;34m\"SARIMA\"\u001b[0m\u001b[0;34m)\u001b[0m\u001b[0;34m\u001b[0m\u001b[0;34m\u001b[0m\u001b[0m\n\u001b[1;32m      6\u001b[0m \u001b[0max\u001b[0m \u001b[0;34m=\u001b[0m \u001b[0msns\u001b[0m\u001b[0;34m.\u001b[0m\u001b[0mscatterplot\u001b[0m\u001b[0;34m(\u001b[0m\u001b[0mx\u001b[0m\u001b[0;34m=\u001b[0m\u001b[0mmean_results\u001b[0m\u001b[0;34m.\u001b[0m\u001b[0mindex\u001b[0m\u001b[0;34m,\u001b[0m \u001b[0my\u001b[0m\u001b[0;34m=\u001b[0m\u001b[0;34m\"SARIMAX RMSE\"\u001b[0m\u001b[0;34m,\u001b[0m \u001b[0mdata\u001b[0m\u001b[0;34m=\u001b[0m\u001b[0mmean_results\u001b[0m\u001b[0;34m,\u001b[0m \u001b[0mlabel\u001b[0m\u001b[0;34m=\u001b[0m\u001b[0;34m\"SARIMAX\"\u001b[0m\u001b[0;34m)\u001b[0m\u001b[0;34m\u001b[0m\u001b[0;34m\u001b[0m\u001b[0m\n",
      "\u001b[0;32m~/.local/share/virtualenvs/thesis-ez8c3QqQ/lib/python3.7/site-packages/seaborn/relational.py\u001b[0m in \u001b[0;36mscatterplot\u001b[0;34m(x, y, hue, style, size, data, palette, hue_order, hue_norm, sizes, size_order, size_norm, markers, style_order, x_bins, y_bins, units, estimator, ci, n_boot, alpha, x_jitter, y_jitter, legend, ax, **kwargs)\u001b[0m\n\u001b[1;32m   1395\u001b[0m         \u001b[0mx_bins\u001b[0m\u001b[0;34m=\u001b[0m\u001b[0mx_bins\u001b[0m\u001b[0;34m,\u001b[0m \u001b[0my_bins\u001b[0m\u001b[0;34m=\u001b[0m\u001b[0my_bins\u001b[0m\u001b[0;34m,\u001b[0m\u001b[0;34m\u001b[0m\u001b[0;34m\u001b[0m\u001b[0m\n\u001b[1;32m   1396\u001b[0m         \u001b[0mestimator\u001b[0m\u001b[0;34m=\u001b[0m\u001b[0mestimator\u001b[0m\u001b[0;34m,\u001b[0m \u001b[0mci\u001b[0m\u001b[0;34m=\u001b[0m\u001b[0mci\u001b[0m\u001b[0;34m,\u001b[0m \u001b[0mn_boot\u001b[0m\u001b[0;34m=\u001b[0m\u001b[0mn_boot\u001b[0m\u001b[0;34m,\u001b[0m\u001b[0;34m\u001b[0m\u001b[0;34m\u001b[0m\u001b[0m\n\u001b[0;32m-> 1397\u001b[0;31m         \u001b[0malpha\u001b[0m\u001b[0;34m=\u001b[0m\u001b[0malpha\u001b[0m\u001b[0;34m,\u001b[0m \u001b[0mx_jitter\u001b[0m\u001b[0;34m=\u001b[0m\u001b[0mx_jitter\u001b[0m\u001b[0;34m,\u001b[0m \u001b[0my_jitter\u001b[0m\u001b[0;34m=\u001b[0m\u001b[0my_jitter\u001b[0m\u001b[0;34m,\u001b[0m \u001b[0mlegend\u001b[0m\u001b[0;34m=\u001b[0m\u001b[0mlegend\u001b[0m\u001b[0;34m,\u001b[0m\u001b[0;34m\u001b[0m\u001b[0;34m\u001b[0m\u001b[0m\n\u001b[0m\u001b[1;32m   1398\u001b[0m     )\n\u001b[1;32m   1399\u001b[0m \u001b[0;34m\u001b[0m\u001b[0m\n",
      "\u001b[0;32m~/.local/share/virtualenvs/thesis-ez8c3QqQ/lib/python3.7/site-packages/seaborn/relational.py\u001b[0m in \u001b[0;36m__init__\u001b[0;34m(self, x, y, hue, size, style, data, palette, hue_order, hue_norm, sizes, size_order, size_norm, dashes, markers, style_order, x_bins, y_bins, units, estimator, ci, n_boot, alpha, x_jitter, y_jitter, legend)\u001b[0m\n\u001b[1;32m    884\u001b[0m \u001b[0;34m\u001b[0m\u001b[0m\n\u001b[1;32m    885\u001b[0m         plot_data = self.establish_variables(\n\u001b[0;32m--> 886\u001b[0;31m             \u001b[0mx\u001b[0m\u001b[0;34m,\u001b[0m \u001b[0my\u001b[0m\u001b[0;34m,\u001b[0m \u001b[0mhue\u001b[0m\u001b[0;34m,\u001b[0m \u001b[0msize\u001b[0m\u001b[0;34m,\u001b[0m \u001b[0mstyle\u001b[0m\u001b[0;34m,\u001b[0m \u001b[0munits\u001b[0m\u001b[0;34m,\u001b[0m \u001b[0mdata\u001b[0m\u001b[0;34m\u001b[0m\u001b[0;34m\u001b[0m\u001b[0m\n\u001b[0m\u001b[1;32m    887\u001b[0m         )\n\u001b[1;32m    888\u001b[0m \u001b[0;34m\u001b[0m\u001b[0m\n",
      "\u001b[0;32m~/.local/share/virtualenvs/thesis-ez8c3QqQ/lib/python3.7/site-packages/seaborn/relational.py\u001b[0m in \u001b[0;36mestablish_variables\u001b[0;34m(self, x, y, hue, size, style, units, data)\u001b[0m\n\u001b[1;32m    135\u001b[0m                 \u001b[0;32mif\u001b[0m \u001b[0misinstance\u001b[0m\u001b[0;34m(\u001b[0m\u001b[0mvar\u001b[0m\u001b[0;34m,\u001b[0m \u001b[0mstr\u001b[0m\u001b[0;34m)\u001b[0m\u001b[0;34m:\u001b[0m\u001b[0;34m\u001b[0m\u001b[0;34m\u001b[0m\u001b[0m\n\u001b[1;32m    136\u001b[0m                     \u001b[0merr\u001b[0m \u001b[0;34m=\u001b[0m \u001b[0;34m\"Could not interpret input '{}'\"\u001b[0m\u001b[0;34m.\u001b[0m\u001b[0mformat\u001b[0m\u001b[0;34m(\u001b[0m\u001b[0mvar\u001b[0m\u001b[0;34m)\u001b[0m\u001b[0;34m\u001b[0m\u001b[0;34m\u001b[0m\u001b[0m\n\u001b[0;32m--> 137\u001b[0;31m                     \u001b[0;32mraise\u001b[0m \u001b[0mValueError\u001b[0m\u001b[0;34m(\u001b[0m\u001b[0merr\u001b[0m\u001b[0;34m)\u001b[0m\u001b[0;34m\u001b[0m\u001b[0;34m\u001b[0m\u001b[0m\n\u001b[0m\u001b[1;32m    138\u001b[0m \u001b[0;34m\u001b[0m\u001b[0m\n\u001b[1;32m    139\u001b[0m             \u001b[0;31m# Extract variable names\u001b[0m\u001b[0;34m\u001b[0m\u001b[0;34m\u001b[0m\u001b[0;34m\u001b[0m\u001b[0m\n",
      "\u001b[0;31mValueError\u001b[0m: Could not interpret input 'DRIFT RMSE'"
     ]
    },
    {
     "data": {
      "image/png": "[encoded data removed]",
      "text/plain": [
       "<Figure size 720x576 with 1 Axes>"
      ]
     },
     "metadata": {
      "needs_background": "light"
     },
     "output_type": "display_data"
    }
   ],
   "source": [
    "# Graphic comparison of error values: RMSE\n",
    "plt.figure(figsize=(10,8))\n",
    "plt.title(\"Comparison of RMSE Values of the forecasts\")\n",
    "ax = sns.scatterplot(x=mean_results.index, y=\"DRIFT RMSE\", data=mean_results, label=\"Drift\")\n",
    "ax =sns.scatterplot(x=mean_results.index, y=\"SARIMA RMSE\", data=mean_results, label=\"SARIMA\")\n",
    "ax = sns.scatterplot(x=mean_results.index, y=\"SARIMAX RMSE\", data=mean_results, label=\"SARIMAX\")\n",
    "ax = sns.scatterplot(x=mean_results.index, y=\"LSTM RMSE\", data=mean_results, label=\"LSTM\")\n",
    "ax = sns.scatterplot(x=mean_results.index, y=\"Exo-LSTM RMSE\", data=mean_results, label=\"Exo-LSTM\")\n",
    "ax.set(ylabel=\"RMSE\")\n",
    "plt.show()\n",
    "\n",
    "# Graphic comparison of error values: MAE\n",
    "plt.figure(figsize=(10,8))\n",
    "plt.title(\"Comparison of MAE Values of the forecasts\")\n",
    "aax = sns.scatterplot(x=mean_results.index, y=\"DRIFT MAE\", data=mean_results, label=\"Drift\")\n",
    "aax = sns.scatterplot(x=mean_results.index, y=\"SARIMA MAE\", data=mean_results, label=\"SARIMA\")\n",
    "aax = sns.scatterplot(x=mean_results.index, y=\"SARIMAX MAE\", data=mean_results, label=\"SARIMAX\")\n",
    "aax = sns.scatterplot(x=mean_results.index, y=\"LSTM MAE\", data=mean_results, label=\"LSTM\")\n",
    "aax = sns.scatterplot(x=mean_results.index, y=\"Exo-LSTM MAE\", data=mean_results, label=\"Exo-LSTM\")\n",
    "aax.set(ylabel=\"MAE\")\n",
    "plt.show()"
   ]
  },
  {
   "cell_type": "code",
   "execution_count": null,
   "metadata": {},
   "outputs": [],
   "source": [
    "## Boxplots for error distribution\n",
    "\n",
    "## Calc errors\n",
    "#exo_lstm_errors = np.abs(((aug_out_te[:,0,0] * aug_std) + aug_mean ) - ((aug_pred[:,-2,0].detach().cpu().numpy() * aug_std) + aug_mean))\n",
    "#lstm_errors = np.abs(((def_out_te[:,0,0] * def_std) + def_mean ) - ((def_pred[:,-2,0].detach().cpu().numpy() * def_std) + def_mean))\n",
    "#arima_errors = np.abs(def_test.vendita.values[:f_steps] - arima_forecasts)\n",
    "#drift_errors = np.abs(def_test.vendita.values[:f_steps] - drift_forecast.drift.values)\n",
    "#errors_dict = {\n",
    "#    \"Drift\": drift_errors,\n",
    "#    \"ARIMA\": arima_errors,\n",
    "#    \"LSTM\": lstm_errors,\n",
    "#    \"Exo-LSTM\": exo_lstm_errors\n",
    "#\n",
    "#}\n",
    "## Boxplot\n",
    "#fig, ax = plt.subplots(figsize=(10,8))\n",
    "#ax.boxplot(errors_dict.values())\n",
    "#ax.set_xticklabels(errors_dict.keys())\n",
    "#plt.show()"
   ]
  }
 ],
 "metadata": {
  "kernelspec": {
   "display_name": "Python 3",
   "language": "python",
   "name": "python3"
  },
  "language_info": {
   "codemirror_mode": {
    "name": "ipython",
    "version": 3
   },
   "file_extension": ".py",
   "mimetype": "text/x-python",
   "name": "python",
   "nbconvert_exporter": "python",
   "pygments_lexer": "ipython3",
   "version": "3.7.5"
  }
 },
 "nbformat": 4,
 "nbformat_minor": 4
}
